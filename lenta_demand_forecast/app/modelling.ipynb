{
 "cells": [
  {
   "cell_type": "code",
   "execution_count": 1,
   "metadata": {},
   "outputs": [],
   "source": [
    "# %pip install pip -U\n",
    "# %pip install pandas -U\n",
    "# %pip install numpy -U\n",
    "# %pip install catboost -U\n",
    "# %pip install xgboost -U\n",
    "# %pip install lightgbm -U\n",
    "# %pip install optuna -U\n",
    "# %pip install prophet -U\n",
    "# %pip install mlforecast -U\n",
    "# %pip install etna"
   ]
  },
  {
   "cell_type": "code",
   "execution_count": 2,
   "metadata": {},
   "outputs": [
    {
     "name": "stderr",
     "output_type": "stream",
     "text": [
      "/Users/freazer/Projects/lenta_hackathon/.conda/lib/python3.10/site-packages/etna/settings.py:37: UserWarning: etna[torch] is not available, to install it, run `pip install etna[torch]`\n",
      "  warnings.warn(\"etna[torch] is not available, to install it, run `pip install etna[torch]`\")\n",
      "/Users/freazer/Projects/lenta_hackathon/.conda/lib/python3.10/site-packages/etna/settings.py:45: UserWarning: wandb is not available, to install it, run `pip install etna[wandb]`\n",
      "  warnings.warn(\"wandb is not available, to install it, run `pip install etna[wandb]`\")\n",
      "/Users/freazer/Projects/lenta_hackathon/.conda/lib/python3.10/site-packages/etna/settings.py:62: UserWarning: etna[classification] is not available, to install it, run `pip install etna[classification]`\n",
      "  warnings.warn(\"etna[classification] is not available, to install it, run `pip install etna[classification]`\")\n",
      "/Users/freazer/Projects/lenta_hackathon/.conda/lib/python3.10/site-packages/etna/settings.py:79: UserWarning: etna[statsforecast] is not available, to install it, run `pip install etna[statsforecast]`\n",
      "  warnings.warn(\"etna[statsforecast] is not available, to install it, run `pip install etna[statsforecast]`\")\n"
     ]
    }
   ],
   "source": [
    "import pandas as pd\n",
    "import numpy as np\n",
    "import catboost as cb\n",
    "import xgboost as xgb\n",
    "import lightgbm as lgb\n",
    "import json\n",
    "import os\n",
    "from prophet import Prophet\n",
    "from tqdm import tqdm\n",
    "from model import Preprocessor, Optimizer, Predictor, types_changing\n",
    "from config import DATA_PATH, RANDOM_STATE, models, n_folds\n",
    "\n",
    "# Отключим предупреждения\n",
    "import warnings\n",
    "warnings.filterwarnings(\"ignore\")\n",
    "import logging\n",
    "logger = logging.getLogger('cmdstanpy')\n",
    "logger.addHandler(logging.NullHandler())\n",
    "logger.propagate = False\n",
    "logger.setLevel(logging.CRITICAL)"
   ]
  },
  {
   "cell_type": "markdown",
   "metadata": {},
   "source": [
    "## Загрузка и предобработка данных"
   ]
  },
  {
   "cell_type": "code",
   "execution_count": 3,
   "metadata": {},
   "outputs": [],
   "source": [
    "'''В случае изменений в предобработке данных, удалить файл filled_df.csv'''\n",
    "try:\n",
    "    # Загрузка ранее сохраненных предобработанных данных\n",
    "    with open(os.path.join(DATA_PATH, \"preprocessed/cat_features.json\"), \"r\") as file:\n",
    "        CAT_FEATURES = json.load(file)\n",
    "    with open(os.path.join(DATA_PATH, \"preprocessed/exog_vars.json\"), \"r\") as file:\n",
    "        EXOG_VARS = json.load(file)\n",
    "    filled_df = pd.read_csv(os.path.join(DATA_PATH, \"preprocessed/filled_df.csv\"), parse_dates=['ds'])\n",
    "    types_changing(filled_df, CAT_FEATURES)\n",
    "    means = pd.read_csv(os.path.join(DATA_PATH, \"preprocessed/means.csv\"))\n",
    "except IOError:\n",
    "    # Выполнение предобработки данных\n",
    "    preprocessor = Preprocessor()\n",
    "    filled_df, means, CAT_FEATURES, EXOG_VARS = preprocessor.train_preprocess()\n",
    "    # Сохранение обработанных данных в файл\n",
    "    with open(os.path.join(DATA_PATH, \"preprocessed/cat_features.json\"), \"w\") as file:\n",
    "        json.dump(CAT_FEATURES, file)\n",
    "    with open(os.path.join(DATA_PATH, \"preprocessed/exog_vars.json\"), \"w\") as file:\n",
    "        json.dump(EXOG_VARS, file)\n",
    "    filled_df.to_csv(os.path.join(DATA_PATH, \"preprocessed/filled_df.csv\"), index=False)\n",
    "    means.to_csv(os.path.join(DATA_PATH, \"preprocessed/means.csv\"), index=False)"
   ]
  },
  {
   "cell_type": "code",
   "execution_count": 4,
   "metadata": {},
   "outputs": [],
   "source": [
    "# filled_data = []\n",
    "\n",
    "# for store in ['42a0e188f5033bc65bf8d78622277c4e']:#filled_df['st_id'].unique():\n",
    "#         for product in tqdm(filled_df[filled_df['st_id'] == store]['unique_sku_id'].unique()):\n",
    "#             subset = filled_df[(filled_df['st_id'] == store) & (filled_df['unique_sku_id'] == product)].copy()\n",
    "            \n",
    "#             # Получение дней недели для каждой даты\n",
    "#             subset['days_of_week'] = subset['date'].dt.dayofweek\n",
    "\n",
    "#             subset['total_sales_in_units'] = np.where(\n",
    "#                 subset['total_sales_in_units'].isna(),\n",
    "#                 subset.groupby('days_of_week')['total_sales_in_units'].apply(lambda x: x.rolling(4, min_periods=1).mean().shift(1)),\n",
    "#                 subset['total_sales_in_units']\n",
    "#                 )\n",
    "            \n",
    "#             subset['total_sales_in_units'].fillna(0, inplace=True)\n",
    "\n",
    "#             # Добавляем заполненные данные в список\n",
    "#             filled_data.append(subset)\n",
    "\n",
    "# # Объединяем все заполненные данные в один DataFrame\n",
    "# filled_ts = pd.concat(filled_data)\n",
    "\n",
    "# # Сброс индекса\n",
    "# filled_ts.reset_index(drop=True, inplace=True)\n",
    "\n",
    "# # Сохранение в файл\n",
    "# filled_ts.to_csv(\"data/filled_ts.csv\", index=False)"
   ]
  },
  {
   "cell_type": "code",
   "execution_count": 5,
   "metadata": {},
   "outputs": [],
   "source": [
    "groups = ['aab3238922bcc25a6f606eb525ffdc56','6512bd43d9caa6e02c990b0a82652dca','c74d97b01eae257e44aa9d5bade97baf', \n",
    " 'c51ce410c124a10e0db5e4b97fc2af39', ['c20ad4d76fe97759aa27a0c99bff6710', '32bb90e8976aab5298d5da10fe66f21d',\n",
    "                                      '1ff1de774005f8da13f42943881c655f', '98f13708210194c475687be6106a3b84',\n",
    "                                      '3c59dc048e8850243be8079a5c74d079']]"
   ]
  },
  {
   "cell_type": "markdown",
   "metadata": {},
   "source": [
    "## Подбор гиперпараметров моделей бустингов на кросс-валидации"
   ]
  },
  {
   "cell_type": "code",
   "execution_count": 6,
   "metadata": {},
   "outputs": [],
   "source": [
    "# Выборка данных для моделей. Можно заменить на любую другую выборку.\n",
    "# df_test = filled_df[(filled_df['pr_group_id'] == 'aab3238922bcc25a6f606eb525ffdc56')].copy()\n",
    "df_test = filled_df.loc[(filled_df['pr_sku_id'] == '00661699f543753ec7e911a64b9fd2f6')&(filled_df['st_id'] == '16a5cdae362b8d27a1d8f8c7b78b4330')].copy()"
   ]
  },
  {
   "cell_type": "code",
   "execution_count": 7,
   "metadata": {},
   "outputs": [
    {
     "name": "stderr",
     "output_type": "stream",
     "text": [
      "[I 2023-10-09 21:57:47,317] A new study created in memory with name: no-name-c1603432-e128-47c2-adb5-b749ebe75a8e\n",
      "100%|██████████| 1/1 [00:00<00:00, 36.04it/s]\n",
      "100%|██████████| 1/1 [00:00<00:00, 45.56it/s]\n",
      "100%|██████████| 1/1 [00:00<00:00, 45.02it/s]\n",
      "[I 2023-10-09 21:57:48,619] Trial 0 finished with value: 0.3598091978739592 and parameters: {'learning_rate': 0.009432157445251358, 'max_depth': 3, 'min_child_weight': 7, 'subsample': 0.31816154783152895, 'colsample_bytree': 0.9411046606100043, 'lags': 56}. Best is trial 0 with value: 0.3598091978739592.\n"
     ]
    },
    {
     "name": "stdout",
     "output_type": "stream",
     "text": [
      "Trial results: [0.2999646279631604, 0.4447615139845889, 0.33470145167412824]\n"
     ]
    },
    {
     "name": "stderr",
     "output_type": "stream",
     "text": [
      "[I 2023-10-09 21:57:49,082] Trial 1 finished with value: 0.37565272347036266 and parameters: {'learning_rate': 0.013143470774406118, 'max_depth': 3, 'min_child_weight': 9, 'subsample': 0.9710380395998596, 'colsample_bytree': 0.18526855160446237, 'lags': 21}. Best is trial 0 with value: 0.3598091978739592.\n"
     ]
    },
    {
     "name": "stdout",
     "output_type": "stream",
     "text": [
      "Trial results: [0.3281867248023124, 0.4472644359723718, 0.3515070096364038]\n"
     ]
    },
    {
     "name": "stderr",
     "output_type": "stream",
     "text": [
      "[I 2023-10-09 21:57:49,765] Trial 2 finished with value: 0.3890157417115933 and parameters: {'learning_rate': 0.0018242190278139722, 'max_depth': 5, 'min_child_weight': 2, 'subsample': 0.8957015019945802, 'colsample_bytree': 0.906324673165299, 'lags': 49}. Best is trial 0 with value: 0.3598091978739592.\n"
     ]
    },
    {
     "name": "stdout",
     "output_type": "stream",
     "text": [
      "Trial results: [0.31649984044388535, 0.501470793558656, 0.3490765911322386]\n"
     ]
    },
    {
     "name": "stderr",
     "output_type": "stream",
     "text": [
      "[I 2023-10-09 21:57:50,362] Trial 3 finished with value: 0.40905646757035447 and parameters: {'learning_rate': 0.05002246937800169, 'max_depth': 4, 'min_child_weight': 9, 'subsample': 0.8865682742730857, 'colsample_bytree': 0.2291723181561932, 'lags': 49}. Best is trial 0 with value: 0.3598091978739592.\n"
     ]
    },
    {
     "name": "stdout",
     "output_type": "stream",
     "text": [
      "Trial results: [0.36861159005700217, 0.46433633588164086, 0.3942214767724204]\n"
     ]
    },
    {
     "name": "stderr",
     "output_type": "stream",
     "text": [
      "[I 2023-10-09 21:57:50,985] Trial 4 finished with value: 0.3804375788334893 and parameters: {'learning_rate': 0.06284372605301917, 'max_depth': 3, 'min_child_weight': 4, 'subsample': 0.7641334944045761, 'colsample_bytree': 0.3251686687852525, 'lags': 49}. Best is trial 0 with value: 0.3598091978739592.\n"
     ]
    },
    {
     "name": "stdout",
     "output_type": "stream",
     "text": [
      "Trial results: [0.3580376725883523, 0.3970140852386072, 0.38626097867350834]\n"
     ]
    },
    {
     "name": "stderr",
     "output_type": "stream",
     "text": [
      "[I 2023-10-09 21:57:51,621] Trial 5 finished with value: 0.3787003592178542 and parameters: {'learning_rate': 0.020442451417252983, 'max_depth': 4, 'min_child_weight': 10, 'subsample': 0.39556393596639006, 'colsample_bytree': 0.5946004295456727, 'lags': 14}. Best is trial 0 with value: 0.3598091978739592.\n"
     ]
    },
    {
     "name": "stdout",
     "output_type": "stream",
     "text": [
      "Trial results: [0.3619242350681163, 0.4395346856940352, 0.3346421568914114]\n"
     ]
    },
    {
     "name": "stderr",
     "output_type": "stream",
     "text": [
      "[I 2023-10-09 21:57:52,323] Trial 6 finished with value: 0.3551095238600877 and parameters: {'learning_rate': 0.017887932083438206, 'max_depth': 4, 'min_child_weight': 4, 'subsample': 0.7369742716848449, 'colsample_bytree': 0.8655776235180177, 'lags': 35}. Best is trial 6 with value: 0.3551095238600877.\n"
     ]
    },
    {
     "name": "stdout",
     "output_type": "stream",
     "text": [
      "Trial results: [0.29866691312377214, 0.43161780733367566, 0.3350438511228154]\n"
     ]
    },
    {
     "name": "stderr",
     "output_type": "stream",
     "text": [
      "[I 2023-10-09 21:57:53,056] Trial 7 finished with value: 0.3688343738709004 and parameters: {'learning_rate': 0.025463074407585273, 'max_depth': 5, 'min_child_weight': 5, 'subsample': 0.29289271457519883, 'colsample_bytree': 0.927461219420385, 'lags': 56}. Best is trial 6 with value: 0.3551095238600877.\n"
     ]
    },
    {
     "name": "stdout",
     "output_type": "stream",
     "text": [
      "Trial results: [0.33643343108274293, 0.4075807590254231, 0.3624889315045352]\n"
     ]
    },
    {
     "name": "stderr",
     "output_type": "stream",
     "text": [
      "[I 2023-10-09 21:57:53,623] Trial 8 finished with value: 0.39999584307758435 and parameters: {'learning_rate': 0.025350453961734284, 'max_depth': 4, 'min_child_weight': 7, 'subsample': 0.9761230309189158, 'colsample_bytree': 0.6820314133912467, 'lags': 21}. Best is trial 6 with value: 0.3551095238600877.\n"
     ]
    },
    {
     "name": "stdout",
     "output_type": "stream",
     "text": [
      "Trial results: [0.40786524153526543, 0.45073912421217766, 0.34138316348531]\n"
     ]
    },
    {
     "name": "stderr",
     "output_type": "stream",
     "text": [
      "[I 2023-10-09 21:57:54,182] Trial 9 finished with value: 0.43938278199307673 and parameters: {'learning_rate': 0.02214397103512287, 'max_depth': 10, 'min_child_weight': 8, 'subsample': 0.7133224232250553, 'colsample_bytree': 0.4455944918383741, 'lags': 49}. Best is trial 6 with value: 0.3551095238600877.\n"
     ]
    },
    {
     "name": "stdout",
     "output_type": "stream",
     "text": [
      "Trial results: [0.3967522736594325, 0.5002597626482412, 0.4211363096715566]\n"
     ]
    },
    {
     "name": "stderr",
     "output_type": "stream",
     "text": [
      "[I 2023-10-09 21:57:54,803] Trial 10 finished with value: 0.3529440173218645 and parameters: {'learning_rate': 0.004848188982884539, 'max_depth': 8, 'min_child_weight': 1, 'subsample': 0.5267187925722362, 'colsample_bytree': 0.7529401783419851, 'lags': 35}. Best is trial 10 with value: 0.3529440173218645.\n"
     ]
    },
    {
     "name": "stdout",
     "output_type": "stream",
     "text": [
      "Trial results: [0.2834788533516798, 0.4469797653346788, 0.3283734332792347]\n"
     ]
    },
    {
     "name": "stderr",
     "output_type": "stream",
     "text": [
      "[I 2023-10-09 21:57:55,413] Trial 11 finished with value: 0.35099760542632863 and parameters: {'learning_rate': 0.00527345269253597, 'max_depth': 8, 'min_child_weight': 1, 'subsample': 0.5377281929397397, 'colsample_bytree': 0.7610880399473897, 'lags': 35}. Best is trial 11 with value: 0.35099760542632863.\n"
     ]
    },
    {
     "name": "stdout",
     "output_type": "stream",
     "text": [
      "Trial results: [0.2855652097176304, 0.4415175091918595, 0.32591009736949594]\n"
     ]
    },
    {
     "name": "stderr",
     "output_type": "stream",
     "text": [
      "[I 2023-10-09 21:57:55,997] Trial 12 finished with value: 0.3534796001755041 and parameters: {'learning_rate': 0.004309074002122147, 'max_depth': 8, 'min_child_weight': 1, 'subsample': 0.5109574029809111, 'colsample_bytree': 0.7338916866425708, 'lags': 35}. Best is trial 11 with value: 0.35099760542632863.\n"
     ]
    },
    {
     "name": "stdout",
     "output_type": "stream",
     "text": [
      "Trial results: [0.2822526558542874, 0.44726944902582527, 0.33091669564639986]\n"
     ]
    },
    {
     "name": "stderr",
     "output_type": "stream",
     "text": [
      "[I 2023-10-09 21:57:56,625] Trial 13 finished with value: 0.3595141545510905 and parameters: {'learning_rate': 0.0048275377953765925, 'max_depth': 8, 'min_child_weight': 2, 'subsample': 0.13550524725265312, 'colsample_bytree': 0.7835147899485476, 'lags': 28}. Best is trial 11 with value: 0.35099760542632863.\n"
     ]
    },
    {
     "name": "stdout",
     "output_type": "stream",
     "text": [
      "Trial results: [0.31290963890677426, 0.4424092377906028, 0.3232235869558944]\n"
     ]
    },
    {
     "name": "stderr",
     "output_type": "stream",
     "text": [
      "[I 2023-10-09 21:57:57,194] Trial 14 finished with value: 0.35478500669075325 and parameters: {'learning_rate': 0.0012114770952930635, 'max_depth': 8, 'min_child_weight': 1, 'subsample': 0.5729165013965107, 'colsample_bytree': 0.5868753679054477, 'lags': 42}. Best is trial 11 with value: 0.35099760542632863.\n"
     ]
    },
    {
     "name": "stdout",
     "output_type": "stream",
     "text": [
      "Trial results: [0.2719012729613689, 0.4667724249245805, 0.32568132218631035]\n"
     ]
    },
    {
     "name": "stderr",
     "output_type": "stream",
     "text": [
      "[I 2023-10-09 21:57:57,796] Trial 15 finished with value: 0.3616307564524275 and parameters: {'learning_rate': 0.005784277277487646, 'max_depth': 10, 'min_child_weight': 3, 'subsample': 0.5663532342489425, 'colsample_bytree': 0.7811412643006399, 'lags': 28}. Best is trial 11 with value: 0.35099760542632863.\n"
     ]
    },
    {
     "name": "stdout",
     "output_type": "stream",
     "text": [
      "Trial results: [0.3179471467719555, 0.44246780595135604, 0.324477316633971]\n"
     ]
    },
    {
     "name": "stderr",
     "output_type": "stream",
     "text": [
      "[I 2023-10-09 21:57:58,384] Trial 16 finished with value: 0.35285184698619726 and parameters: {'learning_rate': 0.0029932468744917383, 'max_depth': 7, 'min_child_weight': 1, 'subsample': 0.5061898180066158, 'colsample_bytree': 0.6658430708098036, 'lags': 42}. Best is trial 11 with value: 0.35099760542632863.\n"
     ]
    },
    {
     "name": "stdout",
     "output_type": "stream",
     "text": [
      "Trial results: [0.2778778572876178, 0.4566150036035075, 0.3240626800674665]\n"
     ]
    },
    {
     "name": "stderr",
     "output_type": "stream",
     "text": [
      "[I 2023-10-09 21:57:58,947] Trial 17 finished with value: 0.35190720232439565 and parameters: {'learning_rate': 0.0023830441444640253, 'max_depth': 7, 'min_child_weight': 3, 'subsample': 0.6406974493292599, 'colsample_bytree': 0.4946771166461584, 'lags': 42}. Best is trial 11 with value: 0.35099760542632863.\n"
     ]
    },
    {
     "name": "stdout",
     "output_type": "stream",
     "text": [
      "Trial results: [0.27574608450418486, 0.4573764609711348, 0.32259906149786743]\n"
     ]
    },
    {
     "name": "stderr",
     "output_type": "stream",
     "text": [
      "[I 2023-10-09 21:57:59,495] Trial 18 finished with value: 0.35214693897286803 and parameters: {'learning_rate': 0.0022473435722415343, 'max_depth': 6, 'min_child_weight': 3, 'subsample': 0.6413287608417596, 'colsample_bytree': 0.4967851866880752, 'lags': 42}. Best is trial 11 with value: 0.35099760542632863.\n"
     ]
    },
    {
     "name": "stdout",
     "output_type": "stream",
     "text": [
      "Trial results: [0.2748690082466117, 0.45840176333932786, 0.32317004533266447]\n"
     ]
    },
    {
     "name": "stderr",
     "output_type": "stream",
     "text": [
      "[I 2023-10-09 21:58:00,089] Trial 19 finished with value: 0.35315367888374505 and parameters: {'learning_rate': 0.0011695030097336454, 'max_depth': 9, 'min_child_weight': 5, 'subsample': 0.6487118177300933, 'colsample_bytree': 0.4188017495433812, 'lags': 28}. Best is trial 11 with value: 0.35099760542632863.\n"
     ]
    },
    {
     "name": "stdout",
     "output_type": "stream",
     "text": [
      "Trial results: [0.2712187737756147, 0.46048423166804464, 0.32775803120757574]\n"
     ]
    }
   ],
   "source": [
    "# Оптимизация модели\n",
    "opt_res = {}\n",
    "opt_res['models'] = [model.__class__.__name__ for model in models]\n",
    "fold = n_folds\n",
    "while fold > 0:\n",
    "    file_path = os.path.join(DATA_PATH, f\"optuna/{fold}_future_df.csv\")\n",
    "    if os.path.isfile(file_path):\n",
    "        os.remove(file_path)\n",
    "    fold -= 1\n",
    "for model in models:\n",
    "    opt = Optimizer(df_test, model, CAT_FEATURES, means)\n",
    "    metric, params = opt.tuning_optimize(trials=20)\n",
    "    lags = params['lags']\n",
    "    del params['lags']\n",
    "    opt_res[model.__class__.__name__] = ([metric, params, lags])\n",
    "\n",
    "# Сохранение параметров в файл\n",
    "with open(os.path.join(DATA_PATH, \"optuna/optimization_result.json\"), \"w\") as file:\n",
    "    json.dump(opt_res, file)"
   ]
  },
  {
   "cell_type": "code",
   "execution_count": 8,
   "metadata": {},
   "outputs": [
    {
     "name": "stdout",
     "output_type": "stream",
     "text": [
      "Модель LGBMRegressor\n",
      "Metric: 0.35099760542632863\n",
      "Params: {'learning_rate': 0.00527345269253597, 'max_depth': 8, 'min_child_weight': 1, 'subsample': 0.5377281929397397, 'colsample_bytree': 0.7610880399473897}\n",
      "Lags: 35\n"
     ]
    }
   ],
   "source": [
    "for model in opt_res['models']:\n",
    "    print('Модель', model)\n",
    "    # Результаты оптимизации\n",
    "    print('Metric:', opt_res[model][0])\n",
    "    print('Params:', opt_res[model][1])\n",
    "    print('Lags:', opt_res[model][2])\n",
    "\n",
    "    # Сохранение лучшей модели и её параметров\n",
    "    best_res = 1000\n",
    "    for model in opt_res['models']:\n",
    "        if opt_res[model][0] < best_res:\n",
    "            best_res = opt_res[model][0]\n",
    "            best_model = model\n",
    "    model_name = best_model\n",
    "    model_params = opt_res[model][1]\n",
    "    model_lags = opt_res[model][2]"
   ]
  },
  {
   "cell_type": "code",
   "execution_count": 9,
   "metadata": {},
   "outputs": [],
   "source": [
    "# Загрузка ранее сохраненных параметров моделей из файла\n",
    "with open(os.path.join(DATA_PATH, \"optuna/optimization_result.json\"), \"r\") as file:\n",
    "    opt_res = json.load(file)"
   ]
  },
  {
   "cell_type": "markdown",
   "metadata": {},
   "source": [
    "## Получение предсказаний в будущем"
   ]
  },
  {
   "cell_type": "code",
   "execution_count": 10,
   "metadata": {},
   "outputs": [],
   "source": [
    "predict_data = df_test.copy()\n",
    "'''В случае изменений в предобработке данных, удалить файл future_df.csv'''\n",
    "try:\n",
    "    future = pd.read_csv(os.path.join(DATA_PATH, \"preprocessed/future_df.csv\"), parse_dates=['ds'])\n",
    "    types_changing(future, CAT_FEATURES)\n",
    "except IOError:\n",
    "    # Выполнение предобработки данных\n",
    "    preprocessor = Preprocessor(predict_data, means)\n",
    "    future = preprocessor.future_prophet()\n",
    "    future.to_csv(os.path.join(DATA_PATH, \"preprocessed/future_df.csv\"), index=False)\n",
    "    # Приведение типов данных к правильным\n",
    "    future = pd.read_csv(os.path.join(DATA_PATH, \"preprocessed/future_df.csv\"), parse_dates=['ds'])\n",
    "    types_changing(future, CAT_FEATURES)"
   ]
  },
  {
   "cell_type": "code",
   "execution_count": 11,
   "metadata": {},
   "outputs": [],
   "source": [
    "# Установка параметров модели\n",
    "if model_name == 'CatBoostRegressor':\n",
    "    del model_params['min_child_weight']\n",
    "    del model_params['colsample_bytree']\n",
    "    model = cb.CatBoostRegressor(**model_params, random_state=RANDOM_STATE, cat_features=CAT_FEATURES)\n",
    "elif model_name == 'XGBRegressor':\n",
    "    model = xgb.XGBRegressor(**model_params, random_state=RANDOM_STATE, \n",
    "                    enable_categorical=True, tree_method='hist')\n",
    "elif model_name == 'LGBMRegressor':\n",
    "    model = lgb.LGBMRegressor(**model_params, random_state=RANDOM_STATE)\n",
    "predictor = Predictor(predict_data, future, model)"
   ]
  },
  {
   "cell_type": "code",
   "execution_count": 12,
   "metadata": {},
   "outputs": [],
   "source": [
    "preds = predictor.make_predictions()\n",
    "preds.rename(columns={model_name: 'total_sales_in_units'}, inplace=True)"
   ]
  },
  {
   "cell_type": "code",
   "execution_count": 13,
   "metadata": {},
   "outputs": [
    {
     "data": {
      "text/html": [
       "<div>\n",
       "<style scoped>\n",
       "    .dataframe tbody tr th:only-of-type {\n",
       "        vertical-align: middle;\n",
       "    }\n",
       "\n",
       "    .dataframe tbody tr th {\n",
       "        vertical-align: top;\n",
       "    }\n",
       "\n",
       "    .dataframe thead th {\n",
       "        text-align: right;\n",
       "    }\n",
       "</style>\n",
       "<table border=\"1\" class=\"dataframe\">\n",
       "  <thead>\n",
       "    <tr style=\"text-align: right;\">\n",
       "      <th></th>\n",
       "      <th>unique_sku_id</th>\n",
       "      <th>ds</th>\n",
       "      <th>total_sales_in_units</th>\n",
       "      <th>st_id</th>\n",
       "      <th>pr_sku_id</th>\n",
       "    </tr>\n",
       "  </thead>\n",
       "  <tbody>\n",
       "    <tr>\n",
       "      <th>0</th>\n",
       "      <td>2</td>\n",
       "      <td>2023-07-19</td>\n",
       "      <td>2.166471</td>\n",
       "      <td>16a5cdae362b8d27a1d8f8c7b78b4330</td>\n",
       "      <td>00661699f543753ec7e911a64b9fd2f6</td>\n",
       "    </tr>\n",
       "    <tr>\n",
       "      <th>1</th>\n",
       "      <td>2</td>\n",
       "      <td>2023-07-20</td>\n",
       "      <td>2.318248</td>\n",
       "      <td>16a5cdae362b8d27a1d8f8c7b78b4330</td>\n",
       "      <td>00661699f543753ec7e911a64b9fd2f6</td>\n",
       "    </tr>\n",
       "    <tr>\n",
       "      <th>2</th>\n",
       "      <td>2</td>\n",
       "      <td>2023-07-21</td>\n",
       "      <td>2.695469</td>\n",
       "      <td>16a5cdae362b8d27a1d8f8c7b78b4330</td>\n",
       "      <td>00661699f543753ec7e911a64b9fd2f6</td>\n",
       "    </tr>\n",
       "    <tr>\n",
       "      <th>3</th>\n",
       "      <td>2</td>\n",
       "      <td>2023-07-22</td>\n",
       "      <td>2.648785</td>\n",
       "      <td>16a5cdae362b8d27a1d8f8c7b78b4330</td>\n",
       "      <td>00661699f543753ec7e911a64b9fd2f6</td>\n",
       "    </tr>\n",
       "    <tr>\n",
       "      <th>4</th>\n",
       "      <td>2</td>\n",
       "      <td>2023-07-23</td>\n",
       "      <td>2.121473</td>\n",
       "      <td>16a5cdae362b8d27a1d8f8c7b78b4330</td>\n",
       "      <td>00661699f543753ec7e911a64b9fd2f6</td>\n",
       "    </tr>\n",
       "    <tr>\n",
       "      <th>5</th>\n",
       "      <td>2</td>\n",
       "      <td>2023-07-24</td>\n",
       "      <td>2.122470</td>\n",
       "      <td>16a5cdae362b8d27a1d8f8c7b78b4330</td>\n",
       "      <td>00661699f543753ec7e911a64b9fd2f6</td>\n",
       "    </tr>\n",
       "    <tr>\n",
       "      <th>6</th>\n",
       "      <td>2</td>\n",
       "      <td>2023-07-25</td>\n",
       "      <td>2.115355</td>\n",
       "      <td>16a5cdae362b8d27a1d8f8c7b78b4330</td>\n",
       "      <td>00661699f543753ec7e911a64b9fd2f6</td>\n",
       "    </tr>\n",
       "    <tr>\n",
       "      <th>7</th>\n",
       "      <td>2</td>\n",
       "      <td>2023-07-26</td>\n",
       "      <td>2.308588</td>\n",
       "      <td>16a5cdae362b8d27a1d8f8c7b78b4330</td>\n",
       "      <td>00661699f543753ec7e911a64b9fd2f6</td>\n",
       "    </tr>\n",
       "    <tr>\n",
       "      <th>8</th>\n",
       "      <td>2</td>\n",
       "      <td>2023-07-27</td>\n",
       "      <td>2.277462</td>\n",
       "      <td>16a5cdae362b8d27a1d8f8c7b78b4330</td>\n",
       "      <td>00661699f543753ec7e911a64b9fd2f6</td>\n",
       "    </tr>\n",
       "    <tr>\n",
       "      <th>9</th>\n",
       "      <td>2</td>\n",
       "      <td>2023-07-28</td>\n",
       "      <td>2.687093</td>\n",
       "      <td>16a5cdae362b8d27a1d8f8c7b78b4330</td>\n",
       "      <td>00661699f543753ec7e911a64b9fd2f6</td>\n",
       "    </tr>\n",
       "    <tr>\n",
       "      <th>10</th>\n",
       "      <td>2</td>\n",
       "      <td>2023-07-29</td>\n",
       "      <td>2.276896</td>\n",
       "      <td>16a5cdae362b8d27a1d8f8c7b78b4330</td>\n",
       "      <td>00661699f543753ec7e911a64b9fd2f6</td>\n",
       "    </tr>\n",
       "    <tr>\n",
       "      <th>11</th>\n",
       "      <td>2</td>\n",
       "      <td>2023-07-30</td>\n",
       "      <td>2.119913</td>\n",
       "      <td>16a5cdae362b8d27a1d8f8c7b78b4330</td>\n",
       "      <td>00661699f543753ec7e911a64b9fd2f6</td>\n",
       "    </tr>\n",
       "    <tr>\n",
       "      <th>12</th>\n",
       "      <td>2</td>\n",
       "      <td>2023-07-31</td>\n",
       "      <td>2.066255</td>\n",
       "      <td>16a5cdae362b8d27a1d8f8c7b78b4330</td>\n",
       "      <td>00661699f543753ec7e911a64b9fd2f6</td>\n",
       "    </tr>\n",
       "    <tr>\n",
       "      <th>13</th>\n",
       "      <td>2</td>\n",
       "      <td>2023-08-01</td>\n",
       "      <td>2.115355</td>\n",
       "      <td>16a5cdae362b8d27a1d8f8c7b78b4330</td>\n",
       "      <td>00661699f543753ec7e911a64b9fd2f6</td>\n",
       "    </tr>\n",
       "  </tbody>\n",
       "</table>\n",
       "</div>"
      ],
      "text/plain": [
       "    unique_sku_id         ds  total_sales_in_units  \\\n",
       "0               2 2023-07-19              2.166471   \n",
       "1               2 2023-07-20              2.318248   \n",
       "2               2 2023-07-21              2.695469   \n",
       "3               2 2023-07-22              2.648785   \n",
       "4               2 2023-07-23              2.121473   \n",
       "5               2 2023-07-24              2.122470   \n",
       "6               2 2023-07-25              2.115355   \n",
       "7               2 2023-07-26              2.308588   \n",
       "8               2 2023-07-27              2.277462   \n",
       "9               2 2023-07-28              2.687093   \n",
       "10              2 2023-07-29              2.276896   \n",
       "11              2 2023-07-30              2.119913   \n",
       "12              2 2023-07-31              2.066255   \n",
       "13              2 2023-08-01              2.115355   \n",
       "\n",
       "                               st_id                         pr_sku_id  \n",
       "0   16a5cdae362b8d27a1d8f8c7b78b4330  00661699f543753ec7e911a64b9fd2f6  \n",
       "1   16a5cdae362b8d27a1d8f8c7b78b4330  00661699f543753ec7e911a64b9fd2f6  \n",
       "2   16a5cdae362b8d27a1d8f8c7b78b4330  00661699f543753ec7e911a64b9fd2f6  \n",
       "3   16a5cdae362b8d27a1d8f8c7b78b4330  00661699f543753ec7e911a64b9fd2f6  \n",
       "4   16a5cdae362b8d27a1d8f8c7b78b4330  00661699f543753ec7e911a64b9fd2f6  \n",
       "5   16a5cdae362b8d27a1d8f8c7b78b4330  00661699f543753ec7e911a64b9fd2f6  \n",
       "6   16a5cdae362b8d27a1d8f8c7b78b4330  00661699f543753ec7e911a64b9fd2f6  \n",
       "7   16a5cdae362b8d27a1d8f8c7b78b4330  00661699f543753ec7e911a64b9fd2f6  \n",
       "8   16a5cdae362b8d27a1d8f8c7b78b4330  00661699f543753ec7e911a64b9fd2f6  \n",
       "9   16a5cdae362b8d27a1d8f8c7b78b4330  00661699f543753ec7e911a64b9fd2f6  \n",
       "10  16a5cdae362b8d27a1d8f8c7b78b4330  00661699f543753ec7e911a64b9fd2f6  \n",
       "11  16a5cdae362b8d27a1d8f8c7b78b4330  00661699f543753ec7e911a64b9fd2f6  \n",
       "12  16a5cdae362b8d27a1d8f8c7b78b4330  00661699f543753ec7e911a64b9fd2f6  \n",
       "13  16a5cdae362b8d27a1d8f8c7b78b4330  00661699f543753ec7e911a64b9fd2f6  "
      ]
     },
     "execution_count": 13,
     "metadata": {},
     "output_type": "execute_result"
    }
   ],
   "source": [
    "preds"
   ]
  }
 ],
 "metadata": {
  "kernelspec": {
   "display_name": "base",
   "language": "python",
   "name": "python3"
  },
  "language_info": {
   "codemirror_mode": {
    "name": "ipython",
    "version": 3
   },
   "file_extension": ".py",
   "mimetype": "text/x-python",
   "name": "python",
   "nbconvert_exporter": "python",
   "pygments_lexer": "ipython3",
   "version": "3.10.13"
  },
  "orig_nbformat": 4
 },
 "nbformat": 4,
 "nbformat_minor": 2
}
