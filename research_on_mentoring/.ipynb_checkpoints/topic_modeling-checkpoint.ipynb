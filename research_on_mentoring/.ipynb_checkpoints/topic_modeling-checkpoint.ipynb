{
 "cells": [
  {
   "cell_type": "markdown",
   "id": "edd03051-d19c-44b4-abf5-85de5bc93cd9",
   "metadata": {},
   "source": [
    "<div style=\"border:solid green 2px; padding: 20px\">\n",
    "    \n",
    "<b>Привет!</b>\n",
    "\n",
    "Меня зовут Юлия Семенюк, я буду проводить ревью твоего проекта. \n",
    "\n",
    "Предлагаю общаться на «ты» :) Но если это не удобно - дай знать, и мы перейдем на \"вы\". \n",
    "\n",
    "Работа над проектом этой Мастерской завершена. Моя основная цель — не указать на совершенные тобою ошибки, а поделиться своим опытом и помочь тебе стать отличным специалистом по Data Science, помочь тебе подготовить исследование максимально качественно, чтобы было не стыдно ссылаться на данную работу в своем резюме!\n",
    "\n",
    "Ниже ты найдешь мои комментарии - **пожалуйста, не перемещай, не изменяй и не удаляй их**. Увидев у тебя ошибку, я лишь укажу на ее наличие. Это позволит тебе исправить ее в финальной версии проекта. Я буду использовать цветовую разметку:\n",
    "\n",
    "<div class=\"alert alert-danger\">\n",
    "<b>Комментарий ревьюера ❌:</b> Так выделены самые важные замечания. Эти замечания очень важные! Их нужно обязательно отработать, перед тем как показывать работу другим специалистам по Data Science </div>\n",
    "\n",
    "<div class=\"alert alert-warning\">\n",
    "<b>Комментарий ревьюера ⚠️:</b> Так выделены небольшие замечания. Я надеюсь, что их ты тоже учтешь - твой проект от этого станет только лучше.\n",
    "\n",
    "</div>\n",
    "\n",
    "<div class=\"alert alert-success\">\n",
    "<b>Комментарий ревьюера ✔️:</b> Так я выделяю правильные и верные действия, а так же все остальные комментарии.</div>\n",
    "\n",
    "После получения ревью работы постарайся внести изменения в исследование в соответствии с моими комментариями. Это позволит сделать твою работу еще лучше! "
   ]
  },
  {
   "cell_type": "markdown",
   "id": "d7a446e7",
   "metadata": {
    "toc": true
   },
   "source": [
    "<h1>Table of Contents<span class=\"tocSkip\"></span></h1>\n",
    "<div class=\"toc\"><ul class=\"toc-item\"><li><span><a href=\"#Ознакомимся-с-данными\" data-toc-modified-id=\"Ознакомимся-с-данными-1\"><span class=\"toc-item-num\">1&nbsp;&nbsp;</span>Ознакомимся с данными</a></span></li><li><span><a href=\"#Подготовка-текстов\" data-toc-modified-id=\"Подготовка-текстов-2\"><span class=\"toc-item-num\">2&nbsp;&nbsp;</span>Подготовка текстов</a></span></li><li><span><a href=\"#Векторизация-текстов\" data-toc-modified-id=\"Векторизация-текстов-3\"><span class=\"toc-item-num\">3&nbsp;&nbsp;</span>Векторизация текстов</a></span></li><li><span><a href=\"#LDA\" data-toc-modified-id=\"LDA-4\"><span class=\"toc-item-num\">4&nbsp;&nbsp;</span>LDA</a></span><ul class=\"toc-item\"><li><span><a href=\"#Ключевые-слова\" data-toc-modified-id=\"Ключевые-слова-4.1\"><span class=\"toc-item-num\">4.1&nbsp;&nbsp;</span>Ключевые слова</a></span></li><li><span><a href=\"#Типичные-статьи\" data-toc-modified-id=\"Типичные-статьи-4.2\"><span class=\"toc-item-num\">4.2&nbsp;&nbsp;</span>Типичные статьи</a></span></li></ul></li><li><span><a href=\"#Модель-NMF\" data-toc-modified-id=\"Модель-NMF-5\"><span class=\"toc-item-num\">5&nbsp;&nbsp;</span>Модель NMF</a></span><ul class=\"toc-item\"><li><span><a href=\"#Ключевые-слова\" data-toc-modified-id=\"Ключевые-слова-5.1\"><span class=\"toc-item-num\">5.1&nbsp;&nbsp;</span>Ключевые слова</a></span></li><li><span><a href=\"#Типичные-посты\" data-toc-modified-id=\"Типичные-посты-5.2\"><span class=\"toc-item-num\">5.2&nbsp;&nbsp;</span>Типичные посты</a></span></li></ul></li></ul></div>"
   ]
  },
  {
   "cell_type": "markdown",
   "id": "9ffc05be",
   "metadata": {},
   "source": [
    "# Исследование темы наставничества в LinkedIn"
   ]
  },
  {
   "cell_type": "markdown",
   "id": "7e9eeb8b",
   "metadata": {},
   "source": [
    "**Описание проекта  и цель**\n",
    "\n",
    "Требуется провести исследование по теме наставничества и менторства на основании контента социальной сети LinkedIn, размещенного в открытом доступе, созданного целевой аудиторией.\n",
    "\n",
    "Задача исследования: определить топ-10 тем в направлении наставничества.\n",
    "\n",
    "**Описание данных**\n",
    "\n",
    "Сбор данных осуществлялся на сайт социальнй сети LinkedIn. В данных представлены ссылки на профили из ЦА (целевая аудитория), тексты публикаций. Некоторые тексты были написаны на иностранных языках, поэтому они были предварительно переведены на русский.\n",
    "\n",
    " - url_user - ссылка на профиль\n",
    " - text_post  - текст публикации\n",
    " - language  - язык публикации\n",
    " - translated_text - переведенный текст\n",
    " \n",
    " \n",
    " **План работы**\n",
    " \n",
    "1. Предобработка данных\n",
    "    - Ознакомление с данными\n",
    "    - Подготовка текстов\n",
    "    - Векторизация текстов\n",
    "2. Моделирование\n",
    "   - модель LDA\n",
    "   - модель NMF\n",
    "   - Ключевые слова для каждой модели\n",
    "   - Типичные статьи для каждой модели\n",
    "3. Выводы"
   ]
  },
  {
   "cell_type": "markdown",
   "id": "cedf4c2c-fbaf-4e6d-9a0d-6def723efa1f",
   "metadata": {},
   "source": [
    "\n",
    "\n",
    "<div class=\"alert alert-success\">\n",
    "<b>Комментарий ревьюера ✔️:</b> Здорово что есть введение с описанием проекта!</div>\n"
   ]
  },
  {
   "cell_type": "markdown",
   "id": "df09096d",
   "metadata": {},
   "source": [
    "# Предобработка данных"
   ]
  },
  {
   "cell_type": "markdown",
   "id": "a3d4a1f5",
   "metadata": {},
   "source": [
    "## Ознакомимся с данными"
   ]
  },
  {
   "cell_type": "code",
   "execution_count": 251,
   "id": "acffa7f0",
   "metadata": {},
   "outputs": [],
   "source": [
    "# Импорт библиотек\n",
    "import re\n",
    "import json\n",
    "import warnings \n",
    "\n",
    "import pandas as pd\n",
    "import numpy as np\n",
    "import spacy\n",
    "\n",
    "import matplotlib.pyplot as plt\n",
    "import matplotlib.cm as cm\n",
    "\n",
    "from nltk.corpus import stopwords\n",
    "from sklearn.decomposition import LatentDirichletAllocation\n",
    "from sklearn.feature_extraction.text import TfidfVectorizer\n",
    "from sklearn.cluster import KMeans\n",
    "from sklearn.decomposition import NMF\n",
    "from sklearn.manifold import TSNE\n",
    "from tqdm import tqdm\n",
    "from wordcloud import WordCloud\n",
    "\n",
    "warnings.filterwarnings('ignore')"
   ]
  },
  {
   "cell_type": "markdown",
   "id": "bf27d730-6caf-4cf9-b0f2-7790ffbe4ca9",
   "metadata": {},
   "source": [
    "<div class=\"alert alert-success\">\n",
    "<b>Комментарий ревьюера ✔️:</b>\n",
    "\n",
    "Отлично, все импорты в ячейке в начала тетрадки 👍\n",
    "\n",
    "- Импорты из одного и того же модуля можно собрать в одну строку, чтобы они не были разбросаны хаотично.\n",
    "- Еще из хорошего – посмотреть на импорты и немного упорядочить их логически 😉\n",
    "- Глобальные настройки можно вынести в отдельную ячейку.\n",
    "\n",
    "</div>\n"
   ]
  },
  {
   "cell_type": "code",
   "execution_count": 2,
   "id": "5b843fdb",
   "metadata": {},
   "outputs": [
    {
     "data": {
      "text/html": [
       "<div>\n",
       "<style scoped>\n",
       "    .dataframe tbody tr th:only-of-type {\n",
       "        vertical-align: middle;\n",
       "    }\n",
       "\n",
       "    .dataframe tbody tr th {\n",
       "        vertical-align: top;\n",
       "    }\n",
       "\n",
       "    .dataframe thead th {\n",
       "        text-align: right;\n",
       "    }\n",
       "</style>\n",
       "<table border=\"1\" class=\"dataframe\">\n",
       "  <thead>\n",
       "    <tr style=\"text-align: right;\">\n",
       "      <th></th>\n",
       "      <th>url_user</th>\n",
       "      <th>text_post</th>\n",
       "      <th>language</th>\n",
       "      <th>translated_text</th>\n",
       "    </tr>\n",
       "  </thead>\n",
       "  <tbody>\n",
       "    <tr>\n",
       "      <th>0</th>\n",
       "      <td>https://www.linkedin.com/in/korenevich/</td>\n",
       "      <td>['Приложение которое из голоса раскидывает зад...</td>\n",
       "      <td>ru</td>\n",
       "      <td>['Приложение которое из голоса раскидывает зад...</td>\n",
       "    </tr>\n",
       "    <tr>\n",
       "      <th>1</th>\n",
       "      <td>https://www.linkedin.com/in/korenevich/</td>\n",
       "      <td>'Почему основатель любого бизнеса обязан умет...</td>\n",
       "      <td>ru</td>\n",
       "      <td>'Почему основатель любого бизнеса обязан умет...</td>\n",
       "    </tr>\n",
       "    <tr>\n",
       "      <th>2</th>\n",
       "      <td>https://www.linkedin.com/in/korenevich/</td>\n",
       "      <td>'Казнить нельзя помиловать. Навык #9 – принят...</td>\n",
       "      <td>ru</td>\n",
       "      <td>'Казнить нельзя помиловать. Навык #9 – принят...</td>\n",
       "    </tr>\n",
       "    <tr>\n",
       "      <th>3</th>\n",
       "      <td>https://www.linkedin.com/in/korenevich/</td>\n",
       "      <td>'Кто хорошо потрудился на этой неделе, тот я....</td>\n",
       "      <td>ru</td>\n",
       "      <td>'Кто хорошо потрудился на этой неделе, тот я....</td>\n",
       "    </tr>\n",
       "    <tr>\n",
       "      <th>4</th>\n",
       "      <td>https://www.linkedin.com/in/korenevich/</td>\n",
       "      <td>'Сегодня была защита дипломных работ на кафед...</td>\n",
       "      <td>ru</td>\n",
       "      <td>'Сегодня была защита дипломных работ на кафед...</td>\n",
       "    </tr>\n",
       "  </tbody>\n",
       "</table>\n",
       "</div>"
      ],
      "text/plain": [
       "                                  url_user  \\\n",
       "0  https://www.linkedin.com/in/korenevich/   \n",
       "1  https://www.linkedin.com/in/korenevich/   \n",
       "2  https://www.linkedin.com/in/korenevich/   \n",
       "3  https://www.linkedin.com/in/korenevich/   \n",
       "4  https://www.linkedin.com/in/korenevich/   \n",
       "\n",
       "                                           text_post language  \\\n",
       "0  ['Приложение которое из голоса раскидывает зад...       ru   \n",
       "1   'Почему основатель любого бизнеса обязан умет...       ru   \n",
       "2   'Казнить нельзя помиловать. Навык #9 – принят...       ru   \n",
       "3   'Кто хорошо потрудился на этой неделе, тот я....       ru   \n",
       "4   'Сегодня была защита дипломных работ на кафед...       ru   \n",
       "\n",
       "                                     translated_text  \n",
       "0  ['Приложение которое из голоса раскидывает зад...  \n",
       "1   'Почему основатель любого бизнеса обязан умет...  \n",
       "2   'Казнить нельзя помиловать. Навык #9 – принят...  \n",
       "3   'Кто хорошо потрудился на этой неделе, тот я....  \n",
       "4   'Сегодня была защита дипломных работ на кафед...  "
      ]
     },
     "execution_count": 2,
     "metadata": {},
     "output_type": "execute_result"
    }
   ],
   "source": [
    "# Ознакомимся с датасетом \n",
    "df = pd.read_csv('all_data_translated.csv')\n",
    "\n",
    "# выведем первые строки\n",
    "df.head()"
   ]
  },
  {
   "cell_type": "markdown",
   "id": "cc28c4d6",
   "metadata": {},
   "source": [
    "Изначально данные собраны на разных языках. Дело в том, что рускоязычные спикеры пишут как на русском, там и на английском языках, поскольку социальная сеть предназначена для международной коммуникации в том числе."
   ]
  },
  {
   "cell_type": "code",
   "execution_count": 3,
   "id": "81c9061b",
   "metadata": {},
   "outputs": [
    {
     "data": {
      "text/plain": [
       "(11146, 4)"
      ]
     },
     "execution_count": 3,
     "metadata": {},
     "output_type": "execute_result"
    }
   ],
   "source": [
    "# проверим размерность\n",
    "df.shape"
   ]
  },
  {
   "cell_type": "code",
   "execution_count": 4,
   "id": "2b6ea74a",
   "metadata": {},
   "outputs": [
    {
     "data": {
      "text/plain": [
       "211"
      ]
     },
     "execution_count": 4,
     "metadata": {},
     "output_type": "execute_result"
    }
   ],
   "source": [
    "# Проверка на дубликаты\n",
    "df.duplicated().sum()"
   ]
  },
  {
   "cell_type": "code",
   "execution_count": 5,
   "id": "3dc35557",
   "metadata": {},
   "outputs": [],
   "source": [
    "# Удалим дубликаты \n",
    "df = df.drop_duplicates(keep='last')"
   ]
  },
  {
   "cell_type": "code",
   "execution_count": 6,
   "id": "d1058ce9",
   "metadata": {},
   "outputs": [
    {
     "data": {
      "text/plain": [
       "url_user           0\n",
       "text_post          0\n",
       "language           0\n",
       "translated_text    0\n",
       "dtype: int64"
      ]
     },
     "execution_count": 6,
     "metadata": {},
     "output_type": "execute_result"
    }
   ],
   "source": [
    "# проверим пропуски\n",
    "df.isna().sum()"
   ]
  },
  {
   "cell_type": "code",
   "execution_count": 7,
   "id": "32559b49",
   "metadata": {},
   "outputs": [
    {
     "data": {
      "text/html": [
       "<div>\n",
       "<style scoped>\n",
       "    .dataframe tbody tr th:only-of-type {\n",
       "        vertical-align: middle;\n",
       "    }\n",
       "\n",
       "    .dataframe tbody tr th {\n",
       "        vertical-align: top;\n",
       "    }\n",
       "\n",
       "    .dataframe thead th {\n",
       "        text-align: right;\n",
       "    }\n",
       "</style>\n",
       "<table border=\"1\" class=\"dataframe\">\n",
       "  <thead>\n",
       "    <tr style=\"text-align: right;\">\n",
       "      <th></th>\n",
       "      <th>url_user</th>\n",
       "      <th>text_post</th>\n",
       "      <th>language</th>\n",
       "      <th>translated_text</th>\n",
       "    </tr>\n",
       "  </thead>\n",
       "  <tbody>\n",
       "  </tbody>\n",
       "</table>\n",
       "</div>"
      ],
      "text/plain": [
       "Empty DataFrame\n",
       "Columns: [url_user, text_post, language, translated_text]\n",
       "Index: []"
      ]
     },
     "execution_count": 7,
     "metadata": {},
     "output_type": "execute_result"
    }
   ],
   "source": [
    "# Проверим есть ли строки, в которых нет текста\n",
    "df.loc[df['translated_text'] == '']"
   ]
  },
  {
   "cell_type": "code",
   "execution_count": 8,
   "id": "4647ccc5",
   "metadata": {},
   "outputs": [
    {
     "data": {
      "text/plain": [
       "1012"
      ]
     },
     "execution_count": 8,
     "metadata": {},
     "output_type": "execute_result"
    }
   ],
   "source": [
    "# Количество профилей\n",
    "df.url_user.nunique()"
   ]
  },
  {
   "cell_type": "code",
   "execution_count": 252,
   "id": "ba991397",
   "metadata": {},
   "outputs": [
    {
     "name": "stdout",
     "output_type": "stream",
     "text": [
      "<class 'pandas.core.frame.DataFrame'>\n",
      "Index: 10935 entries, 0 to 11145\n",
      "Data columns (total 5 columns):\n",
      " #   Column           Non-Null Count  Dtype \n",
      "---  ------           --------------  ----- \n",
      " 0   url_user         10935 non-null  object\n",
      " 1   text_post        10935 non-null  object\n",
      " 2   language         10935 non-null  object\n",
      " 3   translated_text  10935 non-null  object\n",
      " 4   len_text         10935 non-null  int64 \n",
      "dtypes: int64(1), object(4)\n",
      "memory usage: 512.6+ KB\n"
     ]
    }
   ],
   "source": [
    "#посомотрим на итоговые результаты\n",
    "df.info()"
   ]
  },
  {
   "cell_type": "markdown",
   "id": "d46dd653-5d90-496e-98dd-2dc5b49470a5",
   "metadata": {},
   "source": [
    "\n",
    "<div class=\"alert alert-success\">\n",
    "<b>Комментарий ревьюера ✔️:</b> \n",
    "\n",
    "Отлично, общий обзор данных есть! Здорово что есть для каждого шага небольшой комментарий 👍</div>\n"
   ]
  },
  {
   "cell_type": "code",
   "execution_count": 9,
   "id": "ee9c7f74",
   "metadata": {},
   "outputs": [
    {
     "name": "stdout",
     "output_type": "stream",
     "text": [
      " 'Много ли у вас друзей, которые работают по профессии? Есть ли у вас знакомые, которые после сокращения не впали в депрессию, потому что знают, что делать дальше?Если два раза вы ответили “нет”, то пора вам познакомиться с новой профессией - КАРЬЕРНЫЙ КОУЧ. Кто он такой и зачем ходить к нему раз в год?👩🏼\\u200d⚕️Карьерный коуч - это “врач” профессий. Часто к нему ходят когда в вашей карьере уже “сильно болит” - вы выгорели, вас уволили, работаете много, а финансов недостаточно. И классика 2020 года - когда начался режим карантина, а зарабатывать как прежде вы не можете. К коучу ходят ради:✅Уверенности в своём резюме (потому что резюме это козыри в вашем кармане) Поднимают самооценку и дают уверенность в том, что  вы заслуживаете ту сумму, которую хотите;✅ Обретения своего “карьерного местечка под Солнцем”, если вдруг на вашей должности теперь уныло и одиноко;✅ Составления маршрутной карты по направлению к своей цели;✅ Получения перспектив роста на ближайшие 2-3 года;✅ Нахождения собственных ресурсов для роста.Друзья, ни в школе, ни в универе нам не прививали ответственность и смелость за свой рост. Но это не значит, что здесь действует принцип “оно само получится”. #карьера #коучинг #развитие #карьерныйрост\n",
      "\n",
      "Топ-6 самых популярных стилей архитектуры API. Ежедневно совершаются миллиарды вызовов API, поэтому понимание стилей архитектуры API как никогда важно. В этом видео мы подробно рассмотрим эти стили. Они составляют основу нашего взаимосвязанного цифрового мира. Мы поговорим о: - SOAP - RESTful - GraphQL - gRPC - WebSocket - Webhook Смотрите и подписывайтесь здесь: https://lnkd.in/e2Jwg9w8 -- Подпишитесь на нашу еженедельную рассылку, чтобы получить бесплатный PDF-файл о проектировании системы (158 страниц): https://bit.ly/42Ex9oZ#systemdesign#coding#interviewtips.\n",
      "\n",
      "Я только что зарегистрировался на Саммит по цифровому опыту работы с клиентами! Присоединяйтесь ко мне, нажав здесь: https://lnkd.in/dmsxWpjb\n",
      "\n",
      "🎉 Рада поделиться отличной новостью! Компания TechBehemoths назвала Aimprosoft одной из лучших компаний Украины 2022 года!🏆 Aimprosoft была отмечена как одна из лучших технологических компаний за наши услуги:🎯 Веб-разработка 👉 http://bit.ly/3wV05uT🎯 Разработка программного обеспечения на заказ 👉 http ://bit.ly/3Ynk80A🎯 UX/UI Design 👉 http://bit.ly/3wW76LRTechBehemoths — это глобальная платформа рейтингов и обзоров, базирующаяся в Германии. Он подвел итоги 2022 года и объявил компании-победители за отличную работу, качество обслуживания, масштабируемость производительности и положительные отзывы.💪 Aimprosoft — компания по разработке программного обеспечения полного цикла, предлагающая цифровую трансформацию для стартапов, малого и среднего бизнеса и предприятий. Наша команда технических специалистов создает надежные индивидуальные веб-приложения и мобильные приложения любой сложности. Также у нас есть нишевые команды разработчиков специализированных решений Hybris, Liferay и Alfresco. 🤝 Мы обеспечиваем расширение штата, выделенные команды по моделям T&M и оплаты по фиксированной цене.#AimAwards #WebDevelopment #CustomSoftwareDevelopment #SoftwareDevelopment #UXUIDesign\n",
      "\n",
      "Компания Softengi была включена в список 100 Global Outsourcing 2023 по версии IAOPG. Отличные новости! Softengi, глобальный поставщик услуг цифровой трансформации, был включен в список 100 Global Outsourcing 2023® в категории Rising Star по версии IAOP®. 🎉🎉🎉Наше стремление к совершенству и инновациям в эти беспрецедентные времена было вознаграждено! Настойчивость и лидерство Softengi, продемонстрированные в создании надежного клиентского опыта и установлении деловых партнерских отношений, были снова высоко оценены сообществом #аутсорсинга. индустрии разработки программного обеспечения. #itoutsourcingcompany\n",
      "\n"
     ]
    }
   ],
   "source": [
    "# Посмотрим на тексты публикаций - случайным образом сэмплируем несколько примеров\n",
    "for i in range(5):\n",
    "    print(df['translated_text'].iloc[np.random.randint(len(df))])\n",
    "    print()"
   ]
  },
  {
   "cell_type": "markdown",
   "id": "ceac05c6-8b6c-4257-8d89-0b38ba663e15",
   "metadata": {},
   "source": [
    "\n",
    "<div class=\"alert alert-success\">\n",
    "<b>Комментарий ревьюера ✔️:</b>\n",
    "    \n",
    "Посмотри на метод [pandas.DataFrame.sample](https://pandas.pydata.org/docs/reference/api/pandas.DataFrame.sample.html) – можно его использовать вместо цикла и немного упростить код 😉\n",
    "</div>\n"
   ]
  },
  {
   "cell_type": "code",
   "execution_count": 10,
   "id": "949c4a24",
   "metadata": {},
   "outputs": [
    {
     "data": {
      "text/plain": [
       "array(['ru', 'ro', 'en', 'uk', 'hr', 'mk', 'ca', 'et', 'no', 'bg', 'fr',\n",
       "       'sl', 'sq', 'fi', 'id', 'cs', 'it', 'af', 'tl', 'pt', 'sv', 'de',\n",
       "       'es', 'nl', 'cy', 'da', 'sw', 'pl', 'tr', 'so', 'ar', 'lt', 'vi',\n",
       "       'he', 'hu', 'sk'], dtype=object)"
      ]
     },
     "execution_count": 10,
     "metadata": {},
     "output_type": "execute_result"
    }
   ],
   "source": [
    "#посмотрим какие языки присутсвуют в тексте\n",
    "df['language'].unique()"
   ]
  },
  {
   "cell_type": "code",
   "execution_count": 11,
   "id": "e358bae7",
   "metadata": {},
   "outputs": [
    {
     "name": "stdout",
     "output_type": "stream",
     "text": [
      "language\n",
      "en    0.602561\n",
      "ru    0.319707\n",
      "uk    0.018473\n",
      "mk    0.008871\n",
      "bg    0.007590\n",
      "et    0.006859\n",
      "de    0.004298\n",
      "tr    0.003932\n",
      "fr    0.002469\n",
      "it    0.002378\n",
      "ro    0.002103\n",
      "af    0.002103\n",
      "tl    0.002012\n",
      "nl    0.001829\n",
      "id    0.001463\n",
      "fi    0.001372\n",
      "da    0.001372\n",
      "sq    0.001189\n",
      "ca    0.001097\n",
      "ar    0.001006\n",
      "es    0.001006\n",
      "cy    0.001006\n",
      "no    0.000914\n",
      "sw    0.000549\n",
      "so    0.000549\n",
      "sv    0.000457\n",
      "pt    0.000457\n",
      "sl    0.000457\n",
      "hr    0.000457\n",
      "pl    0.000366\n",
      "he    0.000366\n",
      "cs    0.000183\n",
      "vi    0.000183\n",
      "hu    0.000183\n",
      "lt    0.000091\n",
      "sk    0.000091\n",
      "Name: proportion, dtype: float64\n"
     ]
    },
    {
     "data": {
      "image/png": "[encoded data removed]",
      "text/plain": [
       "<Figure size 720x360 with 1 Axes>"
      ]
     },
     "metadata": {
      "needs_background": "light"
     },
     "output_type": "display_data"
    }
   ],
   "source": [
    "#исследуем количество языков\n",
    "\n",
    "plt.figure(figsize=(10,5))\n",
    "\n",
    "plt.title('Частота различных языков постов')\n",
    "plt.xlabel('Язык')\n",
    "plt.ylabel('Частота')\n",
    "\n",
    "class_frequency = df['language'].value_counts(normalize=True)\n",
    "print(class_frequency)\n",
    "\n",
    "class_frequency.plot(kind='bar', color='lightblue');"
   ]
  },
  {
   "cell_type": "markdown",
   "id": "6e78d6d9",
   "metadata": {},
   "source": [
    "Таким образом, подавляющее число постов написано на английском языке. Но данные были предварительно переведены в отдельном исследовании. Здесь используются уже данные полностью на русском языке. Посмотрим, какие именно тексты определились для других языков."
   ]
  },
  {
   "cell_type": "markdown",
   "id": "48d90ef1-5291-4a46-aa6a-d937d4fa787b",
   "metadata": {},
   "source": [
    "\n",
    "<div class=\"alert alert-success\">\n",
    "<b>Комментарий ревьюера ✔️:</b>\n",
    "\n",
    "В относительно свежих версиях matplotlib есть метод [pyplot.bar_label](https://matplotlib.org/stable/api/_as_gen/matplotlib.pyplot.bar_label.html) – если сделать фигуру немного пошире, то можно добавить значения прямо на график и не выводить отдельную таблицу 👍\n",
    "\n",
    "Или может быть объединить редкие языки в другое? 🤔\n",
    "</div>\n"
   ]
  },
  {
   "cell_type": "code",
   "execution_count": 12,
   "id": "5ebafcfc",
   "metadata": {},
   "outputs": [
    {
     "data": {
      "text/plain": [
       "850"
      ]
     },
     "execution_count": 12,
     "metadata": {},
     "output_type": "execute_result"
    }
   ],
   "source": [
    "#отфильтруем тексты\n",
    "diff_lang = df.loc[(df['language']!='ru') & \n",
    "                   (df['language']!='en')]\n",
    "Язык отличный от английского и русского встречается в небольшом количестве текстов. Можно их удалить.\n",
    "len(diff_lang) "
   ]
  },
  {
   "cell_type": "markdown",
   "id": "5f1d7a19-9a11-4132-8a72-28d93a321d84",
   "metadata": {},
   "source": [
    "\n",
    "<div class=\"alert alert-success\">\n",
    "<b>Комментарий ревьюера ✔️:</b> \n",
    "\n",
    "Еще один шаг в сторону оптимизации – [pandas.Series.isin](https://pandas.pydata.org/docs/reference/api/pandas.Series.isin.html), с ним можно сделать код еще проще\n",
    "\n",
    "</div>\n",
    "\n",
    "<div class=\"alert alert-warning\">\n",
    "<b>Комментарий ревьюера ⚠️:</b> \n",
    "\n",
    "В ячейке с кодом неожиданно фраза про \"Язык отличный от английского и русского...\", надо ее убрать в комментарий или вынести в текстовую ячейку markdown\n",
    "\n",
    "</div>\n",
    "\n",
    "\n"
   ]
  },
  {
   "cell_type": "markdown",
   "id": "fad8b5ea",
   "metadata": {},
   "source": [
    "Язык отличный от английского и русского встречается в достаточно большом количестве текстов. Под другими языками могли определиться тексты, содержащие хэштеги, профессионализмы и жаргон. Поскольку исходные данные были предварительно переведены, удалять языки, отличные от русского нет необходимости."
   ]
  },
  {
   "cell_type": "markdown",
   "id": "abd8c908-faea-4220-93a5-c328f818b870",
   "metadata": {},
   "source": [
    "\n",
    "<div class=\"alert alert-warning\">\n",
    "<b>Комментарий ревьюера ⚠️:</b>\n",
    "\n",
    "Надо перепроверить логику повествования – удаляем языки отличные от русского/английского или нет 🤔\n",
    "\n",
    "Судя по коду – не удаляем. Тогда комментарий в ячейке с кодом лишний.\n",
    "\n",
    "</div>"
   ]
  },
  {
   "cell_type": "markdown",
   "id": "aac7a1e1",
   "metadata": {},
   "source": [
    "Далее проанализируем длинны текстов и, при необходимости, избавимся от коротких."
   ]
  },
  {
   "cell_type": "code",
   "execution_count": 13,
   "id": "858ccbda",
   "metadata": {},
   "outputs": [],
   "source": [
    "# Добавим дополнительнй признак - длина текста\n",
    "df['len_text'] = df['text_post'].apply(lambda x:len(x))"
   ]
  },
  {
   "cell_type": "code",
   "execution_count": 16,
   "id": "178427cb",
   "metadata": {},
   "outputs": [
    {
     "data": {
      "image/png": "[encoded data removed]",
      "text/plain": [
       "<Figure size 720x432 with 1 Axes>"
      ]
     },
     "metadata": {
      "needs_background": "light"
     },
     "output_type": "display_data"
    }
   ],
   "source": [
    "# Построим гистограмму распределения длин\n",
    "plt.figure(figsize=(10,6))\n",
    "df['len_text'].plot.hist(bins = 30)\n",
    "\n",
    "plt.title('Гистограмма распределения текстов по количеству символов')\n",
    "plt.xlabel('Количество символов')\n",
    "plt.show()"
   ]
  },
  {
   "cell_type": "markdown",
   "id": "800554a5-ba54-4fa6-abb6-cb8e98c52c32",
   "metadata": {},
   "source": [
    "\n",
    "<div class=\"alert alert-success\">\n",
    "<b>Комментарий ревьюера ✔️:</b>\n",
    "\n",
    "Очень хорошо что подкрепляешь выводы и находки иллюстрациями, графиками с подписанными осями, с заголовками 😉\n",
    "\n",
    "</div>\n"
   ]
  },
  {
   "cell_type": "code",
   "execution_count": 17,
   "id": "4feb2de7",
   "metadata": {},
   "outputs": [
    {
     "data": {
      "text/plain": [
       "count    10935.000000\n",
       "mean       545.859259\n",
       "std        623.032139\n",
       "min          2.000000\n",
       "25%        110.500000\n",
       "50%        307.000000\n",
       "75%        762.000000\n",
       "max       6638.000000\n",
       "Name: len_text, dtype: float64"
      ]
     },
     "execution_count": 17,
     "metadata": {},
     "output_type": "execute_result"
    }
   ],
   "source": [
    "# выведем статистику по длиннам текстов\n",
    "df['len_text'].describe()"
   ]
  },
  {
   "cell_type": "markdown",
   "id": "59b7bd8f",
   "metadata": {},
   "source": [
    "Видно, что длина некоторых текстов достигает 6638 знаков, а минамальная длина равна двум знакам. Таким образом, 25% данных короче 110 символов. Посмотрим на примеры текстов и оценим несут ли они в себе полезную информацию."
   ]
  },
  {
   "cell_type": "code",
   "execution_count": 18,
   "id": "61071155",
   "metadata": {},
   "outputs": [
    {
     "data": {
      "text/plain": [
       "91                    'оп и я тут тоже 😄\n",
       "98           'Очень близок такой подход.\n",
       "187                            'Хорошее)\n",
       "209                      'Лучший способ!\n",
       "210           'Будет что-нибудь сегодня?\n",
       "                      ...               \n",
       "11108    Умное производство — это круто.\n",
       "11109                      Вперед, Илон!\n",
       "11111        Дизайн базы данных DataCamp\n",
       "11140                      Хорошая схема\n",
       "11145                           DataCamp\n",
       "Name: translated_text, Length: 780, dtype: object"
      ]
     },
     "execution_count": 18,
     "metadata": {},
     "output_type": "execute_result"
    }
   ],
   "source": [
    "# Тексты короче 30 символов\n",
    "df.loc[df['len_text'] < 30, 'translated_text']"
   ]
  },
  {
   "cell_type": "code",
   "execution_count": 19,
   "id": "0023e809",
   "metadata": {},
   "outputs": [
    {
     "data": {
      "text/plain": [
       "0        ['Приложение которое из голоса раскидывает зад...\n",
       "3         'Кто хорошо потрудился на этой неделе, тот я....\n",
       "5         '🔥Вот и приложение под iOS🔥 Очень ждал тк в м...\n",
       "19                'Черканула о постановке карьерных целей.\n",
       "29        'Пока мы на каникулах немного развлекательног...\n",
       "                               ...                        \n",
       "11133    Том Торн #нанимает. Знаете кого-нибудь, кому э...\n",
       "11136    Посмотрите мое проверенное достижение от The L...\n",
       "11140                                        Хорошая схема\n",
       "11143         Обобщенные линейные модели DataCamp в Python\n",
       "11145                                             DataCamp\n",
       "Name: translated_text, Length: 2506, dtype: object"
      ]
     },
     "execution_count": 19,
     "metadata": {},
     "output_type": "execute_result"
    }
   ],
   "source": [
    "# Тексты короче 100 символов\n",
    "df.loc[df['len_text'] < 100, 'translated_text']"
   ]
  },
  {
   "cell_type": "markdown",
   "id": "d8059bd5",
   "metadata": {},
   "source": [
    "Удалим тексты короче 100 символов. Предполагаем, что это как правило текст, который не несет нужной нас информации - это может быть подпись к картинке или видео, набор хэштэгов и пр."
   ]
  },
  {
   "cell_type": "code",
   "execution_count": 191,
   "id": "baf9a030",
   "metadata": {},
   "outputs": [],
   "source": [
    "# Удалим наблюдения с текстами менее 100 символов\n",
    "df_len_text_100 = df.loc[df['len_text'] > 100]"
   ]
  },
  {
   "cell_type": "markdown",
   "id": "ce4b5e86-5aa5-4039-97a2-712163d9b03a",
   "metadata": {},
   "source": [
    "\n",
    "<div class=\"alert alert-success\">\n",
    "<b>Комментарий ревьюера ✔️:</b> Обоснованно 👍</div>\n"
   ]
  },
  {
   "cell_type": "code",
   "execution_count": 192,
   "id": "e096374a",
   "metadata": {},
   "outputs": [
    {
     "data": {
      "text/plain": [
       "8413"
      ]
     },
     "execution_count": 192,
     "metadata": {},
     "output_type": "execute_result"
    }
   ],
   "source": [
    "# Количество наблюдений\n",
    "len(df_len_text_100)"
   ]
  },
  {
   "cell_type": "markdown",
   "id": "b271cb4f",
   "metadata": {},
   "source": [
    "По завершению анализа исходных данных можно заключить:\n",
    "   - размер датасета для анализа составляет **10935** строк на **4** столбцов. Представлены ссылки на профили пользователей, их имена, место работы, тексты публикаций и реакции на публикации;\n",
    "   - пропусков в данных нет, но есть дубликаты;\n",
    "   - текстах видны смайлы, хэштэги, служебные символы, слова и абревиатуры на английском, ссылки; \n",
    "   - тексты написаны на разных языках, количестов постов не на русском и не на английском языках - **850**;\n",
    "   - выявлено, что **2506** текстов из **10935** \"короткие\" - т.е. их длина менее 100 символов. Из них 865 текстов короче 30 символов. Что составляет 23% и 8% от исходных данных.\n",
    "   - максимальныя длина текста - 6638 символов.\n",
    "   \n",
    "   \n",
    "На следующем этапе будут использоваться данные, где размерность текстов в постах составляет более 100 символов. Кроме того, тексты будут очищены от символов, смайлов и стоп-слов. "
   ]
  },
  {
   "cell_type": "markdown",
   "id": "76432f6d-eacd-41df-96bf-59843f2c1b1f",
   "metadata": {},
   "source": [
    "\n",
    "<div class=\"alert alert-warning\">\n",
    "<b>Комментарий ревьюера ⚠️:</b> \n",
    "\n",
    "Здесь немного непонятно откуда про имена, место работы и реакции на публикации. В представленном датасете этого нет. Если есть в исходниках – про это надо написать, где они , как обработаны и как получилось то что есть.\n",
    "\n",
    "Ячейкой выше итоговый размер датасета 8413, а в тексте 10935 и даже выделено жирным шрифтом. Нарушена логическая последовательность – тогда уж удаление надо перенести ниже после этого вывода. Или выводы немного поправить. \n",
    "\n",
    "\n",
    "</div>\n",
    "\n",
    "<div class=\"alert alert-success\">\n",
    "<b>Комментарий ревьюера ✔️:</b> \n",
    "\n",
    "В целом хорошо, представлены разные аспекты данных, прокомментирован ход работы, раздел легко читается и действия понятны.\n",
    "\n",
    "Есть некоторые замечания по описаниям и по коду, но они некритичные и надеюсь помогут улучшить работу 🤗\n",
    "</div>\n"
   ]
  },
  {
   "cell_type": "markdown",
   "id": "0bbea17c",
   "metadata": {},
   "source": [
    "## Подготовка текстов"
   ]
  },
  {
   "cell_type": "markdown",
   "id": "f0b9becc",
   "metadata": {},
   "source": [
    "Далее проведем подготовку текстов: проведем лемматизацию и токенизацию текстов, а также очистим от \"мусорных\" символов."
   ]
  },
  {
   "cell_type": "code",
   "execution_count": 193,
   "id": "db3a0ff7",
   "metadata": {},
   "outputs": [],
   "source": [
    "# определим модель spacy\n",
    "model = spacy.load('ru_core_news_sm', disable=['ner', 'parser'])"
   ]
  },
  {
   "cell_type": "code",
   "execution_count": 194,
   "id": "5cadb5bf",
   "metadata": {},
   "outputs": [],
   "source": [
    "# Складываем все тексты в один список\n",
    "texts = df_len_text_100[\"translated_text\"].tolist()"
   ]
  },
  {
   "cell_type": "code",
   "execution_count": 195,
   "id": "5e43a315",
   "metadata": {},
   "outputs": [],
   "source": [
    "# Лемматизация текста для текстов, длиннее 100 символов\n",
    "res = []\n",
    "for doc in model.pipe(texts, disable=[\"tagger\", \"parser\"]):\n",
    "    try:\n",
    "        res.append([token.lemma_ for token in doc])\n",
    "    except:\n",
    "        print(doc)"
   ]
  },
  {
   "cell_type": "markdown",
   "id": "f52f71fe-3851-4120-a057-a659686ee9c8",
   "metadata": {},
   "source": [
    "\n",
    "<div class=\"alert alert-success\">\n",
    "<b>Комментарий ревьюера ✔️:</b>\n",
    "\n",
    "Отлично – использование встроенного `nlp.pipe` 👍</div>\n"
   ]
  },
  {
   "cell_type": "code",
   "execution_count": 206,
   "id": "4f1a6819",
   "metadata": {},
   "outputs": [],
   "source": [
    "# Сохраним результат лемматизации\n",
    "with open(\"lemmas_100.json\", \"w\") as fid:\n",
    "    json.dump({\"lemmas\": res}, fid)"
   ]
  },
  {
   "cell_type": "code",
   "execution_count": 207,
   "id": "22513001",
   "metadata": {},
   "outputs": [
    {
     "name": "stdout",
     "output_type": "stream",
     "text": [
      "в, израиль, создать, летать, робот, для, сбор, фруктовкаждый, дрон, оснастить, мягкий, захват, ., дрон, способный, анализировать, и, проверять, ,, где, находиться, фрукт, и, какой, он, качество, .\n",
      "\n",
      "я, должный, признаться, ,, что, полагаться, исключительно, на, wrike, как, на, система, управление, проект, для, весь, рабочий, процесс, в, royalkusto, ., Хотя, быть, несколько, причина, не, делать, это, ,, например, медленный, и, тяжёлый, настольный, приложение, ,, невзрачный, мобильный, приложение, и, высокий, стоимость, по, сравнение, с, аналогичный, продукт, ,, я, продолжать, использовать, wrike, и, считать, себя, евангелист, этот, платформа, ., я, пробовать, другие, система, ,, такой, как, trello, ,, asana, и, notion, ,, но, ни, одна, из, них, не, подходила, мне, как, руководитель, отдел, маркетинг, ,, творчество, ,, дизайн, и, производство, ., впервые, я, начать, использовать, wrike, в, 2014,  , год, и, до, сей, пора, находить, новый, применение, этот, инструмент, для, решение, свой, задача, ,, бизнес, -, планирования, и, обработка, ., например, ,, у, меня, смешанный, система, оплата, труд, ,, где, один, сотрудник, иметь, почасовой, ставка, ,, а, другие, иметь, фиксированный, стоимость, в, месяц, ., однако, весь, они, отслеживать, свой, время, в, система, ,, и, я, мочь, легко, увидеть, ,, где, мы, потратить, больше, всего, ресурс, ,, и, сравнить, это, с, наш, доход, на, одной, панель, инструмент, ., Хотя, у, wrike, нет, пользовательский, панель, инструмент, ,, я, создать, ее, в, datastudio, ,, подключить, googleapp, ., скрипт, и, wrike, api, (, смотреть, на, скриншот, ), ., такой, образ, ,, теперь, я, мочь, рассчитать, ценность, каждый, клиент, ,, проект, или, даже, час, ,, потратить, конкретный, сотрудник, ., мой, цель, состоять, не, в, том, ,, чтобы, иметь, обширный, стек, профессиональный, разработчик, ,, а, в, том, ,, чтобы, иметь, автоматизированный, функция, ,, которые, приносить, польза, мой, бизнес, и, достаточно, эффективный, ,, чтобы, работать, только, с, одним, бухгалтер, ,, работать, неполный, рабочий, день, ., хотеть, сказать, спасибо, весь, команда, wrike, ), давать, не, отставать, ), родион, насакин, ,, екатерина, сыромятникова, ,, анна, гурин, ,, кристофер, сантос, ,, mba, https://lnkd.in/epxju7yn, #, дизайн, #, бизнес, #, команда, #, работа, #, креатив, #, проект, #, управлениепроектом, #, бухгалтер, #, планирование, #, маркетинг\n",
      "\n",
      "в, какой, -, то, момент, по, разный, причина, нам, прийтись, отказаться, от, облако, и, настроить, локальный, кластер, kubernetes, в, некоторый, проект, ., Несомненно, ,, это, быть, болезненный, процесс, ,, который, принести, нам, множество, проблема, ., тем, не, менее, ,, это, также, дать, нам, бесценный, опыт, и, знание, технология, ., это, относиться, не, только, к, администрирование, ,, но, и, к, правильный, и, эффективный, использование, kubernetes, в, средах, с, ограниченный, ресурс, ., в, последний, время, я, наблюдать, в, некоторый, других, компания, ,, что, по, мера, рост, использование, ими, облачный, ресурс, весь, инфраструктура, терять, порядок, и, организация, ., в, конец, конец, ,, вы, приобрести, дополнительный, мощность, ,, которые, вам, на, самом, дело, мочь, не, понадобиться, ., я, собрать, несколько, мысль, ,, как, упростить, себя, жизнь, и, эффективно, организовать, работа, с, облаком, :, 1, ., приоритизируйте, оптимизация, ресурс, :, регулярно, анализировать, использование, ресурс, и, определять, область, ,, в, которых, мочь, быть, достигнуть, оптимизация, ., это, включать, в, себя, правильный, размер, экземпляр, ,, устранение, простаивать, ресурс, и, оптимизация, использование, хранилище, ., такой, образ, ,, вы, мочь, свести, к, минимум, ненужный, расход, и, обеспечить, эффективный, распределение, ресурсов.2, ., реализовать, ограничение, ресурс, :, kubernetes, предлагать, возможность, назначать, ограничение, ресурс, для, ваш, контейнер, ,, что, помогать, предотвратить, исчерпание, ресурс, и, обеспечивать, стабильный, производительность, ., кроме, того, ,, устанавливать, лимит, ресурс, ,, вы, давать, свой, команда, возможность, работать, более, эффективно, и, эффективно, решать, проблемы.3, ., использовать, автоматический, масштабирование, ., внедрить, механизм, автоматический, масштабирование, для, динамический, настройка, ёмкость, ресурс, в, зависимость, от, требование, рабочий, нагрузка, ., это, позволять, автоматически, увеличивать, или, уменьшать, масштаб, ,, обеспечивать, оптимальный, производительность, без, перерасход, ресурс, в, период, низкий, загрузки.4, ., внедрить, метод, управление, затрата, :, использовать, инструмент, и, метод, управление, затрата, для, отслеживание, и, анализ, ваш, расход, на, облако, ., установить, бюджет, ,, установить, теги, распределение, затрата, и, регулярно, просматривать, свой, схема, расход, ,, чтобы, определить, область, для, оптимизация, затрата, ., использовать, пространство, имя, и, метка, ., воспользуйтесь, преимущество, пространство, имя, ,, чтобы, разделить, кластер, kubernetes, на, виртуальный, группа, ,, каждый, из, которых, иметь, собственный, набор, ресурс, и, право, доступ, ., это, позволять, эффективно, управлять, несколько, приложение, или, группа, в, одном, кластере.6, ., мониторинг, и, оптимизация, производительность, ., внедрить, надёжный, метод, мониторинг, и, оптимизация, производительность, ., использовать, инструмент, мониторинг, для, отслеживание, производительность, система, ,, выявление, узкий, место, и, принятие, обоснованный, решение, для, оптимизация, распределение, ресурс, и, производительность, приложение, ., внедрять, этот, метод, ,, вы, мочь, упростить, управление, облаком, ,, оптимизировать, использование, ресурс, и, обеспечить, экономический, эффективность, ,, эффективно, использовать, преимущество, облако, ., технологии.#kubernetes, #, docker, #, cloud, #, management, #, infrastructure\n",
      "\n",
      "всем, привет, !, находиться, в, поиск, работа, ux, /, ui, дизайнер, ., познакомиться, со, мной, можно, тут, :, https://lnkd.in/egU8eb82Связаться, со, мной, можно, в, телеграмма, :, @Alex799Если, коротко:1, ., подтянуться, в, знание, и, опыт, о, котором, делиться, в, cv;2, ., сменить, тильда, на, wp, ,, в, дальнейшему, возможно, перейти, на, react, ), ), он, куда, функциональный, и, быстрей.3, ., проектировать, pet, -, проект, ,, на, добровольный, началах)4, ., поучаствовать, в, хакатоне, от, яндекс.#ux, #, ui, #, cv, #, work\n",
      "\n",
      "около, месяц, назад, россия, начать, военный, вторжение, в, украина, ., с, тот, пора, мы, весь, переживать, тяжёлый, и, глубокий, событие, в, наш, история, ., они, атаковать, наш, ценность, и, решение, быть, часть, цивилизованный, и, демократический, мир, ., украина, превращаться, в, мощный, ит, -, хаб, ,, который, служить, ключевой, опора, украинской, экономика, ., в, этот, непростой, день, ,, как, известный, ,, уже, четыре, неделя, идти, российско, -, украинская, война, ,, гораздо, важный, всячески, поддерживать, наш, страна, ., итак, ,, \", мы, являться, часть, экономический, фронт, \", ., премьер, -, министр, украина, призвать, возобновить, деятельность, тот, ,, у, кто, быть, бизнес, в, район, ,, где, не, вестись, активный, боевой, действие, ,, поэтому, ,, по, он, мнение, ,, \", ключевой, фундамент, победа, должный, стать, построение, экономика, под, новый, реалия, \", ., запад, украина, ,, г., львов, -, продолжать, работать, на, полный, ставка, ., продолжать, работать, над, существующий, проект, и, активно, работать, над, новый, ., в, это, непростой, время, мы, понимать, ,, насколько, важный, работа, для, совместный, победа, ,, и, когда, наш, услуга, не, затрагиваются, ,, мы, продолжать, предоставлять, высококачественный, решение, .,  , помимо, наш, обычный, работа, ,, мы, также, заниматься, волонтерством, ,, помогать, беженец, ,, работать, в, кибервойсках, и, принимать, участие, в, пожертвование, для, наш, украинской, армия, ., мы, получить, масса, письмо, с, поддержка, от, весь, вас, .мы, знать, ,, что, большинство, из, вас, пожертвовать, наш, армия, ,, большинство, из, вас, предложить, нам, свой, дом, для, переезд, ,, многие, помогать, с, гуманитарный, помощь, -, мы, очень, ценить, ваш, поддержка, и, очень, благодарный, за, ваш, помощь, ., несколько, раз, просить, указать, надёжный, фонд, для, пожертвование, ,, поэтому, мы, решить, поделиться, со, весь, вами, пара, тот, ,, кто, мы, доверять, :, https://lnkd.in/dmbdga4q, ., вы, мочь, помочь, ,, если, приостановить, продажа, или, другую, деятельность, ,, ссылаться, на, россия, ., наш, президент, г-н, зеленский, сказать, :, \", весь, дело, с, россия, должный, быть, остановить, ., весь, сделка, ., поэтому, они, не, мочь, спонсировать, убийство, ., наш, убийство, ,, наш, ребёнок, ., чтобы, доллар, и, евро, не, платить, за, кровь, \", ., покупка, продукция, страна, -, агрессора, —, это, спонсорство, война, ., распространение, проверенной, информация, о, российский, вторжение, среди, свой, друг, ,, беспутный, коллега, ,, партнёр, по, бизнес, —, ещё, один, важный, способ, поддержать, украина, в, информационный, война, ., не, верить, российский, фейк, и, быть, ясный, ., мы, принимать, мера, для, обеспечение, личный, безопасность, наш, сотрудник, ,, пожелать, переехать, ., наш, главный, приоритет, являться, то, ,, что, мы, находиться, в, безопасный, место, и, мочь, позаботиться, о, себя, и, свой, семья, ., если, вы, хотеть, следить, за, новость, в, украина, ,, вы, мочь, следить, за, новость, на, официальный, ресурс, :, https://lnkd.in/ehveb5xbдля, желать, помочь, украина, гуманитарная, помощь, https://help.gov.ua/ru, ., мы, чувствовать, поддержка, от, весь, вас, ,, со, весь, мир, !, спасибо, большой, ,, это, быть, наш, общий, победа, !, ещё, раз, спасибо, от, команда, бо, и, весь, украинец, !, слава, украины!#helpukraine, #, военный, #, glorytoukraine, #, warinukraine\n",
      "\n"
     ]
    }
   ],
   "source": [
    "# Смотрим на результат - случайным образом сэмплируем несколько примеров\n",
    "for i in range(5):\n",
    "    print(\", \".join(res[np.random.randint(len(res))]))\n",
    "    print()"
   ]
  },
  {
   "cell_type": "markdown",
   "id": "bfb555d0-873a-49f4-ab80-80e3fa630812",
   "metadata": {},
   "source": [
    "<div class=\"alert alert-success\">\n",
    "<b>Комментарий ревьюера ✔️:</b>\n",
    "\n",
    "И опять подсказка, как выбрать случайные образцы 😉\n",
    "\n",
    "Со списками можно использовать [numpy.random.choice](https://numpy.org/doc/stable/reference/random/generated/numpy.random.choice.html) – и одной строчкой кода получить нужное количество примеров.\n",
    "</div>\n"
   ]
  },
  {
   "cell_type": "markdown",
   "id": "ca856112",
   "metadata": {},
   "source": [
    "Удалим знаки препинания, цифры и слова, содержащие цифры. А также иностранные слова, которые не перевелись. Для это соберём регулярное выражение, которое подходит для любого слова, состоящего из букв кирилицы."
   ]
  },
  {
   "cell_type": "code",
   "execution_count": 208,
   "id": "0cd293d6-12be-4c2e-96c1-4ba76906934d",
   "metadata": {},
   "outputs": [],
   "source": [
    "# определим регулярное выражение\n",
    "word_pattern = re.compile(\"^[а-я]*$\")"
   ]
  },
  {
   "cell_type": "code",
   "execution_count": 209,
   "id": "66e11ab8-6c25-49ad-8509-7aa4257cc7f6",
   "metadata": {},
   "outputs": [],
   "source": [
    "# определим функцию для очистки текста\n",
    "def remove_symbols(doc):\n",
    "    return [token for token in doc if word_pattern.match(token)]"
   ]
  },
  {
   "cell_type": "code",
   "execution_count": 210,
   "id": "f3af2747-80f6-45f5-9afe-ab35e40118d4",
   "metadata": {},
   "outputs": [],
   "source": [
    "# очистим текст\n",
    "corpus = list(map(remove_symbols, res))"
   ]
  },
  {
   "cell_type": "markdown",
   "id": "17602835-0254-4f59-b186-b012916f320c",
   "metadata": {},
   "source": [
    "<div class=\"alert alert-success\">\n",
    "<b>Комментарий ревьюера ✔️:</b> \n",
    "\n",
    "Здорово, что умеешь использовать регулярные выражения!\n",
    "\n",
    "Кстати, для фильтрации в spacy можно использовать атрибуты токенов https://spacy.io/api/token#attributes и добавить проверку сразу на этапе лемматизации 🙃\n",
    "</div>\n",
    "\n",
    "<div class=\"alert alert-warning\">\n",
    "<b>Комментарий ревьюера ⚠️:</b> \n",
    "\n",
    "В регулярных выражениях для кириллицы надо «ё» добавлять, этот символ не по порядку расположен в кодировке 🧐\n",
    "\n",
    "</div>\n"
   ]
  },
  {
   "cell_type": "code",
   "execution_count": 211,
   "id": "5e269462",
   "metadata": {},
   "outputs": [
    {
     "data": {
      "text/plain": [
       "14"
      ]
     },
     "execution_count": 211,
     "metadata": {},
     "output_type": "execute_result"
    }
   ],
   "source": [
    "# Определим как часто встречаются к корпусе пустые списки (удалены все слова)\n",
    "corpus_empty = [li for li in corpus if len(li) < 1]\n",
    "len(corpus_empty)"
   ]
  },
  {
   "cell_type": "code",
   "execution_count": 212,
   "id": "a99c6244-7b6d-4782-a5c0-6615e269a4ff",
   "metadata": {},
   "outputs": [
    {
     "name": "stdout",
     "output_type": "stream",
     "text": [
      "интересный, вакансия, в, саратов, да, мы, расти, да, у, нас, иностранный, проект, да, саратовский, филиал, стать, целевой, для, формирование, команда, разработка, на, европейский, проект, вэлкам\n",
      "\n",
      "модернизация, развиваться, полный, ход, в, обрабатывать, промышленность, поскольку, конкуренция, в, этот, сектор, минимальный, каждый, способ, сэкономить, операционный, расход, очень, ценный, поэтому, следовать, использовать, его, с, ум, представитель, компания, производителей, должный, приложить, огромный, усилие, для, улучшение, свой, производственный, линия, чтобы, оптимизировать, они, производство, и, снижение, затрата, любой, время, простой, приносить, больший, убыток, для, завод, поэтому, производитель, учитывать, больший, компонент, они, совместимость, и, множество, промежуточный, фактор, обработка\n",
      "\n",
      "онлайн, посещения, завод, в, прямой, эфир, это, новый, круто, я, помнить, как, однажды, мой, эксперт, по, аудит, сказать, мне, что, хороший, и, творческий, время, которое, у, нее, было, с, запрос, клиент, это, экономический, кризис, предприятие, хотеть, выжить, и, сделать, для, это, все, возможный, такой, же, чувство, было, у, меня, на, прошлый, неделя, когда, нам, нужный, было, перевести, наш, офлайн, мероприятие, с, заказчик, в, онлайн, формат, я, какой, тот, время, убеждать, клиент, получить, уникальный, возможность, когда, руководство, согласиться, провести, мероприятие, на, завод, и, открыть, дверь, не, только, для, каждый, инновационный, оборудование, которое, они, использовать, но, и, поделиться, экономический, технический, и, производственный, идея, с, пригласить, гость, мы, тщательно, отбирать, неконкурентный, участник, пока, местный, правительство, не, объявить, о, закрытие, нас, отдел, продажа, и, дистрибьютор, просто, перейти, в, онлайн, режим, новый, норма, но, вы, представлять, что, это, значить, дать, возможность, представить, весь, деталь, не, лично, а, онлайн, в, ограниченный, период, время, для, главный, сварщик, в, обязанность, которого, входить, присутствие, на, место, и, например, для, технический, директор, который, знать, каждый, уголок, на, этот, завод, более, год, ну, что, я, мочь, сказать, сейчас, после, несколько, онлайн, посещений, фабрик, с, консервативный, производитель, которые, не, привыкнуть, к, онлайн, у, меня, быть, подробный, сценарий, мероприятие, для, такой, онлайн, посещений, завод, чтобы, масштабировать, его, с, любой, потенциальный, клиент, не, требоваться, дорогой, онлайн, площадки, и, ивент, директор, как, это, было, год, назад, каждый, компания, мочь, это, сделать, сейчас, мы, просто, использовать, вебинар, и, у, меня, быть, подробный, сценарий, с, поток, и, ответственный, роль, команда, поддержка, как, у, профессиональный, организатор, мероприятие, планирование, повестка, день, и, минимум, полноценный, репетиция, являться, обязательный, для, заводский, человек, я, не, шутить, репетиция, пробный, прогон, и, раз, так, как, мочь, возникнуть, проблема, даже, с, демонстрация, экран, рассказать, сотрудник, завод, о, презентациях, поскольку, ранний, они, разговаривать, лично, а, не, размещать, фотография, в, интернет, и, они, должный, подготовить, письменный, речь, потому, что, они, быть, ограничить, в, время, по, сравнение, с, личный, встречами, всегда, сжимать, любой, видео, для, показ, необходима, видео, акцентирование, внимание, на, деталь, чтобы, создать, ощущение, что, на, завод, можно, увидеть, все, свой, глаз, а, не, только, обзорный, видео, внутренний, связь, с, команда, организатор, и, спикер, мочь, осуществляться, например, через, дискорд, у, них, быть, возможность, использовать, режим, рация, а, у, спикер, мочь, быть, только, наушник, в, ухо, для, прослушивание, или, группа, мессенджер, с, телефон, на, беззвучный, но, видимый, сообщение, на, экран, и, надо, признать, что, интерес, со, сторона, участник, расти, и, к, онлайн, возможностям, и, расти, доверие, к, тому, что, показывать, такой, образ, мне, удаться, получить, в, раз, больше, посетитель, по, сравнение, с, прошлый, год, какой, совет, вы, мочь, дать, для, проведение, онлайн, мероприятие, с, ваш, клиент\n",
      "\n",
      "что, делать, если, вы, маленький, команда, из, человек, которая, делать, интересный, решение, в, корпоративный, сектор, но, у, вас, проблема, со, срок, качество, продукт, а, на, ручной, тестирование, совсем, нет, с, такой, проблема, столкнуться, мой, старый, знакомые, которым, я, помочь, сэкономить, на, том, чтобы, не, нанимать, отряд, ручной, тестировщиков, при, это, повысить, качество, продукт, и, клиент, в, статья, на, хабре, я, постараться, проанализировать, проблема, описать, решение, которое, они, пробовать, и, рассказать, о, решение, которое, им\n",
      "\n",
      "считать, что, это, классный, практика, делиться, свой, учебный, проект, и, интересоваться, мнение, опытный, коллега, молодец, что\n",
      "\n"
     ]
    }
   ],
   "source": [
    "# Смотрим на результат - случайным образом сэмплируем несколько примеров\n",
    "for i in range(5):\n",
    "    print(\", \".join(corpus[np.random.randint(len(corpus))]))\n",
    "    print()"
   ]
  },
  {
   "cell_type": "markdown",
   "id": "2300998a",
   "metadata": {},
   "source": [
    "Далее выведем облако слов для полученных лемм."
   ]
  },
  {
   "cell_type": "code",
   "execution_count": 213,
   "id": "aab8ee73",
   "metadata": {},
   "outputs": [],
   "source": [
    "# Зададим собственный список стоп-слов\n",
    "stop_words_custom = ['это', 'наш', 'ваш', 'весь', 'это', 'наш', 'лс', 'свой', 'весь', 'год', 'якщо', 'дуже', 'ви', \n",
    "                     'але', 'роботи', 'буде', 'це', 'ми', 'як', 'що', 'хто', 'чи', 'цей', 'зараз', 'хто', 'чи', 'цей', 'час',\n",
    "                    'мария', 'эй']"
   ]
  },
  {
   "cell_type": "code",
   "execution_count": 214,
   "id": "c64e8a9f",
   "metadata": {},
   "outputs": [],
   "source": [
    "# Дополнительные стоп-слова для руссковго языка\n",
    "stop_words_additional = [\"c\",\"а\",\"алло\",\"без\",\"белый\",\"близко\",\"более\",\"больше\",\"большой\",\"будем\",\"будет\",\"будете\",\"будешь\",\n",
    "                         \"будто\",\"буду\",\"будут\",\"будь\",\"бы\",\"бывает\",\"бывь\",\"был\",\"была\",\"были\",\"было\",\"быть\",\"в\",\"важная\",\n",
    "                         \"важное\",\"важные\",\"важный\",\"вам\",\"вами\",\"вас\",\"ваш\",\"ваша\",\"ваше\",\"ваши\",\"вверх\",\"вдали\",\"вдруг\",\n",
    "                         \"ведь\",\"везде\",\"вернуться\",\"весь\",\"вечер\",\"взгляд\",\"взять\",\"вид\",\"видел\",\"видеть\",\"вместе\",\"вне\",\n",
    "                         \"вниз\",\"внизу\",\"во\",\"вода\",\"война\",\"вокруг\",\"вон\",\"вообще\",\"вопрос\",\"восемнадцатый\",\"восемнадцать\",\n",
    "                         \"восемь\",\"восьмой\",\"вот\",\"впрочем\",\"времени\",\"время\",\"все\",\"все еще\",\"всегда\",\"всего\",\"всем\",\"всеми\",\n",
    "                         \"всему\",\"всех\",\"всею\",\"всю\",\"всюду\",\"вся\",\"всё\",\"второй\",\"вы\",\"выйти\",\"г\",\"где\",\"главный\",\"глаз\",\n",
    "                         \"говорил\",\"говорит\",\"говорить\",\"год\",\"года\",\"году\",\"голова\",\"голос\",\"город\",\"да\",\"давать\",\"давно\",\n",
    "                         \"даже\",\"далекий\",\"далеко\",\"дальше\",\"даром\",\"дать\",\"два\",\"двадцатый\",\"двадцать\",\"две\",\"двенадцатый\",\n",
    "                         \"двенадцать\",\"дверь\",\"двух\",\"девятнадцатый\",\"девятнадцать\",\"девятый\",\"девять\",\"действительно\",\"дел\",\n",
    "                         \"делал\",\"делать\",\"делаю\",\"дело\",\"день\",\"деньги\",\"десятый\",\"десять\",\"для\",\"до\",\"довольно\",\"долго\",\n",
    "                         \"должен\",\"должно\",\"должный\",\"дом\",\"дорога\",\"друг\",\"другая\",\"другие\",\"других\",\"друго\",\"другое\",\n",
    "                         \"другой\",\"думать\",\"душа\",\"е\",\"его\",\"ее\",\"ей\",\"ему\",\"если\",\"есть\",\"еще\",\"ещё\",\"ею\",\"её\",\"ж\",\"ждать\",\n",
    "                         \"же\",\"жена\",\"женщина\",\"жизнь\",\"жить\",\"за\",\"занят\",\"занята\",\"занято\",\"заняты\",\"затем\",\"зато\",\"зачем\",\n",
    "                         \"здесь\",\"земля\",\"знать\",\"значит\",\"значить\",\"и\",\"иди\",\"идти\",\"из\",\"или\",\"им\",\"имеет\",\"имел\",\"именно\",\n",
    "                         \"иметь\",\"ими\",\"имя\",\"иногда\",\"их\",\"к\",\"каждая\",\"каждое\",\"каждые\",\"каждый\",\"кажется\",\"казаться\",\"как\",\n",
    "                         \"какая\",\"какой\",\"кем\",\"книга\",\"когда\",\"кого\",\"ком\",\"комната\",\"кому\",\"конец\",\"конечно\",\"которая\",\n",
    "                         \"которого\",\"которой\",\"которые\",\"который\",\"которых\",\"кроме\",\"кругом\",\"кто\",\"куда\",\"лежать\",\"лет\",\"ли\",\n",
    "                         \"лицо\",\"лишь\",\"лучше\",\"любить\",\"люди\",\"м\",\"маленький\",\"мало\",\"мать\",\"машина\",\"между\",\"меля\",\"менее\",\n",
    "                         \"меньше\",\"меня\",\"место\",\"миллионов\",\"мимо\",\"минута\",\"мир\",\"мира\",\"мне\",\"много\",\"многочисленная\",\n",
    "                         \"многочисленное\",\"многочисленные\",\"многочисленный\",\"мной\",\"мною\",\"мог\",\"могу\",\"могут\",\"мож\",\"может\",\n",
    "                         \"может быть\",\"можно\",\"можхо\",\"мои\",\"мой\",\"мор\",\"москва\",\"мочь\",\"моя\",\"моё\",\"мы\",\"на\",\"наверху\",\"над\",\n",
    "                         \"надо\",\"назад\",\"наиболее\",\"найти\",\"наконец\",\"нам\",\"нами\",\"народ\",\"нас\",\"начала\",\"начать\",\"наш\",\"наша\",\n",
    "                         \"наше\",\"наши\",\"не\",\"него\",\"недавно\",\"недалеко\",\"нее\",\"ней\",\"некоторый\",\"нельзя\",\"нем\",\"немного\",\n",
    "                         \"нему\",\"непрерывно\",\"нередко\",\"несколько\",\"нет\",\"нею\",\"неё\",\"ни\",\"нибудь\",\"ниже\",\"низко\",\"никакой\",\n",
    "                         \"никогда\",\"никто\",\"никуда\",\"ним\",\"ними\",\"них\",\"ничего\",\"ничто\",\"но\",\"новый\",\"нога\",\"ночь\",\"ну\",\n",
    "                         \"нужно\",\"нужный\",\"нх\",\"о\",\"об\",\"оба\",\"обычно\",\"один\",\"одиннадцатый\",\"одиннадцать\",\"однажды\",\n",
    "                         \"однако\",\"одного\",\"одной\",\"оказаться\",\"окно\",\"около\",\"он\",\"она\",\"они\",\"оно\",\"опять\",\"особенно\",\n",
    "                         \"остаться\",\"от\",\"ответить\",\"отец\",\"откуда\",\"отовсюду\",\"отсюда\",\"очень\",\"первый\",\"перед\",\"писать\",\n",
    "                         \"плечо\",\"по\",\"под\",\"подойди\",\"подумать\",\"пожалуйста\",\"позже\",\"пойти\",\"пока\",\"пол\",\"получить\",\n",
    "                         \"помнить\",\"понимать\",\"понять\",\"пор\",\"пора\",\"после\",\"последний\",\"посмотреть\",\"посреди\",\"потом\",\n",
    "                         \"потому\",\"почему\",\"почти\",\"правда\",\"прекрасно\",\"при\",\"про\",\"просто\",\"против\",\"процентов\",\"путь\",\n",
    "                         \"пятнадцатый\",\"пятнадцать\",\"пятый\",\"пять\",\"работа\",\"работать\",\"раз\",\"разве\",\"рано\",\"раньше\",\n",
    "                         \"ребенок\",\"решить\",\"россия\",\"рука\",\"русский\",\"ряд\",\"рядом\",\"с\",\"с кем\",\"сам\",\"сама\",\"сами\",\"самим\",\n",
    "                         \"самими\",\"самих\",\"само\",\"самого\",\"самой\",\"самом\",\"самому\",\"саму\",\"самый\",\"свет\",\"свое\",\"своего\",\n",
    "                         \"своей\",\"свои\",\"своих\",\"свой\",\"свою\",\"сделать\",\"сеаой\",\"себе\",\"себя\",\"сегодня\",\"седьмой\",\"сейчас\",\n",
    "                         \"семнадцатый\",\"семнадцать\",\"семь\",\"сидеть\",\"сила\",\"сих\",\"сказал\",\"сказала\",\"сказать\",\"сколько\",\n",
    "                         \"слишком\",\"слово\",\"случай\",\"смотреть\",\"сначала\",\"снова\",\"со\",\"собой\",\"собою\",\"советский\",\"совсем\",\n",
    "                         \"спасибо\",\"спросить\",\"сразу\",\"стал\",\"старый\",\"стать\",\"стол\",\"сторона\",\"стоять\",\"страна\",\"суть\",\n",
    "                         \"считать\",\"т\",\"та\",\"так\",\"такая\",\"также\",\"таки\",\"такие\",\"такое\",\"такой\",\"там\",\"твои\",\"твой\",\"твоя\",\n",
    "                         \"твоё\",\"те\",\"тебе\",\"тебя\",\"тем\",\"теми\",\"теперь\",\"тех\",\"то\",\"тобой\",\"тобою\",\"товарищ\",\"тогда\",\"того\",\n",
    "                         \"тоже\",\"только\",\"том\",\"тому\",\"тот\",\"тою\",\"третий\",\"три\",\"тринадцатый\",\"тринадцать\",\"ту\",\"туда\",\"тут\",\n",
    "                         \"ты\",\"тысяч\",\"у\",\"увидеть\",\"уж\",\"уже\",\"улица\",\"уметь\",\"утро\",\"хороший\",\"хорошо\",\"хотел бы\",\"хотеть\",\n",
    "                         \"хоть\",\"хотя\",\"хочешь\",\"час\",\"часто\",\"часть\",\"чаще\",\"чего\",\"человек\",\"чем\",\"чему\",\"через\",\"четвертый\",\n",
    "                         \"четыре\",\"четырнадцатый\",\"четырнадцать\",\"что\",\"чтоб\",\"чтобы\",\"чуть\",\"шестнадцатый\",\"шестнадцать\",\n",
    "                         \"шестой\",\"шесть\",\"эта\",\"эти\",\"этим\",\"этими\",\"этих\",\"это\",\"этого\",\"этой\",\"этом\",\"этому\",\"этот\",\"эту\",\n",
    "                         \"я\",\"являюсь\", \"окоманюк\", \"леонардо\", \"силиконовый\", \"силиконовой\", \"чернобыль\", \"университетподать\",\n",
    "                        \"щелчки\", \"постю\", \"ури\", \"мрт\", \"труха\", \"вооружиться\", \"пот\", \"запорожье\", \"айзека\", \"питерский\", \n",
    "                         \"ледовый\", \"подбираю\", \"топор\", \"капать\", \"правильном\", \"фотосессия\"]"
   ]
  },
  {
   "cell_type": "code",
   "execution_count": 215,
   "id": "cbd92165",
   "metadata": {},
   "outputs": [],
   "source": [
    "# Объединим стоп-слова\n",
    "stop_words = stopwords.words('russian') + stop_words_custom + stop_words_additional"
   ]
  },
  {
   "cell_type": "markdown",
   "id": "2759fec9-a0c8-47f3-8310-38db042ec188",
   "metadata": {},
   "source": [
    "\n",
    "<div class=\"alert alert-success\">\n",
    "<b>Комментарий ревьюера ✔️:</b>\n",
    "\n",
    "Здорово, что ты умеешь работать с разными nlp модулями – и spacy, и nltk.\n",
    "\n",
    "Но в данном случае, возможно, стоит взять за основу список стоп-стоп spacy? Он изначально включает в пять раз больше слов, чем nltk, его также можно расширить при необходимости. И используя атрибут `token.is_stop` можно фильтрацию сделать на этапе лемматизации 🤔\n",
    "\n",
    "</div>\n"
   ]
  },
  {
   "cell_type": "code",
   "execution_count": 216,
   "id": "e9f6cd8b",
   "metadata": {},
   "outputs": [
    {
     "data": {
      "image/png": "[encoded data removed]",
      "text/plain": [
       "<Figure size 720x432 with 1 Axes>"
      ]
     },
     "metadata": {
      "needs_background": "light"
     },
     "output_type": "display_data"
    }
   ],
   "source": [
    "#преобразуем столбец корпус в строку со всеми словами\n",
    "\n",
    "list_corpus = []\n",
    "for i in corpus:\n",
    "    list_corpus.extend(i)\n",
    "    \n",
    "clean_corpus = list(set(list_corpus) - set(stop_words))\n",
    "\n",
    "text_clean = ' '.join(clean_corpus)\n",
    "\n",
    "#задаем параметры метода облака слов\n",
    "cloud = WordCloud(max_words=50).generate(text_clean)\n",
    "\n",
    "plt.figure(figsize=(10,6))\n",
    "plt.imshow(cloud)\n",
    "plt.axis('off')\n",
    "None"
   ]
  },
  {
   "cell_type": "markdown",
   "id": "9b29d055",
   "metadata": {},
   "source": [
    "Облако слов отобраджает самые популярные слова в представленных текстах. Таким образом, \"менторинг\" входит в топ 50."
   ]
  },
  {
   "cell_type": "markdown",
   "id": "5ac83dc6-16bc-4fc9-a482-bfadd181736e",
   "metadata": {},
   "source": [
    "\n",
    "<div class=\"alert alert-success\">\n",
    "<b>Комментарий ревьюера ✔️:</b> Красота! Особенно психбольница понравилась 😁 но из песни слово не выкинешь, все верно 👍</div>\n"
   ]
  },
  {
   "cell_type": "markdown",
   "id": "13fc9673",
   "metadata": {},
   "source": [
    "## Векторизация текстов"
   ]
  },
  {
   "cell_type": "markdown",
   "id": "6feac71b",
   "metadata": {},
   "source": [
    "Далее векторизируем полученный корпус. "
   ]
  },
  {
   "cell_type": "code",
   "execution_count": 217,
   "id": "585ed8d0",
   "metadata": {},
   "outputs": [],
   "source": [
    "# Посчитаем IDF всех наших слов, и отсечем слова с самым большим idf(очень редкие) и с самым маленьким\n",
    "tfidf = TfidfVectorizer(stop_words=stop_words, min_df=10, max_df=0.9)"
   ]
  },
  {
   "cell_type": "code",
   "execution_count": 218,
   "id": "b246b341",
   "metadata": {},
   "outputs": [
    {
     "data": {
      "text/plain": [
       "['почему основатель любой бизнес обязанный уметь продавать навык продажа десяток стартап проплывать у меня перед глаз каждый месяц кто то приходить за разовый совет кто то с просьба о долгосрочный сотрудничество каждый новый встреча для меня уникальный и я всегда с свой сторона стараться подготовиться посмотреть проект рынок конкурент каждый встреча ждать с нетерпение ждать потому что увидеть новый проект новый идея новый человек который хотеть изменить этот мир к хороший понимать что это нифига не просто и естественно я рассчитывать что этот человек продать мне свой идея ярко рассказать о свой проект команда о свой победа и конечно же трудность человек который уметь продавать видно с первый минута разговор я хотеть обратить внимание на то что именно продавать а не машинальный впаривать по ранее заготовить скрипт такой фаундеры выделяться среди других они запоминаться и сказать по секрет я наблюдать за многими из них даже если запрос фаундера не совпадать с мой компетенция и мы больше не встречаться наблюдать потому что мне интересный судьба основатель и они проект потому что в мне жить идея создавать инструмент которые помочь фаундерам развиваться быстрый но сейчас не обо мне а о навык фаундера продавать и вы знать я иметь что сказать по этот повод основатель которые хорошо продавать себя идея и продукт иметь больший преимущество перед другими например достаточно легко строить нетворк уметь быстро находить необходимый ресурс контакт инвестиция крутой сотрудник кофаундеров и также они хорошо уметь продать команда стратегия и тем самым мотивировать трудиться над проект эффективно навык продавать повышать шанс проект на выживание и на мой взгляд являться обязательный для любой основатель скажете я нанять сэйлза и он продать за меня а я сказать что так как основатель проект продать не смочь никто на ранний стадия когда нет ни явный портрет клиент ни упаковка нормальный и продукт мягко говорить сыроват да и как вы ему задача поставите если сами не знать как и кто хороший человек который несколько год назад ненавидеть продажа потом их начать изучать и полюбить мочь сказать что это навык и он тренироваться а опыт работа с многими основатель показывать что он тренироваться практически у каждый было бы желание совет как тренировать навык не будет здесь нет общий рецепт и на мой взгляд нужный искать то что подойти именно вам я пройти весь доступный курс на и так я получить базовый знание быть куча более глубокий курс и программа быть много методология главный не просто научиться но и с первый день идти в поле и продавать сначала близкий круг потом боевой клиент единственный совет если вы строить стартап но не уметь продавать займитесь этот навык прямо сейчас он прокачиваться точно вам',\n",
       " 'казнить нельзя помиловать навык принятие решение вы ведь встречать человек который уметь всегда принимать верный решение если да то как вы думать этот человек считать так же все ли человек в он окружение считать так же или быть тот кто этот решение касаться на прямой и мочь иметь негативный для них последствие а что такой вообще верный например вы хотеть нанять профи в маркетинг он супер крутой и понимать как вывести ваш бизнес на новый ступенька но он токсичный терпеть не мочь человек ничье мнение не воспринимать серьезно быть он в теория мочь вообще развалить ваш команда изнутри и перед вами выбор нанять его и тем самым принести смута в команда или не нанимать и несколько месяц искать например клиент проект денежный но очень сложный и рискованный под него нужный нанимать дополнительный человек то быть брать на себя дополнительный риск взять этот клиент или вместо него взять более простой проект сделать крутой кейс с большой компания и перейти на новый уровень или работать по принятие решение это умение выбирать между и белый между зона комфорт и риск между сложный задача и возможность чиллить а верность решение измеряться в он последствие про инструмент для принятие решение писать не быть их много парето матрица эйзенхауэр и и они гуглятся хотеть с другой сторона посветить фонарик вы обратить внимание в первый абзац на то что правильность решение зависеть от того кто это решение оценивать уволенный сотрудник быть видеть решение с одной сторона его непосредственный руководитель с другой а основатель компания с третий но решение само по себя не иметь какой либо окраски его окрашивать человек которые являться участник процесс а у самого решение быть только последствие которые в рамка бизнес являться вполне измеримый и то на что я хотеть обратить внимание это умение принимать решение безэмоционально то быть как бы отстранившись от того что происходить с фокусировка только на цель чтобы этот эмоция понять распознать и вовремя отключить быть эмоциональный интеллект на мой взгляд не менее важный являться умение использовать мнение других человек чтобы составить максимально полный картина изучить ситуация с разный сторона и только потом принимать решение это про мозговой штурмы наличие ментор то быть человек о которых можно постучаться быть один важный фактор на который хотеть обратить внимание это скорость принятие решение с ним тоже нужный работать любой предприниматель так как любой зависнуть решение быть тянуть из вас энергия и чем долгий оно висеть тем больше тянуть если обобщить то я стараться принимать решение быстро и безэмоционально стараться опираться только на бизнес задачи которые решать не всегда конечно получаться так но я стараться а как принимать решение лидерство менеджмент эффективность',\n",
       " 'сегодня быть защита дипломный работа на кафедра технологический предпринимательство мфти мне посчастливиться быть научный руководитель и ментор сразу для два фаундеров почему фаундеров потому что это не только дипломный проект это уже работать хардварный девайс который совсем скоро увидеть свет и высокий оценка диплом тот подтверждение тематика удивительный и меня очень вдохновлять про ольфакторный дизайн что то слышать погуглите обязательно если нет что мочь сказать про свой впечатление от менторства на кафедра очень крутой преподаватель с живой опыт работа в бизнес это огонь простой студент сильный и разносторонний развить проработка проект очень глубокий организационный момент на высота сейчас работать со студент с первый курс и видеть как в процесс они загораться свой же идея и действовать а это тот самый путь к запуск свой проект в общий работать было приятный и ребят искренне поздравлять с новый этап волновался как будто бы сам защищаться мфти техпред']"
      ]
     },
     "execution_count": 218,
     "metadata": {},
     "output_type": "execute_result"
    }
   ],
   "source": [
    "# Объединим списки слов в предложения\n",
    "docs = [\" \".join(tokens) for tokens in corpus]\n",
    "docs[:3]"
   ]
  },
  {
   "cell_type": "code",
   "execution_count": 219,
   "id": "8d9b4ff1",
   "metadata": {},
   "outputs": [],
   "source": [
    "# трансформируем корпус\n",
    "x = tfidf.fit_transform(docs)"
   ]
  },
  {
   "cell_type": "code",
   "execution_count": 220,
   "id": "93522e22",
   "metadata": {},
   "outputs": [
    {
     "data": {
      "text/plain": [
       "(8413, 4011)"
      ]
     },
     "execution_count": 220,
     "metadata": {},
     "output_type": "execute_result"
    }
   ],
   "source": [
    "# проверим размерность\n",
    "x.shape"
   ]
  },
  {
   "cell_type": "code",
   "execution_count": 221,
   "id": "b16ca113",
   "metadata": {},
   "outputs": [],
   "source": [
    "#сохраним id токенов\n",
    "id2word = {i: token for i, token in enumerate(tfidf.get_feature_names_out())}"
   ]
  },
  {
   "cell_type": "markdown",
   "id": "e6528df9-1281-46d6-ad87-14cb17e5e6b6",
   "metadata": {},
   "source": [
    "<div class=\"alert alert-success\">\n",
    "<b>Комментарий ревьюера ✔️:</b> Отлично 👍</div>\n"
   ]
  },
  {
   "cell_type": "markdown",
   "id": "2e18718e",
   "metadata": {},
   "source": [
    "# Моделирование"
   ]
  },
  {
   "cell_type": "markdown",
   "id": "8f3ee403",
   "metadata": {},
   "source": [
    "## LDA"
   ]
  },
  {
   "cell_type": "code",
   "execution_count": 222,
   "id": "3d291989",
   "metadata": {},
   "outputs": [],
   "source": [
    "# Зададим количество тем\n",
    "n_topics = 10"
   ]
  },
  {
   "cell_type": "code",
   "execution_count": 223,
   "id": "e6f35d03",
   "metadata": {},
   "outputs": [],
   "source": [
    "# определим модель\n",
    "lda = LatentDirichletAllocation(n_components=n_topics,\n",
    "                                max_iter=30,\n",
    "                                random_state=31)"
   ]
  },
  {
   "cell_type": "code",
   "execution_count": 224,
   "id": "647f88e7",
   "metadata": {},
   "outputs": [],
   "source": [
    "# транформируем темы\n",
    "topics = lda.fit_transform(x)"
   ]
  },
  {
   "cell_type": "code",
   "execution_count": 225,
   "id": "6d4afdd7",
   "metadata": {},
   "outputs": [
    {
     "data": {
      "text/plain": [
       "(8413, 10)"
      ]
     },
     "execution_count": 225,
     "metadata": {},
     "output_type": "execute_result"
    }
   ],
   "source": [
    "# проверим размерность\n",
    "topics.shape"
   ]
  },
  {
   "cell_type": "markdown",
   "id": "4ff71d26",
   "metadata": {},
   "source": [
    "Получили массив размера **8413x10**. Строки здесь - отдельные тексты, а колонки - 10 выделенных тем. В каждой ячейке стоит вероятность того, что данный текст относится к данной теме. "
   ]
  },
  {
   "cell_type": "markdown",
   "id": "395b15bb-6a33-46b4-99db-48fc8123dd71",
   "metadata": {},
   "source": [
    "<div class=\"alert alert-success\">\n",
    "<b>Комментарий ревьюера ✔️:</b> 👍</div>\n"
   ]
  },
  {
   "cell_type": "markdown",
   "id": "f0b334db",
   "metadata": {},
   "source": [
    "### Ключевые слова"
   ]
  },
  {
   "cell_type": "markdown",
   "id": "f84f6246",
   "metadata": {},
   "source": [
    "Далее выделем 10 ключевых слов для каждой темы."
   ]
  },
  {
   "cell_type": "code",
   "execution_count": 226,
   "id": "561f9c1c",
   "metadata": {},
   "outputs": [
    {
     "name": "stdout",
     "output_type": "stream",
     "text": [
      "Тема 0 :\n",
      "создать, фирменный, анимация, пожаловать, сайт, добро, дизайнер, стиль, логотип, дизайн\n",
      "\n",
      " \n",
      "Тема 1 :\n",
      "военный, европа, доклад, вебинар, ноябрь, март, российский, конференция, украинец, украина\n",
      "\n",
      " \n",
      "Тема 2 :\n",
      "желать, счастливый, выходной, справляться, проверка, пройти, тест, следующий, значок, навык\n",
      "\n",
      " \n",
      "Тема 3 :\n",
      "рад, услуга, разработка, сообщить, сертификат, компания, должность, начинать, удовольствие, сообщать\n",
      "\n",
      " \n",
      "Тема 4 :\n",
      "английский, команда, поиск, проект, привет, опыт, резюме, разработчик, искать, вакансия\n",
      "\n",
      " \n",
      "Тема 5 :\n",
      "решение, опыт, клиент, приложение, продукт, бизнес, разработка, команда, проект, компания\n",
      "\n",
      " \n",
      "Тема 6 :\n",
      "асинхронный, машинный, буква, испытание, карусель, видео, генеративный, проверить, курс, закончить\n",
      "\n",
      " \n",
      "Тема 7 :\n",
      "делиться, статья, желать, тильда, оценить, комментарий, праздник, ребята, нанимать, лендинг\n",
      "\n",
      " \n",
      "Тема 8 :\n",
      "кибербезопасность, здравствовать, признателен, иб, поддержка, совет, предложить, возможность, заранее, благодарить\n",
      "\n",
      " \n",
      "Тема 9 :\n",
      "встретиться, отличный, нетерпение, невероятный, поделиться, грузия, команда, заявка, рад, саммит\n",
      "\n",
      " \n"
     ]
    }
   ],
   "source": [
    "# выведем название темы и соотвествющие ключевые слова\n",
    "for i in range(n_topics):\n",
    "    c = lda.components_[i, :]\n",
    "    topic_tokens = [id2word.get(token_id) for token_id in np.argsort(c)[-10:]]\n",
    "    print(\"Тема\",i, \":\")\n",
    "    print(\", \".join(topic_tokens))\n",
    "    print(\"\\n \")"
   ]
  },
  {
   "cell_type": "markdown",
   "id": "93fc17ee",
   "metadata": {},
   "source": [
    "По полученным ключевым словам можно составить представление о содержании той или иной темы."
   ]
  },
  {
   "cell_type": "markdown",
   "id": "afe122f5-d612-4436-8d12-ca58f292097d",
   "metadata": {},
   "source": [
    "\n",
    "<div class=\"alert alert-success\">\n",
    "<b>Комментарий ревьюера ✔️:</b>\n",
    "\n",
    "Может, имеет смысл выводить слова топика в прямом порядке, а не в обратном? Чтобы первое слово самое топовое и потом по убыванию 🤔</div>\n"
   ]
  },
  {
   "cell_type": "markdown",
   "id": "6fbe3b34",
   "metadata": {},
   "source": [
    "### Типичные статьи"
   ]
  },
  {
   "cell_type": "markdown",
   "id": "b0e6f717",
   "metadata": {},
   "source": [
    "Далее определим типичные посты для каждой темы."
   ]
  },
  {
   "cell_type": "code",
   "execution_count": 227,
   "id": "c261b0a7",
   "metadata": {},
   "outputs": [
    {
     "name": "stdout",
     "output_type": "stream",
     "text": [
      "Тема  0\n",
      "Привет, ребята 👋🏼Хотим поделиться с вами одним из наших проектов -👉 https://lnkd.in/dCdDrEbmЧто вы думаете об этом дизайне? Делитесь своими мыслями в комментариях 💬✉️ Есть идея проекта? Я доступен для новых проектов yehor.haiduk@gmail.com или телеграмм-чат🔥 Отметьте своего друга, которому это нравится 😉👉 Посетите нашу страницу и не забудьте подписаться на другие дизайнерские материалы, подобные этому! Проверьте больше работ здесь https: //lnkd.in/g-2DSu5\n",
      "\n",
      "\n",
      "Тема  1\n",
      "Привет сообщество, Этой весной русские вторглись в мою прекрасную страну. Наш дом. Они украли у многих людей дома или разрушили их. Один из этих домов был домом моей крестной матери. Русские ракеты разрушают крышу и большую часть интерьера. Вот ссылка на пожертвование, организованное ее подругой Ольгой для восстановления дома. https://lnkd.in/dYriH-6KP.s. вчера был мой день рождения и лучший подарок, который вы можете сделать, это поделиться этой ссылкой🙏\n",
      "\n",
      "\n",
      "Тема  2\n",
      "['Провожу сегодня коуч-сессии в Международной академии коучинга в рамках международной недели коучинга. В остальные дни с командой коучей ICF  так же проводим сессии для тех, кто давно хотел и пока не получалось - как раз пришло время!Будем рады поработать над осмыслением и достижением ваших целей.https://lnkd.in/e7j7CDA\n",
      "\n",
      "\n",
      "Тема  3\n",
      "С радостью сообщаю, что я оказываю бизнес-услуги #OpenForBusiness. Просмотрите мою страницу услуг #datascience #machinelearning #bigdata #deeplearning #ai #linkedin #бизнес #data #dataanalytics #analytics #ml #artificialintelligence «Разработка и интеграция Data Science решений» «Разработка пользовательского ПО, Веб-разработка, Разработка приложений, Разработка баз данных, Составление технической документации, Разработка пользовательских интерфейсов, ИТ-консалтинг, Управление проектами» и «Разработка облачных приложений».\n",
      "\n",
      "\n",
      "Тема  4\n",
      " 'Продолжаем апгрейдить нашумевший ⭐️ Гайд для Джунов в IT от Petr Kavliugin ⭐️ Мне дико понравилась инициатива и захотелось дополнить блок по развитию софт-скиллов:·      Soft-skills: https://lnkd.in/ey65TSq6Этот гайд - просто кладезь супер полезной инфы - всё, что нужно знать джуну, который хочет быстро и эффективно прокачаться в IT. Смотрите сами, какие там есть разделы:·      Linkedin. Помощь: https://lnkd.in/eRbnJA5P·      Сайты для поиска работы: https://lnkd.in/ejKArrwk·      ТГ-каналы для поиска вакансий https://lnkd.in/eP7P3iyt·      Подготовка к интервью в иностранную компанию: https://lnkd.in/eFh4kuwr·      Полезные советы Jun-ам: https://lnkd.in/e4jq8VCP·      Резюме и сопроводительное письмо: https://lnkd.in/eMMSCimZ·      Soft-skills: https://lnkd.in/ey65TSq6·      Бесплатные курсы: https://lnkd.in/eRue9U3M·      Консультации и менторство для Junior-ов: https://lnkd.in/eajKsv8m·      Подготовка к TOEFL и IELTS: https://lnkd.in/ecbQcrcV·      Английский язык. Самостоятельное изучение: https://lnkd.in/eXwEBpf4·      Краткое руководство для начинающего PM в IT: https://lnkd.in/esgnsY3kIvan Doronin, Elizar Rezvanov , Ilya Bondar, Anna Sivko, Виктория Игнатенко Denis Ralko, Анастасия Гусева Карьерный консультант, Kseniya Arlovich, Наталья Везломцева Буду благодарна за репост!#linkedin #junior #поискработы #cv #консультации #it #войтивайти #телеграм #вакансии #резюме #pm\n",
      "\n",
      "\n",
      "Тема  5\n",
      "Часть 1. Недавно Airkod выпустила бета-версию нашей клиентской платформы для криптотрейдеров, которая позволяет анализировать графики роста и падения большинства криптовалют в режиме реального времени, а также исторические данные. В настоящее время продукт проходит закрытое тестирование с группа инвесторов. Получаем отзывы о качестве платформы, исправляем возникающие ошибки и готовимся к следующему этапу разработки полноценной версии продукта. В ходе первичных обсуждений с клиентом обсудили перспективы запуска проекта в течение 3-3,5 месяцев, с учетом объема работ, и оценили ее как маловероятную (50% вероятность запуска «работающего» продукта) и высокорисковую (90% вероятность отказа). Если вам интересно, я могу рассказать о методе оценки риска в следующих статьях. Вот почему мы пришли к такому выводу: Отсутствие технической документации: у нас был список задач с краткими описаниями, например, «нажатие кнопки должно запускать консоль и отображать конкретную информацию». Хотя это может быть понятно с точки зрения бизнес-логики, при работе на техническом языке возникают трудности. Откровенно говоря, почти все новые проекты начинаются с таких исходных данных, а у нашей компании Airkod всегда есть (и должен быть) план на случай непредвиденных обстоятельств, который позволяет нам добиться желаемого результата. Отсутствие тестирования кода: Если вы подумали, что клиент был \" новичок\" вы ошибаетесь. Клиент — крупный холдинг с большим инвестиционным опытом и опытом создания новых продуктов более 20 лет. Я не могу назвать точное местоположение, но это очень богатый регион в Восточной Азии. В работе принимала участие команда из двух фронтенд- и двух бэкенд-разработчиков. Было запланировано более 1800 часов работы, с ограниченным бюджетом, покрывающим разработку и управление проектом, но не включая тестирование, на которое должно было быть выделено дополнительно 30-40% времени, в зависимости от конкретного проекта. Чтобы избежать рисков и сохранить нашу репутацию, мы использовали наш стандартный метод работы: разбивая задачи на двухнедельные спринты с ежедневными встречами. В течение часа мы могли просмотреть текущее состояние проекта, убедиться, что оно соответствует требованиям, и внести коррективы в контрольные точки. Используемые инструменты: Trello, диаграммы Ганта, Notion, таблицы Google, встречи. Ежедневные встречи с командой дизайнеров. Здесь важно было найти баланс между впечатляющими дизайнерскими макетами и реалистичностью их реализации. Чем больше анимаций и эффектов, тем больше работы для фронтенд-разработчиков. Используемые инструменты: Figma, Notion, встречи. #язык #интерфейс\n",
      "\n",
      "\n",
      "Тема  6\n",
      "Только что закончил курс Дуга Роуза «Основы искусственного интеллекта: машинное обучение»! Проверьте это: https://lnkd.in/dM2vX9Kv #machinelearning #artificialintelligence.\n",
      "\n",
      "\n",
      "Тема  7\n",
      " 'Mock Interview - интенсивный вид подготовки к отборам в новую компанию, но как оно должно проходить, чтобы получить максимальный результат и во что эта практика может перерасти? Постаралась ответить на эти вопросы в статье (https://lnkd.in/eFJinxKh), опиралась на мой опыт и опыт моих клиентов. На связи\\xa0Лариса Дансарунова\\xa0— БА ментор и карьерный консультант по ИТ специальностям.']\n",
      "\n",
      "\n",
      "Тема  8\n",
      "Всем привет, я, как вы догадались, в поиске новой карьерной возможности и буду признательна за вашу поддержку и помощь в распространении этого поста) Заранее благодарю за все репосты, рекомендации контактов, советы или возможности, которые вы можете предложить. #OpenToWork\n",
      "\n",
      "\n",
      "Тема  9\n",
      " 'Привет, моя внезапно немалая Сеть! 🤗 Спешу поделиться новостью и попросить об одолжении, быть может история \"Я нашел работу, благодаря LinkedIn\" станет и моей. 😉 Недавно я решился на смену места работы и открыт к предложениям. В мои планы по-прежнему входит развитие в области IT-рекрутмента, но с большим упором на взращивание команды и руководство. Почему я принял такое решение?👉 Все хорошее рано или поздно приедается. Просто пришло время двигаться дальше.👉 Мне безумно приятно делиться накопленными знаниями, видеть как люди растут под моим началом и радоваться совместным победам.👉 Как и у всех нас, у меня есть финансовые обязательства, которые требуют стабильности.Я буду благодарен всем, кто поделится этой публикацией или как-то иначе поможет мне найти работу мечты 🙏 Учитывая мой опыт, количество (не самых простых) успешных кейсов и довольных учеников, хочется верить, что я смогу быть полезен вашим компаниям или компаниям ваших друзей.Спасибо и хорошего дня! 🌞 #opentowork\n",
      "\n",
      "\n"
     ]
    }
   ],
   "source": [
    "# циклом соеберм типычные посты по темам\n",
    "for i in range(n_topics):\n",
    "    doc_id = np.argmax(topics[:, i])\n",
    "    print(\"Тема \", i)\n",
    "    print(df_len_text_100.iloc[doc_id][\"translated_text\"])\n",
    "    print(\"\\n\")"
   ]
  },
  {
   "cell_type": "markdown",
   "id": "17d88efb",
   "metadata": {},
   "source": [
    "На основании полученных результатов можно предположить названия тем:\n",
    "   - Тема 1 - проектное сотрудничество;\n",
    "   - Тема 2 - внешняя политика;\n",
    "   - Тема 3 - коучинг;\n",
    "   - Тема 4 - предложение IT услуг; \n",
    "   - Тема 5 - менторство начинающих специалистов;\n",
    "   - Тема 6 - новости IT рынка;\n",
    "   - Тема 7 - обучение IT профессиям;\n",
    "   - Тема 8 - IT рекрутмент;\n",
    "   - Темы 9 и 10 также посвящены поиску работы."
   ]
  },
  {
   "cell_type": "markdown",
   "id": "dabbafa8-1b08-4304-990e-4dd3ca162fab",
   "metadata": {},
   "source": [
    "<div class=\"alert alert-success\">\n",
    "<b>Комментарий ревьюера ✔️:</b>\n",
    "\n",
    "Отлично, собраны образцы постов и предложены названия тем 👍\n",
    "\n",
    "Будет здорово, если нумерация тем будет совпадать с нумерацией постов 😉</div>\n"
   ]
  },
  {
   "cell_type": "code",
   "execution_count": 228,
   "id": "8ab71d9c",
   "metadata": {},
   "outputs": [
    {
     "data": {
      "text/html": [
       "<div>\n",
       "<style scoped>\n",
       "    .dataframe tbody tr th:only-of-type {\n",
       "        vertical-align: middle;\n",
       "    }\n",
       "\n",
       "    .dataframe tbody tr th {\n",
       "        vertical-align: top;\n",
       "    }\n",
       "\n",
       "    .dataframe thead th {\n",
       "        text-align: right;\n",
       "    }\n",
       "</style>\n",
       "<table border=\"1\" class=\"dataframe\">\n",
       "  <thead>\n",
       "    <tr style=\"text-align: right;\">\n",
       "      <th></th>\n",
       "      <th>url_user</th>\n",
       "      <th>text_post</th>\n",
       "      <th>language</th>\n",
       "      <th>translated_text</th>\n",
       "      <th>len_text</th>\n",
       "      <th>topic_nmf</th>\n",
       "      <th>topic</th>\n",
       "    </tr>\n",
       "  </thead>\n",
       "  <tbody>\n",
       "    <tr>\n",
       "      <th>1</th>\n",
       "      <td>https://www.linkedin.com/in/korenevich/</td>\n",
       "      <td>'Почему основатель любого бизнеса обязан умет...</td>\n",
       "      <td>ru</td>\n",
       "      <td>'Почему основатель любого бизнеса обязан умет...</td>\n",
       "      <td>2973</td>\n",
       "      <td>8</td>\n",
       "      <td>5</td>\n",
       "    </tr>\n",
       "    <tr>\n",
       "      <th>2</th>\n",
       "      <td>https://www.linkedin.com/in/korenevich/</td>\n",
       "      <td>'Казнить нельзя помиловать. Навык #9 – принят...</td>\n",
       "      <td>ru</td>\n",
       "      <td>'Казнить нельзя помиловать. Навык #9 – принят...</td>\n",
       "      <td>2975</td>\n",
       "      <td>7</td>\n",
       "      <td>5</td>\n",
       "    </tr>\n",
       "    <tr>\n",
       "      <th>4</th>\n",
       "      <td>https://www.linkedin.com/in/korenevich/</td>\n",
       "      <td>'Сегодня была защита дипломных работ на кафед...</td>\n",
       "      <td>ru</td>\n",
       "      <td>'Сегодня была защита дипломных работ на кафед...</td>\n",
       "      <td>1044</td>\n",
       "      <td>1</td>\n",
       "      <td>5</td>\n",
       "    </tr>\n",
       "    <tr>\n",
       "      <th>6</th>\n",
       "      <td>https://www.linkedin.com/in/korenevich/</td>\n",
       "      <td>'Кто я? Чем занимаюсь? Чем и кому могу быть п...</td>\n",
       "      <td>ru</td>\n",
       "      <td>'Кто я? Чем занимаюсь? Чем и кому могу быть п...</td>\n",
       "      <td>2576</td>\n",
       "      <td>7</td>\n",
       "      <td>5</td>\n",
       "    </tr>\n",
       "    <tr>\n",
       "      <th>7</th>\n",
       "      <td>https://www.linkedin.com/in/korenevich/</td>\n",
       "      <td>'Казалось бы, ну какая нам разница, где и как...</td>\n",
       "      <td>ru</td>\n",
       "      <td>'Казалось бы, ну какая нам разница, где и как...</td>\n",
       "      <td>2034</td>\n",
       "      <td>6</td>\n",
       "      <td>5</td>\n",
       "    </tr>\n",
       "  </tbody>\n",
       "</table>\n",
       "</div>"
      ],
      "text/plain": [
       "                                  url_user  \\\n",
       "1  https://www.linkedin.com/in/korenevich/   \n",
       "2  https://www.linkedin.com/in/korenevich/   \n",
       "4  https://www.linkedin.com/in/korenevich/   \n",
       "6  https://www.linkedin.com/in/korenevich/   \n",
       "7  https://www.linkedin.com/in/korenevich/   \n",
       "\n",
       "                                           text_post language  \\\n",
       "1   'Почему основатель любого бизнеса обязан умет...       ru   \n",
       "2   'Казнить нельзя помиловать. Навык #9 – принят...       ru   \n",
       "4   'Сегодня была защита дипломных работ на кафед...       ru   \n",
       "6   'Кто я? Чем занимаюсь? Чем и кому могу быть п...       ru   \n",
       "7   'Казалось бы, ну какая нам разница, где и как...       ru   \n",
       "\n",
       "                                     translated_text  len_text  topic_nmf  \\\n",
       "1   'Почему основатель любого бизнеса обязан умет...      2973          8   \n",
       "2   'Казнить нельзя помиловать. Навык #9 – принят...      2975          7   \n",
       "4   'Сегодня была защита дипломных работ на кафед...      1044          1   \n",
       "6   'Кто я? Чем занимаюсь? Чем и кому могу быть п...      2576          7   \n",
       "7   'Казалось бы, ну какая нам разница, где и как...      2034          6   \n",
       "\n",
       "   topic  \n",
       "1      5  \n",
       "2      5  \n",
       "4      5  \n",
       "6      5  \n",
       "7      5  "
      ]
     },
     "execution_count": 228,
     "metadata": {},
     "output_type": "execute_result"
    }
   ],
   "source": [
    "# Добавим столбец с номером темы для каждого наблюдения\n",
    "df_len_text_100['topic'] = topics.argmax(axis=1)\n",
    "\n",
    "# посмотрим на результат\n",
    "df_len_text_100.head()"
   ]
  },
  {
   "cell_type": "code",
   "execution_count": 229,
   "id": "9440977b",
   "metadata": {},
   "outputs": [
    {
     "data": {
      "text/plain": [
       "topic\n",
       "5    6440\n",
       "4     611\n",
       "1     262\n",
       "8     206\n",
       "0     191\n",
       "3     186\n",
       "9     180\n",
       "2     151\n",
       "7     128\n",
       "6      58\n",
       "Name: count, dtype: int64"
      ]
     },
     "execution_count": 229,
     "metadata": {},
     "output_type": "execute_result"
    }
   ],
   "source": [
    "# Определим какие темы представлены чаще всего\n",
    "df_len_text_100['topic'].value_counts()"
   ]
  },
  {
   "cell_type": "markdown",
   "id": "da3ad914-f1c8-4d7c-ba0f-f085adee9cdf",
   "metadata": {},
   "source": [
    "\n",
    "\n",
    "<div class=\"alert alert-success\">\n",
    "<b>Комментарий ревьюера ✔️:</b>\n",
    "\n",
    "Воооот, а чтобы не ломать голову что здесь обозначает 5 – на самом деле тема номер 6 из списка тем 😉 надо либо топики, либо темы перенумеровать.\n",
    "\n",
    "Или можно сразу не номер, а название темы вписать в колонку 🤔\n",
    "</div>\n"
   ]
  },
  {
   "cell_type": "code",
   "execution_count": 230,
   "id": "2cd3974a",
   "metadata": {},
   "outputs": [
    {
     "data": {
      "text/html": [
       "<div>\n",
       "<style scoped>\n",
       "    .dataframe tbody tr th:only-of-type {\n",
       "        vertical-align: middle;\n",
       "    }\n",
       "\n",
       "    .dataframe tbody tr th {\n",
       "        vertical-align: top;\n",
       "    }\n",
       "\n",
       "    .dataframe thead th {\n",
       "        text-align: right;\n",
       "    }\n",
       "</style>\n",
       "<table border=\"1\" class=\"dataframe\">\n",
       "  <thead>\n",
       "    <tr style=\"text-align: right;\">\n",
       "      <th></th>\n",
       "      <th>url_user</th>\n",
       "      <th>text_post</th>\n",
       "      <th>language</th>\n",
       "      <th>translated_text</th>\n",
       "      <th>len_text</th>\n",
       "      <th>topic_nmf</th>\n",
       "      <th>topic</th>\n",
       "      <th>probability</th>\n",
       "    </tr>\n",
       "  </thead>\n",
       "  <tbody>\n",
       "    <tr>\n",
       "      <th>1</th>\n",
       "      <td>https://www.linkedin.com/in/korenevich/</td>\n",
       "      <td>'Почему основатель любого бизнеса обязан умет...</td>\n",
       "      <td>ru</td>\n",
       "      <td>'Почему основатель любого бизнеса обязан умет...</td>\n",
       "      <td>2973</td>\n",
       "      <td>8</td>\n",
       "      <td>5</td>\n",
       "      <td>0.892328</td>\n",
       "    </tr>\n",
       "    <tr>\n",
       "      <th>2</th>\n",
       "      <td>https://www.linkedin.com/in/korenevich/</td>\n",
       "      <td>'Казнить нельзя помиловать. Навык #9 – принят...</td>\n",
       "      <td>ru</td>\n",
       "      <td>'Казнить нельзя помиловать. Навык #9 – принят...</td>\n",
       "      <td>2975</td>\n",
       "      <td>7</td>\n",
       "      <td>5</td>\n",
       "      <td>0.887968</td>\n",
       "    </tr>\n",
       "    <tr>\n",
       "      <th>4</th>\n",
       "      <td>https://www.linkedin.com/in/korenevich/</td>\n",
       "      <td>'Сегодня была защита дипломных работ на кафед...</td>\n",
       "      <td>ru</td>\n",
       "      <td>'Сегодня была защита дипломных работ на кафед...</td>\n",
       "      <td>1044</td>\n",
       "      <td>1</td>\n",
       "      <td>5</td>\n",
       "      <td>0.852275</td>\n",
       "    </tr>\n",
       "    <tr>\n",
       "      <th>6</th>\n",
       "      <td>https://www.linkedin.com/in/korenevich/</td>\n",
       "      <td>'Кто я? Чем занимаюсь? Чем и кому могу быть п...</td>\n",
       "      <td>ru</td>\n",
       "      <td>'Кто я? Чем занимаюсь? Чем и кому могу быть п...</td>\n",
       "      <td>2576</td>\n",
       "      <td>7</td>\n",
       "      <td>5</td>\n",
       "      <td>0.843143</td>\n",
       "    </tr>\n",
       "    <tr>\n",
       "      <th>7</th>\n",
       "      <td>https://www.linkedin.com/in/korenevich/</td>\n",
       "      <td>'Казалось бы, ну какая нам разница, где и как...</td>\n",
       "      <td>ru</td>\n",
       "      <td>'Казалось бы, ну какая нам разница, где и как...</td>\n",
       "      <td>2034</td>\n",
       "      <td>6</td>\n",
       "      <td>5</td>\n",
       "      <td>0.878255</td>\n",
       "    </tr>\n",
       "  </tbody>\n",
       "</table>\n",
       "</div>"
      ],
      "text/plain": [
       "                                  url_user  \\\n",
       "1  https://www.linkedin.com/in/korenevich/   \n",
       "2  https://www.linkedin.com/in/korenevich/   \n",
       "4  https://www.linkedin.com/in/korenevich/   \n",
       "6  https://www.linkedin.com/in/korenevich/   \n",
       "7  https://www.linkedin.com/in/korenevich/   \n",
       "\n",
       "                                           text_post language  \\\n",
       "1   'Почему основатель любого бизнеса обязан умет...       ru   \n",
       "2   'Казнить нельзя помиловать. Навык #9 – принят...       ru   \n",
       "4   'Сегодня была защита дипломных работ на кафед...       ru   \n",
       "6   'Кто я? Чем занимаюсь? Чем и кому могу быть п...       ru   \n",
       "7   'Казалось бы, ну какая нам разница, где и как...       ru   \n",
       "\n",
       "                                     translated_text  len_text  topic_nmf  \\\n",
       "1   'Почему основатель любого бизнеса обязан умет...      2973          8   \n",
       "2   'Казнить нельзя помиловать. Навык #9 – принят...      2975          7   \n",
       "4   'Сегодня была защита дипломных работ на кафед...      1044          1   \n",
       "6   'Кто я? Чем занимаюсь? Чем и кому могу быть п...      2576          7   \n",
       "7   'Казалось бы, ну какая нам разница, где и как...      2034          6   \n",
       "\n",
       "   topic  probability  \n",
       "1      5     0.892328  \n",
       "2      5     0.887968  \n",
       "4      5     0.852275  \n",
       "6      5     0.843143  \n",
       "7      5     0.878255  "
      ]
     },
     "execution_count": 230,
     "metadata": {},
     "output_type": "execute_result"
    }
   ],
   "source": [
    "# Добавим столбец с вероятностью принадлежности выбранной теме для каждого наблюдения\n",
    "df_len_text_100['probability'] = topics.max(axis=1)\n",
    "\n",
    "#посмотрим на результат\n",
    "df_len_text_100.head()"
   ]
  },
  {
   "cell_type": "code",
   "execution_count": 231,
   "id": "b41f038a",
   "metadata": {},
   "outputs": [
    {
     "data": {
      "text/html": [
       "<div>\n",
       "<style scoped>\n",
       "    .dataframe tbody tr th:only-of-type {\n",
       "        vertical-align: middle;\n",
       "    }\n",
       "\n",
       "    .dataframe tbody tr th {\n",
       "        vertical-align: top;\n",
       "    }\n",
       "\n",
       "    .dataframe thead th {\n",
       "        text-align: right;\n",
       "    }\n",
       "</style>\n",
       "<table border=\"1\" class=\"dataframe\">\n",
       "  <thead>\n",
       "    <tr style=\"text-align: right;\">\n",
       "      <th></th>\n",
       "      <th>translated_text</th>\n",
       "      <th>topic</th>\n",
       "      <th>probability</th>\n",
       "    </tr>\n",
       "  </thead>\n",
       "  <tbody>\n",
       "    <tr>\n",
       "      <th>7226</th>\n",
       "      <td>Часть 1. Недавно Airkod выпустила бета-версию ...</td>\n",
       "      <td>5</td>\n",
       "      <td>0.926867</td>\n",
       "    </tr>\n",
       "    <tr>\n",
       "      <th>6042</th>\n",
       "      <td>📚 В Национальный день благодарности учителям м...</td>\n",
       "      <td>5</td>\n",
       "      <td>0.920079</td>\n",
       "    </tr>\n",
       "    <tr>\n",
       "      <th>4374</th>\n",
       "      <td>Продукты становятся более медийными и менее те...</td>\n",
       "      <td>5</td>\n",
       "      <td>0.920073</td>\n",
       "    </tr>\n",
       "    <tr>\n",
       "      <th>4552</th>\n",
       "      <td>Топ-7 полезных инструментов для организации ра...</td>\n",
       "      <td>5</td>\n",
       "      <td>0.918085</td>\n",
       "    </tr>\n",
       "    <tr>\n",
       "      <th>8771</th>\n",
       "      <td>Привет народ! Вы задавались вопросом, чего не ...</td>\n",
       "      <td>5</td>\n",
       "      <td>0.917325</td>\n",
       "    </tr>\n",
       "    <tr>\n",
       "      <th>...</th>\n",
       "      <td>...</td>\n",
       "      <td>...</td>\n",
       "      <td>...</td>\n",
       "    </tr>\n",
       "    <tr>\n",
       "      <th>2419</th>\n",
       "      <td>В IT среде часто говорят о недопустимости токс...</td>\n",
       "      <td>5</td>\n",
       "      <td>0.895096</td>\n",
       "    </tr>\n",
       "    <tr>\n",
       "      <th>7285</th>\n",
       "      <td>Пришло время рассмотреть возможности технологи...</td>\n",
       "      <td>5</td>\n",
       "      <td>0.894960</td>\n",
       "    </tr>\n",
       "    <tr>\n",
       "      <th>6512</th>\n",
       "      <td>🧐 Что вы знаете о кибербезопасности? Возможно,...</td>\n",
       "      <td>5</td>\n",
       "      <td>0.894937</td>\n",
       "    </tr>\n",
       "    <tr>\n",
       "      <th>6535</th>\n",
       "      <td>Основные функции CRM для танцевальной школы: C...</td>\n",
       "      <td>5</td>\n",
       "      <td>0.894703</td>\n",
       "    </tr>\n",
       "    <tr>\n",
       "      <th>10301</th>\n",
       "      <td>Передовой опыт управления ИТ-проектами и коман...</td>\n",
       "      <td>5</td>\n",
       "      <td>0.894699</td>\n",
       "    </tr>\n",
       "  </tbody>\n",
       "</table>\n",
       "<p>100 rows × 3 columns</p>\n",
       "</div>"
      ],
      "text/plain": [
       "                                         translated_text  topic  probability\n",
       "7226   Часть 1. Недавно Airkod выпустила бета-версию ...      5     0.926867\n",
       "6042   📚 В Национальный день благодарности учителям м...      5     0.920079\n",
       "4374   Продукты становятся более медийными и менее те...      5     0.920073\n",
       "4552   Топ-7 полезных инструментов для организации ра...      5     0.918085\n",
       "8771   Привет народ! Вы задавались вопросом, чего не ...      5     0.917325\n",
       "...                                                  ...    ...          ...\n",
       "2419   В IT среде часто говорят о недопустимости токс...      5     0.895096\n",
       "7285   Пришло время рассмотреть возможности технологи...      5     0.894960\n",
       "6512   🧐 Что вы знаете о кибербезопасности? Возможно,...      5     0.894937\n",
       "6535   Основные функции CRM для танцевальной школы: C...      5     0.894703\n",
       "10301  Передовой опыт управления ИТ-проектами и коман...      5     0.894699\n",
       "\n",
       "[100 rows x 3 columns]"
      ]
     },
     "execution_count": 231,
     "metadata": {},
     "output_type": "execute_result"
    }
   ],
   "source": [
    "# Выберем топ-100 текстов с максимальной вероятностью\n",
    "top_100 = (df_len_text_100[['translated_text', 'topic', 'probability']]\n",
    "           .sort_values(by = 'probability', ascending  = False).iloc[:100])\n",
    "\n",
    "#посмотрим на результат\n",
    "top_100"
   ]
  },
  {
   "cell_type": "markdown",
   "id": "af0e05ff",
   "metadata": {},
   "source": [
    "На данном этапе выделили топ-100 постов с большей частотой встречающихся слов. Эти данные в дальнейшем могут использоваться для анализа целевой аудитории."
   ]
  },
  {
   "cell_type": "code",
   "execution_count": 232,
   "id": "e0ea9ae4",
   "metadata": {},
   "outputs": [
    {
     "data": {
      "text/plain": [
       "topic\n",
       "5    100\n",
       "Name: count, dtype: int64"
      ]
     },
     "execution_count": 232,
     "metadata": {},
     "output_type": "execute_result"
    }
   ],
   "source": [
    "# проверим, к каким темам относятся топ-100 текстов\n",
    "top_100.topic.value_counts()"
   ]
  },
  {
   "cell_type": "markdown",
   "id": "6d6c3bae",
   "metadata": {},
   "source": [
    "Алгоритм увереннее всего определяет пятую тему, что логично, так как именно эта тема представлена максимально (6440 текстов)."
   ]
  },
  {
   "cell_type": "code",
   "execution_count": 233,
   "id": "350885cb",
   "metadata": {},
   "outputs": [
    {
     "data": {
      "text/html": [
       "<div>\n",
       "<style scoped>\n",
       "    .dataframe tbody tr th:only-of-type {\n",
       "        vertical-align: middle;\n",
       "    }\n",
       "\n",
       "    .dataframe tbody tr th {\n",
       "        vertical-align: top;\n",
       "    }\n",
       "\n",
       "    .dataframe thead th {\n",
       "        text-align: right;\n",
       "    }\n",
       "</style>\n",
       "<table border=\"1\" class=\"dataframe\">\n",
       "  <thead>\n",
       "    <tr style=\"text-align: right;\">\n",
       "      <th></th>\n",
       "      <th>probability</th>\n",
       "      <th>topic</th>\n",
       "    </tr>\n",
       "    <tr>\n",
       "      <th>topic</th>\n",
       "      <th></th>\n",
       "      <th></th>\n",
       "    </tr>\n",
       "  </thead>\n",
       "  <tbody>\n",
       "    <tr>\n",
       "      <th>5</th>\n",
       "      <td>0.748112</td>\n",
       "      <td>6440</td>\n",
       "    </tr>\n",
       "    <tr>\n",
       "      <th>8</th>\n",
       "      <td>0.707846</td>\n",
       "      <td>206</td>\n",
       "    </tr>\n",
       "    <tr>\n",
       "      <th>6</th>\n",
       "      <td>0.656329</td>\n",
       "      <td>58</td>\n",
       "    </tr>\n",
       "    <tr>\n",
       "      <th>3</th>\n",
       "      <td>0.651682</td>\n",
       "      <td>186</td>\n",
       "    </tr>\n",
       "    <tr>\n",
       "      <th>7</th>\n",
       "      <td>0.632954</td>\n",
       "      <td>128</td>\n",
       "    </tr>\n",
       "    <tr>\n",
       "      <th>9</th>\n",
       "      <td>0.627983</td>\n",
       "      <td>180</td>\n",
       "    </tr>\n",
       "    <tr>\n",
       "      <th>4</th>\n",
       "      <td>0.607980</td>\n",
       "      <td>611</td>\n",
       "    </tr>\n",
       "    <tr>\n",
       "      <th>2</th>\n",
       "      <td>0.602933</td>\n",
       "      <td>151</td>\n",
       "    </tr>\n",
       "    <tr>\n",
       "      <th>1</th>\n",
       "      <td>0.571736</td>\n",
       "      <td>262</td>\n",
       "    </tr>\n",
       "    <tr>\n",
       "      <th>0</th>\n",
       "      <td>0.555750</td>\n",
       "      <td>191</td>\n",
       "    </tr>\n",
       "  </tbody>\n",
       "</table>\n",
       "</div>"
      ],
      "text/plain": [
       "       probability  topic\n",
       "topic                    \n",
       "5         0.748112   6440\n",
       "8         0.707846    206\n",
       "6         0.656329     58\n",
       "3         0.651682    186\n",
       "7         0.632954    128\n",
       "9         0.627983    180\n",
       "4         0.607980    611\n",
       "2         0.602933    151\n",
       "1         0.571736    262\n",
       "0         0.555750    191"
      ]
     },
     "execution_count": 233,
     "metadata": {},
     "output_type": "execute_result"
    }
   ],
   "source": [
    "# Попробуем оценить насколько уверен алгоритм в остальных темах\n",
    "df_len_text_100.groupby('topic').agg({'probability' : 'mean', \n",
    "                                      'topic' : 'count'}).sort_values(by = 'probability', ascending = False)"
   ]
  },
  {
   "cell_type": "markdown",
   "id": "936bd19c",
   "metadata": {},
   "source": [
    "Лучшие по средней вероятности темы - 5, 8, 6, не смотря на то, что 6 тема представлена только в 58 текстах. А вот 2, 1 и 0 темы определяются хуже всего. Вероятно, сказывается небольшое количество данных."
   ]
  },
  {
   "cell_type": "markdown",
   "id": "272559fc-e2d2-411c-befc-ff259b114923",
   "metadata": {},
   "source": [
    "\n",
    "<div class=\"alert alert-success\">\n",
    "<b>Комментарий ревьюера ✔️:</b> \n",
    "\n",
    "Поскольку цель проекта все-таки не абстрактное тестирование моделей, уже очень хочется видеть не номера, а человекочитаемые названия тем 😉\n",
    "</div>\n"
   ]
  },
  {
   "cell_type": "markdown",
   "id": "203c6bc7",
   "metadata": {},
   "source": [
    "Попробуем использовать распределения тем в тексте как 'эмбеддинги' текстов, в такой интерпретации можно применять к ним алгоритмы визуализации или кластеризации, и искать уже итоговые 'эффективные ' тематические кластеры таким образом."
   ]
  },
  {
   "cell_type": "code",
   "execution_count": 82,
   "id": "6d2e1498",
   "metadata": {},
   "outputs": [],
   "source": [
    "# определим количество кластеров\n",
    "kmeans = KMeans(n_clusters=10)\n",
    "\n",
    "#обучим модель\n",
    "clust_labels = kmeans.fit_predict(topics)\n",
    "clust_centers = kmeans.cluster_centers_\n",
    "\n",
    "#объединим результат\n",
    "embeddings_to_tsne = np.concatenate((topics,clust_centers), axis=0)\n",
    "\n",
    "# TSNE это инструмент для визуализации многомерных данных\n",
    "tSNE =  TSNE(n_components=2, perplexity=15)\n",
    "tsne_embeddings = tSNE.fit_transform(embeddings_to_tsne)\n",
    "tsne_embeddings, centroids_embeddings = np.split(tsne_embeddings, [len(clust_labels)], axis=0)"
   ]
  },
  {
   "cell_type": "code",
   "execution_count": 83,
   "id": "85525d7a",
   "metadata": {},
   "outputs": [],
   "source": [
    "#выделим кластеры\n",
    "clust_indices = np.unique(clust_labels)\n",
    "\n",
    "#далее определим параметры визуализации\n",
    "clusters = {clust_ind : [] for clust_ind in clust_indices}\n",
    "for emb, label in zip(tsne_embeddings, clust_labels):\n",
    "    clusters[label].append(emb)\n",
    "\n",
    "for key in clusters.keys():\n",
    "    clusters[key] = np.array(clusters[key])\n",
    "    \n",
    "colors = cm.rainbow(np.linspace(0, 1, len(clust_indices)))"
   ]
  },
  {
   "cell_type": "code",
   "execution_count": 149,
   "id": "7cfd855e",
   "metadata": {},
   "outputs": [
    {
     "data": {
      "image/png": "[encoded data removed]",
      "text/plain": [
       "<Figure size 500x500 with 1 Axes>"
      ]
     },
     "metadata": {},
     "output_type": "display_data"
    }
   ],
   "source": [
    "#выведем полученный результат\n",
    "plt.figure(figsize=(5,5))\n",
    "for ind, color in zip(clust_indices, colors):\n",
    "    x = clusters[ind][:,0]\n",
    "    y = clusters[ind][:,1]\n",
    "    plt.scatter(x, y, color=color)\n",
    "    \n",
    "    centroid = centroids_embeddings[ind]\n",
    "    plt.scatter(centroid[0],centroid[1], color=color, marker='x', s=100)\n",
    "\n",
    "plt.show()"
   ]
  },
  {
   "cell_type": "markdown",
   "id": "018646cb",
   "metadata": {},
   "source": [
    "Тут хотелось бы написать, что на изображении tSNE ембеддингов, видно, что кластеры выделенные с помощью KMeans, образуют достаточно связные и чаще всего пространственно разделимые между собой множества. Но на самом деле видно, что есть над чем еще поработать."
   ]
  },
  {
   "cell_type": "markdown",
   "id": "aea83c46-9746-42a4-ac99-5fa829d45324",
   "metadata": {},
   "source": [
    "\n",
    "<div class=\"alert alert-success\">\n",
    "<b>Комментарий ревьюера ✔️:</b> 👍</div>\n"
   ]
  },
  {
   "cell_type": "markdown",
   "id": "137ee10a",
   "metadata": {},
   "source": [
    "## Модель NMF"
   ]
  },
  {
   "cell_type": "code",
   "execution_count": 197,
   "id": "a3c6a4a9",
   "metadata": {},
   "outputs": [],
   "source": [
    "#определим количество тем\n",
    "n_topics = 10"
   ]
  },
  {
   "cell_type": "code",
   "execution_count": 198,
   "id": "fd484eec",
   "metadata": {},
   "outputs": [],
   "source": [
    "#определим модель\n",
    "nmf = NMF(n_components=n_topics,\n",
    "          init = 'random',\n",
    "          solver = 'mu',\n",
    "          beta_loss = 'kullback-leibler',\n",
    "          max_iter = 1000,\n",
    "          shuffle = True,\n",
    "          l1_ratio = 0.02,\n",
    "          random_state=42)"
   ]
  },
  {
   "cell_type": "code",
   "execution_count": 199,
   "id": "b8d741e3",
   "metadata": {},
   "outputs": [],
   "source": [
    "#трансформируем темы\n",
    "topics_nmf = nmf.fit_transform(x)"
   ]
  },
  {
   "cell_type": "code",
   "execution_count": 200,
   "id": "da3ebcab",
   "metadata": {},
   "outputs": [
    {
     "data": {
      "text/plain": [
       "(8413, 10)"
      ]
     },
     "execution_count": 200,
     "metadata": {},
     "output_type": "execute_result"
    }
   ],
   "source": [
    "#посмотрим на результат\n",
    "topics_nmf.shape"
   ]
  },
  {
   "cell_type": "markdown",
   "id": "5de36ba6",
   "metadata": {},
   "source": [
    "Таким образом, получен датасет, где для каждого текста определена вероятность принадлежности к определнным текстам."
   ]
  },
  {
   "cell_type": "markdown",
   "id": "0debefe4",
   "metadata": {},
   "source": [
    "### Ключевые слова"
   ]
  },
  {
   "cell_type": "markdown",
   "id": "5314ad14",
   "metadata": {},
   "source": [
    "Далее выделем 15 ключевых слов для каждой темы."
   ]
  },
  {
   "cell_type": "code",
   "execution_count": 201,
   "id": "e2eb5fc2",
   "metadata": {},
   "outputs": [
    {
     "name": "stdout",
     "output_type": "stream",
     "text": [
      "Тема 1 :\n",
      "собираться, лайк, привет, язык, мысль, нравиться, написать, опубликовать, проект, интересный, статья, делиться, ребята, комментарий, пост\n",
      "\n",
      " \n",
      "Тема 2 :\n",
      "смочь, собеседование, университет, резюме, студент, школа, кейс, классный, пройти, портфолио, сертификат, крутой, сообщить, курс, рад\n",
      "\n",
      " \n",
      "Тема 3 :\n",
      "отрасль, использование, область, узнайте, обеспечение, система, программный, модель, решение, обучение, искусственный, интеллект, данных, ии, технология\n",
      "\n",
      " \n",
      "Тема 4 :\n",
      "благодарить, рекомендация, заранее, предложить, команда, компания, поддержка, поиск, опыт, совет, вакансия, привет, возможность, разработчик, искать\n",
      "\n",
      " \n",
      "Тема 5 :\n",
      "российский, поздравлять, директор, европа, рынок, путешествие, мировой, инвестор, будущее, компания, миллион, сша, доллар, стартап, украина\n",
      "\n",
      " \n",
      "Тема 6 :\n",
      "разработчик, пользователь, веб, следующий, электронный, навык, функция, использовать, тестирование, обеспечение, программный, мобильный, код, разработка, приложение\n",
      "\n",
      " \n",
      "Тема 7 :\n",
      "стиль, робот, создание, создавать, запустить, проект, бренд, дизайнер, видео, клиент, создать, продукт, веб, сайт, дизайн\n",
      "\n",
      " \n",
      "Тема 8 :\n",
      "проблема, процесс, развитие, решение, задача, сотрудник, ит, разработка, управление, компания, продукт, клиент, проект, команда, бизнес\n",
      "\n",
      " \n",
      "Тема 9 :\n",
      "история, здоровье, коллега, нетерпение, момент, основатель, вдохновлять, встретиться, желать, успех, чувствовать, счастливый, команда, встреча, неделя\n",
      "\n",
      " \n",
      "Тема 10 :\n",
      "бесплатный, участник, рассказать, программа, эксперт, сообщество, участие, кибербезопасность, канал, присоединяться, онлайн, конференция, иб, тема, мероприятие\n",
      "\n",
      " \n"
     ]
    }
   ],
   "source": [
    "for i in range(n_topics):\n",
    "    c = nmf.components_[i, :]\n",
    "    topic_tokens = [id2word.get(token_id) for token_id in np.argsort(c)[-15:]]\n",
    "    print(\"Тема\",i+1, \":\")\n",
    "    print(\", \".join(topic_tokens))\n",
    "    print(\"\\n \")"
   ]
  },
  {
   "cell_type": "markdown",
   "id": "c0639b43",
   "metadata": {},
   "source": [
    "### Типичные посты"
   ]
  },
  {
   "cell_type": "markdown",
   "id": "befe2563",
   "metadata": {},
   "source": [
    "Далее определим типичные посты для каждой темы."
   ]
  },
  {
   "cell_type": "code",
   "execution_count": 202,
   "id": "6b213f05",
   "metadata": {},
   "outputs": [
    {
     "name": "stdout",
     "output_type": "stream",
     "text": [
      "Тема  1\n",
      "Привет, ребята 👋🏼Хотим поделиться с вами одним из наших проектов -👉 https://lnkd.in/dCdDrEbmЧто вы думаете об этом дизайне? Делитесь своими мыслями в комментариях 💬✉️ Есть идея проекта? Я доступен для новых проектов yehor.haiduk@gmail.com или телеграмм-чат🔥 Отметьте своего друга, которому это нравится 😉👉 Посетите нашу страницу и не забудьте подписаться на другие дизайнерские материалы, подобные этому! Проверьте больше работ здесь https: //lnkd.in/g-2DSu5\n",
      "\n",
      "\n",
      "Тема  2\n",
      "В этом видео https://lnkd.in/dpBD6tt мы поговорим о том, как грамотно оформлять резюме и откликаться на вакансии. Мы рассмотрим те нюансы, которые нужно учесть при составлении резюме, чтобы получить хорошие предложения уже в первые 3 дня поисков и продать себя дороже. Кстати, на следующей неделе мы будем разбирать, как подготовиться к собеседованиям разного типа и успешно пройти все этапы отбора. Там будет куча хитростей, о которых тебе мало кто расскажет. Так что подпишись, чтобы не пропустить.#карьера​ #поискработы​ #резюме​ #ityoutubersru​ #it\n",
      "\n",
      "\n",
      "Тема  3\n",
      "𝗛𝗼𝘄 𝗪𝗶𝗹𝗹 𝗧𝗲𝗰𝗵𝗻𝗼𝗹𝗼𝗴𝘆 𝗧𝗿𝗮𝗻𝘀𝗳𝗼𝗿𝗺 𝗚𝗹𝗼 В статье обсуждается значительное влияние технологий на образование, выделяются различные достижения и тенденции, формирующие будущее обучения: 👉 𝗩𝗶𝗿 𝘁𝘂𝗮𝗹 𝗹𝗲𝗮𝗿𝗻𝗶𝗻𝗴 становится нормой, а пандемия COVID-19 ускоряет его принятие. Зачисление в онлайн-обучение и открытое/дистанционное обучение значительно увеличилось. Engaged Learning Online (ELO) преобразовал онлайн-обучение, имитируя физическую среду в классе, обеспечивая более увлекательный и интерактивный опыт. 𝗲 улучшает результаты обучения, предлагая персонализированную обратную связь и поддержку с помощью чат-ботов на базе искусственного интеллекта и виртуальных помощников преподавателя. ИИ также помогает преподавателям анализировать данные учащихся для настройки методов обучения и принятия решений на основе данных, что способствует профессиональному развитию. 𝗮𝗹 𝗥𝗲𝗮𝗹𝗶𝘁𝘆 и 𝘁𝗵𝗲 𝗠𝗲𝘁𝗮𝘃𝗲𝗿𝘀𝗲 делают обучение более интерактивным и захватывающим. Эти технологии позволяют учащимся изучать сложные концепции с помощью виртуальных лабораторий и симуляций, создавая дифференцированный и персонализированный опыт обучения. и разработка учебной программы. В целом делается вывод о том, что технологии изменили образование и будут продолжать это делать, но для обеспечения справедливых и инклюзивных результатов требуется сотрудничество между заинтересованными сторонами. А при правильных стратегиях и инвестициях у него есть потенциал для создания процветающего будущего для всех учащихся.#education #edtech #elearning #ai\n",
      "\n",
      "\n",
      "Тема  4\n",
      "Привет, нетворк!👋🏻Я Даша, рекрутер компании Zeon IT Hub.📌Ищу себе коллегу - инициативного IT рекрутера в команду Zeon IT Hub, с опытом работы от 0,5 - 1 года или сильным желанием развиваться в этой области.Вы будете развиваться и учиться сорсингу/рекрутингу под руководством опытных рекрутеров. А если Вы уже опытный рекрутер, то Вас ждут приятные бонусы! 💵  Условия работы:✅График работы: Пн-Пт с 10 до 19:00;✅Уютный офис в Ololohaus Erkindik (бульвар Эркиндик, 64Б);✅Молодой, дружный, адекватный коллектив;✅Справедливая оплата труда: оклад 300$ + % Важно!📍знание английского языка на уровне B2 и выше, так как нужно будет общаться с иностранными клиентами и кандидатами📍базовое знание техник Boolean и X-ray searchПо всем вопросам о вакансии пишите мне в телеграм (Дарья) 💌 https://t.me/zeonit_s_2 💌 и не забудьте прикрепить резюме!Так же буду благодарна Вашим рекомендациям и предложенным кандидатурам ❤️Репост также приветствуется!#recruiter #itrecruiter #sourcer #researcher #рекрутер #itрекрутер #сорсер #ресерчер #гибрид #офис #бишкек #it #вакансия #работа #vacancy #position #hybrid #office\n",
      "\n",
      "\n",
      "Тема  5\n",
      "Идет 8-й день войны Путина против Украины. Они несут огромные потери на земле и в воздухе, но продолжают бомбить наши города. На данный момент их потери составляют более 9 тысяч человек, и они теряют около 1,5 тысячи человек каждый день. Чтобы дать вам некоторое сравнение, чтобы лучше понять цифры и масштабы: - за 12 дней оккупационной войны в Грузии они потеряли 112 человек - за 1 год и 8 месяцев Первой чеченской войны Россия потеряла 2800 человек - за 5 лет российской военной интервенции в Сирии потеряли 117 человек-за 10 лет Афганистана россия потеряла 15К человекОни уже нарушают все возможные международные военные условности, в том числе прячутся за гражданскими, приближаются с белыми флагами и атакуют, используют машины скорой помощи, чтобы спрятаться и углубиться в городов, смена униформы на украинскую и нападение при приближении, было много сообщений о том, что они применяли запрещенное оружие (поскольку оно имеет большое влияние на гражданское население, а не на военных)... Не хочу присылать больше видео это, но есть записанные доказательства для каждого действия. Правосудие достанется каждому виновному. Но мы стоим твердо. И тяжело страдают. Уже сотни компаний прекратили свои услуги в России (в том числе Apple, Netflix, Audi и т. д.), и этот список растет. Российская экономика быстро движется к коллапсу, где обычные люди страдают больше, чем их правительство. В настоящее время большая помощь поступает с разных направлений (в том числе из США, Польши и Великобритании в числе первых), включая летальное и оборонительное оружие, различные вспомогательные средства, доспехи, финансовая поддержка и многое другое. Тем не менее, каждый отдельный вклад (и мы также почти ежедневно жертвуем туда) - огромная помощь: 1) https://lnkd.in/ez_-pZEx (сайт может быть медленным, но есть различные способы пожертвования, включая криптовалюту, кредитные карты, Patreon)2) Официальный мультивалютный счет IBAN национального банка для военных нужд: UA843000010000000047330992708Большинство наших сотрудников в безопасности, и мы продолжаем работать, быть продуктивными, менять мир и вносить свой вклад как можно лучше. Спасибо #stopwar #supportukraine #стоппутин\n",
      "\n",
      "\n",
      "Тема  6\n",
      "😱 Create React App RIP??? 😱 Зайдя на официальный сайт React я не сразу понял, что произошло.Когда мы заходим на страницу документации React в раздел установки, мы можем увидеть различные предложенные варианты установки фреймворков React, а именно Next.js, Remix, Expo, Gatsby. Но при этом нет варианта установки самого React в чистом виде. Неужели React сдает позиции.На самом деле это не так. Если присмотреться, то можно найти скрытую сноску с информацией о том, можно ли использовать React в чистом виде. Ниже я представлю перевод части данной сноски.Вы определенно можете использовать React без фреймворка. Однако, если вы создаете новое приложение или сайт полностью с помощью React, мы рекомендуем использовать платформу.И вот почему.Даже если сначала вам не нужна маршрутизация или получение данных (data fetching), вы, скорее всего, потом заходите добавить необходимые для них библиотеки. По мере роста вашего Javascript приложения растет ваш код и вам придется выяснять, как разнести этот код для каждого роута по отдельности. Во время увеличения потребностей в получении данных вероятно придется столкнуться с проблемами водопадом между сервером и клиентом (server-client network waterfalls), что замедлит ваше приложение. Поскольку большинство пользователей из аудитории имеет плохие условия сетевого соединения и недорогие устройства, вам понадобится создать HTML с ранним отображением компонентов - либо на сервере, либо во время сборки. Изменение настроек для выполнения части кода на сервере или во время сборки может быть сложным.. . . . . . .Фреймворки React на этой странице решают подобные проблемы по умолчанию, без дополнительной работы с вашей стороны. Они позволяют вам начать очень экономно, а затем масштабировать ваше приложение в соответствии с вашими потребностями.. . . . . . .Если вы все еще не уверены, или ваше приложение имеет необычные ограничения, которые плохо обслуживаются этими фреймворками, и вы хотите развернуть свою собственную пользовательскую настройку, мы не можем остановить вас — дерзайте! Берите react и react-dom из npm, настраивайте свой пользовательский процесс сборки с помощью сборщика, такого как Vite или Parcel, и добавляйте другие инструменты по мере необходимости для маршрутизации, статической генерации или рендеринга на стороне сервера и многого другого.Исходя из данной информации в принципе можно понять, что с React все в порядке. Просто разработчики говорят о том, что React - это библиотека, которая не имеет множества встроенных инструментов и лучше использовать какой-либо фреймворк, но при этом никто не перестает поддерживать и использовать React.#javascript #react #html #data #network\n",
      "\n",
      "\n",
      "Тема  7\n",
      "«Мы завершили новый брендбук! ООО «ЦГС» — компания, которая занимается утилизацией, сбором, транспортировкой и переработкой отходов в Уральском федеральном округе. ООО «ЦГС» более 20 лет занимается переработкой шин, масел, аккумуляторов. Первым этапом нашей работы была разработка логотипа. Мы подробно обсудили с клиентом требования к логотипу, цветовой палитре и сделали эскиз. Мы предоставили 3 варианта логотипа, один из которых был выбран и доработан совместно с клиентом. Следующим этапом работы было создание брендбука компании в соответствии с выбранным стилем. Было принято решение разработать 11 элементов :- Визитка- Презентация- Бланк- Шаблоны постов для соц сетей- Шапки аккаунтов для Вконтакте и Facebook- Шаблон поздравительной открытки- Буклет- Модульная сетка для полиграфии и наружной рекламы- Наклейка на транспорт- Стенд- Рекламный флаерПосле согласования дизайна всех элементов , мы создали руководство по использованию фирменного стиля компании. Он содержит все правила использования подготовленных элементов, цветовой палитры и выбранных шрифтов. Наполнение всех подготовленных шаблонов заказчик может изменить самостоятельно под конкретные задачи. Заказчик уже активно использует брендбук!\\xa0Полная история проекта: https://lnkd.in/gFTB9FD #дизайн #бренд #бизнес #логотип\n",
      "\n",
      "\n",
      "Тема  8\n",
      "Управление токсичным персоналом может являться вызовом даже для наиболее опытных руководителей. Особенно, когда они являются профессионалами и помогают компании достигать больших результатов, но при этом создают токсическую атмосферу в коллективе. Кейс 1: Управление токсичным менеджером с другими работниками Он демотивировал коллег и создавал негативную атмосферу на рабочем месте. После этого руководство установило индивидуальный план действий для менеджера, включая тренинги по коммуникации и развитию мягких навыков. Кроме того, менеджеру было предложено управлять меньшим проектом, где ему пришлось больше общаться со своим коллективом, что помогло ему улучшить свои навыки общения и лидерства. Кейс 2: Работа с сгруппированным токсичным коллективом коллективе. Они часто ссорились между собой и высказывали негативные комментарии о других коллегах. Руководство компании решило использовать подход \"командной смены\". Они разделили отдел на две группы, разместив токсичных работников в отдельную группу и разместив других работников в другую группу. После этого каждой группе был предложен проект, который они должны были выполнить вместе. Применение командной смены помогло изменить динамику отдела и уменьшить токсичность, которая создавалась в коллективе. Ключевыми факторами являются индивидуальный подход к каждому работнику, развитие мягких навыков и использование командной смены, где это возможно. и снижало эффективность работы всего коллектива. В ходе работы с топ-менеджментом было выявлено несколько основных причин токсичности и конфликтов, в частности, недоразумения между членами команды, отсутствие открытого общения и планирования, высокая конкуренция между менеджерами и отсутствие общих целей. Для решения этих проблем была предложена программа \"Руководство для изменений\", которая включала тренинги по межличностному взаимодействию и развитию лидерских качеств, совместное планирование и постановку целей, а также открытое общение и обсуждение проблем. После реализации программы было заметно снижение токсичности в коллективе топ-менеджмента и улучшение коммуникации между менеджерами. Это привело к увеличению эффективности работы и достижению более качественных результатов в деятельности компании. Основная идея, лежащая в основе работы с токсичным топ-менеджментом, заключается в том, чтобы изменить культуру общения и понимание целей компании внутри команды руководства, что позволит улучшить эффективность работы. всей компании.\n",
      "\n",
      "\n",
      "Тема  9\n",
      "🌍 Как выбрать, куда релоцироваться?Релокация сейчас - горящая тема, и вопрос о том, с чего начать, когда решаешь переехать - самый популярный на моих консультациях.Открытием на этих встречах для меня стало то, насколько люди в гонке за оффером с визой готовы согласиться на любую страну и город, - лишь бы взяли. Особенно те, кто никогда за границей не жил, совсем забывают прикинуть, насколько им будет в этой стране комфортно, какой они смогут обеспечить себе уровень жизни. Каким будет их круг общения, хобби, типичный день. Мол, само как-то наверное разрулится 🥲Когда прошлой весной я получила два оффера - в Испанию и Германию, они были на удивление похожи по цифрам и обязанностям.И выбор о том, куда ехать, я делала в первую очередь опираясь на город.Но даже если вы ещё только начинаете искать работу за рубежом, очень советую заранее представить, как вам будет житься в другом городе, и обязательно использовать эти критерии при выборе.В карточках рассказала 4 простых шага, которые делала я. ❓ Уже знаете, куда хотите переехать?ps фотка - июнь 2021 г, когда  после 5 лет в Бразилии я переехала в Москву со всеми своими пожитками распиханными в 4 чемодана. Но это другая история 😉pps Toni Ventura, всё ещё думаю, те 30 минут были самыми полезными в моём рисёрче :)#релокация #переезд #expat #relocation #айти #it\n",
      "\n",
      "\n",
      "Тема  10\n",
      " 'Продолжаем апгрейдить нашумевший ⭐️ Гайд для Джунов в IT от Petr Kavliugin ⭐️ Мне дико понравилась инициатива и захотелось дополнить блок по развитию софт-скиллов:·      Soft-skills: https://lnkd.in/ey65TSq6Этот гайд - просто кладезь супер полезной инфы - всё, что нужно знать джуну, который хочет быстро и эффективно прокачаться в IT. Смотрите сами, какие там есть разделы:·      Linkedin. Помощь: https://lnkd.in/eRbnJA5P·      Сайты для поиска работы: https://lnkd.in/ejKArrwk·      ТГ-каналы для поиска вакансий https://lnkd.in/eP7P3iyt·      Подготовка к интервью в иностранную компанию: https://lnkd.in/eFh4kuwr·      Полезные советы Jun-ам: https://lnkd.in/e4jq8VCP·      Резюме и сопроводительное письмо: https://lnkd.in/eMMSCimZ·      Soft-skills: https://lnkd.in/ey65TSq6·      Бесплатные курсы: https://lnkd.in/eRue9U3M·      Консультации и менторство для Junior-ов: https://lnkd.in/eajKsv8m·      Подготовка к TOEFL и IELTS: https://lnkd.in/ecbQcrcV·      Английский язык. Самостоятельное изучение: https://lnkd.in/eXwEBpf4·      Краткое руководство для начинающего PM в IT: https://lnkd.in/esgnsY3kIvan Doronin, Elizar Rezvanov , Ilya Bondar, Anna Sivko, Виктория Игнатенко Denis Ralko, Анастасия Гусева Карьерный консультант, Kseniya Arlovich, Наталья Везломцева Буду благодарна за репост!#linkedin #junior #поискработы #cv #консультации #it #войтивайти #телеграм #вакансии #резюме #pm\n",
      "\n",
      "\n"
     ]
    }
   ],
   "source": [
    "for i in range(n_topics):\n",
    "    doc_id = np.argmax(topics[:, i])\n",
    "    print(\"Тема \", i+1)\n",
    "    print(df_len_text_100.iloc[doc_id][\"translated_text\"])\n",
    "    print(\"\\n\")"
   ]
  },
  {
   "cell_type": "markdown",
   "id": "94535863",
   "metadata": {},
   "source": [
    "На основании полученных результатов можно предположить названия тем:\n",
    "   - Тема 1 - проектное сотрудничество;\n",
    "   - Тема 2 - лайфхаки при поиске работы;\n",
    "   - Тема 3 - образовательные статьи;\n",
    "   - Тема 4 - нетворкинг/поиск сотрудника; \n",
    "   - Тема 5 - внешняя политика;\n",
    "   - Тема 6 - разработка/кодинг;\n",
    "   - Тема 7 - кейсы компаний/дизайн;\n",
    "   - Тема 8 - рекрутмент;\n",
    "   - Тема 9 - релокация;\n",
    "   - Тема 10 - менторство начинающих специалистов."
   ]
  },
  {
   "cell_type": "code",
   "execution_count": 237,
   "id": "81336f7e",
   "metadata": {},
   "outputs": [],
   "source": [
    "# Добавим столбец с номером темы для каждого наблюдения\n",
    "df_len_text_100['topic_nmf'] = topics_nmf.argmax(axis=1)"
   ]
  },
  {
   "cell_type": "code",
   "execution_count": 238,
   "id": "7f66e461",
   "metadata": {},
   "outputs": [
    {
     "data": {
      "text/plain": [
       "topic_nmf\n",
       "7    978\n",
       "2    959\n",
       "5    908\n",
       "3    874\n",
       "8    869\n",
       "6    862\n",
       "4    834\n",
       "9    808\n",
       "0    670\n",
       "1    651\n",
       "Name: count, dtype: int64"
      ]
     },
     "execution_count": 238,
     "metadata": {},
     "output_type": "execute_result"
    }
   ],
   "source": [
    "# Определим какие темы представлены чаще всего\n",
    "df_len_text_100['topic_nmf'].value_counts()"
   ]
  },
  {
   "cell_type": "code",
   "execution_count": 239,
   "id": "f5efbacf",
   "metadata": {},
   "outputs": [
    {
     "data": {
      "text/html": [
       "<div>\n",
       "<style scoped>\n",
       "    .dataframe tbody tr th:only-of-type {\n",
       "        vertical-align: middle;\n",
       "    }\n",
       "\n",
       "    .dataframe tbody tr th {\n",
       "        vertical-align: top;\n",
       "    }\n",
       "\n",
       "    .dataframe thead th {\n",
       "        text-align: right;\n",
       "    }\n",
       "</style>\n",
       "<table border=\"1\" class=\"dataframe\">\n",
       "  <thead>\n",
       "    <tr style=\"text-align: right;\">\n",
       "      <th></th>\n",
       "      <th>url_user</th>\n",
       "      <th>text_post</th>\n",
       "      <th>language</th>\n",
       "      <th>translated_text</th>\n",
       "      <th>len_text</th>\n",
       "      <th>topic_nmf</th>\n",
       "      <th>topic</th>\n",
       "      <th>probability</th>\n",
       "      <th>probability_nmf</th>\n",
       "    </tr>\n",
       "  </thead>\n",
       "  <tbody>\n",
       "    <tr>\n",
       "      <th>1</th>\n",
       "      <td>https://www.linkedin.com/in/korenevich/</td>\n",
       "      <td>'Почему основатель любого бизнеса обязан умет...</td>\n",
       "      <td>ru</td>\n",
       "      <td>'Почему основатель любого бизнеса обязан умет...</td>\n",
       "      <td>2973</td>\n",
       "      <td>8</td>\n",
       "      <td>5</td>\n",
       "      <td>0.892328</td>\n",
       "      <td>0.068827</td>\n",
       "    </tr>\n",
       "    <tr>\n",
       "      <th>2</th>\n",
       "      <td>https://www.linkedin.com/in/korenevich/</td>\n",
       "      <td>'Казнить нельзя помиловать. Навык #9 – принят...</td>\n",
       "      <td>ru</td>\n",
       "      <td>'Казнить нельзя помиловать. Навык #9 – принят...</td>\n",
       "      <td>2975</td>\n",
       "      <td>7</td>\n",
       "      <td>5</td>\n",
       "      <td>0.887968</td>\n",
       "      <td>0.104529</td>\n",
       "    </tr>\n",
       "    <tr>\n",
       "      <th>4</th>\n",
       "      <td>https://www.linkedin.com/in/korenevich/</td>\n",
       "      <td>'Сегодня была защита дипломных работ на кафед...</td>\n",
       "      <td>ru</td>\n",
       "      <td>'Сегодня была защита дипломных работ на кафед...</td>\n",
       "      <td>1044</td>\n",
       "      <td>1</td>\n",
       "      <td>5</td>\n",
       "      <td>0.852275</td>\n",
       "      <td>0.071007</td>\n",
       "    </tr>\n",
       "    <tr>\n",
       "      <th>6</th>\n",
       "      <td>https://www.linkedin.com/in/korenevich/</td>\n",
       "      <td>'Кто я? Чем занимаюсь? Чем и кому могу быть п...</td>\n",
       "      <td>ru</td>\n",
       "      <td>'Кто я? Чем занимаюсь? Чем и кому могу быть п...</td>\n",
       "      <td>2576</td>\n",
       "      <td>7</td>\n",
       "      <td>5</td>\n",
       "      <td>0.843143</td>\n",
       "      <td>0.076179</td>\n",
       "    </tr>\n",
       "    <tr>\n",
       "      <th>7</th>\n",
       "      <td>https://www.linkedin.com/in/korenevich/</td>\n",
       "      <td>'Казалось бы, ну какая нам разница, где и как...</td>\n",
       "      <td>ru</td>\n",
       "      <td>'Казалось бы, ну какая нам разница, где и как...</td>\n",
       "      <td>2034</td>\n",
       "      <td>6</td>\n",
       "      <td>5</td>\n",
       "      <td>0.878255</td>\n",
       "      <td>0.055088</td>\n",
       "    </tr>\n",
       "  </tbody>\n",
       "</table>\n",
       "</div>"
      ],
      "text/plain": [
       "                                  url_user  \\\n",
       "1  https://www.linkedin.com/in/korenevich/   \n",
       "2  https://www.linkedin.com/in/korenevich/   \n",
       "4  https://www.linkedin.com/in/korenevich/   \n",
       "6  https://www.linkedin.com/in/korenevich/   \n",
       "7  https://www.linkedin.com/in/korenevich/   \n",
       "\n",
       "                                           text_post language  \\\n",
       "1   'Почему основатель любого бизнеса обязан умет...       ru   \n",
       "2   'Казнить нельзя помиловать. Навык #9 – принят...       ru   \n",
       "4   'Сегодня была защита дипломных работ на кафед...       ru   \n",
       "6   'Кто я? Чем занимаюсь? Чем и кому могу быть п...       ru   \n",
       "7   'Казалось бы, ну какая нам разница, где и как...       ru   \n",
       "\n",
       "                                     translated_text  len_text  topic_nmf  \\\n",
       "1   'Почему основатель любого бизнеса обязан умет...      2973          8   \n",
       "2   'Казнить нельзя помиловать. Навык #9 – принят...      2975          7   \n",
       "4   'Сегодня была защита дипломных работ на кафед...      1044          1   \n",
       "6   'Кто я? Чем занимаюсь? Чем и кому могу быть п...      2576          7   \n",
       "7   'Казалось бы, ну какая нам разница, где и как...      2034          6   \n",
       "\n",
       "   topic  probability  probability_nmf  \n",
       "1      5     0.892328         0.068827  \n",
       "2      5     0.887968         0.104529  \n",
       "4      5     0.852275         0.071007  \n",
       "6      5     0.843143         0.076179  \n",
       "7      5     0.878255         0.055088  "
      ]
     },
     "execution_count": 239,
     "metadata": {},
     "output_type": "execute_result"
    }
   ],
   "source": [
    "# Добавим столбец с вероятностью принадлежности выбранной теме для каждого наблюдения\n",
    "df_len_text_100['probability_nmf'] = topics_nmf.max(axis=1)\n",
    "\n",
    "#посмотрим на результат\n",
    "df_len_text_100.head()"
   ]
  },
  {
   "cell_type": "markdown",
   "id": "d18d0374",
   "metadata": {},
   "source": [
    "Выделим также топ-100 текстов, которые нашла вторая модель."
   ]
  },
  {
   "cell_type": "code",
   "execution_count": 244,
   "id": "2613f00b",
   "metadata": {},
   "outputs": [
    {
     "data": {
      "text/html": [
       "<div>\n",
       "<style scoped>\n",
       "    .dataframe tbody tr th:only-of-type {\n",
       "        vertical-align: middle;\n",
       "    }\n",
       "\n",
       "    .dataframe tbody tr th {\n",
       "        vertical-align: top;\n",
       "    }\n",
       "\n",
       "    .dataframe thead th {\n",
       "        text-align: right;\n",
       "    }\n",
       "</style>\n",
       "<table border=\"1\" class=\"dataframe\">\n",
       "  <thead>\n",
       "    <tr style=\"text-align: right;\">\n",
       "      <th></th>\n",
       "      <th>translated_text</th>\n",
       "      <th>topic_nmf</th>\n",
       "      <th>probability_nmf</th>\n",
       "    </tr>\n",
       "  </thead>\n",
       "  <tbody>\n",
       "    <tr>\n",
       "      <th>6464</th>\n",
       "      <td>Идет 8-й день войны Путина против Украины. Они...</td>\n",
       "      <td>4</td>\n",
       "      <td>0.210931</td>\n",
       "    </tr>\n",
       "    <tr>\n",
       "      <th>7720</th>\n",
       "      <td>Около месяца назад Россия начала военное вторж...</td>\n",
       "      <td>4</td>\n",
       "      <td>0.199906</td>\n",
       "    </tr>\n",
       "    <tr>\n",
       "      <th>1804</th>\n",
       "      <td>🌍 Как выбрать, куда релоцироваться?Релокация с...</td>\n",
       "      <td>8</td>\n",
       "      <td>0.199890</td>\n",
       "    </tr>\n",
       "    <tr>\n",
       "      <th>715</th>\n",
       "      <td>'🌍 Как выбрать, куда релоцироваться?Релокация...</td>\n",
       "      <td>8</td>\n",
       "      <td>0.199890</td>\n",
       "    </tr>\n",
       "    <tr>\n",
       "      <th>223</th>\n",
       "      <td>'🌍 Как выбрать, куда релоцироваться?Релокация...</td>\n",
       "      <td>8</td>\n",
       "      <td>0.199890</td>\n",
       "    </tr>\n",
       "    <tr>\n",
       "      <th>...</th>\n",
       "      <td>...</td>\n",
       "      <td>...</td>\n",
       "      <td>...</td>\n",
       "    </tr>\n",
       "    <tr>\n",
       "      <th>7283</th>\n",
       "      <td>#VisaMastercardleaveRussiaРоссийская Федерация...</td>\n",
       "      <td>4</td>\n",
       "      <td>0.158425</td>\n",
       "    </tr>\n",
       "    <tr>\n",
       "      <th>5933</th>\n",
       "      <td>❗️Используйте этот всеобъемлющий шаблон руково...</td>\n",
       "      <td>6</td>\n",
       "      <td>0.158409</td>\n",
       "    </tr>\n",
       "    <tr>\n",
       "      <th>11076</th>\n",
       "      <td>Сколько стилей архитектуры API вы знаете? -- П...</td>\n",
       "      <td>5</td>\n",
       "      <td>0.158379</td>\n",
       "    </tr>\n",
       "    <tr>\n",
       "      <th>7141</th>\n",
       "      <td>26 декабря 1941 года Черчилль выступил с истор...</td>\n",
       "      <td>4</td>\n",
       "      <td>0.158084</td>\n",
       "    </tr>\n",
       "    <tr>\n",
       "      <th>9519</th>\n",
       "      <td>За каждым отличным интерфейсом стоит надежный ...</td>\n",
       "      <td>5</td>\n",
       "      <td>0.158066</td>\n",
       "    </tr>\n",
       "  </tbody>\n",
       "</table>\n",
       "<p>100 rows × 3 columns</p>\n",
       "</div>"
      ],
      "text/plain": [
       "                                         translated_text  topic_nmf  \\\n",
       "6464   Идет 8-й день войны Путина против Украины. Они...          4   \n",
       "7720   Около месяца назад Россия начала военное вторж...          4   \n",
       "1804   🌍 Как выбрать, куда релоцироваться?Релокация с...          8   \n",
       "715     '🌍 Как выбрать, куда релоцироваться?Релокация...          8   \n",
       "223     '🌍 Как выбрать, куда релоцироваться?Релокация...          8   \n",
       "...                                                  ...        ...   \n",
       "7283   #VisaMastercardleaveRussiaРоссийская Федерация...          4   \n",
       "5933   ❗️Используйте этот всеобъемлющий шаблон руково...          6   \n",
       "11076  Сколько стилей архитектуры API вы знаете? -- П...          5   \n",
       "7141   26 декабря 1941 года Черчилль выступил с истор...          4   \n",
       "9519   За каждым отличным интерфейсом стоит надежный ...          5   \n",
       "\n",
       "       probability_nmf  \n",
       "6464          0.210931  \n",
       "7720          0.199906  \n",
       "1804          0.199890  \n",
       "715           0.199890  \n",
       "223           0.199890  \n",
       "...                ...  \n",
       "7283          0.158425  \n",
       "5933          0.158409  \n",
       "11076         0.158379  \n",
       "7141          0.158084  \n",
       "9519          0.158066  \n",
       "\n",
       "[100 rows x 3 columns]"
      ]
     },
     "execution_count": 244,
     "metadata": {},
     "output_type": "execute_result"
    }
   ],
   "source": [
    "# Выберем топ-100 текстов с максимальной вероятностью\n",
    "top_100_nmf = (df_len_text_100[['translated_text', 'topic_nmf', 'probability_nmf']]\n",
    "           .sort_values(by = 'probability_nmf', ascending  = False).iloc[:100])\n",
    "\n",
    "#посмотрим на результат\n",
    "top_100_nmf"
   ]
  },
  {
   "cell_type": "code",
   "execution_count": 246,
   "id": "8902ee5f",
   "metadata": {},
   "outputs": [
    {
     "data": {
      "text/plain": [
       "topic_nmf\n",
       "2    28\n",
       "4    26\n",
       "8    12\n",
       "6    11\n",
       "5     9\n",
       "9     5\n",
       "7     4\n",
       "0     4\n",
       "3     1\n",
       "Name: count, dtype: int64"
      ]
     },
     "execution_count": 246,
     "metadata": {},
     "output_type": "execute_result"
    }
   ],
   "source": [
    "# проверим, к каким темам относятся топ-100 текстов\n",
    "top_100_nmf.topic_nmf.value_counts()"
   ]
  },
  {
   "cell_type": "markdown",
   "id": "80b7ab35",
   "metadata": {},
   "source": [
    "Тексты распределились достаточно рамномерно. Самые частые темы - 2 и 4."
   ]
  },
  {
   "cell_type": "markdown",
   "id": "a3254ba4-ba65-479f-9f27-a4bf91089816",
   "metadata": {},
   "source": [
    "\n",
    "<div class=\"alert alert-success\">\n",
    "<b>Комментарий ревьюера ✔️:</b> Интересно, а что это за темы? 🤔</div>\n"
   ]
  },
  {
   "cell_type": "code",
   "execution_count": 249,
   "id": "c0dba5da",
   "metadata": {},
   "outputs": [
    {
     "data": {
      "text/html": [
       "<div>\n",
       "<style scoped>\n",
       "    .dataframe tbody tr th:only-of-type {\n",
       "        vertical-align: middle;\n",
       "    }\n",
       "\n",
       "    .dataframe tbody tr th {\n",
       "        vertical-align: top;\n",
       "    }\n",
       "\n",
       "    .dataframe thead th {\n",
       "        text-align: right;\n",
       "    }\n",
       "</style>\n",
       "<table border=\"1\" class=\"dataframe\">\n",
       "  <thead>\n",
       "    <tr style=\"text-align: right;\">\n",
       "      <th></th>\n",
       "      <th>probability_nmf</th>\n",
       "      <th>topic_nmf</th>\n",
       "    </tr>\n",
       "    <tr>\n",
       "      <th>topic_nmf</th>\n",
       "      <th></th>\n",
       "      <th></th>\n",
       "    </tr>\n",
       "  </thead>\n",
       "  <tbody>\n",
       "    <tr>\n",
       "      <th>4</th>\n",
       "      <td>0.079864</td>\n",
       "      <td>834</td>\n",
       "    </tr>\n",
       "    <tr>\n",
       "      <th>2</th>\n",
       "      <td>0.076733</td>\n",
       "      <td>959</td>\n",
       "    </tr>\n",
       "    <tr>\n",
       "      <th>3</th>\n",
       "      <td>0.071975</td>\n",
       "      <td>874</td>\n",
       "    </tr>\n",
       "    <tr>\n",
       "      <th>8</th>\n",
       "      <td>0.071028</td>\n",
       "      <td>869</td>\n",
       "    </tr>\n",
       "    <tr>\n",
       "      <th>5</th>\n",
       "      <td>0.070636</td>\n",
       "      <td>908</td>\n",
       "    </tr>\n",
       "    <tr>\n",
       "      <th>7</th>\n",
       "      <td>0.070088</td>\n",
       "      <td>978</td>\n",
       "    </tr>\n",
       "    <tr>\n",
       "      <th>6</th>\n",
       "      <td>0.069327</td>\n",
       "      <td>862</td>\n",
       "    </tr>\n",
       "    <tr>\n",
       "      <th>9</th>\n",
       "      <td>0.066434</td>\n",
       "      <td>808</td>\n",
       "    </tr>\n",
       "    <tr>\n",
       "      <th>1</th>\n",
       "      <td>0.062972</td>\n",
       "      <td>651</td>\n",
       "    </tr>\n",
       "    <tr>\n",
       "      <th>0</th>\n",
       "      <td>0.059874</td>\n",
       "      <td>670</td>\n",
       "    </tr>\n",
       "  </tbody>\n",
       "</table>\n",
       "</div>"
      ],
      "text/plain": [
       "           probability_nmf  topic_nmf\n",
       "topic_nmf                            \n",
       "4                 0.079864        834\n",
       "2                 0.076733        959\n",
       "3                 0.071975        874\n",
       "8                 0.071028        869\n",
       "5                 0.070636        908\n",
       "7                 0.070088        978\n",
       "6                 0.069327        862\n",
       "9                 0.066434        808\n",
       "1                 0.062972        651\n",
       "0                 0.059874        670"
      ]
     },
     "execution_count": 249,
     "metadata": {},
     "output_type": "execute_result"
    }
   ],
   "source": [
    "# Попробуем оценить насколько уверен алгоритм в остальных темах\n",
    "df_len_text_100.groupby('topic_nmf').agg({'probability_nmf' : 'mean', \n",
    "                                      'topic_nmf' : 'count'}).sort_values(by = 'probability_nmf', ascending = False)"
   ]
  },
  {
   "cell_type": "markdown",
   "id": "38136a03",
   "metadata": {},
   "source": [
    "Вероятности распределились равномерно по всем темам. Можно заметить, что данная модель плохо разделила тексты по темам, вероятность везде достаточно низкая. Можно предположить, что гиперпараметры были настроены не совсем удачно. Кроме того, похоже что имеющиеся данные в целом не кардинально отличаются друг от друга по содержанию."
   ]
  },
  {
   "cell_type": "code",
   "execution_count": 240,
   "id": "fe3452de",
   "metadata": {},
   "outputs": [],
   "source": [
    "# определим количество кластеров\n",
    "kmeans2 = KMeans(n_clusters=10)\n",
    "\n",
    "#обучим модель\n",
    "clust_labels2 = kmeans2.fit_predict(topics)\n",
    "clust_centers2 = kmeans2.cluster_centers_\n",
    "\n",
    "#объединим результат\n",
    "embeddings_to_tsne2 = np.concatenate((topics_nmf,clust_centers2), axis=0)\n",
    "\n",
    "# TSNE это инструмент для визуализации многомерных данных\n",
    "tSNE_nmf =  TSNE(n_components=2, perplexity=15)\n",
    "tsne_embeddings2 = tSNE_nmf.fit_transform(embeddings_to_tsne2)\n",
    "tsne_embeddings2, centroids_embeddings2 = np.split(tsne_embeddings2, [len(clust_labels2)], axis=0)"
   ]
  },
  {
   "cell_type": "code",
   "execution_count": 241,
   "id": "5b8151f3",
   "metadata": {},
   "outputs": [],
   "source": [
    "#выделим кластеры\n",
    "clust_indices2 = np.unique(clust_labels2)\n",
    "\n",
    "#далее определим параметры визуализации\n",
    "clusters2 = {clust_ind : [] for clust_ind in clust_indices2}\n",
    "for emb, label in zip(tsne_embeddings2, clust_labels2):\n",
    "    clusters2[label].append(emb)\n",
    "\n",
    "for key in clusters2.keys():\n",
    "    clusters2[key] = np.array(clusters2[key])\n",
    "    \n",
    "colors = cm.rainbow(np.linspace(0, 1, len(clust_indices2)))"
   ]
  },
  {
   "cell_type": "code",
   "execution_count": 243,
   "id": "f27ff5e4",
   "metadata": {},
   "outputs": [
    {
     "data": {
      "image/png": "[encoded data removed]",
      "text/plain": [
       "<Figure size 360x360 with 1 Axes>"
      ]
     },
     "metadata": {
      "needs_background": "light"
     },
     "output_type": "display_data"
    }
   ],
   "source": [
    "#выведем полученный результат\n",
    "plt.figure(figsize=(5,5))\n",
    "for ind, color in zip(clust_indices2, colors):\n",
    "    x = clusters2[ind][:,0]\n",
    "    y = clusters2[ind][:,1]\n",
    "    plt.scatter(x, y, color=color)\n",
    "    \n",
    "    centroid2 = centroids_embeddings2[ind]\n",
    "    plt.scatter(centroid2[0],centroid2[1], color=color, marker='x', s=100)\n",
    "\n",
    "plt.show()"
   ]
  },
  {
   "cell_type": "markdown",
   "id": "9ae6ace4",
   "metadata": {},
   "source": [
    "Визуализация явно показывает, что модель NMF с использованными гиперпараметрами не справляется со своей задачей."
   ]
  },
  {
   "cell_type": "markdown",
   "id": "cf2846f3-19ee-4260-9927-6724d3763c97",
   "metadata": {},
   "source": [
    "\n",
    "<div class=\"alert alert-warning\">\n",
    "<b>Комментарий ревьюера ⚠️:</b>\n",
    "\n",
    "Повторяющийся громоздкий код можно упаковать в функцию 😉\n",
    "\n",
    "</div>\n"
   ]
  },
  {
   "cell_type": "markdown",
   "id": "50abfba9",
   "metadata": {},
   "source": [
    "# Выводы"
   ]
  },
  {
   "attachments": {
    "image.png": {
     "image/png": "[encoded data removed]"
    }
   },
   "cell_type": "markdown",
   "id": "3dcf84f2",
   "metadata": {},
   "source": [
    "Для проведения исследования командой написан скрипт (parser) для сбора данных в социальной сети LinkedIN, которые представляют собой ссылки на профили людей, подходящих под ЦА заказчика, тексты их постов и реакции.\n",
    "\n",
    "Получилось собрать информацию о 158 профилях и 1125 текстов. Преобладающее количество текстов на русском языке. Но из-за небольшого их количества выполнить задачу не представлялось возможным. Поэтому, для улучшения качества прогноза модели, было решено обменяться собранными данными с другими командами.\n",
    "\n",
    "**В итоге, для анализе использовались 1012 профилей и 11146 текстов.** Полученные тексты распределились по языкам следующим образом:\n",
    " - en - 60%\n",
    " - ru - 32%\n",
    " - uk - 2%\n",
    " - остальные - 6% (всего определлились 36 языков).\n",
    "\n",
    "Для корректного анализа тексты предварительно переведены на русский язык.\n",
    "\n",
    "При исследовании длин полученных текстов установлено, что максимальная достигает 6638 знаков, а минимальная длина равна двум знакам. Таким образом, 25% собранных данных короче 110 символов. Такие \"короткие\" тексты (предположительно подпись к картинке или видео, набор хэштэгов, смайлов и пр.) не несли в себе полезную информацию, поэтому решено удалить эти наблюдения. В итоге использовались 8413 текстов.\n",
    "\n",
    "На этапе подготовки текстов для модели была проведена лемматизация и токенизация текстов. Также тексты были очищены от \"мусорных\" символов - знаков пунктуации, смайлов, иностранных слов, цифр. Удалены стоп-слова. \n",
    "\n",
    "Векторизация текстов производилась при помощи Tf-iDf.\n",
    "На этапе подбора модели были использованы:\n",
    " - LDA - LatentDirichletAllocation\n",
    " - NMF - Non-Negative Matrix Factorization\n",
    "\n",
    "Эффективность работы модели сложно оценить, так как нет метрик на которые можно опереться. Для выбора модели использовали здравый смысл и алгоритмы визуализации, которые позволили определить насколько хорошо модель разделяет тесты по темам.\n",
    "\n",
    "Корректное распределение вероятности и лучшее разделение тем получено в результате применения модели LDA. Таким образом, рейтинг тем на основании частоты упоминания в порядке убывания:\n",
    "\n",
    " - Тема 6 - новости IT рынка;\n",
    " - Тема 9 - поиск работы;\n",
    " - Тема 7 - обучение IT профессиям;\n",
    " - Тема 4 - предложение IT услуг;\n",
    " - Тема 8 - IT рекрутмент;\n",
    " - Тема 10 - поиск работы;\n",
    " - Тема 5 - менторство начинающих специалистов;\n",
    " - Тема 3 - коучинг;\n",
    " - Тема 2 - внешняя политика;\n",
    " - Тема 1 - проектное сотрудничество;\n",
    " \n",
    "Выделены следующие топ-10 ключевых слов по темам:\n",
    "\n",
    "| Тема | Название темы | Количество тем |Средняя вероятность | Ключевые слова |\n",
    "|----------|----------|----------|----------|----------|\n",
    "| Тема 6    | новости IT рынка   | 6440 | 0.75 | решение, опыт, клиент, приложение, продукт, бизнес, разработка, команда, проект, компания |\n",
    "| Тема 9    | поиск работы   | 206 | 0.71 | кибербезопасность, здравствовать, признателен, иб, поддержка, совет, предложить, возможность, заранее, благодарить |\n",
    "| Тема 7    | обучение IT профессиям   | 58 | 0.66 | асинхронный, машинный, буква, испытание, карусель, видео, генеративный, проверить, курс, закончить |\n",
    "| Тема 4    | предложение IT услуг   | 186 | 0.65 | рад, услуга, разработка, сообщить, сертификат, компания, должность, начинать, удовольствие, сообщать |\n",
    "| Тема 8    | IT рекрутмент   | 128 | 0.63 | делиться, статья, желать, тильда, оценить, комментарий, праздник, ребята, нанимать, лендинг |\n",
    "| Тема 10   | поиск работы    | 180 | 0.63 | встретиться, отличный, нетерпение, невероятный, поделиться, грузия, команда, заявка, рад, саммит |\n",
    "| Тема 5    | менторство начинающих специалистов   | 611 | 0.61 | английский, команда, поиск, проект, привет, опыт, резюме, разработчик, искать, вакансия |\n",
    "| Тема 3    | коучинг   | 151 | 0.60 | желать, счастливый, выходной, справляться, проверка, пройти, тест, следующий, значок, навык |\n",
    "| Тема 2    | внешняя политика   | 262 | 0.57 | военный, европа, доклад, вебинар, ноябрь, март, российский, конференция, украинец, украина |\n",
    "| Тема 1    | проектное сотрудничество   | 191 | 0.56 | создать, фирменный, анимация, пожаловать, сайт, добро, дизайнер, стиль, логотип, дизайн |\n",
    "\n",
    "На основании полученных результатов можно заметить, что все посты написаны примерно про одно и то же, это: поиск работы или работников, впечатление от обучения и несколько тем посвящены коучингу и менторству начинающих специалистов. По теме наставничества целевая группа пишет немного.\n",
    "\n",
    "**Пример визуализации разделения тем на кластеры моделью LDA**\n",
    "![image.png](attachment:image.png)\n",
    "На изображении tSNE ембеддингов, видно, что кластеры выделенные с помощью KMeans, образуют достаточно связные и чаще всего пространственно разделимые между собой множества. Но так же видно, что есть над чем еще поработать.\n",
    "\n",
    "При анализе распределения тем, с большим отрывом лидирует тема 6 (6440 текстов), на втором месте модель поставила тему 5 - 611 текстов, на третьем - 2 тема и 262 текста.\n",
    "\n",
    "При оценке топ-100 постов, для которых модель наиболее уверенно (с большей вероятностью) определила тему выяснилось, что все эти посты отнесены к теме 6. Что логично, так как эти тексты представлены на порядок в большем количестве. Вероятность для топ-100 находится в пределах 0.92 - 0.89.\n",
    "\n",
    "При оценке средней вероятности, с которой алгоритм определял принадлежность к определенной теме выяснилось, что увереннее всего он справляется с темами:\n",
    " - 6 тема - средняя вероятность 0.75 - количество текстов 6440\n",
    " - 9 тема - средняя вероятность 0.71 - количество текстов 206\n",
    " - 7 тема - средняя вероятность 0.66 - количество текстов 58\n",
    "\n",
    "Хуже всего модель справилась с темами 3, 2 и 1 - средние вероятности 0.60 (151 текст), 0.57(262) и 0.56(191). Возможно, это связано с тебольшим количеством текстов для данных тем.\n",
    "\n",
    "Стоит отметить, что данные пришедшие от других команд, содержат значительное количество текстов на политичесие темы, что не относится к теме исследования. В дальнейшем планируется вычислить датасет с нерелевантными данными и исключить его из моделирования.\n",
    "\n",
    "\n",
    "**Что можно сделать лучше:**\n",
    "- Изменить стратегию поиска постов, применить другие ключевые слова для сбора данных целевой аудитории.\n",
    "- Хороший результат был получен при добавлении стоп кастомизированных стоп-слов, расширение этого списка потенциально может улучшить работу модели.\n",
    "- Попробовать использовать предобученные модели BERT как самостоятельный вариант или вместе с LDA.\n",
    "\n",
    "\n",
    "**В ходе работы над проектом команда столкнулась со следующими сложностями:**\n",
    "   - замена ключевого участника на середине хакатона;\n",
    "   - социальная сеть LinkdIn хорошо защищает данные своих пользователей от парсинга. Кроме того, накладывает ограничения на возможность просмотра профилей - пользователи с маленьким количеством контактов не могут просмотривать посты других людей. Проблема была решена путем обмена контактами участников хакатона друг с другом и объединением всех собранных данных команд в один датасет.\n",
    "   - некоторые посты отдельных пользователей защищены от парсинга, в связи с этим, возникла проблема с корректным сбором реакций на посты. Проблема пока остается не решенной, однако это не мешает тематическому моделированию и получению достоверных результатов;\n",
    "   - оказалось, что представители целевой аудитории мало пишут про наставничество и менторство. В связи с этим возникла проблема нехватки данных по теме исследования хакатона. Проблема может быть решена более тщательным подбором ключевых слов для фильтрации пользователей."
   ]
  },
  {
   "cell_type": "markdown",
   "id": "b090ad8a-940c-4c02-9064-c8776964ce4e",
   "metadata": {},
   "source": [
    "<div class=\"alert alert-danger\">\n",
    "<b>Комментарий ревьюера ❌:</b>\n",
    "\n",
    "К сожалению, выполнена только часть работы по сбору топиков и ключевых слов написанных постов.\n",
    "\n",
    "- Не раскрыта тема, а что парсили и по каким критериям?\n",
    "- Нет анализа популярности этих тем по реакциям читателей\n",
    "- Нет анализа аудитории\n",
    "</div>\n",
    "\n",
    "<div class=\"alert alert-warning\">\n",
    "<b>Комментарий ревьюера ⚠️:</b>\n",
    "\n",
    "Судя по тому какая обработка в collect_parsed_data потребовалась для объединения собственных данных парсинга – структура датасета для сохранения была очень неоптимальной. Циклы split, append – вероятно там были списки? Список из типа object можно обратно в список преобразовать через [eval](https://docs.python.org/3/library/functions.html#eval) либо в парсере сразу все структурировать.\n",
    "\n",
    "- В парсере строки 62 и 63 – получается парсинг выполняется дважды, чтобы собрать посты и потом чтоб собрать лайки.\n",
    "- При этом лайки насколько я понимаю не стали разделять по постам, а просто сложили в общий список для каждого юзера?\n",
    "</div>\n",
    "\n",
    "<div class=\"alert alert-success\">\n",
    "<b>Комментарий ревьюера ✔️:</b> В целом проведена большая работа. Код читаемый, аккуратный. К каждому шагу есть пояснения. Видно, что технически ты хорошо владеешь инструментом 👍</div>\n"
   ]
  },
  {
   "cell_type": "code",
   "execution_count": null,
   "id": "b43ee63b-43f0-4141-9593-476bf33d4505",
   "metadata": {},
   "outputs": [],
   "source": []
  }
 ],
 "metadata": {
  "kernelspec": {
   "display_name": "Python 3 (ipykernel)",
   "language": "python",
   "name": "python3"
  },
  "language_info": {
   "codemirror_mode": {
    "name": "ipython",
    "version": 3
   },
   "file_extension": ".py",
   "mimetype": "text/x-python",
   "name": "python",
   "nbconvert_exporter": "python",
   "pygments_lexer": "ipython3",
   "version": "3.11.3"
  },
  "toc": {
   "base_numbering": 1,
   "nav_menu": {},
   "number_sections": true,
   "sideBar": true,
   "skip_h1_title": true,
   "title_cell": "Table of Contents",
   "title_sidebar": "Contents",
   "toc_cell": true,
   "toc_position": {},
   "toc_section_display": true,
   "toc_window_display": false
  }
 },
 "nbformat": 4,
 "nbformat_minor": 5
}
