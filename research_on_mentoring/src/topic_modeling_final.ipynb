{
 "cells": [
  {
   "cell_type": "markdown",
   "id": "d7a446e7",
   "metadata": {
    "toc": true
   },
   "source": [
    "<h1>Table of Contents<span class=\"tocSkip\"></span></h1>\n",
    "<div class=\"toc\"><ul class=\"toc-item\"><li><span><a href=\"#Ознакомимся-с-данными\" data-toc-modified-id=\"Ознакомимся-с-данными-1\"><span class=\"toc-item-num\">1&nbsp;&nbsp;</span>Ознакомимся с данными</a></span></li><li><span><a href=\"#Подготовка-текстов\" data-toc-modified-id=\"Подготовка-текстов-2\"><span class=\"toc-item-num\">2&nbsp;&nbsp;</span>Подготовка текстов</a></span></li><li><span><a href=\"#Векторизация-текстов\" data-toc-modified-id=\"Векторизация-текстов-3\"><span class=\"toc-item-num\">3&nbsp;&nbsp;</span>Векторизация текстов</a></span></li><li><span><a href=\"#LDA\" data-toc-modified-id=\"LDA-4\"><span class=\"toc-item-num\">4&nbsp;&nbsp;</span>LDA</a></span><ul class=\"toc-item\"><li><span><a href=\"#Ключевые-слова\" data-toc-modified-id=\"Ключевые-слова-4.1\"><span class=\"toc-item-num\">4.1&nbsp;&nbsp;</span>Ключевые слова</a></span></li><li><span><a href=\"#Типичные-статьи\" data-toc-modified-id=\"Типичные-статьи-4.2\"><span class=\"toc-item-num\">4.2&nbsp;&nbsp;</span>Типичные статьи</a></span></li></ul></li><li><span><a href=\"#Модель-NMF\" data-toc-modified-id=\"Модель-NMF-5\"><span class=\"toc-item-num\">5&nbsp;&nbsp;</span>Модель NMF</a></span><ul class=\"toc-item\"><li><span><a href=\"#Ключевые-слова\" data-toc-modified-id=\"Ключевые-слова-5.1\"><span class=\"toc-item-num\">5.1&nbsp;&nbsp;</span>Ключевые слова</a></span></li><li><span><a href=\"#Типичные-посты\" data-toc-modified-id=\"Типичные-посты-5.2\"><span class=\"toc-item-num\">5.2&nbsp;&nbsp;</span>Типичные посты</a></span></li></ul></li></ul></div>"
   ]
  },
  {
   "cell_type": "markdown",
   "id": "9ffc05be",
   "metadata": {},
   "source": [
    "# Исследование темы наставничества в LinkedIn"
   ]
  },
  {
   "cell_type": "markdown",
   "id": "7e9eeb8b",
   "metadata": {},
   "source": [
    "**Описание проекта  и цель**\n",
    "\n",
    "Требуется провести исследование по теме наставничества и менторства на основании контента социальной сети LinkedIn, размещенного в открытом доступе, созданного целевой аудиторией.\n",
    "\n",
    "Задача исследования: определить топ-10 тем в направлении наставничества.\n",
    "\n",
    "**Описание данных**\n",
    "\n",
    "Сбор данных осуществлялся на сайт социальнй сети LinkedIn. В данных представлены ссылки на профили из ЦА (целевая аудитория), тексты публикаций. Некоторые тексты были написаны на иностранных языках, поэтому они были предварительно переведены на русский.\n",
    "\n",
    " - url_user - ссылка на профиль\n",
    " - text_post  - текст публикации\n",
    " - language  - язык публикации\n",
    " - translated_text - переведенный текст\n",
    " \n",
    " \n",
    " **План работы**\n",
    " \n",
    "1. Предобработка данных\n",
    "    - Ознакомление с данными\n",
    "    - Подготовка текстов\n",
    "    - Векторизация текстов\n",
    "2. Моделирование\n",
    "   - модель LDA\n",
    "   - модель NMF\n",
    "   - Ключевые слова для каждой модели\n",
    "   - Типичные статьи для каждой модели\n",
    "3. Выводы"
   ]
  },
  {
   "cell_type": "markdown",
   "id": "df09096d",
   "metadata": {},
   "source": [
    "# Предобработка данных"
   ]
  },
  {
   "cell_type": "markdown",
   "id": "a3d4a1f5",
   "metadata": {},
   "source": [
    "## Ознакомимся с данными"
   ]
  },
  {
   "cell_type": "code",
   "execution_count": 54,
   "id": "acffa7f0",
   "metadata": {},
   "outputs": [],
   "source": [
    "# Импорт библиотек\n",
    "import re\n",
    "import json\n",
    "import random\n",
    "import warnings \n",
    "\n",
    "import pandas as pd\n",
    "import numpy as np\n",
    "from tqdm import tqdm\n",
    "\n",
    "import matplotlib.pyplot as plt\n",
    "import matplotlib.cm as cm\n",
    "\n",
    "import spacy\n",
    "from nltk.corpus import stopwords\n",
    "from wordcloud import WordCloud\n",
    "\n",
    "from sklearn.decomposition import LatentDirichletAllocation, NMF\n",
    "from sklearn.feature_extraction.text import TfidfVectorizer\n",
    "from sklearn.cluster import KMeans\n",
    "from sklearn.manifold import TSNE"
   ]
  },
  {
   "cell_type": "code",
   "execution_count": 2,
   "id": "fc8c15ef",
   "metadata": {},
   "outputs": [],
   "source": [
    "warnings.filterwarnings('ignore')"
   ]
  },
  {
   "cell_type": "code",
   "execution_count": 3,
   "id": "5b843fdb",
   "metadata": {},
   "outputs": [
    {
     "data": {
      "text/html": [
       "<div>\n",
       "<style scoped>\n",
       "    .dataframe tbody tr th:only-of-type {\n",
       "        vertical-align: middle;\n",
       "    }\n",
       "\n",
       "    .dataframe tbody tr th {\n",
       "        vertical-align: top;\n",
       "    }\n",
       "\n",
       "    .dataframe thead th {\n",
       "        text-align: right;\n",
       "    }\n",
       "</style>\n",
       "<table border=\"1\" class=\"dataframe\">\n",
       "  <thead>\n",
       "    <tr style=\"text-align: right;\">\n",
       "      <th></th>\n",
       "      <th>url_user</th>\n",
       "      <th>text_post</th>\n",
       "      <th>language</th>\n",
       "      <th>translated_text</th>\n",
       "    </tr>\n",
       "  </thead>\n",
       "  <tbody>\n",
       "    <tr>\n",
       "      <th>0</th>\n",
       "      <td>https://www.linkedin.com/in/korenevich/</td>\n",
       "      <td>['Приложение которое из голоса раскидывает зад...</td>\n",
       "      <td>ru</td>\n",
       "      <td>['Приложение которое из голоса раскидывает зад...</td>\n",
       "    </tr>\n",
       "    <tr>\n",
       "      <th>1</th>\n",
       "      <td>https://www.linkedin.com/in/korenevich/</td>\n",
       "      <td>'Почему основатель любого бизнеса обязан умет...</td>\n",
       "      <td>ru</td>\n",
       "      <td>'Почему основатель любого бизнеса обязан умет...</td>\n",
       "    </tr>\n",
       "    <tr>\n",
       "      <th>2</th>\n",
       "      <td>https://www.linkedin.com/in/korenevich/</td>\n",
       "      <td>'Казнить нельзя помиловать. Навык #9 – принят...</td>\n",
       "      <td>ru</td>\n",
       "      <td>'Казнить нельзя помиловать. Навык #9 – принят...</td>\n",
       "    </tr>\n",
       "    <tr>\n",
       "      <th>3</th>\n",
       "      <td>https://www.linkedin.com/in/korenevich/</td>\n",
       "      <td>'Кто хорошо потрудился на этой неделе, тот я....</td>\n",
       "      <td>ru</td>\n",
       "      <td>'Кто хорошо потрудился на этой неделе, тот я....</td>\n",
       "    </tr>\n",
       "    <tr>\n",
       "      <th>4</th>\n",
       "      <td>https://www.linkedin.com/in/korenevich/</td>\n",
       "      <td>'Сегодня была защита дипломных работ на кафед...</td>\n",
       "      <td>ru</td>\n",
       "      <td>'Сегодня была защита дипломных работ на кафед...</td>\n",
       "    </tr>\n",
       "  </tbody>\n",
       "</table>\n",
       "</div>"
      ],
      "text/plain": [
       "                                  url_user  \\\n",
       "0  https://www.linkedin.com/in/korenevich/   \n",
       "1  https://www.linkedin.com/in/korenevich/   \n",
       "2  https://www.linkedin.com/in/korenevich/   \n",
       "3  https://www.linkedin.com/in/korenevich/   \n",
       "4  https://www.linkedin.com/in/korenevich/   \n",
       "\n",
       "                                           text_post language  \\\n",
       "0  ['Приложение которое из голоса раскидывает зад...       ru   \n",
       "1   'Почему основатель любого бизнеса обязан умет...       ru   \n",
       "2   'Казнить нельзя помиловать. Навык #9 – принят...       ru   \n",
       "3   'Кто хорошо потрудился на этой неделе, тот я....       ru   \n",
       "4   'Сегодня была защита дипломных работ на кафед...       ru   \n",
       "\n",
       "                                     translated_text  \n",
       "0  ['Приложение которое из голоса раскидывает зад...  \n",
       "1   'Почему основатель любого бизнеса обязан умет...  \n",
       "2   'Казнить нельзя помиловать. Навык #9 – принят...  \n",
       "3   'Кто хорошо потрудился на этой неделе, тот я....  \n",
       "4   'Сегодня была защита дипломных работ на кафед...  "
      ]
     },
     "execution_count": 3,
     "metadata": {},
     "output_type": "execute_result"
    }
   ],
   "source": [
    "# Ознакомимся с датасетом \n",
    "df = pd.read_csv('data/all_data_translated.csv')\n",
    "\n",
    "# выведем первые строки\n",
    "df.head()"
   ]
  },
  {
   "cell_type": "markdown",
   "id": "cc28c4d6",
   "metadata": {},
   "source": [
    "Изначально данные собраны на разных языках. Дело в том, что рускоязычные спикеры пишут как на русском, там и на английском языках, поскольку социальная сеть предназначена для международной коммуникации в том числе."
   ]
  },
  {
   "cell_type": "code",
   "execution_count": 4,
   "id": "81c9061b",
   "metadata": {},
   "outputs": [
    {
     "data": {
      "text/plain": [
       "(11146, 4)"
      ]
     },
     "execution_count": 4,
     "metadata": {},
     "output_type": "execute_result"
    }
   ],
   "source": [
    "# Проверим размерность\n",
    "df.shape"
   ]
  },
  {
   "cell_type": "code",
   "execution_count": 5,
   "id": "2b6ea74a",
   "metadata": {},
   "outputs": [
    {
     "data": {
      "text/plain": [
       "211"
      ]
     },
     "execution_count": 5,
     "metadata": {},
     "output_type": "execute_result"
    }
   ],
   "source": [
    "# Проверка на дубликаты\n",
    "df.duplicated().sum()"
   ]
  },
  {
   "cell_type": "code",
   "execution_count": 6,
   "id": "3dc35557",
   "metadata": {},
   "outputs": [],
   "source": [
    "# Удалим дубликаты \n",
    "df = df.drop_duplicates(keep='last')"
   ]
  },
  {
   "cell_type": "code",
   "execution_count": 7,
   "id": "d1058ce9",
   "metadata": {},
   "outputs": [
    {
     "data": {
      "text/plain": [
       "url_user           0\n",
       "text_post          0\n",
       "language           0\n",
       "translated_text    0\n",
       "dtype: int64"
      ]
     },
     "execution_count": 7,
     "metadata": {},
     "output_type": "execute_result"
    }
   ],
   "source": [
    "# Проверим пропуски\n",
    "df.isna().sum()"
   ]
  },
  {
   "cell_type": "code",
   "execution_count": 8,
   "id": "32559b49",
   "metadata": {},
   "outputs": [
    {
     "data": {
      "text/html": [
       "<div>\n",
       "<style scoped>\n",
       "    .dataframe tbody tr th:only-of-type {\n",
       "        vertical-align: middle;\n",
       "    }\n",
       "\n",
       "    .dataframe tbody tr th {\n",
       "        vertical-align: top;\n",
       "    }\n",
       "\n",
       "    .dataframe thead th {\n",
       "        text-align: right;\n",
       "    }\n",
       "</style>\n",
       "<table border=\"1\" class=\"dataframe\">\n",
       "  <thead>\n",
       "    <tr style=\"text-align: right;\">\n",
       "      <th></th>\n",
       "      <th>url_user</th>\n",
       "      <th>text_post</th>\n",
       "      <th>language</th>\n",
       "      <th>translated_text</th>\n",
       "    </tr>\n",
       "  </thead>\n",
       "  <tbody>\n",
       "  </tbody>\n",
       "</table>\n",
       "</div>"
      ],
      "text/plain": [
       "Empty DataFrame\n",
       "Columns: [url_user, text_post, language, translated_text]\n",
       "Index: []"
      ]
     },
     "execution_count": 8,
     "metadata": {},
     "output_type": "execute_result"
    }
   ],
   "source": [
    "# Проверим есть ли строки, в которых нет текста\n",
    "df.loc[df['translated_text'] == '']"
   ]
  },
  {
   "cell_type": "code",
   "execution_count": 9,
   "id": "4647ccc5",
   "metadata": {},
   "outputs": [
    {
     "data": {
      "text/plain": [
       "1012"
      ]
     },
     "execution_count": 9,
     "metadata": {},
     "output_type": "execute_result"
    }
   ],
   "source": [
    "# Количество профилей\n",
    "df.url_user.nunique()"
   ]
  },
  {
   "cell_type": "code",
   "execution_count": 10,
   "id": "ba991397",
   "metadata": {},
   "outputs": [
    {
     "name": "stdout",
     "output_type": "stream",
     "text": [
      "<class 'pandas.core.frame.DataFrame'>\n",
      "Index: 10935 entries, 0 to 11145\n",
      "Data columns (total 4 columns):\n",
      " #   Column           Non-Null Count  Dtype \n",
      "---  ------           --------------  ----- \n",
      " 0   url_user         10935 non-null  object\n",
      " 1   text_post        10935 non-null  object\n",
      " 2   language         10935 non-null  object\n",
      " 3   translated_text  10935 non-null  object\n",
      "dtypes: object(4)\n",
      "memory usage: 427.1+ KB\n"
     ]
    }
   ],
   "source": [
    "# Посомотрим на итоговые результаты\n",
    "df.info()"
   ]
  },
  {
   "cell_type": "code",
   "execution_count": 11,
   "id": "ec38155f",
   "metadata": {},
   "outputs": [
    {
     "data": {
      "text/plain": [
       "array([['💡💻 📰 ✨ Рада поделиться своими мыслями о защите среды удаленной работы в последней статье Forbes под названием «13 экспертных стратегий, помогающих защитить среду удаленной работы». Крайне важно ограничить доступ сотрудников к важным данным, чтобы обеспечить безопасность данных и защитить конфиденциальную информацию. Ознакомьтесь с полным текстом статьи на веб-сайте Forbes, чтобы получить ценную информацию и эффективные стратегии. Давайте вместе создадим безопасную и надежную рабочую среду! Следите за обновлениями и ценной информацией 😉',\n",
       "        'Библиотечное приложениеКоличество цифровых библиотек быстро растет. Все мы счастливы держать книгу в руках, но... Экология, время, скорость жизни, деньги - все способствует тому, что, пожалуй, ни один человек не читал электронное издание хотя бы раз в жизни. «Современная библиотека» спроектирована таким образом, чтобы упростить обслуживание, чтобы не нарушать предвкушение чтения. #электронная книга #bookonlinestore#tabletapp #планшет',\n",
       "        '❇️ ДЛЯ ВДОХНОВЕНИЯ:👨 Antonio Mora📝 «Я следопыт, мне нравится обнажать человеческую душу, показывать тайны, которые сны от нас скрывают. Раскройте эмоции, вписанные в нашу коллективную память, уже почти стертые, как слова, написанные на песке после того, как прошла волна. Но они сохраняются, они неизгладимо запечатлены в нашем сокровенном сознании, и поэтому мы можем мельком увидеть их в эфемерном дежавю, когда они подстегиваются красотой, интенсивностью и волшебством. Мы говорим об эмоциях предков, о метаморфозах между параллельными вселенными, которые вы можете найти в глубине своей души. Это дух, который оживляет меня, когда я сижу перед экраном и пытаюсь проникнуть в образы и созерцать гибридных существ за ними.»( Antonio Mora )',\n",
       "        'нет постов',\n",
       "        'Отличный обзор того, как #Insurtech становится следующей цифровой экосистемой.']],\n",
       "      dtype=object)"
      ]
     },
     "execution_count": 11,
     "metadata": {},
     "output_type": "execute_result"
    }
   ],
   "source": [
    "# Посмотрим на тексты публикаций - случайным образом сэмплируем несколько примеров\n",
    "df['translated_text'].values[[random.sample(range(len(df)), k=5)]]"
   ]
  },
  {
   "cell_type": "code",
   "execution_count": 12,
   "id": "949c4a24",
   "metadata": {},
   "outputs": [
    {
     "data": {
      "text/plain": [
       "array(['ru', 'ro', 'en', 'uk', 'hr', 'mk', 'ca', 'et', 'no', 'bg', 'fr',\n",
       "       'sl', 'sq', 'fi', 'id', 'cs', 'it', 'af', 'tl', 'pt', 'sv', 'de',\n",
       "       'es', 'nl', 'cy', 'da', 'sw', 'pl', 'tr', 'so', 'ar', 'lt', 'vi',\n",
       "       'he', 'hu', 'sk'], dtype=object)"
      ]
     },
     "execution_count": 12,
     "metadata": {},
     "output_type": "execute_result"
    }
   ],
   "source": [
    "# Посмотрим какие языки присутсвуют в тексте\n",
    "df['language'].unique()"
   ]
  },
  {
   "cell_type": "code",
   "execution_count": 13,
   "id": "a00bcbf0",
   "metadata": {},
   "outputs": [
    {
     "data": {
      "image/png": "[encoded data removed]",
      "text/plain": [
       "<Figure size 1000x500 with 1 Axes>"
      ]
     },
     "metadata": {},
     "output_type": "display_data"
    }
   ],
   "source": [
    "# Исследуем топ-10 языков по встречаемости\n",
    "lang_freq = (df['language'].value_counts(normalize=True).round(4)[:10])*100\n",
    "\n",
    "ax = lang_freq.plot(kind='bar', figsize=(10, 5), title='Встречаемость различных языков в текстах',\n",
    "             xlabel='Язык', ylabel='Частота %', legend=False, rot = 0)\n",
    "\n",
    "ax.bar_label(ax.containers[0], label_type='edge')\n",
    "ax.margins(y=0.1)"
   ]
  },
  {
   "cell_type": "markdown",
   "id": "6e78d6d9",
   "metadata": {},
   "source": [
    "Таким образом, подавляющее число постов (более 60%) написано на английском языке. На втором месте - русские тексты (~ 32%)."
   ]
  },
  {
   "cell_type": "code",
   "execution_count": 14,
   "id": "5ebafcfc",
   "metadata": {},
   "outputs": [
    {
     "data": {
      "text/plain": [
       "850"
      ]
     },
     "execution_count": 14,
     "metadata": {},
     "output_type": "execute_result"
    }
   ],
   "source": [
    "# Оценим, как много текстов написано не на 'ru' и 'en'\n",
    "len(df.loc[~df['language'].isin(['ru', 'en'])])"
   ]
  },
  {
   "cell_type": "markdown",
   "id": "77e8c222",
   "metadata": {},
   "source": [
    "Язык отличный от английского и русского встречается в 850 текстах. Под другими языками могли определиться тексты, содержащие хэштеги, профессионализмы и жаргон. "
   ]
  },
  {
   "cell_type": "code",
   "execution_count": 15,
   "id": "858ccbda",
   "metadata": {},
   "outputs": [],
   "source": [
    "# Добавим дополнительнй признак - длина текста\n",
    "df['len_text'] = df['text_post'].apply(lambda x:len(x))"
   ]
  },
  {
   "cell_type": "code",
   "execution_count": 16,
   "id": "178427cb",
   "metadata": {},
   "outputs": [
    {
     "data": {
      "image/png": "[encoded data removed]",
      "text/plain": [
       "<Figure size 800x500 with 1 Axes>"
      ]
     },
     "metadata": {},
     "output_type": "display_data"
    }
   ],
   "source": [
    "# Построим гистограмму распределения длин\n",
    "plt.figure(figsize=(8,5))\n",
    "df['len_text'].plot.hist(bins = 30)\n",
    "\n",
    "plt.title('Гистограмма распределения текстов по количеству символов')\n",
    "plt.xlabel('Количество символов')\n",
    "plt.show()"
   ]
  },
  {
   "cell_type": "code",
   "execution_count": 17,
   "id": "4feb2de7",
   "metadata": {},
   "outputs": [
    {
     "data": {
      "text/plain": [
       "count    10935.000000\n",
       "mean       545.891724\n",
       "std        623.084776\n",
       "min          2.000000\n",
       "25%        110.500000\n",
       "50%        307.000000\n",
       "75%        762.000000\n",
       "max       6638.000000\n",
       "Name: len_text, dtype: float64"
      ]
     },
     "execution_count": 17,
     "metadata": {},
     "output_type": "execute_result"
    }
   ],
   "source": [
    "# Выведем статистику по количеству символов\n",
    "df['len_text'].describe()"
   ]
  },
  {
   "cell_type": "markdown",
   "id": "59b7bd8f",
   "metadata": {},
   "source": [
    "Видно, что длина некоторых текстов достигает 6638 знаков, а минамальная длина равна двум знакам. Таким образом, 25% данных короче 110 символов. Посмотрим на примеры текстов и оценим несут ли они в себе полезную информацию."
   ]
  },
  {
   "cell_type": "code",
   "execution_count": 18,
   "id": "61071155",
   "metadata": {},
   "outputs": [
    {
     "data": {
      "text/plain": [
       "91                    'оп и я тут тоже 😄\n",
       "98           'Очень близок такой подход.\n",
       "187                            'Хорошее)\n",
       "209                      'Лучший способ!\n",
       "210           'Будет что-нибудь сегодня?\n",
       "                      ...               \n",
       "11108    Умное производство — это круто.\n",
       "11109                      Вперед, Илон!\n",
       "11111        Дизайн базы данных DataCamp\n",
       "11140                      Хорошая схема\n",
       "11145                           DataCamp\n",
       "Name: translated_text, Length: 780, dtype: object"
      ]
     },
     "execution_count": 18,
     "metadata": {},
     "output_type": "execute_result"
    }
   ],
   "source": [
    "# Тексты короче 30 символов\n",
    "df.loc[df['len_text'] < 30, 'translated_text']"
   ]
  },
  {
   "cell_type": "code",
   "execution_count": 19,
   "id": "0023e809",
   "metadata": {},
   "outputs": [
    {
     "data": {
      "text/plain": [
       "0        ['Приложение которое из голоса раскидывает зад...\n",
       "3         'Кто хорошо потрудился на этой неделе, тот я....\n",
       "5         '🔥Вот и приложение под iOS🔥 Очень ждал тк в м...\n",
       "19                'Черканула о постановке карьерных целей.\n",
       "29        'Пока мы на каникулах немного развлекательног...\n",
       "                               ...                        \n",
       "11133    Том Торн #нанимает. Знаете кого-нибудь, кому э...\n",
       "11136    Посмотрите мое проверенное достижение от The L...\n",
       "11140                                        Хорошая схема\n",
       "11143         Обобщенные линейные модели DataCamp в Python\n",
       "11145                                             DataCamp\n",
       "Name: translated_text, Length: 2506, dtype: object"
      ]
     },
     "execution_count": 19,
     "metadata": {},
     "output_type": "execute_result"
    }
   ],
   "source": [
    "# Тексты короче 100 символов\n",
    "df.loc[df['len_text'] < 100, 'translated_text']"
   ]
  },
  {
   "cell_type": "markdown",
   "id": "d8059bd5",
   "metadata": {},
   "source": [
    "Удалим тексты короче 100 символов. Предполагаем, что это как правило текст, который не несет нужной нас информации - это может быть подпись к картинке или видео, набор хэштэгов и пр."
   ]
  },
  {
   "cell_type": "code",
   "execution_count": 20,
   "id": "baf9a030",
   "metadata": {},
   "outputs": [],
   "source": [
    "# Удалим наблюдения с текстами менее 100 символов\n",
    "df_len_text_100 = df.loc[df['len_text'] > 100]"
   ]
  },
  {
   "cell_type": "code",
   "execution_count": 21,
   "id": "e096374a",
   "metadata": {},
   "outputs": [
    {
     "data": {
      "text/plain": [
       "8413"
      ]
     },
     "execution_count": 21,
     "metadata": {},
     "output_type": "execute_result"
    }
   ],
   "source": [
    "# Количество наблюдений\n",
    "len(df_len_text_100)"
   ]
  },
  {
   "cell_type": "markdown",
   "id": "b271cb4f",
   "metadata": {},
   "source": [
    "По завершению анализа исходных данных можно заключить:\n",
    "\n",
    "   - размер исходного датасета для анализа составляет 11146 строк на 4 столбца. Представлены ссылки на профили пользователей, тексты публикации, язык публикации и переведенный на русский язык текст публикации;\n",
    "   - пропусков в данных нет, но есть дубликаты;\n",
    "   - текстах видны смайлы, хэштэги, служебные символы, слова и абревиатуры на английском, ссылки; \n",
    "   - тексты написаны на разных языках, количестов постов не на русском и не на английском языках - 850\n",
    "   - выявлено, что 2506 текстов из 11146 \"короткие\" - т.е. их длина менее 100 символов. Из них 865 текстов короче 30 символов. Что составляет 22% и 8% от исходных данных.\n",
    "   - максимальныя длина текста - 6638 символов, а минимальная - 2 символа.\n",
    "   \n",
    "   \n",
    "На следующем этапе будут использоваться данные (8413 текстов) где размерность текстов в постах составляет более 100 символов. Кроме того, тексты будут очищены от символов, смайлов и стоп-слов. "
   ]
  },
  {
   "cell_type": "markdown",
   "id": "0bbea17c",
   "metadata": {},
   "source": [
    "## Подготовка текстов"
   ]
  },
  {
   "cell_type": "markdown",
   "id": "f0b9becc",
   "metadata": {},
   "source": [
    "Далее проведем подготовку текстов: проведем лемматизацию и токенизацию текстов, а также очистим от \"мусорных\" символов."
   ]
  },
  {
   "cell_type": "code",
   "execution_count": 22,
   "id": "db3a0ff7",
   "metadata": {},
   "outputs": [],
   "source": [
    "# определим модель spacy\n",
    "model = spacy.load('ru_core_news_sm', disable=['ner', 'parser'])"
   ]
  },
  {
   "cell_type": "code",
   "execution_count": 23,
   "id": "5cadb5bf",
   "metadata": {},
   "outputs": [],
   "source": [
    "# Складываем все тексты в один список\n",
    "texts = df_len_text_100[\"translated_text\"].tolist()"
   ]
  },
  {
   "cell_type": "code",
   "execution_count": 24,
   "id": "5e43a315",
   "metadata": {},
   "outputs": [],
   "source": [
    "# Лемматизация текста для текстов, длиннее 100 символов\n",
    "res = []\n",
    "for doc in model.pipe(texts, disable=[\"tagger\", \"parser\"]):\n",
    "    try:\n",
    "        res.append([token.lemma_ for token in doc])\n",
    "    except:\n",
    "        print(doc)"
   ]
  },
  {
   "cell_type": "code",
   "execution_count": 25,
   "id": "4f1a6819",
   "metadata": {},
   "outputs": [],
   "source": [
    "# Сохраним результат лемматизации\n",
    "with open(\"lemmas_100.json\", \"w\") as fid:\n",
    "    json.dump({\"lemmas\": res}, fid)"
   ]
  },
  {
   "cell_type": "code",
   "execution_count": 40,
   "id": "14458c08",
   "metadata": {},
   "outputs": [
    {
     "data": {
      "text/plain": [
       "['я, только, что, получил(а, ), значок, за, навык, \", t, -, sql, \", ., кто, хотеть, быть, следующий, ?, пройти, тест, на, проверка, навык, #, linkedinskillassessment, .',\n",
       " 'всем, известный, ,, что, нельзя, приготовить, омлет, ,, не, разбить, несколько, яйцо, ., иногда, вы, просто, не, мочь, избежать, неудача, ., но, мы, не, отрицать, неудача, —, мы, на, них, учиться, ., и, я, собираться, рассказать, вам, о, случай, ,, который, мы, узнать, ., так, случиться, с, одним, из, наш, проект, не, так, давно, ., клиент, запустить, промо, -, кампания, для, свой, сайт, (, которую, мы, написать, ), для, привлечение, клиент, ., он, не, предупредить, нас, об, это, ,, поэтому, сервер, выйти, из, строй, из, -, за, высокий, активность, на, сайт, ., К, сожаление, ,, в, тот, раз, исправить, это, не, удаться, ,, так, как, сервер, сайт, не, масштабировался, ., на, данный, момент, на, сайт, около, 15000, пользователь, ., мы, как, можно, скорее, позвонить, наш, клиент, ,, чтобы, утвердить, рабочий, процесс, для, промо, -, кампания, ,, и, решить, перейти, на, другой, тип, сервер, с, автоматический, масштабирование, ., этот, ситуация, помочь, нам, выстроить, идеальный, схема, работа, :, клиент, предупреждать, нас, о, новый, кампания, ➜, мы, включать, дополнительный, сервер, и, оставлять, \", дежурного, \", разработчик, ., в, остальных, случай, дополнительный, сервер, отключаются, ,, чтобы, сократить, расход, клиент, ., сейчас, на, сайт, около, 30000, пользователь, ,, и, промо, -, кампания, ни, разу, не, привести, к, сбой, наш, сервер, ., поэтому, мы, знать, ,, что, общение, с, клиент, нельзя, недооценивать, ., вот, почему, так, важный, обсудить, весь, ваш, план, относительно, программный, обеспечение, с, ваш, разработчик, (, включая, маркетинговый, план, ), .',\n",
       " 'rpa, —, это, набор, технология, ,, позволять, проверять, ,, анализировать, и, автоматизировать, аналогичный, задача, для, ускорение, весь, процесс, ,, экономия, время, сотрудник, и, клиент, и, повышение, эффективность, ., автор, вспоминать, тёмный, век, ,, когда, нужный, было, идти, в, банк, ,, чтобы, проверить, баланс, или, получить, выписка, по, счёт, ., теперь, достаточный, нажать, несколько, кнопка, в, ваш, необанке, ,, и, весь, отчёт, ,, выписка, и, чек, генерироваться, автоматически, за, несколько, секунда, ., как, он, быть, развиваться, далёкий, ?, ознакомьтесь, с, новый, инфографикой, в, \\u200b\\u200bнашем, блог, ., он, охватывать, весь, основный, вопрос, ,, связать, с, rpa, в, финтехе, ., зацени, ,, скачай, ,, поделись, :), #, rpa, #, fintech, #, rpainfinance, #, bankingrpa']"
      ]
     },
     "execution_count": 40,
     "metadata": {},
     "output_type": "execute_result"
    }
   ],
   "source": [
    "# Смотрим на результат - случайным образом сэмплируем несколько примеров\n",
    "[\", \".join(text) for text in random.SystemRandom().sample(res, 3)]"
   ]
  },
  {
   "cell_type": "markdown",
   "id": "ca856112",
   "metadata": {},
   "source": [
    "Удалим знаки препинания, цифры и слова, содержащие цифры. А также иностранные слова, которые не перевелись. Для это соберём регулярное выражение, которое подходит для любого слова, состоящего из букв кирилицы."
   ]
  },
  {
   "cell_type": "code",
   "execution_count": 41,
   "id": "0cd293d6-12be-4c2e-96c1-4ba76906934d",
   "metadata": {},
   "outputs": [],
   "source": [
    "# определим регулярное выражение\n",
    "word_pattern = re.compile(\"^[а-яё]*$\")"
   ]
  },
  {
   "cell_type": "code",
   "execution_count": 42,
   "id": "66e11ab8-6c25-49ad-8509-7aa4257cc7f6",
   "metadata": {},
   "outputs": [],
   "source": [
    "# определим функцию для очистки текста\n",
    "def remove_symbols(doc):\n",
    "    return [token for token in doc if word_pattern.match(token)]"
   ]
  },
  {
   "cell_type": "code",
   "execution_count": 43,
   "id": "f3af2747-80f6-45f5-9afe-ab35e40118d4",
   "metadata": {},
   "outputs": [],
   "source": [
    "# очистим текст\n",
    "corpus = list(map(remove_symbols, res))"
   ]
  },
  {
   "cell_type": "code",
   "execution_count": 44,
   "id": "5e269462",
   "metadata": {},
   "outputs": [
    {
     "data": {
      "text/plain": [
       "14"
      ]
     },
     "execution_count": 44,
     "metadata": {},
     "output_type": "execute_result"
    }
   ],
   "source": [
    "# Определим как часто встречаются к корпусе пустые списки (удалены все слова)\n",
    "corpus_empty = [li for li in corpus if len(li) < 1]\n",
    "len(corpus_empty)"
   ]
  },
  {
   "cell_type": "code",
   "execution_count": 45,
   "id": "a72580c0",
   "metadata": {},
   "outputs": [
    {
     "data": {
      "text/plain": [
       "['создать, сообщество, непростой, создать, амбициозный, сообщество, с, больший, цель, в, тысяча, раз, сложный, но, мы, это, сделать, особенно, если, вы, присоединитесь, и, помочь, нам, как, видеть, у, нас, запланировать, очень, много, инициатива, и, чем, больше, человек, быть, задействовать, в, реализация, тем, быстрый, мы, получить, к, нам',\n",
       " 'событие, которое, нельзя, пропустить, если, вы, заниматься, иб, присоединяться, сентябрь, к, онлайн, конференции, практика, по, кибербезопасности, рассказать, как, обнаруживать, расследовать, и, отражать, кибератаки, что, будет, доклад, и, мастер, класс, от, пентестеров, специалист, по, мониторинг, и, расследование, инцидент, из, лаборатория, касперский, инфосистемы, джет, синклит, и, задание, для, отработка, практический, навык, в, формат, игровой, обучение, забронируйте, три, день, на, полезный, контент, поиск, низко, висеть, фрукт, в, ит, инфраструктуре, раскладывать, атака, по, эффективный, харденинг, ит, инфраструктура, типовой, сценарий, и, их, обнаружение, инструмент, пентестеров, для, автоматизация, работа, с, инцидент, форензика, и, криминалистический, артефакт, безопасность, асу, тп, угроза, подход, практика, обогащение, в, как, забирать, данные, из, участие, бесплатный, регистрация, на, сайт, весь, подробность, в, телеграм, канал',\n",
       " 'одна, главный, мысль, которая, прийти, на, ум, после, прочтение, этот, статья, человек, нужный, друг, другу, даже, если, вы, пользоваться, хороший, технология, и, вам, не, нужный, чей, то, рука, приятный, время, от, время, ощущать, личный, отношение, иметь, к, кто, обратиться, за, совет, поговорить, о, свой, жизнь, и, бизнес, именно, поэтому, в, мы, искренне, верить, что, первоклассный, технология, всегда, должный, сочетаться, с, открытый, честной, и, тесный, контакт, с, наш, клиент, это, сочетание, мочь, принести, настоящий, любовь, клиент, и, больший, преимущество, для, ваш, бизнес']"
      ]
     },
     "execution_count": 45,
     "metadata": {},
     "output_type": "execute_result"
    }
   ],
   "source": [
    "# Смотрим на результат - случайным образом сэмплируем несколько примеров\n",
    "[\", \".join(text) for text in random.SystemRandom().sample(corpus, 3)]"
   ]
  },
  {
   "cell_type": "code",
   "execution_count": 55,
   "id": "aab8ee73",
   "metadata": {},
   "outputs": [],
   "source": [
    "# Зададим собственный список стоп-слов\n",
    "stop_words_custom = ['это', 'наш', 'ваш', 'весь', 'это', 'наш', 'лс', 'свой', 'весь', 'год', 'якщо', 'дуже', 'ви', \n",
    "                     'але', 'роботи', 'буде', 'це', 'ми', 'як', 'що', 'хто', 'чи', 'цей', 'зараз', 'хто', 'чи', 'цей', 'час',\n",
    "                    'мария', 'эй']"
   ]
  },
  {
   "cell_type": "code",
   "execution_count": 56,
   "id": "c64e8a9f",
   "metadata": {},
   "outputs": [],
   "source": [
    "# Дополнительные стоп-слова для руссковго языка\n",
    "stop_words_additional = [\"c\",\"а\",\"алло\",\"без\",\"белый\",\"близко\",\"более\",\"больше\",\"большой\",\"будем\",\"будет\",\"будете\",\"будешь\",\n",
    "                         \"будто\",\"буду\",\"будут\",\"будь\",\"бы\",\"бывает\",\"бывь\",\"был\",\"была\",\"были\",\"было\",\"быть\",\"в\",\"важная\",\n",
    "                         \"важное\",\"важные\",\"важный\",\"вам\",\"вами\",\"вас\",\"ваш\",\"ваша\",\"ваше\",\"ваши\",\"вверх\",\"вдали\",\"вдруг\",\n",
    "                         \"ведь\",\"везде\",\"вернуться\",\"весь\",\"вечер\",\"взгляд\",\"взять\",\"вид\",\"видел\",\"видеть\",\"вместе\",\"вне\",\n",
    "                         \"вниз\",\"внизу\",\"во\",\"вода\",\"война\",\"вокруг\",\"вон\",\"вообще\",\"вопрос\",\"восемнадцатый\",\"восемнадцать\",\n",
    "                         \"восемь\",\"восьмой\",\"вот\",\"впрочем\",\"времени\",\"время\",\"все\",\"все еще\",\"всегда\",\"всего\",\"всем\",\"всеми\",\n",
    "                         \"всему\",\"всех\",\"всею\",\"всю\",\"всюду\",\"вся\",\"всё\",\"второй\",\"вы\",\"выйти\",\"г\",\"где\",\"главный\",\"глаз\",\n",
    "                         \"говорил\",\"говорит\",\"говорить\",\"год\",\"года\",\"году\",\"голова\",\"голос\",\"город\",\"да\",\"давать\",\"давно\",\n",
    "                         \"даже\",\"далекий\",\"далеко\",\"дальше\",\"даром\",\"дать\",\"два\",\"двадцатый\",\"двадцать\",\"две\",\"двенадцатый\",\n",
    "                         \"двенадцать\",\"дверь\",\"двух\",\"девятнадцатый\",\"девятнадцать\",\"девятый\",\"девять\",\"действительно\",\"дел\",\n",
    "                         \"делал\",\"делать\",\"делаю\",\"дело\",\"день\",\"деньги\",\"десятый\",\"десять\",\"для\",\"до\",\"довольно\",\"долго\",\n",
    "                         \"должен\",\"должно\",\"должный\",\"дом\",\"дорога\",\"друг\",\"другая\",\"другие\",\"других\",\"друго\",\"другое\",\n",
    "                         \"другой\",\"думать\",\"душа\",\"е\",\"его\",\"ее\",\"ей\",\"ему\",\"если\",\"есть\",\"еще\",\"ещё\",\"ею\",\"её\",\"ж\",\"ждать\",\n",
    "                         \"же\",\"жена\",\"женщина\",\"жизнь\",\"жить\",\"за\",\"занят\",\"занята\",\"занято\",\"заняты\",\"затем\",\"зато\",\"зачем\",\n",
    "                         \"здесь\",\"земля\",\"знать\",\"значит\",\"значить\",\"и\",\"иди\",\"идти\",\"из\",\"или\",\"им\",\"имеет\",\"имел\",\"именно\",\n",
    "                         \"иметь\",\"ими\",\"имя\",\"иногда\",\"их\",\"к\",\"каждая\",\"каждое\",\"каждые\",\"каждый\",\"кажется\",\"казаться\",\"как\",\n",
    "                         \"какая\",\"какой\",\"кем\",\"книга\",\"когда\",\"кого\",\"ком\",\"комната\",\"кому\",\"конец\",\"конечно\",\"которая\",\n",
    "                         \"которого\",\"которой\",\"которые\",\"который\",\"которых\",\"кроме\",\"кругом\",\"кто\",\"куда\",\"лежать\",\"лет\",\"ли\",\n",
    "                         \"лицо\",\"лишь\",\"лучше\",\"любить\",\"люди\",\"м\",\"маленький\",\"мало\",\"мать\",\"машина\",\"между\",\"меля\",\"менее\",\n",
    "                         \"меньше\",\"меня\",\"место\",\"миллионов\",\"мимо\",\"минута\",\"мир\",\"мира\",\"мне\",\"много\",\"многочисленная\",\n",
    "                         \"многочисленное\",\"многочисленные\",\"многочисленный\",\"мной\",\"мною\",\"мог\",\"могу\",\"могут\",\"мож\",\"может\",\n",
    "                         \"может быть\",\"можно\",\"можхо\",\"мои\",\"мой\",\"мор\",\"москва\",\"мочь\",\"моя\",\"моё\",\"мы\",\"на\",\"наверху\",\"над\",\n",
    "                         \"надо\",\"назад\",\"наиболее\",\"найти\",\"наконец\",\"нам\",\"нами\",\"народ\",\"нас\",\"начала\",\"начать\",\"наш\",\"наша\",\n",
    "                         \"наше\",\"наши\",\"не\",\"него\",\"недавно\",\"недалеко\",\"нее\",\"ней\",\"некоторый\",\"нельзя\",\"нем\",\"немного\",\n",
    "                         \"нему\",\"непрерывно\",\"нередко\",\"несколько\",\"нет\",\"нею\",\"неё\",\"ни\",\"нибудь\",\"ниже\",\"низко\",\"никакой\",\n",
    "                         \"никогда\",\"никто\",\"никуда\",\"ним\",\"ними\",\"них\",\"ничего\",\"ничто\",\"но\",\"новый\",\"нога\",\"ночь\",\"ну\",\n",
    "                         \"нужно\",\"нужный\",\"нх\",\"о\",\"об\",\"оба\",\"обычно\",\"один\",\"одиннадцатый\",\"одиннадцать\",\"однажды\",\n",
    "                         \"однако\",\"одного\",\"одной\",\"оказаться\",\"окно\",\"около\",\"он\",\"она\",\"они\",\"оно\",\"опять\",\"особенно\",\n",
    "                         \"остаться\",\"от\",\"ответить\",\"отец\",\"откуда\",\"отовсюду\",\"отсюда\",\"очень\",\"первый\",\"перед\",\"писать\",\n",
    "                         \"плечо\",\"по\",\"под\",\"подойди\",\"подумать\",\"пожалуйста\",\"позже\",\"пойти\",\"пока\",\"пол\",\"получить\",\n",
    "                         \"помнить\",\"понимать\",\"понять\",\"пор\",\"пора\",\"после\",\"последний\",\"посмотреть\",\"посреди\",\"потом\",\n",
    "                         \"потому\",\"почему\",\"почти\",\"правда\",\"прекрасно\",\"при\",\"про\",\"просто\",\"против\",\"процентов\",\"путь\",\n",
    "                         \"пятнадцатый\",\"пятнадцать\",\"пятый\",\"пять\",\"работа\",\"работать\",\"раз\",\"разве\",\"рано\",\"раньше\",\n",
    "                         \"ребенок\",\"решить\",\"россия\",\"рука\",\"русский\",\"ряд\",\"рядом\",\"с\",\"с кем\",\"сам\",\"сама\",\"сами\",\"самим\",\n",
    "                         \"самими\",\"самих\",\"само\",\"самого\",\"самой\",\"самом\",\"самому\",\"саму\",\"самый\",\"свет\",\"свое\",\"своего\",\n",
    "                         \"своей\",\"свои\",\"своих\",\"свой\",\"свою\",\"сделать\",\"сеаой\",\"себе\",\"себя\",\"сегодня\",\"седьмой\",\"сейчас\",\n",
    "                         \"семнадцатый\",\"семнадцать\",\"семь\",\"сидеть\",\"сила\",\"сих\",\"сказал\",\"сказала\",\"сказать\",\"сколько\",\n",
    "                         \"слишком\",\"слово\",\"случай\",\"смотреть\",\"сначала\",\"снова\",\"со\",\"собой\",\"собою\",\"советский\",\"совсем\",\n",
    "                         \"спасибо\",\"спросить\",\"сразу\",\"стал\",\"старый\",\"стать\",\"стол\",\"сторона\",\"стоять\",\"страна\",\"суть\",\n",
    "                         \"считать\",\"т\",\"та\",\"так\",\"такая\",\"также\",\"таки\",\"такие\",\"такое\",\"такой\",\"там\",\"твои\",\"твой\",\"твоя\",\n",
    "                         \"твоё\",\"те\",\"тебе\",\"тебя\",\"тем\",\"теми\",\"теперь\",\"тех\",\"то\",\"тобой\",\"тобою\",\"товарищ\",\"тогда\",\"того\",\n",
    "                         \"тоже\",\"только\",\"том\",\"тому\",\"тот\",\"тою\",\"третий\",\"три\",\"тринадцатый\",\"тринадцать\",\"ту\",\"туда\",\"тут\",\n",
    "                         \"ты\",\"тысяч\",\"у\",\"увидеть\",\"уж\",\"уже\",\"улица\",\"уметь\",\"утро\",\"хороший\",\"хорошо\",\"хотел бы\",\"хотеть\",\n",
    "                         \"хоть\",\"хотя\",\"хочешь\",\"час\",\"часто\",\"часть\",\"чаще\",\"чего\",\"человек\",\"чем\",\"чему\",\"через\",\"четвертый\",\n",
    "                         \"четыре\",\"четырнадцатый\",\"четырнадцать\",\"что\",\"чтоб\",\"чтобы\",\"чуть\",\"шестнадцатый\",\"шестнадцать\",\n",
    "                         \"шестой\",\"шесть\",\"эта\",\"эти\",\"этим\",\"этими\",\"этих\",\"это\",\"этого\",\"этой\",\"этом\",\"этому\",\"этот\",\"эту\",\n",
    "                         \"я\",\"являюсь\", \"окоманюк\", \"леонардо\", \"силиконовый\", \"силиконовой\", \"чернобыль\", \"университетподать\",\n",
    "                        \"щелчки\", \"постю\", \"ури\", \"мрт\", \"труха\", \"вооружиться\", \"пот\", \"запорожье\", \"айзека\", \"питерский\", \n",
    "                         \"ледовый\", \"подбираю\", \"топор\", \"капать\", \"правильном\", \"фотосессия\"]"
   ]
  },
  {
   "cell_type": "code",
   "execution_count": 58,
   "id": "5b7dc597",
   "metadata": {},
   "outputs": [
    {
     "name": "stdout",
     "output_type": "stream",
     "text": [
      "768\n"
     ]
    }
   ],
   "source": [
    "# Стоп-слова spacy\n",
    "stopwords_spacy = model.Defaults.stop_words\n",
    "\n",
    "print(len(stopwords_spacy))"
   ]
  },
  {
   "cell_type": "code",
   "execution_count": 121,
   "id": "cbd92165",
   "metadata": {},
   "outputs": [
    {
     "data": {
      "text/plain": [
       "762"
      ]
     },
     "execution_count": 121,
     "metadata": {},
     "output_type": "execute_result"
    }
   ],
   "source": [
    "# Объединим стоп-слова\n",
    "stop_words = stopwords.words('russian') + stop_words_custom + stop_words_additional# + list(stopwords_spacy)\n",
    "len(stop_words)"
   ]
  },
  {
   "cell_type": "markdown",
   "id": "13fc9673",
   "metadata": {},
   "source": [
    "## Векторизация текстов"
   ]
  },
  {
   "cell_type": "markdown",
   "id": "6feac71b",
   "metadata": {},
   "source": [
    "Далее векторизируем полученный корпус. "
   ]
  },
  {
   "cell_type": "code",
   "execution_count": 122,
   "id": "585ed8d0",
   "metadata": {},
   "outputs": [],
   "source": [
    "# Посчитаем IDF всех наших слов, и отсечем слова с самым большим idf(очень редкие) и с самым маленьким\n",
    "tfidf = TfidfVectorizer(stop_words=stop_words, min_df=10, max_df=0.9)"
   ]
  },
  {
   "cell_type": "code",
   "execution_count": 123,
   "id": "b246b341",
   "metadata": {},
   "outputs": [
    {
     "data": {
      "text/plain": [
       "['почему основатель любой бизнес обязанный уметь продавать навык продажа десяток стартап проплывать у меня перед глаз каждый месяц кто то приходить за разовый совет кто то с просьба о долгосрочный сотрудничество каждый новый встреча для меня уникальный и я всегда с свой сторона стараться подготовиться посмотреть проект рынок конкурент каждый встреча ждать с нетерпение ждать потому что увидеть новый проект новый идея новый человек который хотеть изменить этот мир к хороший понимать что это нифига не просто и естественно я рассчитывать что этот человек продать мне свой идея ярко рассказать о свой проект команда о свой победа и конечно же трудность человек который уметь продавать видно с первый минута разговор я хотеть обратить внимание на то что именно продавать а не машинальный впаривать по ранее заготовить скрипт такой фаундеры выделяться среди других они запоминаться и сказать по секрет я наблюдать за многими из них даже если запрос фаундера не совпадать с мой компетенция и мы больше не встречаться наблюдать потому что мне интересный судьба основатель и они проект потому что в мне жить идея создавать инструмент которые помочь фаундерам развиваться быстрый но сейчас не обо мне а о навык фаундера продавать и вы знать я иметь что сказать по этот повод основатель которые хорошо продавать себя идея и продукт иметь больший преимущество перед другими например достаточно легко строить нетворк уметь быстро находить необходимый ресурс контакт инвестиция крутой сотрудник кофаундеров и также они хорошо уметь продать команда стратегия и тем самым мотивировать трудиться над проект эффективно навык продавать повышать шанс проект на выживание и на мой взгляд являться обязательный для любой основатель скажете я нанять сэйлза и он продать за меня а я сказать что так как основатель проект продать не смочь никто на ранний стадия когда нет ни явный портрет клиент ни упаковка нормальный и продукт мягко говорить сыроват да и как вы ему задача поставите если сами не знать как и кто хороший человек который несколько год назад ненавидеть продажа потом их начать изучать и полюбить мочь сказать что это навык и он тренироваться а опыт работа с многими основатель показывать что он тренироваться практически у каждый было бы желание совет как тренировать навык не будет здесь нет общий рецепт и на мой взгляд нужный искать то что подойти именно вам я пройти весь доступный курс на и так я получить базовый знание быть куча более глубокий курс и программа быть много методология главный не просто научиться но и с первый день идти в поле и продавать сначала близкий круг потом боевой клиент единственный совет если вы строить стартап но не уметь продавать займитесь этот навык прямо сейчас он прокачиваться точно вам',\n",
       " 'казнить нельзя помиловать навык принятие решение вы ведь встречать человек который уметь всегда принимать верный решение если да то как вы думать этот человек считать так же все ли человек в он окружение считать так же или быть тот кто этот решение касаться на прямой и мочь иметь негативный для них последствие а что такой вообще верный например вы хотеть нанять профи в маркетинг он супер крутой и понимать как вывести ваш бизнес на новый ступенька но он токсичный терпеть не мочь человек ничье мнение не воспринимать серьезно быть он в теория мочь вообще развалить ваш команда изнутри и перед вами выбор нанять его и тем самым принести смута в команда или не нанимать и ещё несколько месяц искать например клиент проект денежный но очень сложный и рискованный под него нужный нанимать дополнительный человек то быть брать на себя дополнительный риск взять этот клиент или вместо него взять более простой проект сделать крутой кейс с большой компания и перейти на новый уровень или работать по принятие решение это умение выбирать между чёрный и белый между зона комфорт и риск между сложный задача и возможность чиллить а верность решение измеряться в он последствие про инструмент для принятие решение писать не быть их много парето матрица эйзенхауэр и и они гуглятся хотеть с другой сторона посветить фонарик вы обратить внимание в первый абзац на то что правильность решение зависеть от того кто это решение оценивать уволенный сотрудник быть видеть решение с одной сторона его непосредственный руководитель с другой а основатель компания с третий но решение само по себя не иметь какой либо окраски его окрашивать человек которые являться участник процесс а у самого решение быть только последствие которые в рамка бизнес являться вполне измеримый и то на что я хотеть обратить внимание это умение принимать решение безэмоционально то быть как бы отстранившись от того что происходить с фокусировка только на цель чтобы этот эмоция понять распознать и вовремя отключить быть эмоциональный интеллект на мой взгляд не менее важный являться умение использовать мнение других человек чтобы составить максимально полный картина изучить ситуация с разный сторона и только потом принимать решение это про мозговой штурмы наличие ментор то быть человек о которых можно постучаться быть ещё один важный фактор на который хотеть обратить внимание это скорость принятие решение с ним тоже нужный работать любой предприниматель так как любой зависнуть решение быть тянуть из вас энергия и чем долгий оно висеть тем больше тянуть если обобщить то я стараться принимать решение быстро и безэмоционально стараться опираться только на бизнес задачи которые решать не всегда конечно получаться так но я стараться а как принимать решение лидерство менеджмент эффективность',\n",
       " 'сегодня быть защита дипломный работа на кафедра технологический предпринимательство мфти мне посчастливиться быть научный руководитель и ментор сразу для два фаундеров почему фаундеров потому что это не только дипломный проект это уже работать хардварный девайс который совсем скоро увидеть свет и высокий оценка диплом тот подтверждение тематика удивительный и меня очень вдохновлять про ольфакторный дизайн что то слышать погуглите обязательно если нет что мочь сказать про свой впечатление от менторства на кафедра очень крутой преподаватель с живой опыт работа в бизнес это огонь простой студент сильный и разносторонний развить проработка проект очень глубокий организационный момент на высота сейчас работать ещё со студент с первый курс и видеть как в процесс они загораться свой же идея и действовать а это тот самый путь к запуск свой проект в общий работать было приятный и лёгкий ребят искренне поздравлять с новый этап волновался как будто бы сам защищаться мфти техпред']"
      ]
     },
     "execution_count": 123,
     "metadata": {},
     "output_type": "execute_result"
    }
   ],
   "source": [
    "# Объединим списки слов в предложения\n",
    "docs = [\" \".join(tokens) for tokens in corpus]\n",
    "docs[:3]"
   ]
  },
  {
   "cell_type": "code",
   "execution_count": 124,
   "id": "8d9b4ff1",
   "metadata": {},
   "outputs": [],
   "source": [
    "# трансформируем корпус\n",
    "x = tfidf.fit_transform(docs)"
   ]
  },
  {
   "cell_type": "code",
   "execution_count": 125,
   "id": "93522e22",
   "metadata": {},
   "outputs": [
    {
     "data": {
      "text/plain": [
       "(8413, 4081)"
      ]
     },
     "execution_count": 125,
     "metadata": {},
     "output_type": "execute_result"
    }
   ],
   "source": [
    "# проверим размерность\n",
    "x.shape"
   ]
  },
  {
   "cell_type": "code",
   "execution_count": 126,
   "id": "b16ca113",
   "metadata": {},
   "outputs": [],
   "source": [
    "#сохраним id токенов\n",
    "id2word = {i: token for i, token in enumerate(tfidf.get_feature_names_out())}"
   ]
  },
  {
   "cell_type": "markdown",
   "id": "2e18718e",
   "metadata": {},
   "source": [
    "# Моделирование"
   ]
  },
  {
   "cell_type": "code",
   "execution_count": 127,
   "id": "d6668673",
   "metadata": {},
   "outputs": [],
   "source": [
    "# Необходимые функции\n",
    "def topic_tokens(n_topics, model, num_key_words):\n",
    "    \"\"\"Принимает на вход количество тем, модель и количество ключевых слов, которые нужно вывести.\n",
    "    Выводит номер темы и соотвествющие ключевые слова\"\"\"\n",
    "    for i in range(n_topics):\n",
    "        c = model.components_[i, :]\n",
    "        topic_tokens = [id2word.get(token_id) for token_id in np.argsort(c)[-num_key_words:]]\n",
    "        print(\"Тема\",i, \":\")\n",
    "        print(\", \".join(topic_tokens[::-1]))\n",
    "        print(\"\\n \")\n",
    "\n",
    "def typical_posts(n_topics, topics):\n",
    "    \"\"\"Принимает на вход количество тем, результат работы модели.\n",
    "    Выводит типичный пост по каждой теме\"\"\"\n",
    "    for i in range(n_topics):\n",
    "        doc_id = np.argmax(topics[:, i])\n",
    "        print(\"Тема \", i)\n",
    "        print(df_len_text_100.iloc[doc_id][\"translated_text\"])\n",
    "        print(\"\\n\")\n",
    "        \n"
   ]
  },
  {
   "cell_type": "code",
   "execution_count": 144,
   "id": "6d2e1498",
   "metadata": {},
   "outputs": [],
   "source": [
    "def plot_tsne(n_clusters, topics):\n",
    "    \"\"\"Принимает на вход количество кластеров и результат работы модели.\n",
    "    Возвращает визуализацию тематических кластеров.\"\"\"\n",
    "    \n",
    "    # Определим количество кластеров\n",
    "    kmeans = KMeans(n_clusters)\n",
    "\n",
    "    # Обучим модель\n",
    "    clust_labels = kmeans.fit_predict(topics)\n",
    "    clust_centers = kmeans.cluster_centers_\n",
    "\n",
    "    # Объединим результат\n",
    "    embeddings_to_tsne = np.concatenate((topics,clust_centers), axis=0)\n",
    "\n",
    "    # TSNE это инструмент для визуализации многомерных данных\n",
    "    tSNE =  TSNE(n_components=2, perplexity=15)\n",
    "    tsne_embeddings = tSNE.fit_transform(embeddings_to_tsne)\n",
    "    tsne_embeddings, centroids_embeddings = np.split(tsne_embeddings, [len(clust_labels)], axis=0)\n",
    "    \n",
    "    # Выделим кластеры\n",
    "    clust_indices = np.unique(clust_labels)\n",
    "\n",
    "    # Далее определим параметры визуализации\n",
    "    clusters = {clust_ind : [] for clust_ind in clust_indices}\n",
    "    for emb, label in zip(tsne_embeddings, clust_labels):\n",
    "        clusters[label].append(emb)\n",
    "\n",
    "    for key in clusters.keys():\n",
    "        clusters[key] = np.array(clusters[key])\n",
    "\n",
    "    colors = cm.rainbow(np.linspace(0, 1, len(clust_indices)))\n",
    "    \n",
    "    # Выведем полученный результат\n",
    "    plt.figure(figsize=(5,5))\n",
    "    for ind, color in zip(clust_indices, colors):\n",
    "        x = clusters[ind][:,0]\n",
    "        y = clusters[ind][:,1]\n",
    "        plt.scatter(x, y, color=color)\n",
    "\n",
    "        centroid = centroids_embeddings[ind]\n",
    "        plt.scatter(centroid[0],centroid[1], color=color, marker='x', s=100)\n",
    "\n",
    "    plt.show()"
   ]
  },
  {
   "cell_type": "markdown",
   "id": "8f3ee403",
   "metadata": {},
   "source": [
    "## LDA"
   ]
  },
  {
   "cell_type": "code",
   "execution_count": 128,
   "id": "3d291989",
   "metadata": {},
   "outputs": [],
   "source": [
    "# Зададим количество тем\n",
    "n_topics = 10"
   ]
  },
  {
   "cell_type": "code",
   "execution_count": 129,
   "id": "e6f35d03",
   "metadata": {},
   "outputs": [],
   "source": [
    "# Определим модель\n",
    "lda = LatentDirichletAllocation(n_components=n_topics,\n",
    "                                max_iter=30,\n",
    "                                random_state=31)"
   ]
  },
  {
   "cell_type": "code",
   "execution_count": 132,
   "id": "647f88e7",
   "metadata": {},
   "outputs": [],
   "source": [
    "# Транформируем корпус \n",
    "topics_lda = lda.fit_transform(x)"
   ]
  },
  {
   "cell_type": "code",
   "execution_count": 133,
   "id": "6d4afdd7",
   "metadata": {},
   "outputs": [
    {
     "data": {
      "text/plain": [
       "(8413, 10)"
      ]
     },
     "execution_count": 133,
     "metadata": {},
     "output_type": "execute_result"
    }
   ],
   "source": [
    "# Проверим размерность\n",
    "topics_lda.shape"
   ]
  },
  {
   "cell_type": "markdown",
   "id": "4ff71d26",
   "metadata": {},
   "source": [
    "Получили массив размера **8413x10**. Строки здесь - отдельные тексты, а колонки - 10 выделенных тем. В каждой ячейке стоит вероятность того, что данный текст относится к данной теме. "
   ]
  },
  {
   "cell_type": "markdown",
   "id": "f0b334db",
   "metadata": {},
   "source": [
    "### Ключевые слова"
   ]
  },
  {
   "cell_type": "markdown",
   "id": "f84f6246",
   "metadata": {},
   "source": [
    "Далее выделем 10 ключевых слов для каждой темы."
   ]
  },
  {
   "cell_type": "code",
   "execution_count": 134,
   "id": "a7c95c2c",
   "metadata": {},
   "outputs": [
    {
     "name": "stdout",
     "output_type": "stream",
     "text": [
      "Тема 0 :\n",
      "вакансия, разработчик, искать, резюме, опыт, поиск, команда, привет, проект, интересный\n",
      "\n",
      " \n",
      "Тема 1 :\n",
      "проект, компания, команда, разработка, бизнес, продукт, клиент, приложение, опыт, решение\n",
      "\n",
      " \n",
      "Тема 2 :\n",
      "иб, кибербезопасность, значок, навык, инфобез, следующий, тест, пройти, проверка, справляться\n",
      "\n",
      " \n",
      "Тема 3 :\n",
      "украина, украинец, военный, ребёнок, пожертвование, семья, поддержать, российский, киев, армия\n",
      "\n",
      " \n",
      "Тема 4 :\n",
      "сертификат, сообщить, рад, век, наступать, русские, пусть, сертификация, солдат, курс\n",
      "\n",
      " \n",
      "Тема 5 :\n",
      "дизайн, разработка, страница, услуга, сайт, веб, приложение, интерфейс, посетить, бизнес\n",
      "\n",
      " \n",
      "Тема 6 :\n",
      "логотип, закончить, электромобиль, зарядка, проверить, курс, оценить, погнать, видео, вкладка\n",
      "\n",
      " \n",
      "Тема 7 :\n",
      "удовольствие, сообщать, начинать, должность, компания, сертификат, лендинг, сварка, захотеться, прочтение\n",
      "\n",
      " \n",
      "Тема 8 :\n",
      "благодарить, заранее, возможность, предложить, совет, поддержка, признателен, здравствовать, привет, роль\n",
      "\n",
      " \n",
      "Тема 9 :\n",
      "добро, пожаловать, запустить, традиция, отзыв, благодарность, твиттер, политический, дмитрий, заказать\n",
      "\n",
      " \n"
     ]
    }
   ],
   "source": [
    "# Выведем номер темы и соотвествющие ключевые слова\n",
    "topic_tokens(n_topics, lda, 10)"
   ]
  },
  {
   "cell_type": "markdown",
   "id": "93fc17ee",
   "metadata": {},
   "source": [
    "По полученным ключевым словам можно составить представление о содержании той или иной темы."
   ]
  },
  {
   "cell_type": "markdown",
   "id": "6fbe3b34",
   "metadata": {},
   "source": [
    "### Типичные статьи"
   ]
  },
  {
   "cell_type": "markdown",
   "id": "b0e6f717",
   "metadata": {},
   "source": [
    "Далее определим типичные посты для каждой темы."
   ]
  },
  {
   "cell_type": "code",
   "execution_count": 136,
   "id": "0db00353",
   "metadata": {},
   "outputs": [
    {
     "name": "stdout",
     "output_type": "stream",
     "text": [
      "Тема  0\n",
      " 'У меня классные новости для разработчиков, которые сейчас ищут работу. Вот уже более несколько месяцев я работаю HR-ментором в команде < codereview /> (https://is.gd/TrYEJV). Вместе с другими менторами мы помогаем ребятам составить цепляющее резюме, учим писать сопроводительные письма, преодолевать страх собеседований, прокачиваем их hard скиллы и даем направление, как развиваться в профессии дальше. Мы сопровождаем вас на каждом шагу, от отклика на вакансию до выбора и подписания оффера.Заходите к нам на сайт (https://is.gd/TrYEJV), чтобы узнать больше и записаться ко мне на бесплатную консультацию)Всем удачи в поиске работы!\n",
      "\n",
      "\n",
      "Тема  1\n",
      "У меня было много вопросов о том, что мы видим в Deel в этой рабочей среде. Как работодатели реагируют на сегодняшнюю реальность и что показывают наши данные? 🧵👀Deel занимается HR для глобальных команд — адаптацией, выплатами и даже увольнениями. Вот что в тренде у сотен тысяч работников в более чем 100 странах 🌎1/ Споры о местной и глобальной оплате утихли ☠️ Баланс сил вернулся к работодателям, и наши данные показывают, что большинство из них практикуют компенсацию на основе местоположения2 / Увольнения. Здесь многое нужно распаковать. Инженеры, которые в более скудные времена стали более избыточными, составили 10% всех расторжений, обработанных Deel в 2022 году. Служба поддержки клиентов, данные и группы продуктов показали общий рост расторжений. 3/ Наши данные показывают, что США, Великобритания и Канада непропорционально сильно пострадали от увольнений.4/ Больше всего увольнений в этом году произошло в технологической отрасли, за которой следуют финансовые услуги, электронное обучение и маркетинг/реклама. Недвижимость и средства массовой информации показали наибольший % рост завершений. 5/ Пока слишком рано говорить о том, как этот климат повлияет на заработную плату в долгосрочной перспективе — в 2022 году она снизилась менее чем на 1% для всех должностей. Но работники в некоторых странах, таких как Колумбия, Нигерия и Испания, видят более чем -среднее сокращение заработной платы.6/ Есть надежда. В целом компании становятся более компактными, но число наймов во всем мире значительно увеличивается. Эти направления найма из стран с самым высоким уровнем занятости росли быстрее всего: 🇺🇸найм в США из 🇷🇪Грузия   🇷🇧Великобритания найм из 🇹🇷 Турция  🇨🇦Канада найм из 🇵🇰Пакистан 7/доллары США является 🔑 привлекательностью, поскольку бюджеты ужесточаются. Учитывая его силу, все больше подрядчиков предпочитают получать оплату в долларах США. В первом квартале % глобальных рабочих контрактов в долларах США составлял в среднем 35% и подскочил до 38% во втором квартале. 💅В 2022 году 89% контрактов Deel были дистанционными. Впервые в LinkedIn 50 % всех заявок, поданных в 2022 году, касались удаленных должностей, но менее 20 % всех перечисленных должностей предлагают такую ​​гибкость!9/ Рабочие ведут более кочевой образ жизни, переезжают в поисках приключений, семьи и… налоговых льгот. 🧳Такие страны, как Испания, Эстония и ОАЭ, проявляют творческий подход к визовым схемам и программам электронного резидентства для привлечения талантов. Я ожидаю, что другие правительства последуют этому примеру. Мы оформляем сотни виз в месяц.10/ Мое (предвзятое) мнение? 🔮 Больше организаций и работников будут мыслить глобально. Лучшие HR-технологии позволяют сократить расходы и создать сильную корпоративную культуру в разных странах. Мир работы изменился. Устаревшие системы не помогут. 2023: HR превращается из центра затрат в конкурентное преимущество. ✨Фин\n",
      "\n",
      "\n",
      "Тема  2\n",
      "Привет, ребята 👋🏼Хотим поделиться с вами одним из наших проектов -👉 https://lnkd.in/dCdDrEbmЧто вы думаете об этом дизайне? Делитесь своими мыслями в комментариях 💬✉️ Есть идея проекта? Я доступен для новых проектов yehor.haiduk@gmail.com или телеграмм-чат🔥 Отметьте своего друга, которому это нравится 😉👉 Посетите нашу страницу и не забудьте подписаться на другие дизайнерские материалы, подобные этому! Проверьте больше работ здесь https: //lnkd.in/g-2DSu5\n",
      "\n",
      "\n",
      "Тема  3\n",
      "Приветствуем нового посла UNITED24 — Кэтрин Винник, канадскую актрису, режиссера, продюсера с гордыми украинскими корнями. Для поддержки программы Rebuild Ukraine Кэтрин уже начала сбор средств на восстановление одного из домов в Киевской области. Спасибо за поддержку 🇺🇦!\n",
      "\n",
      "\n",
      "Тема  4\n",
      " 'Блин, спасибо, что об этом говоришь. Я чувствую себя так же 🙄 Точно такая же история у меня с профессией психолога. Когда только пошла учиться, меня вдохновили на это скилловые психологи, люди с многолетным опытом, которые меняют жизнь на корню людям с реальными ментальными страданиями.А потом меня сшибло с ног реальностью. Люди, которые закончили трёхмесечные курсы, почитали две-три книжки, и продают себя как психологи. Продают из каждого утюга, калечат людей, делают посмешище из профессии. Что с этим делать и как в этом мире жить - вообще пока не представляю.Valeria Filistovich\n",
      "\n",
      "\n",
      "Тема  5\n",
      "Желаем всем, кто празднует безопасную, мирную и святую #Пасху!Пусть ваша пасхальная корзинка будет наполнена радостью, счастьем и надеждой в этом сезоне и всегда!Давайте проведем это время с нашими близкими, сосредоточимся на том, что важно, и ценим красоту весны и всех новых начинаний, которые она приносит. Спасибо за то, что вы являетесь частью нашей профессиональной сети и отличных пасхальных выходных🐣Ваша команда inVerita💙\n",
      "\n",
      "\n",
      "Тема  6\n",
      "Ты чувствуешь, что IT - это твоя тема! Тебе интересно, ты увлечен и созрел развить свои компетенции? Погнали в IT в нами!Экспресс персональное обучение с наставником IT-профессии с нуля #клубнаставников #этопросто #погналивit #обучениеснуля #управлениепроектами #системнаяаналитика #devops #разработка\n",
      "\n",
      "\n",
      "Тема  7\n",
      " 'В своем вчерашнем выступлении на конференции я использовал ссылку на публикацию Анастасия Остапенко из компании Axenix (ex-Accenture). Спасибо ей за публикацию этого исследования. Я публиковал ранее этот отчет, но после высупления было много вопросов, я решил продублировать ссылку. #russianbiНиже ссылка на ее пост на портале Habr\n",
      "\n",
      "\n",
      "Тема  8\n",
      "Здравствуйте, я ищу новую возможность карьерного роста в качестве разработчика .NET и буду благодарен за вашу поддержку. Заранее благодарим вас за любые контактные рекомендации, советы или возможности, которые вы можете предложить. #OpenToWork\n",
      "\n",
      "\n",
      "Тема  9\n",
      " '\"Если в ваш мозг введена программа примитивного сознания, согласно которой мир разделен лишь на два полюса «черное — белое», «добро — зло», «свет — тьма», «реальность — иллюзия», и т. д., то все, что вы думаете, вам кажется истиной, а все, что думает ваш оппонент - ложью. И наоборот.\"Т. Лири, «Нейрополитика», гл. «Секретность и дезинформация - суицидальные политические тактики в кибернетическом обществе\"\n",
      "\n",
      "\n"
     ]
    }
   ],
   "source": [
    "# Выведем самый типичный пост для каждой темы\n",
    "typical_posts(n_topics, topics_lda)"
   ]
  },
  {
   "cell_type": "markdown",
   "id": "17d88efb",
   "metadata": {},
   "source": [
    "На основании полученных результатов можно предположить названия тем:\n",
    "   - Тема 0 - проектное сотрудничество;\n",
    "   - Тема 1 - внешняя политика;\n",
    "   - Тема 2 - коучинг;\n",
    "   - Тема 3 - предложение IT услуг; \n",
    "   - Тема 4 - менторство начинающих специалистов;\n",
    "   - Тема 5 - новости IT рынка;\n",
    "   - Тема 6 - обучение IT профессиям;\n",
    "   - Тема 7 - IT рекрутмент;\n",
    "   - Темы 8 и 9 также посвящены поиску работы."
   ]
  },
  {
   "cell_type": "code",
   "execution_count": 137,
   "id": "1b0f6565",
   "metadata": {},
   "outputs": [],
   "source": [
    "# Словарь соответствия номера темы и ее названия\n",
    "topic_dict = {0 : 'проектное сотрудничество',\n",
    "              1 : 'внешняя политика',\n",
    "              2 : 'коучинг',\n",
    "              3 : 'предложение IT услуг',\n",
    "              4 : 'менторство начинающих специалистов',\n",
    "              5 : 'новости IT рынка',\n",
    "              6 : 'обучение IT профессиям',\n",
    "              7 : 'IT рекрутмент',\n",
    "              8 : 'поиск работы',\n",
    "              9 : 'поиск работы'}"
   ]
  },
  {
   "cell_type": "code",
   "execution_count": 138,
   "id": "8ab71d9c",
   "metadata": {},
   "outputs": [
    {
     "data": {
      "text/html": [
       "<div>\n",
       "<style scoped>\n",
       "    .dataframe tbody tr th:only-of-type {\n",
       "        vertical-align: middle;\n",
       "    }\n",
       "\n",
       "    .dataframe tbody tr th {\n",
       "        vertical-align: top;\n",
       "    }\n",
       "\n",
       "    .dataframe thead th {\n",
       "        text-align: right;\n",
       "    }\n",
       "</style>\n",
       "<table border=\"1\" class=\"dataframe\">\n",
       "  <thead>\n",
       "    <tr style=\"text-align: right;\">\n",
       "      <th></th>\n",
       "      <th>url_user</th>\n",
       "      <th>text_post</th>\n",
       "      <th>language</th>\n",
       "      <th>translated_text</th>\n",
       "      <th>len_text</th>\n",
       "      <th>topic</th>\n",
       "      <th>probability</th>\n",
       "    </tr>\n",
       "  </thead>\n",
       "  <tbody>\n",
       "    <tr>\n",
       "      <th>1</th>\n",
       "      <td>https://www.linkedin.com/in/korenevich/</td>\n",
       "      <td>'Почему основатель любого бизнеса обязан умет...</td>\n",
       "      <td>ru</td>\n",
       "      <td>'Почему основатель любого бизнеса обязан умет...</td>\n",
       "      <td>2973</td>\n",
       "      <td>внешняя политика</td>\n",
       "      <td>0.859556</td>\n",
       "    </tr>\n",
       "    <tr>\n",
       "      <th>2</th>\n",
       "      <td>https://www.linkedin.com/in/korenevich/</td>\n",
       "      <td>'Казнить нельзя помиловать. Навык #9 – принят...</td>\n",
       "      <td>ru</td>\n",
       "      <td>'Казнить нельзя помиловать. Навык #9 – принят...</td>\n",
       "      <td>2975</td>\n",
       "      <td>внешняя политика</td>\n",
       "      <td>0.517804</td>\n",
       "    </tr>\n",
       "    <tr>\n",
       "      <th>4</th>\n",
       "      <td>https://www.linkedin.com/in/korenevich/</td>\n",
       "      <td>'Сегодня была защита дипломных работ на кафед...</td>\n",
       "      <td>ru</td>\n",
       "      <td>'Сегодня была защита дипломных работ на кафед...</td>\n",
       "      <td>1044</td>\n",
       "      <td>внешняя политика</td>\n",
       "      <td>0.784148</td>\n",
       "    </tr>\n",
       "    <tr>\n",
       "      <th>6</th>\n",
       "      <td>https://www.linkedin.com/in/korenevich/</td>\n",
       "      <td>'Кто я? Чем занимаюсь? Чем и кому могу быть п...</td>\n",
       "      <td>ru</td>\n",
       "      <td>'Кто я? Чем занимаюсь? Чем и кому могу быть п...</td>\n",
       "      <td>2576</td>\n",
       "      <td>внешняя политика</td>\n",
       "      <td>0.703562</td>\n",
       "    </tr>\n",
       "    <tr>\n",
       "      <th>7</th>\n",
       "      <td>https://www.linkedin.com/in/korenevich/</td>\n",
       "      <td>'Казалось бы, ну какая нам разница, где и как...</td>\n",
       "      <td>ru</td>\n",
       "      <td>'Казалось бы, ну какая нам разница, где и как...</td>\n",
       "      <td>2034</td>\n",
       "      <td>внешняя политика</td>\n",
       "      <td>0.462844</td>\n",
       "    </tr>\n",
       "  </tbody>\n",
       "</table>\n",
       "</div>"
      ],
      "text/plain": [
       "                                  url_user  \\\n",
       "1  https://www.linkedin.com/in/korenevich/   \n",
       "2  https://www.linkedin.com/in/korenevich/   \n",
       "4  https://www.linkedin.com/in/korenevich/   \n",
       "6  https://www.linkedin.com/in/korenevich/   \n",
       "7  https://www.linkedin.com/in/korenevich/   \n",
       "\n",
       "                                           text_post language  \\\n",
       "1   'Почему основатель любого бизнеса обязан умет...       ru   \n",
       "2   'Казнить нельзя помиловать. Навык #9 – принят...       ru   \n",
       "4   'Сегодня была защита дипломных работ на кафед...       ru   \n",
       "6   'Кто я? Чем занимаюсь? Чем и кому могу быть п...       ru   \n",
       "7   'Казалось бы, ну какая нам разница, где и как...       ru   \n",
       "\n",
       "                                     translated_text  len_text  \\\n",
       "1   'Почему основатель любого бизнеса обязан умет...      2973   \n",
       "2   'Казнить нельзя помиловать. Навык #9 – принят...      2975   \n",
       "4   'Сегодня была защита дипломных работ на кафед...      1044   \n",
       "6   'Кто я? Чем занимаюсь? Чем и кому могу быть п...      2576   \n",
       "7   'Казалось бы, ну какая нам разница, где и как...      2034   \n",
       "\n",
       "              topic  probability  \n",
       "1  внешняя политика     0.859556  \n",
       "2  внешняя политика     0.517804  \n",
       "4  внешняя политика     0.784148  \n",
       "6  внешняя политика     0.703562  \n",
       "7  внешняя политика     0.462844  "
      ]
     },
     "execution_count": 138,
     "metadata": {},
     "output_type": "execute_result"
    }
   ],
   "source": [
    "# Добавим столбец с темой для каждого наблюдения\n",
    "df_len_text_100['topic'] = topics.argmax(axis=1)\n",
    "df_len_text_100['topic'] = df_len_text_100['topic'].apply(lambda key: topic_dict[key])\n",
    "\n",
    "# Посмотрим на результат\n",
    "df_len_text_100.head()"
   ]
  },
  {
   "cell_type": "code",
   "execution_count": 139,
   "id": "9440977b",
   "metadata": {},
   "outputs": [
    {
     "data": {
      "text/plain": [
       "topic\n",
       "внешняя политика                      6607\n",
       "проектное сотрудничество               754\n",
       "поиск работы                           226\n",
       "новости IT рынка                       223\n",
       "коучинг                                171\n",
       "IT рекрутмент                          148\n",
       "предложение IT услуг                    99\n",
       "менторство начинающих специалистов      96\n",
       "обучение IT профессиям                  89\n",
       "Name: count, dtype: int64"
      ]
     },
     "execution_count": 139,
     "metadata": {},
     "output_type": "execute_result"
    }
   ],
   "source": [
    "# Определим какие темы представлены чаще всего\n",
    "df_len_text_100['topic'].value_counts()"
   ]
  },
  {
   "cell_type": "markdown",
   "id": "eb8bd02c",
   "metadata": {},
   "source": [
    "Видно, что в датасет попало много постов с темой \"внешней политики\". Очевидна, нужна другая стратегия поиска постов."
   ]
  },
  {
   "cell_type": "code",
   "execution_count": 140,
   "id": "2cd3974a",
   "metadata": {},
   "outputs": [
    {
     "data": {
      "text/html": [
       "<div>\n",
       "<style scoped>\n",
       "    .dataframe tbody tr th:only-of-type {\n",
       "        vertical-align: middle;\n",
       "    }\n",
       "\n",
       "    .dataframe tbody tr th {\n",
       "        vertical-align: top;\n",
       "    }\n",
       "\n",
       "    .dataframe thead th {\n",
       "        text-align: right;\n",
       "    }\n",
       "</style>\n",
       "<table border=\"1\" class=\"dataframe\">\n",
       "  <thead>\n",
       "    <tr style=\"text-align: right;\">\n",
       "      <th></th>\n",
       "      <th>url_user</th>\n",
       "      <th>text_post</th>\n",
       "      <th>language</th>\n",
       "      <th>translated_text</th>\n",
       "      <th>len_text</th>\n",
       "      <th>topic</th>\n",
       "      <th>probability</th>\n",
       "    </tr>\n",
       "  </thead>\n",
       "  <tbody>\n",
       "    <tr>\n",
       "      <th>1</th>\n",
       "      <td>https://www.linkedin.com/in/korenevich/</td>\n",
       "      <td>'Почему основатель любого бизнеса обязан умет...</td>\n",
       "      <td>ru</td>\n",
       "      <td>'Почему основатель любого бизнеса обязан умет...</td>\n",
       "      <td>2973</td>\n",
       "      <td>внешняя политика</td>\n",
       "      <td>0.879818</td>\n",
       "    </tr>\n",
       "    <tr>\n",
       "      <th>2</th>\n",
       "      <td>https://www.linkedin.com/in/korenevich/</td>\n",
       "      <td>'Казнить нельзя помиловать. Навык #9 – принят...</td>\n",
       "      <td>ru</td>\n",
       "      <td>'Казнить нельзя помиловать. Навык #9 – принят...</td>\n",
       "      <td>2975</td>\n",
       "      <td>внешняя политика</td>\n",
       "      <td>0.841049</td>\n",
       "    </tr>\n",
       "    <tr>\n",
       "      <th>4</th>\n",
       "      <td>https://www.linkedin.com/in/korenevich/</td>\n",
       "      <td>'Сегодня была защита дипломных работ на кафед...</td>\n",
       "      <td>ru</td>\n",
       "      <td>'Сегодня была защита дипломных работ на кафед...</td>\n",
       "      <td>1044</td>\n",
       "      <td>внешняя политика</td>\n",
       "      <td>0.677442</td>\n",
       "    </tr>\n",
       "    <tr>\n",
       "      <th>6</th>\n",
       "      <td>https://www.linkedin.com/in/korenevich/</td>\n",
       "      <td>'Кто я? Чем занимаюсь? Чем и кому могу быть п...</td>\n",
       "      <td>ru</td>\n",
       "      <td>'Кто я? Чем занимаюсь? Чем и кому могу быть п...</td>\n",
       "      <td>2576</td>\n",
       "      <td>внешняя политика</td>\n",
       "      <td>0.809520</td>\n",
       "    </tr>\n",
       "    <tr>\n",
       "      <th>7</th>\n",
       "      <td>https://www.linkedin.com/in/korenevich/</td>\n",
       "      <td>'Казалось бы, ну какая нам разница, где и как...</td>\n",
       "      <td>ru</td>\n",
       "      <td>'Казалось бы, ну какая нам разница, где и как...</td>\n",
       "      <td>2034</td>\n",
       "      <td>внешняя политика</td>\n",
       "      <td>0.890893</td>\n",
       "    </tr>\n",
       "  </tbody>\n",
       "</table>\n",
       "</div>"
      ],
      "text/plain": [
       "                                  url_user  \\\n",
       "1  https://www.linkedin.com/in/korenevich/   \n",
       "2  https://www.linkedin.com/in/korenevich/   \n",
       "4  https://www.linkedin.com/in/korenevich/   \n",
       "6  https://www.linkedin.com/in/korenevich/   \n",
       "7  https://www.linkedin.com/in/korenevich/   \n",
       "\n",
       "                                           text_post language  \\\n",
       "1   'Почему основатель любого бизнеса обязан умет...       ru   \n",
       "2   'Казнить нельзя помиловать. Навык #9 – принят...       ru   \n",
       "4   'Сегодня была защита дипломных работ на кафед...       ru   \n",
       "6   'Кто я? Чем занимаюсь? Чем и кому могу быть п...       ru   \n",
       "7   'Казалось бы, ну какая нам разница, где и как...       ru   \n",
       "\n",
       "                                     translated_text  len_text  \\\n",
       "1   'Почему основатель любого бизнеса обязан умет...      2973   \n",
       "2   'Казнить нельзя помиловать. Навык #9 – принят...      2975   \n",
       "4   'Сегодня была защита дипломных работ на кафед...      1044   \n",
       "6   'Кто я? Чем занимаюсь? Чем и кому могу быть п...      2576   \n",
       "7   'Казалось бы, ну какая нам разница, где и как...      2034   \n",
       "\n",
       "              topic  probability  \n",
       "1  внешняя политика     0.879818  \n",
       "2  внешняя политика     0.841049  \n",
       "4  внешняя политика     0.677442  \n",
       "6  внешняя политика     0.809520  \n",
       "7  внешняя политика     0.890893  "
      ]
     },
     "execution_count": 140,
     "metadata": {},
     "output_type": "execute_result"
    }
   ],
   "source": [
    "# Добавим столбец с вероятностью принадлежности выбранной теме для каждого наблюдения\n",
    "df_len_text_100['probability'] = topics.max(axis=1)\n",
    "\n",
    "#посмотрим на результат\n",
    "df_len_text_100.head()"
   ]
  },
  {
   "cell_type": "code",
   "execution_count": 141,
   "id": "b41f038a",
   "metadata": {},
   "outputs": [
    {
     "data": {
      "text/html": [
       "<div>\n",
       "<style scoped>\n",
       "    .dataframe tbody tr th:only-of-type {\n",
       "        vertical-align: middle;\n",
       "    }\n",
       "\n",
       "    .dataframe tbody tr th {\n",
       "        vertical-align: top;\n",
       "    }\n",
       "\n",
       "    .dataframe thead th {\n",
       "        text-align: right;\n",
       "    }\n",
       "</style>\n",
       "<table border=\"1\" class=\"dataframe\">\n",
       "  <thead>\n",
       "    <tr style=\"text-align: right;\">\n",
       "      <th></th>\n",
       "      <th>translated_text</th>\n",
       "      <th>topic</th>\n",
       "      <th>probability</th>\n",
       "    </tr>\n",
       "  </thead>\n",
       "  <tbody>\n",
       "    <tr>\n",
       "      <th>10534</th>\n",
       "      <td>У меня было много вопросов о том, что мы видим...</td>\n",
       "      <td>внешняя политика</td>\n",
       "      <td>0.922118</td>\n",
       "    </tr>\n",
       "    <tr>\n",
       "      <th>9174</th>\n",
       "      <td>В современном цифровом ландшафте удаленная раб...</td>\n",
       "      <td>внешняя политика</td>\n",
       "      <td>0.921700</td>\n",
       "    </tr>\n",
       "    <tr>\n",
       "      <th>8996</th>\n",
       "      <td>Хорошо, я обещал поделиться некоторыми из лучш...</td>\n",
       "      <td>внешняя политика</td>\n",
       "      <td>0.920567</td>\n",
       "    </tr>\n",
       "    <tr>\n",
       "      <th>8400</th>\n",
       "      <td>В быстро меняющемся мире технологической эволю...</td>\n",
       "      <td>внешняя политика</td>\n",
       "      <td>0.919347</td>\n",
       "    </tr>\n",
       "    <tr>\n",
       "      <th>8384</th>\n",
       "      <td>«Преобразование будущего искусственного интелл...</td>\n",
       "      <td>внешняя политика</td>\n",
       "      <td>0.917976</td>\n",
       "    </tr>\n",
       "    <tr>\n",
       "      <th>...</th>\n",
       "      <td>...</td>\n",
       "      <td>...</td>\n",
       "      <td>...</td>\n",
       "    </tr>\n",
       "    <tr>\n",
       "      <th>1417</th>\n",
       "      <td>29 ноября участвую в конференции \"Цифровизация...</td>\n",
       "      <td>внешняя политика</td>\n",
       "      <td>0.901507</td>\n",
       "    </tr>\n",
       "    <tr>\n",
       "      <th>10805</th>\n",
       "      <td>📢 Ищу роль разработчика iOS! 📱🔍Здравствуйте, з...</td>\n",
       "      <td>внешняя политика</td>\n",
       "      <td>0.901486</td>\n",
       "    </tr>\n",
       "    <tr>\n",
       "      <th>7548</th>\n",
       "      <td>Считаете ли вы, что компании-разработчики прог...</td>\n",
       "      <td>внешняя политика</td>\n",
       "      <td>0.901333</td>\n",
       "    </tr>\n",
       "    <tr>\n",
       "      <th>6342</th>\n",
       "      <td>Продолжая серию о создании сайтов компаний с и...</td>\n",
       "      <td>внешняя политика</td>\n",
       "      <td>0.901312</td>\n",
       "    </tr>\n",
       "    <tr>\n",
       "      <th>4427</th>\n",
       "      <td>✅ Последовательно структурируйте свои коммиты ...</td>\n",
       "      <td>внешняя политика</td>\n",
       "      <td>0.901206</td>\n",
       "    </tr>\n",
       "  </tbody>\n",
       "</table>\n",
       "<p>100 rows × 3 columns</p>\n",
       "</div>"
      ],
      "text/plain": [
       "                                         translated_text             topic  \\\n",
       "10534  У меня было много вопросов о том, что мы видим...  внешняя политика   \n",
       "9174   В современном цифровом ландшафте удаленная раб...  внешняя политика   \n",
       "8996   Хорошо, я обещал поделиться некоторыми из лучш...  внешняя политика   \n",
       "8400   В быстро меняющемся мире технологической эволю...  внешняя политика   \n",
       "8384   «Преобразование будущего искусственного интелл...  внешняя политика   \n",
       "...                                                  ...               ...   \n",
       "1417   29 ноября участвую в конференции \"Цифровизация...  внешняя политика   \n",
       "10805  📢 Ищу роль разработчика iOS! 📱🔍Здравствуйте, з...  внешняя политика   \n",
       "7548   Считаете ли вы, что компании-разработчики прог...  внешняя политика   \n",
       "6342   Продолжая серию о создании сайтов компаний с и...  внешняя политика   \n",
       "4427   ✅ Последовательно структурируйте свои коммиты ...  внешняя политика   \n",
       "\n",
       "       probability  \n",
       "10534     0.922118  \n",
       "9174      0.921700  \n",
       "8996      0.920567  \n",
       "8400      0.919347  \n",
       "8384      0.917976  \n",
       "...            ...  \n",
       "1417      0.901507  \n",
       "10805     0.901486  \n",
       "7548      0.901333  \n",
       "6342      0.901312  \n",
       "4427      0.901206  \n",
       "\n",
       "[100 rows x 3 columns]"
      ]
     },
     "execution_count": 141,
     "metadata": {},
     "output_type": "execute_result"
    }
   ],
   "source": [
    "# Выберем топ-100 текстов с максимальной вероятностью\n",
    "top_100 = (df_len_text_100[['translated_text', 'topic', 'probability']]\n",
    "           .sort_values(by = 'probability', ascending  = False).iloc[:100])\n",
    "\n",
    "#посмотрим на результат\n",
    "top_100"
   ]
  },
  {
   "cell_type": "markdown",
   "id": "af0e05ff",
   "metadata": {},
   "source": [
    "На данном этапе выделили топ-100 постов с большей частотой встречающихся слов. Эти данные в дальнейшем могут использоваться для анализа целевой аудитории."
   ]
  },
  {
   "cell_type": "code",
   "execution_count": 142,
   "id": "e0ea9ae4",
   "metadata": {},
   "outputs": [
    {
     "data": {
      "text/plain": [
       "topic\n",
       "внешняя политика    100\n",
       "Name: count, dtype: int64"
      ]
     },
     "execution_count": 142,
     "metadata": {},
     "output_type": "execute_result"
    }
   ],
   "source": [
    "# Проверим, к каким темам относятся топ-100 текстов\n",
    "top_100.topic.value_counts()"
   ]
  },
  {
   "cell_type": "markdown",
   "id": "6d6c3bae",
   "metadata": {},
   "source": [
    "Алгоритм увереннее всего определяет тему \"внешняя политика\", что логично, так как именно эта тема представлена максимально (6607 текстов)."
   ]
  },
  {
   "cell_type": "code",
   "execution_count": 143,
   "id": "350885cb",
   "metadata": {},
   "outputs": [
    {
     "data": {
      "text/html": [
       "<div>\n",
       "<style scoped>\n",
       "    .dataframe tbody tr th:only-of-type {\n",
       "        vertical-align: middle;\n",
       "    }\n",
       "\n",
       "    .dataframe tbody tr th {\n",
       "        vertical-align: top;\n",
       "    }\n",
       "\n",
       "    .dataframe thead th {\n",
       "        text-align: right;\n",
       "    }\n",
       "</style>\n",
       "<table border=\"1\" class=\"dataframe\">\n",
       "  <thead>\n",
       "    <tr style=\"text-align: right;\">\n",
       "      <th></th>\n",
       "      <th>probability</th>\n",
       "      <th>topic</th>\n",
       "    </tr>\n",
       "    <tr>\n",
       "      <th>topic</th>\n",
       "      <th></th>\n",
       "      <th></th>\n",
       "    </tr>\n",
       "  </thead>\n",
       "  <tbody>\n",
       "    <tr>\n",
       "      <th>внешняя политика</th>\n",
       "      <td>0.761264</td>\n",
       "      <td>6607</td>\n",
       "    </tr>\n",
       "    <tr>\n",
       "      <th>поиск работы</th>\n",
       "      <td>0.708762</td>\n",
       "      <td>226</td>\n",
       "    </tr>\n",
       "    <tr>\n",
       "      <th>коучинг</th>\n",
       "      <td>0.683228</td>\n",
       "      <td>171</td>\n",
       "    </tr>\n",
       "    <tr>\n",
       "      <th>IT рекрутмент</th>\n",
       "      <td>0.674242</td>\n",
       "      <td>148</td>\n",
       "    </tr>\n",
       "    <tr>\n",
       "      <th>новости IT рынка</th>\n",
       "      <td>0.642640</td>\n",
       "      <td>223</td>\n",
       "    </tr>\n",
       "    <tr>\n",
       "      <th>менторство начинающих специалистов</th>\n",
       "      <td>0.640245</td>\n",
       "      <td>96</td>\n",
       "    </tr>\n",
       "    <tr>\n",
       "      <th>обучение IT профессиям</th>\n",
       "      <td>0.629076</td>\n",
       "      <td>89</td>\n",
       "    </tr>\n",
       "    <tr>\n",
       "      <th>проектное сотрудничество</th>\n",
       "      <td>0.588195</td>\n",
       "      <td>754</td>\n",
       "    </tr>\n",
       "    <tr>\n",
       "      <th>предложение IT услуг</th>\n",
       "      <td>0.563181</td>\n",
       "      <td>99</td>\n",
       "    </tr>\n",
       "  </tbody>\n",
       "</table>\n",
       "</div>"
      ],
      "text/plain": [
       "                                    probability  topic\n",
       "topic                                                 \n",
       "внешняя политика                       0.761264   6607\n",
       "поиск работы                           0.708762    226\n",
       "коучинг                                0.683228    171\n",
       "IT рекрутмент                          0.674242    148\n",
       "новости IT рынка                       0.642640    223\n",
       "менторство начинающих специалистов     0.640245     96\n",
       "обучение IT профессиям                 0.629076     89\n",
       "проектное сотрудничество               0.588195    754\n",
       "предложение IT услуг                   0.563181     99"
      ]
     },
     "execution_count": 143,
     "metadata": {},
     "output_type": "execute_result"
    }
   ],
   "source": [
    "# Попробуем оценить насколько уверен алгоритм в остальных темах\n",
    "df_len_text_100.groupby('topic').agg({'probability' : 'mean', \n",
    "                                      'topic' : 'count'}).sort_values(by = 'probability', ascending = False)"
   ]
  },
  {
   "cell_type": "markdown",
   "id": "936bd19c",
   "metadata": {},
   "source": [
    "Лучшие по средней вероятности темы - `внешняя политика`, `поиск работы`, `коучинг` не смотря на то, что тема  `коучинг` представлена только в 171 текстах. А вот темы `обучение IT профессиям`, `проектное сотрудничество`, `предложение IT услуг` определяются хуже всего. Вероятно, сказывается небольшое количество данных. Тема `менторство начинающих специалистов` находится на 6 месте."
   ]
  },
  {
   "cell_type": "markdown",
   "id": "203c6bc7",
   "metadata": {},
   "source": [
    "Попробуем использовать распределения тем в тексте как 'эмбеддинги' текстов, в такой интерпретации можно применять к ним алгоритмы визуализации или кластеризации, и искать уже итоговые 'эффективные ' тематические кластеры таким образом."
   ]
  },
  {
   "cell_type": "code",
   "execution_count": 145,
   "id": "85525d7a",
   "metadata": {},
   "outputs": [
    {
     "data": {
      "image/png": "[encoded data removed]",
      "text/plain": [
       "<Figure size 500x500 with 1 Axes>"
      ]
     },
     "metadata": {},
     "output_type": "display_data"
    }
   ],
   "source": [
    "# Визуализация тематических кластеров\n",
    "plot_tsne(10, topics_lda)"
   ]
  },
  {
   "cell_type": "markdown",
   "id": "018646cb",
   "metadata": {},
   "source": [
    "Тут хотелось бы написать, что на изображении tSNE ембеддингов, видно, что кластеры выделенные с помощью KMeans, образуют достаточно связные и чаще всего пространственно разделимые между собой множества. Но на самом деле видно, что есть над чем еще поработать."
   ]
  },
  {
   "cell_type": "markdown",
   "id": "137ee10a",
   "metadata": {},
   "source": [
    "## Модель NMF"
   ]
  },
  {
   "cell_type": "code",
   "execution_count": 150,
   "id": "fd484eec",
   "metadata": {},
   "outputs": [],
   "source": [
    "# Определим модель\n",
    "nmf = NMF(n_components=n_topics,\n",
    "          init = 'random',\n",
    "          solver = 'mu',\n",
    "          beta_loss = 'kullback-leibler',\n",
    "          max_iter = 1000,\n",
    "          shuffle = True,\n",
    "          l1_ratio = 0.02,\n",
    "          random_state=42)"
   ]
  },
  {
   "cell_type": "code",
   "execution_count": 151,
   "id": "b8d741e3",
   "metadata": {},
   "outputs": [],
   "source": [
    "# Трансформируем корпус\n",
    "topics_nmf = nmf.fit_transform(x)"
   ]
  },
  {
   "cell_type": "code",
   "execution_count": 152,
   "id": "da3ebcab",
   "metadata": {},
   "outputs": [
    {
     "data": {
      "text/plain": [
       "(8413, 10)"
      ]
     },
     "execution_count": 152,
     "metadata": {},
     "output_type": "execute_result"
    }
   ],
   "source": [
    "# Оценим размеры полученной матрицы\n",
    "topics_nmf.shape"
   ]
  },
  {
   "cell_type": "markdown",
   "id": "5de36ba6",
   "metadata": {},
   "source": [
    "Таким образом, получен датасет, где для каждого текста определена вероятность принадлежности к определнным текстам."
   ]
  },
  {
   "cell_type": "markdown",
   "id": "0debefe4",
   "metadata": {},
   "source": [
    "### Ключевые слова"
   ]
  },
  {
   "cell_type": "code",
   "execution_count": 154,
   "id": "27c321ad",
   "metadata": {},
   "outputs": [
    {
     "name": "stdout",
     "output_type": "stream",
     "text": [
      "Тема 0 :\n",
      "дизайн, сайт, статья, проект, веб, написать, кейс, дизайнер, видео, контент\n",
      "\n",
      " \n",
      "Тема 1 :\n",
      "приложение, использовать, пользователь, функция, код, данных, мобильный, веб, инструмент, продукт\n",
      "\n",
      " \n",
      "Тема 2 :\n",
      "начинать, удовольствие, сообщать, компания, должность, желать, неделя, пара, момент, счастливый\n",
      "\n",
      " \n",
      "Тема 3 :\n",
      "программный, обеспечение, бизнес, технология, разработка, ии, стартап, интеллект, цифровой, искусственный\n",
      "\n",
      " \n",
      "Тема 4 :\n",
      "безопасность, система, данных, финансовый, компания, информационный, отчёт, облачный, платформа, инфраструктура\n",
      "\n",
      " \n",
      "Тема 5 :\n",
      "команда, клиент, проект, цель, задача, сотрудник, результат, проблема, решение, продукт\n",
      "\n",
      " \n",
      "Тема 6 :\n",
      "украина, российский, сша, логотип, пациент, недвижимость, доллар, тысяча, поддержать, миллион\n",
      "\n",
      " \n",
      "Тема 7 :\n",
      "вакансия, навык, опыт, компания, тест, специалист, иб, интервью, пройти, собеседование\n",
      "\n",
      " \n",
      "Тема 8 :\n",
      "курс, рад, обучение, мероприятие, сообщить, посетить, конференция, присоединяться, программа, встреча\n",
      "\n",
      " \n",
      "Тема 9 :\n",
      "искать, разработчик, привет, возможность, совет, поддержка, команда, предложить, заранее, рекомендация\n",
      "\n",
      " \n"
     ]
    }
   ],
   "source": [
    "# Выделим 10 ключевых слов для каждой темы.\n",
    "topic_tokens(n_topics, nmf, 10)"
   ]
  },
  {
   "cell_type": "markdown",
   "id": "c0639b43",
   "metadata": {},
   "source": [
    "### Типичные посты"
   ]
  },
  {
   "cell_type": "code",
   "execution_count": 156,
   "id": "4535799a",
   "metadata": {
    "scrolled": false
   },
   "outputs": [
    {
     "name": "stdout",
     "output_type": "stream",
     "text": [
      "Тема  0\n",
      "Подборка сайтиков номер 6!Принес вам новую подборку вдохновения на предстоящую неделю. 13 интересных и завораживающих сайтов помогут вам найти решения для ваших проектов.⚡️ Мой топ на этой неделе Playgoals (https://playgoals.com/) , сайт отлично создает вау эффект с помощью визуала и интерактива, но при этом все уместно и аккуратно. Плюс идеи из этого референса у меня получилось интегрировать в проект совсем не связанный с играми)🔥 Поюорка:✶ https://missjourney.ai/✶ https://marsbranding.com/✶ https://lnkd.in/dFX8Wtgs✶ https://lnkd.in/dAh7jYcv✶ https://playgoals.com/✶ https://lnkd.in/dbVZmvvK✶ https://lnkd.in/dEqrm9gp✶ https://room8group.com/✶ https://lnkd.in/dAacb996✶ https://lnkd.in/dgr9RY2K✶ https://lnkd.in/dxG2CanS✶ https://teslanikola.info/✶ https://yurong.co/👾 Скорее переходи в мой телеграмм канал - https://lnkd.in/dF6vEVJXТам куча полезногоВ канале: - Design Help, файл 40+ материалов для повышения ваших скиллов- Розыгрыш консультаций по карьерному треку и разбору портфолио - Прямые эфиры с дизайном - Полезные статьи 📣 А вот тут мой инстаграм (https://lnkd.in/d6UTFJhG) там я собираюсь рассказывать про дизайн и про свою жизнь#design #linkedin #instagram #help #design #webdesign #webdevelopment #graphicdesign #UIUX #digitaldesign #responsivewebdesign #HTML #CSS #JavaScript #webdesigner #webdesignagency #webdesigncompany #webdesignerlife #webdesigncommunity #webdesigninspiration\n",
      "\n",
      "\n",
      "Тема  1\n",
      "😱 Create React App RIP??? 😱 Зайдя на официальный сайт React я не сразу понял, что произошло.Когда мы заходим на страницу документации React в раздел установки, мы можем увидеть различные предложенные варианты установки фреймворков React, а именно Next.js, Remix, Expo, Gatsby. Но при этом нет варианта установки самого React в чистом виде. Неужели React сдает позиции.На самом деле это не так. Если присмотреться, то можно найти скрытую сноску с информацией о том, можно ли использовать React в чистом виде. Ниже я представлю перевод части данной сноски.Вы определенно можете использовать React без фреймворка. Однако, если вы создаете новое приложение или сайт полностью с помощью React, мы рекомендуем использовать платформу.И вот почему.Даже если сначала вам не нужна маршрутизация или получение данных (data fetching), вы, скорее всего, потом заходите добавить необходимые для них библиотеки. По мере роста вашего Javascript приложения растет ваш код и вам придется выяснять, как разнести этот код для каждого роута по отдельности. Во время увеличения потребностей в получении данных вероятно придется столкнуться с проблемами водопадом между сервером и клиентом (server-client network waterfalls), что замедлит ваше приложение. Поскольку большинство пользователей из аудитории имеет плохие условия сетевого соединения и недорогие устройства, вам понадобится создать HTML с ранним отображением компонентов - либо на сервере, либо во время сборки. Изменение настроек для выполнения части кода на сервере или во время сборки может быть сложным.. . . . . . .Фреймворки React на этой странице решают подобные проблемы по умолчанию, без дополнительной работы с вашей стороны. Они позволяют вам начать очень экономно, а затем масштабировать ваше приложение в соответствии с вашими потребностями.. . . . . . .Если вы все еще не уверены, или ваше приложение имеет необычные ограничения, которые плохо обслуживаются этими фреймворками, и вы хотите развернуть свою собственную пользовательскую настройку, мы не можем остановить вас — дерзайте! Берите react и react-dom из npm, настраивайте свой пользовательский процесс сборки с помощью сборщика, такого как Vite или Parcel, и добавляйте другие инструменты по мере необходимости для маршрутизации, статической генерации или рендеринга на стороне сервера и многого другого.Исходя из данной информации в принципе можно понять, что с React все в порядке. Просто разработчики говорят о том, что React - это библиотека, которая не имеет множества встроенных инструментов и лучше использовать какой-либо фреймворк, но при этом никто не перестает поддерживать и использовать React.#javascript #react #html #data #network\n",
      "\n",
      "\n",
      "Тема  2\n",
      " '🌍 Как выбрать, куда релоцироваться?Релокация сейчас - горящая тема, и вопрос о том, с чего начать, когда решаешь переехать - самый популярный на моих консультациях.Открытием на этих встречах для меня стало то, насколько люди в гонке за оффером с визой готовы согласиться на любую страну и город, - лишь бы взяли. Особенно те, кто никогда за границей не жил, совсем забывают прикинуть, насколько им будет в этой стране комфортно, какой они смогут обеспечить себе уровень жизни. Каким будет их круг общения, хобби, типичный день. Мол, само как-то наверное разрулится 🥲Когда прошлой весной я получила два оффера - в Испанию и Германию, они были на удивление похожи по цифрам и обязанностям.И выбор о том, куда ехать, я делала в первую очередь опираясь на город.Но даже если вы ещё только начинаете искать работу за рубежом, очень советую заранее представить, как вам будет житься в другом городе, и обязательно использовать эти критерии при выборе.В карточках рассказала 4 простых шага, которые делала я. ❓ Уже знаете, куда хотите переехать?ps фотка - июнь 2021 г, когда  после 5 лет в Бразилии я переехала в Москву со всеми своими пожитками распиханными в 4 чемодана. Но это другая история 😉pps Toni Ventura, всё ещё думаю, те 30 минут были самыми полезными в моём рисёрче :)#релокация #переезд #expat #relocation #айти #it\n",
      "\n",
      "\n",
      "Тема  3\n",
      "По мере того, как предприятия растут и развиваются, растут и их технологические потребности. Чтобы оставаться впереди всех, важно иметь технического партнера, который понимает ваш бизнес и может предоставить решения, которые помогут вам достичь ваших целей. Техническое партнерство имеет решающее значение для предприятий любого размера, от стартапов до крупных корпораций. В нашей компании приоритетом является успех наших клиентов. Мы предлагаем широкий спектр услуг и решений для помощи предприятиям в различных отраслях, включая здравоохранение, электронную коммерцию, финтех, образовательные технологии, бронирование, CRM и ERP. Наша команда специализируется на создании приложений, ориентированных на человека, которые не только помогают нашим клиентам масштабироваться, но и оказывают положительное влияние. Партнерство с технологической компанией может принести много преимуществ вашему бизнесу. Вот некоторые из причин, по которым технологические партнерские отношения имеют решающее значение для достижения успеха: Доступ к опыту: когда вы сотрудничаете с технологической компанией, вы получаете доступ к их опыту и знаниям. Технологические компании имеют команду квалифицированных специалистов, которые специализируются в различных областях технологий. Они могут предоставить информацию и советы о том, как улучшить ваши бизнес-процессы и оптимизировать ваши операции. Повышение эффективности: технологии могут автоматизировать многие из ваших бизнес-процессов, экономя ваше время и деньги. Технический партнер может помочь вам определить области, в которых автоматизация может повысить эффективность, и внедрить необходимые системы для оптимизации ваших операций. Экономия средств. Партнерство с технической компанией также может сэкономить вам деньги в долгосрочной перспективе. Инвестирование в технологии может быть дорогостоящим, но технический партнер может предоставить решения, которые являются экономически эффективными и адаптированы к потребностям вашего бизнеса. Конкурентное преимущество: сотрудничая с технологической компанией, вы можете получить конкурентное преимущество в своей отрасли. Технологии могут помочь вам идти в ногу со временем, а технический партнер может предоставить необходимые инструменты, чтобы помочь вам в этом. Гибкость. Техническое партнерство обеспечивает гибкость, позволяя увеличивать или уменьшать масштабы по мере необходимости. Вы можете настроить свои технологические решения в соответствии с вашими текущими потребностями и корректировать их по мере роста и развития вашего бизнеса. В заключение, партнерство с технологической компанией имеет решающее значение для предприятий любого размера. В нашей компании мы понимаем важность технического партнерства и предоставляем широкий спектр услуг и решений, чтобы помочь нашим клиентам добиться успеха. Независимо от того, являетесь ли вы стартапом или крупной корпорацией, мы можем предоставить вам экспертные знания и инструменты, необходимые для того, чтобы оставаться на шаг впереди.\n",
      "\n",
      "\n",
      "Тема  4\n",
      "Сбор данных или предотвращение рисков? Сбор информации с помощью технологий Интернета вещей кажется безграничным. Беспроводные сенсорные сети, системы управления, автоматизации и другие встроенные системы обеспечивают доступ к данным в режиме реального времени. Это делает услуги на основе IoT очень привлекательными для страховых компаний. Например, появление UBI (Usage-Based Insurance), новой модели с поддержкой IoT, позволяет оценивать фактическое поведение пользователей. Хорошим примером является схема UBI, телематика — как оплата по мере вождения, которая собирает информацию о привычках вождения и степени воздействия. Надбавки не фиксированы, и это побуждает водителей быть осторожнее и получать скидки. Аналогичная ситуация с программами медицинского и жилищного страхования. Все эти новшества позволили страховщикам «изменить правила»: вместо того, чтобы защищать риски, они стараются их предотвращать. В то же время глючные приложения, сбои устройств или другие уязвимости могут привести к получению недостоверной информации или небезопасным условиям. Наряду с предотвращением утечки информации по-прежнему доступны возможности для различных мошенников и киберпреступников. Наличие ощущения, что ты как на ладони и Большой Брат наблюдает за тобой, не дает тебе спать спокойно :)#insurtech #softwaredevelopment #insurance\n",
      "\n",
      "\n",
      "Тема  5\n",
      "8 лучших книг всех времен по лидерствуВо времена нарастающего кризиса и неопределенности наличие полезной книги по лидерству или управлению бизнесом на вашем столе является обязательным подходом. Я нашел для вас самые интересные и захватывающие книги! Выберите наиболее привлекательную один для ваших интересов и потребностей, возьмите чашку кофе и наслаждайтесь чтением. 𝒓: 𝑹𝒐𝒔𝒂𝒎𝒖𝒏𝒅 𝑺𝒕𝒐𝒏𝒆 𝒁𝒂𝒏𝒅𝒆𝒓 𝒂𝒏𝒅 𝑩𝒆𝒏𝒋𝒂𝒎 𝒊𝒏 𝒁𝒂𝒏𝒅𝒆𝒓) Цитата: «Каждая проблема, каждая дилемма, каждый тупик, в который мы попадаем столкновение в жизни только кажется неразрешимым внутри определенной рамки или точки зрения. Увеличьте рамку или создайте еще одну рамку вокруг данных, и проблемы исчезнут, но появятся новые возможности». 𝙞𝙫𝙚 𝙋𝙚𝙤𝙥𝙡𝙚 (𝘼𝙪𝙩𝙝𝙤𝙧: 𝙎𝙩𝙚𝙥𝙝𝙚𝙣 𝙍. 𝘾𝙤𝙫𝙚𝙮) люди не слушают с намерением понять; они слушают с намерением ответить». 𝙩 𝙆𝙚𝙜𝙖𝙣 𝙖𝙣𝙙 𝙇𝙞𝙨𝙖 𝙇𝙖𝙨𝙠𝙤𝙬 𝙇𝙖𝙝𝙚𝙮)«Только отступив назад, чтобы увидеть, чего мы достигли до сих пор, и рассмотреть контраст нашего выбора друг против друга, появляются закономерности, и мы почувствуйте мотивационное воздействие». 𝙝𝙤𝙧: 𝙈𝙖𝙧𝙘𝙪𝙨 𝘽𝙪𝙘𝙠𝙞𝙣𝙜𝙝𝙖𝙢) «Радикальная идея, лежащая в основе движения за сильные стороны, заключается в том, что совершенство не является противоположностью неудачи, и поэтому вы мало чему научитесь. о совершенстве, изучая неудачу». берет на себя ответственность за обнаружение потенциала в людях и процессах, и у кого есть смелость развивать этот потенциал». «Отсутствие здорового конфликта — это проблема, потому что он обеспечивает третью команда: отсутствие приверженности. Не высказав свое мнение в ходе страстных и открытых дебатов, члены команды редко, если вообще когда-либо, соглашаются и соглашаются с решениями, хотя они могут симулировать согласие во время встреч». 𝙩𝙝𝙤𝙧: 𝙁𝙧𝙚𝙙 𝙆𝙤𝙛𝙢𝙖𝙣)«Таким образом, наиболее Важная функция лидера состоит в том, чтобы побуждать каждого видеть себя членом более крупной системы, преследующим общее видение, разделяющим общие ценности и сотрудничающим друг с другом в атмосфере взаимной поддержки и уважения. Только». 𝙖𝙠𝙚 𝙩𝙝𝙚 𝙇𝙚𝙖𝙥 (𝙅𝙞𝙢 𝘾𝙤𝙡𝙡𝙞𝙣𝙨) «От хороших до великих компаний вошло в привычку ставить своих лучших людей на самые лучшие возможности, а не на самые большие проблемы. У сравнительных компаний была склонность поступать как раз наоборот, не осознавая того факта, что решение ваших проблем может сделать вас только лучше, тогда как создание ваших возможностей — единственный способ стать великим».\n",
      "\n",
      "\n",
      "Тема  6\n",
      "Около месяца назад Россия начала военное вторжение в Украину. С тех пор мы все переживаем тяжелейшие и глубочайшие события в нашей истории. Они атакуют наши ценности и решение быть частью цивилизованного и демократического мира. Украина превращается в мощный ИТ-хаб, который служит ключевой опорой украинской экономики. В эти непростые дни, как известно, уже четыре недели идет российско-украинская война, гораздо важнее всячески поддерживать нашу страну. Итак, «Мы являемся частью экономического фронта». Премьер-министр Украины призвал возобновить деятельность тех, у кого есть бизнес в районах, где не ведутся активные боевые действия, поэтому, по его мнению, «ключевым фундаментом победы должно стать построение экономики под новые реалии». Запад Украины, г. Львов - продолжаем работать на полную ставку. Продолжаем работать над существующими проектами и активно работаем над новыми. В это непростое время мы понимаем, насколько важна работа для совместной победы, и когда наши услуги не затрагиваются, мы продолжать предоставлять высококачественные решения. Помимо нашей обычной работы, мы также занимаемся волонтерством, помогаем беженцам, работаем в кибервойсках и принимаем участие в пожертвованиях для нашей украинской армии. Мы получили массу писем с поддержкой от всех вас .Мы знаем, что большинство из вас пожертвовали нашей армии, большинство из вас предложили нам свои дома для переезда, многие помогали с гуманитарной помощью - мы очень ценим вашу поддержку и очень благодарны за вашу помощь. несколько раз просили указать надежные фонды для пожертвований, поэтому мы решили поделиться со всеми вами парой тех, кому мы доверяем: https://lnkd.in/dmBDGA4q. Вы можете помочь, если приостановите продажи или другую деятельность, ссылаясь на Россия. Наш президент г-н Зеленский сказал: «Все дела с Россией должны быть остановлены. Все сделки. Поэтому они не могут спонсировать убийства. Наши убийства, наши дети. Чтобы доллары и евро не платили за кровь». Покупка продукции страны-агрессора — это спонсорство войны. Распространение проверенной информации о российском вторжении среди своих друзей, беспутных коллег, партнеров по бизнесу — еще один важный способ поддержать Украину в информационной войне. Не верьте российским фейкам и будьте ясны. Мы принимаем меры для обеспечения личной безопасности наших сотрудников, пожелавших переехать. Нашим главным приоритетом является то, что мы находимся в безопасном месте и можем позаботиться о себе и своих семьях. Если вы хотите следить за новостями в Украине, вы можете следить за новостями на официальных ресурсах: https://lnkd.in/ehVeB5xbДля желающих помочь Украине ГУМАНИТАРНАЯ ПОМОЩЬ https://help.gov.ua/ru. Мы чувствуем поддержку от всех вас, со всего мира! Спасибо большое, это будет наша общая победа! Еще раз спасибо от команды БО и всех украинцев! Слава Украины!#helpukraine #военные #glorytoukraine #warinukraine\n",
      "\n",
      "\n",
      "Тема  7\n",
      " 'Яндекс.Еда — это сервис доставки еды из ресторанов, кафе и магазинов. Нетривиальных и интересных задач у нас очень много, а цель одна: сделать лучший фудтех-продукт на рынке. Будучи молодым и динамичным бизнес-юнитом одной из самых технологичных компаний России, мы используем дата-дривен подход для всех инициатив и проектов, над которыми работаем. И, чтобы наши идеи всегда находили подкрепление в данных, мы ищем сильных, драйвовых аналитиков, готовых присоединиться к нам!В команде аналитики мы решаем самые разнообразные задачи: предлагаем и проверяем гипотезы, визуализируем данные, проводим эксперименты и RnD; и, плечо к плечу с менеджерами проектов, предлагаем инициативы и оцифровываем эффект от них. Сейчас мы ищем аналитика, который сам выберет направление работы в зависимости от умений и желаний: есть возможность развиваться в разных сферах: продуктовая, коммерческая, операционная, бизнес-аналитика, и другие интересные направления про которые мы расскажем вам при встрече 😉. Если вы хорошо знаете математику, SQL, Python и владеете основами статистики, а также хотите присоединиться к лучшей команде аналитиков и вместе развивать наш сервис  - welcome👋!Чтобы откликнуться, пишите а телеграмме: @polinapanshina\n",
      "\n",
      "\n",
      "Тема  8\n",
      "27 мая приходите на #ITsubbotnik  https://lnkd.in/gwT8CWx !Это конференция, на которой эксперты ЕРАМ рассказывают об основных трендах, проблемах и их решениях в разработке ПО.Этой весной вас ждут: - доклады на актуальные темы по направлениям Java, QA, Big Data, DevOps- вдохновляющая профессиональная атмосфера и новые знакомстваКонференция полностью бесплатная. Узнать о программе, познакомиться со спикерами и зарегистрироваться можно здесь https://lnkd.in/gwT8CWx.  Встречаемся 27 мая в 10:30 по адресу: ул. Лодейнопольская, 5, центр ПетроКонгресс. Приходите, будет интересно!\n",
      "\n",
      "\n",
      "Тема  9\n",
      "Здравствуйте, в настоящее время я нахожусь в поиске новых карьерных возможностей, горизонтов и вызовов! Заранее благодарю за оказанную Вами поддержку, которая может выражаться в форме рекомендаций контактов, советов или возможностей, которые Вы можете предложить. Если вкратце о себе, то я имею  опыт в сфере HR, который составляет более 17 лет из них 16 лет непрерывного опыта рекрутинга и хантинга. Свое резюме я готова направить в личку.#HR#it #recruiting  #HR# #opentowork\n",
      "\n",
      "\n"
     ]
    }
   ],
   "source": [
    "# Определим типичные посты для каждой темы.\n",
    "typical_posts(n_topics, topics_nmf)"
   ]
  },
  {
   "cell_type": "markdown",
   "id": "94535863",
   "metadata": {},
   "source": [
    "На основании полученных результатов можно предположить названия тем:\n",
    "   - Тема 1 - проектное сотрудничество;\n",
    "   - Тема 2 - лайфхаки при поиске работы;\n",
    "   - Тема 3 - образовательные статьи;\n",
    "   - Тема 4 - нетворкинг/поиск сотрудника; \n",
    "   - Тема 5 - внешняя политика;\n",
    "   - Тема 6 - разработка/кодинг;\n",
    "   - Тема 7 - кейсы компаний/дизайн;\n",
    "   - Тема 8 - рекрутмент;\n",
    "   - Тема 9 - релокация;\n",
    "   - Тема 10 - менторство начинающих специалистов."
   ]
  },
  {
   "cell_type": "code",
   "execution_count": 158,
   "id": "75fc8a0e",
   "metadata": {},
   "outputs": [],
   "source": [
    "# Словарь соответствия номера темы и ее названия\n",
    "topic_dict_nmf = {0 : 'проектное сотрудничество',\n",
    "              1 : 'лайфхаки при поиске работы',\n",
    "              2 : 'образовательные статьи',\n",
    "              3 : 'нетворкинг/поиск сотрудника',\n",
    "              4 : 'внешняя политика',\n",
    "              5 : 'разработка/кодинг',\n",
    "              6 : 'кейсы компаний/дизайн',\n",
    "              7 : 'рекрутмент',\n",
    "              8 : 'релокация',\n",
    "              9 : 'менторство начинающих специалистов'}"
   ]
  },
  {
   "cell_type": "code",
   "execution_count": 159,
   "id": "81336f7e",
   "metadata": {},
   "outputs": [
    {
     "data": {
      "text/html": [
       "<div>\n",
       "<style scoped>\n",
       "    .dataframe tbody tr th:only-of-type {\n",
       "        vertical-align: middle;\n",
       "    }\n",
       "\n",
       "    .dataframe tbody tr th {\n",
       "        vertical-align: top;\n",
       "    }\n",
       "\n",
       "    .dataframe thead th {\n",
       "        text-align: right;\n",
       "    }\n",
       "</style>\n",
       "<table border=\"1\" class=\"dataframe\">\n",
       "  <thead>\n",
       "    <tr style=\"text-align: right;\">\n",
       "      <th></th>\n",
       "      <th>url_user</th>\n",
       "      <th>text_post</th>\n",
       "      <th>language</th>\n",
       "      <th>translated_text</th>\n",
       "      <th>len_text</th>\n",
       "      <th>topic</th>\n",
       "      <th>probability</th>\n",
       "      <th>topic_nmf</th>\n",
       "    </tr>\n",
       "  </thead>\n",
       "  <tbody>\n",
       "    <tr>\n",
       "      <th>1</th>\n",
       "      <td>https://www.linkedin.com/in/korenevich/</td>\n",
       "      <td>'Почему основатель любого бизнеса обязан умет...</td>\n",
       "      <td>ru</td>\n",
       "      <td>'Почему основатель любого бизнеса обязан умет...</td>\n",
       "      <td>2973</td>\n",
       "      <td>внешняя политика</td>\n",
       "      <td>0.879818</td>\n",
       "      <td>разработка/кодинг</td>\n",
       "    </tr>\n",
       "    <tr>\n",
       "      <th>2</th>\n",
       "      <td>https://www.linkedin.com/in/korenevich/</td>\n",
       "      <td>'Казнить нельзя помиловать. Навык #9 – принят...</td>\n",
       "      <td>ru</td>\n",
       "      <td>'Казнить нельзя помиловать. Навык #9 – принят...</td>\n",
       "      <td>2975</td>\n",
       "      <td>внешняя политика</td>\n",
       "      <td>0.841049</td>\n",
       "      <td>разработка/кодинг</td>\n",
       "    </tr>\n",
       "    <tr>\n",
       "      <th>4</th>\n",
       "      <td>https://www.linkedin.com/in/korenevich/</td>\n",
       "      <td>'Сегодня была защита дипломных работ на кафед...</td>\n",
       "      <td>ru</td>\n",
       "      <td>'Сегодня была защита дипломных работ на кафед...</td>\n",
       "      <td>1044</td>\n",
       "      <td>внешняя политика</td>\n",
       "      <td>0.677442</td>\n",
       "      <td>релокация</td>\n",
       "    </tr>\n",
       "    <tr>\n",
       "      <th>6</th>\n",
       "      <td>https://www.linkedin.com/in/korenevich/</td>\n",
       "      <td>'Кто я? Чем занимаюсь? Чем и кому могу быть п...</td>\n",
       "      <td>ru</td>\n",
       "      <td>'Кто я? Чем занимаюсь? Чем и кому могу быть п...</td>\n",
       "      <td>2576</td>\n",
       "      <td>внешняя политика</td>\n",
       "      <td>0.809520</td>\n",
       "      <td>разработка/кодинг</td>\n",
       "    </tr>\n",
       "    <tr>\n",
       "      <th>7</th>\n",
       "      <td>https://www.linkedin.com/in/korenevich/</td>\n",
       "      <td>'Казалось бы, ну какая нам разница, где и как...</td>\n",
       "      <td>ru</td>\n",
       "      <td>'Казалось бы, ну какая нам разница, где и как...</td>\n",
       "      <td>2034</td>\n",
       "      <td>внешняя политика</td>\n",
       "      <td>0.890893</td>\n",
       "      <td>лайфхаки при поиске работы</td>\n",
       "    </tr>\n",
       "  </tbody>\n",
       "</table>\n",
       "</div>"
      ],
      "text/plain": [
       "                                  url_user  \\\n",
       "1  https://www.linkedin.com/in/korenevich/   \n",
       "2  https://www.linkedin.com/in/korenevich/   \n",
       "4  https://www.linkedin.com/in/korenevich/   \n",
       "6  https://www.linkedin.com/in/korenevich/   \n",
       "7  https://www.linkedin.com/in/korenevich/   \n",
       "\n",
       "                                           text_post language  \\\n",
       "1   'Почему основатель любого бизнеса обязан умет...       ru   \n",
       "2   'Казнить нельзя помиловать. Навык #9 – принят...       ru   \n",
       "4   'Сегодня была защита дипломных работ на кафед...       ru   \n",
       "6   'Кто я? Чем занимаюсь? Чем и кому могу быть п...       ru   \n",
       "7   'Казалось бы, ну какая нам разница, где и как...       ru   \n",
       "\n",
       "                                     translated_text  len_text  \\\n",
       "1   'Почему основатель любого бизнеса обязан умет...      2973   \n",
       "2   'Казнить нельзя помиловать. Навык #9 – принят...      2975   \n",
       "4   'Сегодня была защита дипломных работ на кафед...      1044   \n",
       "6   'Кто я? Чем занимаюсь? Чем и кому могу быть п...      2576   \n",
       "7   'Казалось бы, ну какая нам разница, где и как...      2034   \n",
       "\n",
       "              topic  probability                   topic_nmf  \n",
       "1  внешняя политика     0.879818           разработка/кодинг  \n",
       "2  внешняя политика     0.841049           разработка/кодинг  \n",
       "4  внешняя политика     0.677442                   релокация  \n",
       "6  внешняя политика     0.809520           разработка/кодинг  \n",
       "7  внешняя политика     0.890893  лайфхаки при поиске работы  "
      ]
     },
     "execution_count": 159,
     "metadata": {},
     "output_type": "execute_result"
    }
   ],
   "source": [
    "# Добавим столбец с номером темы для каждого наблюдения\n",
    "df_len_text_100['topic_nmf'] = topics_nmf.argmax(axis=1)\n",
    "df_len_text_100['topic_nmf'] = df_len_text_100['topic_nmf'].apply(lambda x: topic_dict_nmf[x])\n",
    "\n",
    "# посмотрим на результат\n",
    "df_len_text_100.head()"
   ]
  },
  {
   "cell_type": "code",
   "execution_count": 160,
   "id": "7f66e461",
   "metadata": {},
   "outputs": [
    {
     "data": {
      "text/plain": [
       "topic_nmf\n",
       "лайфхаки при поиске работы            1054\n",
       "разработка/кодинг                      924\n",
       "образовательные статьи                 914\n",
       "нетворкинг/поиск сотрудника            914\n",
       "рекрутмент                             886\n",
       "релокация                              850\n",
       "проектное сотрудничество               786\n",
       "внешняя политика                       757\n",
       "кейсы компаний/дизайн                  665\n",
       "менторство начинающих специалистов     663\n",
       "Name: count, dtype: int64"
      ]
     },
     "execution_count": 160,
     "metadata": {},
     "output_type": "execute_result"
    }
   ],
   "source": [
    "# Определим какие темы представлены чаще всего\n",
    "df_len_text_100['topic_nmf'].value_counts()"
   ]
  },
  {
   "cell_type": "code",
   "execution_count": 161,
   "id": "f5efbacf",
   "metadata": {},
   "outputs": [
    {
     "data": {
      "text/html": [
       "<div>\n",
       "<style scoped>\n",
       "    .dataframe tbody tr th:only-of-type {\n",
       "        vertical-align: middle;\n",
       "    }\n",
       "\n",
       "    .dataframe tbody tr th {\n",
       "        vertical-align: top;\n",
       "    }\n",
       "\n",
       "    .dataframe thead th {\n",
       "        text-align: right;\n",
       "    }\n",
       "</style>\n",
       "<table border=\"1\" class=\"dataframe\">\n",
       "  <thead>\n",
       "    <tr style=\"text-align: right;\">\n",
       "      <th></th>\n",
       "      <th>url_user</th>\n",
       "      <th>text_post</th>\n",
       "      <th>language</th>\n",
       "      <th>translated_text</th>\n",
       "      <th>len_text</th>\n",
       "      <th>topic</th>\n",
       "      <th>probability</th>\n",
       "      <th>topic_nmf</th>\n",
       "      <th>probability_nmf</th>\n",
       "    </tr>\n",
       "  </thead>\n",
       "  <tbody>\n",
       "    <tr>\n",
       "      <th>1</th>\n",
       "      <td>https://www.linkedin.com/in/korenevich/</td>\n",
       "      <td>'Почему основатель любого бизнеса обязан умет...</td>\n",
       "      <td>ru</td>\n",
       "      <td>'Почему основатель любого бизнеса обязан умет...</td>\n",
       "      <td>2973</td>\n",
       "      <td>внешняя политика</td>\n",
       "      <td>0.879818</td>\n",
       "      <td>разработка/кодинг</td>\n",
       "      <td>0.068602</td>\n",
       "    </tr>\n",
       "    <tr>\n",
       "      <th>2</th>\n",
       "      <td>https://www.linkedin.com/in/korenevich/</td>\n",
       "      <td>'Казнить нельзя помиловать. Навык #9 – принят...</td>\n",
       "      <td>ru</td>\n",
       "      <td>'Казнить нельзя помиловать. Навык #9 – принят...</td>\n",
       "      <td>2975</td>\n",
       "      <td>внешняя политика</td>\n",
       "      <td>0.841049</td>\n",
       "      <td>разработка/кодинг</td>\n",
       "      <td>0.144294</td>\n",
       "    </tr>\n",
       "    <tr>\n",
       "      <th>4</th>\n",
       "      <td>https://www.linkedin.com/in/korenevich/</td>\n",
       "      <td>'Сегодня была защита дипломных работ на кафед...</td>\n",
       "      <td>ru</td>\n",
       "      <td>'Сегодня была защита дипломных работ на кафед...</td>\n",
       "      <td>1044</td>\n",
       "      <td>внешняя политика</td>\n",
       "      <td>0.677442</td>\n",
       "      <td>релокация</td>\n",
       "      <td>0.071243</td>\n",
       "    </tr>\n",
       "    <tr>\n",
       "      <th>6</th>\n",
       "      <td>https://www.linkedin.com/in/korenevich/</td>\n",
       "      <td>'Кто я? Чем занимаюсь? Чем и кому могу быть п...</td>\n",
       "      <td>ru</td>\n",
       "      <td>'Кто я? Чем занимаюсь? Чем и кому могу быть п...</td>\n",
       "      <td>2576</td>\n",
       "      <td>внешняя политика</td>\n",
       "      <td>0.809520</td>\n",
       "      <td>разработка/кодинг</td>\n",
       "      <td>0.056332</td>\n",
       "    </tr>\n",
       "    <tr>\n",
       "      <th>7</th>\n",
       "      <td>https://www.linkedin.com/in/korenevich/</td>\n",
       "      <td>'Казалось бы, ну какая нам разница, где и как...</td>\n",
       "      <td>ru</td>\n",
       "      <td>'Казалось бы, ну какая нам разница, где и как...</td>\n",
       "      <td>2034</td>\n",
       "      <td>внешняя политика</td>\n",
       "      <td>0.890893</td>\n",
       "      <td>лайфхаки при поиске работы</td>\n",
       "      <td>0.060698</td>\n",
       "    </tr>\n",
       "  </tbody>\n",
       "</table>\n",
       "</div>"
      ],
      "text/plain": [
       "                                  url_user  \\\n",
       "1  https://www.linkedin.com/in/korenevich/   \n",
       "2  https://www.linkedin.com/in/korenevich/   \n",
       "4  https://www.linkedin.com/in/korenevich/   \n",
       "6  https://www.linkedin.com/in/korenevich/   \n",
       "7  https://www.linkedin.com/in/korenevich/   \n",
       "\n",
       "                                           text_post language  \\\n",
       "1   'Почему основатель любого бизнеса обязан умет...       ru   \n",
       "2   'Казнить нельзя помиловать. Навык #9 – принят...       ru   \n",
       "4   'Сегодня была защита дипломных работ на кафед...       ru   \n",
       "6   'Кто я? Чем занимаюсь? Чем и кому могу быть п...       ru   \n",
       "7   'Казалось бы, ну какая нам разница, где и как...       ru   \n",
       "\n",
       "                                     translated_text  len_text  \\\n",
       "1   'Почему основатель любого бизнеса обязан умет...      2973   \n",
       "2   'Казнить нельзя помиловать. Навык #9 – принят...      2975   \n",
       "4   'Сегодня была защита дипломных работ на кафед...      1044   \n",
       "6   'Кто я? Чем занимаюсь? Чем и кому могу быть п...      2576   \n",
       "7   'Казалось бы, ну какая нам разница, где и как...      2034   \n",
       "\n",
       "              topic  probability                   topic_nmf  probability_nmf  \n",
       "1  внешняя политика     0.879818           разработка/кодинг         0.068602  \n",
       "2  внешняя политика     0.841049           разработка/кодинг         0.144294  \n",
       "4  внешняя политика     0.677442                   релокация         0.071243  \n",
       "6  внешняя политика     0.809520           разработка/кодинг         0.056332  \n",
       "7  внешняя политика     0.890893  лайфхаки при поиске работы         0.060698  "
      ]
     },
     "execution_count": 161,
     "metadata": {},
     "output_type": "execute_result"
    }
   ],
   "source": [
    "# Добавим столбец с вероятностью принадлежности выбранной теме для каждого наблюдения\n",
    "df_len_text_100['probability_nmf'] = topics_nmf.max(axis=1)\n",
    "\n",
    "#посмотрим на результат\n",
    "df_len_text_100.head()"
   ]
  },
  {
   "cell_type": "markdown",
   "id": "d18d0374",
   "metadata": {},
   "source": [
    "Выделим также топ-100 текстов, которые нашла вторая модель."
   ]
  },
  {
   "cell_type": "code",
   "execution_count": 162,
   "id": "2613f00b",
   "metadata": {},
   "outputs": [
    {
     "data": {
      "text/html": [
       "<div>\n",
       "<style scoped>\n",
       "    .dataframe tbody tr th:only-of-type {\n",
       "        vertical-align: middle;\n",
       "    }\n",
       "\n",
       "    .dataframe tbody tr th {\n",
       "        vertical-align: top;\n",
       "    }\n",
       "\n",
       "    .dataframe thead th {\n",
       "        text-align: right;\n",
       "    }\n",
       "</style>\n",
       "<table border=\"1\" class=\"dataframe\">\n",
       "  <thead>\n",
       "    <tr style=\"text-align: right;\">\n",
       "      <th></th>\n",
       "      <th>translated_text</th>\n",
       "      <th>topic_nmf</th>\n",
       "      <th>probability_nmf</th>\n",
       "    </tr>\n",
       "  </thead>\n",
       "  <tbody>\n",
       "    <tr>\n",
       "      <th>7720</th>\n",
       "      <td>Около месяца назад Россия начала военное вторж...</td>\n",
       "      <td>кейсы компаний/дизайн</td>\n",
       "      <td>0.239197</td>\n",
       "    </tr>\n",
       "    <tr>\n",
       "      <th>4732</th>\n",
       "      <td>Единственный способ, которым Путин может побед...</td>\n",
       "      <td>кейсы компаний/дизайн</td>\n",
       "      <td>0.237669</td>\n",
       "    </tr>\n",
       "    <tr>\n",
       "      <th>6452</th>\n",
       "      <td>31 день войны России против Украины. «Привет, ...</td>\n",
       "      <td>кейсы компаний/дизайн</td>\n",
       "      <td>0.234937</td>\n",
       "    </tr>\n",
       "    <tr>\n",
       "      <th>6461</th>\n",
       "      <td>12-й день войны между Россией и Украиной. Може...</td>\n",
       "      <td>кейсы компаний/дизайн</td>\n",
       "      <td>0.231560</td>\n",
       "    </tr>\n",
       "    <tr>\n",
       "      <th>7722</th>\n",
       "      <td>СОХРАНИТЕ УКРАИНУ!Извините, что делаю этот пос...</td>\n",
       "      <td>кейсы компаний/дизайн</td>\n",
       "      <td>0.228702</td>\n",
       "    </tr>\n",
       "    <tr>\n",
       "      <th>...</th>\n",
       "      <td>...</td>\n",
       "      <td>...</td>\n",
       "      <td>...</td>\n",
       "    </tr>\n",
       "    <tr>\n",
       "      <th>7095</th>\n",
       "      <td>Сегодня исполняется шесть месяцев с начала ужа...</td>\n",
       "      <td>кейсы компаний/дизайн</td>\n",
       "      <td>0.156480</td>\n",
       "    </tr>\n",
       "    <tr>\n",
       "      <th>10298</th>\n",
       "      <td>Влияние искусственного интеллекта и машинного ...</td>\n",
       "      <td>нетворкинг/поиск сотрудника</td>\n",
       "      <td>0.156286</td>\n",
       "    </tr>\n",
       "    <tr>\n",
       "      <th>9243</th>\n",
       "      <td>Мировая демистификация. Трудно поверить, но во...</td>\n",
       "      <td>кейсы компаний/дизайн</td>\n",
       "      <td>0.155980</td>\n",
       "    </tr>\n",
       "    <tr>\n",
       "      <th>9187</th>\n",
       "      <td>Представьте, что у вас есть 50 задач в ваших п...</td>\n",
       "      <td>разработка/кодинг</td>\n",
       "      <td>0.155801</td>\n",
       "    </tr>\n",
       "    <tr>\n",
       "      <th>2405</th>\n",
       "      <td>Часть 1 Помоги себе сам, или «self-help»#it #p...</td>\n",
       "      <td>образовательные статьи</td>\n",
       "      <td>0.155553</td>\n",
       "    </tr>\n",
       "  </tbody>\n",
       "</table>\n",
       "<p>100 rows × 3 columns</p>\n",
       "</div>"
      ],
      "text/plain": [
       "                                         translated_text  \\\n",
       "7720   Около месяца назад Россия начала военное вторж...   \n",
       "4732   Единственный способ, которым Путин может побед...   \n",
       "6452   31 день войны России против Украины. «Привет, ...   \n",
       "6461   12-й день войны между Россией и Украиной. Може...   \n",
       "7722   СОХРАНИТЕ УКРАИНУ!Извините, что делаю этот пос...   \n",
       "...                                                  ...   \n",
       "7095   Сегодня исполняется шесть месяцев с начала ужа...   \n",
       "10298  Влияние искусственного интеллекта и машинного ...   \n",
       "9243   Мировая демистификация. Трудно поверить, но во...   \n",
       "9187   Представьте, что у вас есть 50 задач в ваших п...   \n",
       "2405   Часть 1 Помоги себе сам, или «self-help»#it #p...   \n",
       "\n",
       "                         topic_nmf  probability_nmf  \n",
       "7720         кейсы компаний/дизайн         0.239197  \n",
       "4732         кейсы компаний/дизайн         0.237669  \n",
       "6452         кейсы компаний/дизайн         0.234937  \n",
       "6461         кейсы компаний/дизайн         0.231560  \n",
       "7722         кейсы компаний/дизайн         0.228702  \n",
       "...                            ...              ...  \n",
       "7095         кейсы компаний/дизайн         0.156480  \n",
       "10298  нетворкинг/поиск сотрудника         0.156286  \n",
       "9243         кейсы компаний/дизайн         0.155980  \n",
       "9187             разработка/кодинг         0.155801  \n",
       "2405        образовательные статьи         0.155553  \n",
       "\n",
       "[100 rows x 3 columns]"
      ]
     },
     "execution_count": 162,
     "metadata": {},
     "output_type": "execute_result"
    }
   ],
   "source": [
    "# Выберем топ-100 текстов с максимальной вероятностью\n",
    "top_100_nmf = (df_len_text_100[['translated_text', 'topic_nmf', 'probability_nmf']]\n",
    "           .sort_values(by = 'probability_nmf', ascending  = False).iloc[:100])\n",
    "\n",
    "#посмотрим на результат\n",
    "top_100_nmf"
   ]
  },
  {
   "cell_type": "code",
   "execution_count": 163,
   "id": "8902ee5f",
   "metadata": {},
   "outputs": [
    {
     "data": {
      "text/plain": [
       "topic_nmf\n",
       "кейсы компаний/дизайн                 46\n",
       "образовательные статьи                13\n",
       "внешняя политика                      12\n",
       "разработка/кодинг                      9\n",
       "нетворкинг/поиск сотрудника            7\n",
       "проектное сотрудничество               5\n",
       "рекрутмент                             4\n",
       "лайфхаки при поиске работы             2\n",
       "менторство начинающих специалистов     2\n",
       "Name: count, dtype: int64"
      ]
     },
     "execution_count": 163,
     "metadata": {},
     "output_type": "execute_result"
    }
   ],
   "source": [
    "# проверим, к каким темам относятся топ-100 текстов\n",
    "top_100_nmf.topic_nmf.value_counts()"
   ]
  },
  {
   "cell_type": "markdown",
   "id": "80b7ab35",
   "metadata": {},
   "source": [
    "Чаще всего в топ-100 встречаются темы `кейсы компаний/дизайн`, `образовательные статьи`, `внешняя политика`."
   ]
  },
  {
   "cell_type": "code",
   "execution_count": 164,
   "id": "c0dba5da",
   "metadata": {},
   "outputs": [
    {
     "data": {
      "text/html": [
       "<div>\n",
       "<style scoped>\n",
       "    .dataframe tbody tr th:only-of-type {\n",
       "        vertical-align: middle;\n",
       "    }\n",
       "\n",
       "    .dataframe tbody tr th {\n",
       "        vertical-align: top;\n",
       "    }\n",
       "\n",
       "    .dataframe thead th {\n",
       "        text-align: right;\n",
       "    }\n",
       "</style>\n",
       "<table border=\"1\" class=\"dataframe\">\n",
       "  <thead>\n",
       "    <tr style=\"text-align: right;\">\n",
       "      <th></th>\n",
       "      <th>probability_nmf</th>\n",
       "      <th>topic_nmf</th>\n",
       "    </tr>\n",
       "    <tr>\n",
       "      <th>topic_nmf</th>\n",
       "      <th></th>\n",
       "      <th></th>\n",
       "    </tr>\n",
       "  </thead>\n",
       "  <tbody>\n",
       "    <tr>\n",
       "      <th>кейсы компаний/дизайн</th>\n",
       "      <td>0.082790</td>\n",
       "      <td>665</td>\n",
       "    </tr>\n",
       "    <tr>\n",
       "      <th>менторство начинающих специалистов</th>\n",
       "      <td>0.077071</td>\n",
       "      <td>663</td>\n",
       "    </tr>\n",
       "    <tr>\n",
       "      <th>внешняя политика</th>\n",
       "      <td>0.075113</td>\n",
       "      <td>757</td>\n",
       "    </tr>\n",
       "    <tr>\n",
       "      <th>разработка/кодинг</th>\n",
       "      <td>0.072482</td>\n",
       "      <td>924</td>\n",
       "    </tr>\n",
       "    <tr>\n",
       "      <th>лайфхаки при поиске работы</th>\n",
       "      <td>0.070894</td>\n",
       "      <td>1054</td>\n",
       "    </tr>\n",
       "    <tr>\n",
       "      <th>рекрутмент</th>\n",
       "      <td>0.069948</td>\n",
       "      <td>886</td>\n",
       "    </tr>\n",
       "    <tr>\n",
       "      <th>образовательные статьи</th>\n",
       "      <td>0.068497</td>\n",
       "      <td>914</td>\n",
       "    </tr>\n",
       "    <tr>\n",
       "      <th>нетворкинг/поиск сотрудника</th>\n",
       "      <td>0.066677</td>\n",
       "      <td>914</td>\n",
       "    </tr>\n",
       "    <tr>\n",
       "      <th>релокация</th>\n",
       "      <td>0.063755</td>\n",
       "      <td>850</td>\n",
       "    </tr>\n",
       "    <tr>\n",
       "      <th>проектное сотрудничество</th>\n",
       "      <td>0.060416</td>\n",
       "      <td>786</td>\n",
       "    </tr>\n",
       "  </tbody>\n",
       "</table>\n",
       "</div>"
      ],
      "text/plain": [
       "                                    probability_nmf  topic_nmf\n",
       "topic_nmf                                                     \n",
       "кейсы компаний/дизайн                      0.082790        665\n",
       "менторство начинающих специалистов         0.077071        663\n",
       "внешняя политика                           0.075113        757\n",
       "разработка/кодинг                          0.072482        924\n",
       "лайфхаки при поиске работы                 0.070894       1054\n",
       "рекрутмент                                 0.069948        886\n",
       "образовательные статьи                     0.068497        914\n",
       "нетворкинг/поиск сотрудника                0.066677        914\n",
       "релокация                                  0.063755        850\n",
       "проектное сотрудничество                   0.060416        786"
      ]
     },
     "execution_count": 164,
     "metadata": {},
     "output_type": "execute_result"
    }
   ],
   "source": [
    "# Попробуем оценить насколько уверен алгоритм в остальных темах\n",
    "df_len_text_100.groupby('topic_nmf').agg({'probability_nmf' : 'mean', \n",
    "                                      'topic_nmf' : 'count'}).sort_values(by = 'probability_nmf', ascending = False)"
   ]
  },
  {
   "cell_type": "markdown",
   "id": "38136a03",
   "metadata": {},
   "source": [
    "Вероятности распределились равномерно по всем темам. Можно заметить, что данная модель плохо разделила тексты по темам, вероятность везде достаточно низкая. Можно предположить, что гиперпараметры были настроены не совсем удачно. Кроме того, похоже что имеющиеся данные в целом не кардинально отличаются друг от друга по содержанию."
   ]
  },
  {
   "cell_type": "code",
   "execution_count": 166,
   "id": "1fe85115",
   "metadata": {},
   "outputs": [
    {
     "data": {
      "image/png": "[encoded data removed]",
      "text/plain": [
       "<Figure size 500x500 with 1 Axes>"
      ]
     },
     "metadata": {},
     "output_type": "display_data"
    }
   ],
   "source": [
    "# Визуализация кластеров\n",
    "plot_tsne(10, topics_nmf)"
   ]
  },
  {
   "cell_type": "markdown",
   "id": "9ae6ace4",
   "metadata": {},
   "source": [
    "Визуализация явно показывает, что модель NMF с использованными гиперпараметрами не справляется со своей задачей."
   ]
  },
  {
   "cell_type": "markdown",
   "id": "50abfba9",
   "metadata": {},
   "source": [
    "# Выводы"
   ]
  },
  {
   "attachments": {
    "image-2.png": {
     "image/png": "[encoded data removed]"
    }
   },
   "cell_type": "markdown",
   "id": "3dcf84f2",
   "metadata": {},
   "source": [
    "Для проведения исследования командой написан скрипт (parser) для сбора данных в социальной сети LinkedIN, которые представляют собой ссылки на профили людей, подходящих под ЦА заказчика, тексты их постов и реакции.\n",
    "\n",
    "Получилось собрать информацию о 158 профилях и 1125 текстов. Преобладающее количество текстов на русском языке. Но из-за небольшого их количества выполнить задачу не представлялось возможным. Поэтому, для улучшения качества прогноза модели, было решено обменяться собранными данными с другими командами.\n",
    "\n",
    "**В итоге, для анализе использовались 1012 профилей и 11146 текстов.** Полученные тексты распределились по языкам следующим образом:\n",
    " - en - 60%\n",
    " - ru - 32%\n",
    " - uk - 2%\n",
    " - остальные - 6% (всего определлились 36 языков).\n",
    "\n",
    "Для корректного анализа тексты предварительно переведены на русский язык.\n",
    "\n",
    "При исследовании длин полученных текстов установлено, что максимальная достигает 6638 знаков, а минимальная длина равна двум знакам. Таким образом, 25% собранных данных короче 110 символов. Такие \"короткие\" тексты (предположительно подпись к картинке или видео, набор хэштэгов, смайлов и пр.) не несли в себе полезную информацию, поэтому решено удалить эти наблюдения. В итоге использовались 8413 текстов.\n",
    "\n",
    "На этапе подготовки текстов для модели была проведена лемматизация и токенизация текстов. Также тексты были очищены от \"мусорных\" символов - знаков пунктуации, смайлов, иностранных слов, цифр. Удалены стоп-слова. \n",
    "\n",
    "Векторизация текстов производилась при помощи Tf-iDf.\n",
    "На этапе подбора модели были использованы:\n",
    " - LDA - LatentDirichletAllocation\n",
    " - NMF - Non-Negative Matrix Factorization\n",
    "\n",
    "Эффективность работы модели сложно оценить, так как нет метрик на которые можно опереться. Для выбора модели использовали здравый смысл и алгоритмы визуализации, которые позволили определить насколько хорошо модель разделяет тесты по темам.\n",
    "\n",
    "Корректное распределение вероятности и лучшее разделение тем получено в результате применения модели LDA. Результат представлен в таблице.\n",
    " \n",
    "Выделены следующие топ-10 ключевых слов по темам:\n",
    "\n",
    "| Тема | Название темы | Количество тем |Средняя вероятность | Ключевые слова |\n",
    "|----------|----------|----------|----------|----------|\n",
    "| Тема 6    | новости IT рынка   | 6440 | 0.75 | решение, опыт, клиент, приложение, продукт, бизнес, разработка, команда, проект, компания |\n",
    "| Тема 9    | поиск работы   | 206 | 0.71 | кибербезопасность, здравствовать, признателен, иб, поддержка, совет, предложить, возможность, заранее, благодарить |\n",
    "| Тема 7    | обучение IT профессиям   | 58 | 0.66 | асинхронный, машинный, буква, испытание, карусель, видео, генеративный, проверить, курс, закончить |\n",
    "| Тема 4    | предложение IT услуг   | 186 | 0.65 | рад, услуга, разработка, сообщить, сертификат, компания, должность, начинать, удовольствие, сообщать |\n",
    "| Тема 8    | IT рекрутмент   | 128 | 0.63 | делиться, статья, желать, тильда, оценить, комментарий, праздник, ребята, нанимать, лендинг |\n",
    "| Тема 10   | поиск работы    | 180 | 0.63 | встретиться, отличный, нетерпение, невероятный, поделиться, грузия, команда, заявка, рад, саммит |\n",
    "| Тема 5    | менторство начинающих специалистов   | 611 | 0.61 | английский, команда, поиск, проект, привет, опыт, резюме, разработчик, искать, вакансия |\n",
    "| Тема 3    | коучинг   | 151 | 0.60 | желать, счастливый, выходной, справляться, проверка, пройти, тест, следующий, значок, навык |\n",
    "| Тема 2    | внешняя политика   | 262 | 0.57 | военный, европа, доклад, вебинар, ноябрь, март, российский, конференция, украинец, украина |\n",
    "| Тема 1    | проектное сотрудничество   | 191 | 0.56 | создать, фирменный, анимация, пожаловать, сайт, добро, дизайнер, стиль, логотип, дизайн |\n",
    "\n",
    "На основании полученных результатов можно заметить, что все посты написаны примерно про одно и то же, это: поиск работы или работников, впечатление от обучения и несколько тем посвящены коучингу и менторству начинающих специалистов. По теме наставничества целевая группа пишет немного.\n",
    "\n",
    "**Пример визуализации разделения тем на кластеры моделью LDA**\n",
    "![image-2.png](attachment:image-2.png)\n",
    "На изображении tSNE ембеддингов, видно, что кластеры выделенные с помощью KMeans, образуют достаточно связные и чаще всего пространственно разделимые между собой множества. Но так же видно, что есть над чем еще поработать.\n",
    "\n",
    "При анализе распределения тем, с большим отрывом лидирует тема 6 (6440 текстов), на втором месте модель поставила тему 5 - 611 текстов, на третьем - 2 тема и 262 текста.\n",
    "\n",
    "При оценке топ-100 постов, для которых модель наиболее уверенно (с большей вероятностью) определила тему выяснилось, что все эти посты отнесены к теме 6. Что логично, так как эти тексты представлены на порядок в большем количестве. Вероятность для топ-100 находится в пределах 0.92 - 0.89.\n",
    "\n",
    "При оценке средней вероятности, с которой алгоритм определял принадлежность к определенной теме выяснилось, что увереннее всего он справляется с темами:\n",
    " - 6 тема - средняя вероятность 0.75 - количество текстов 6440\n",
    " - 9 тема - средняя вероятность 0.71 - количество текстов 206\n",
    " - 7 тема - средняя вероятность 0.66 - количество текстов 58\n",
    "\n",
    "Хуже всего модель справилась с темами 3, 2 и 1 - средние вероятности 0.60 (151 текст), 0.57(262) и 0.56(191). Возможно, это связано с тебольшим количеством текстов для данных тем.\n",
    "\n",
    "Стоит отметить, что данные пришедшие от других команд, содержат значительное количество текстов на политичесие темы, что не относится к теме исследования. В дальнейшем планируется вычислить датасет с нерелевантными данными и исключить его из моделирования.\n",
    "\n",
    "\n",
    "**Что можно сделать лучше:**\n",
    "- Изменить стратегию поиска постов, применить другие ключевые слова для сбора данных целевой аудитории.\n",
    "- Хороший результат был получен при добавлении стоп кастомизированных стоп-слов, расширение этого списка потенциально может улучшить работу модели.\n",
    "- Попробовать использовать предобученные модели BERT как самостоятельный вариант или вместе с LDA.\n",
    "\n",
    "\n",
    "**В ходе работы над проектом команда столкнулась со следующими сложностями:**\n",
    "   - замена ключевого участника на середине хакатона;\n",
    "   - социальная сеть LinkdIn хорошо защищает данные своих пользователей от парсинга. Кроме того, накладывает ограничения на возможность просмотра профилей - пользователи с маленьким количеством контактов не могут просмотривать посты других людей. Проблема была решена путем обмена контактами участников хакатона друг с другом и объединением всех собранных данных команд в один датасет.\n",
    "   - некоторые посты отдельных пользователей защищены от парсинга, в связи с этим, возникла проблема с корректным сбором реакций на посты. Проблема пока остается не решенной, однако это не мешает тематическому моделированию и получению достоверных результатов;\n",
    "   - оказалось, что представители целевой аудитории мало пишут про наставничество и менторство. В связи с этим возникла проблема нехватки данных по теме исследования хакатона. Проблема может быть решена более тщательным подбором ключевых слов для фильтрации пользователей."
   ]
  }
 ],
 "metadata": {
  "kernelspec": {
   "display_name": "Python 3 (ipykernel)",
   "language": "python",
   "name": "python3"
  },
  "language_info": {
   "codemirror_mode": {
    "name": "ipython",
    "version": 3
   },
   "file_extension": ".py",
   "mimetype": "text/x-python",
   "name": "python",
   "nbconvert_exporter": "python",
   "pygments_lexer": "ipython3",
   "version": "3.11.3"
  },
  "toc": {
   "base_numbering": 1,
   "nav_menu": {},
   "number_sections": true,
   "sideBar": true,
   "skip_h1_title": true,
   "title_cell": "Table of Contents",
   "title_sidebar": "Contents",
   "toc_cell": true,
   "toc_position": {},
   "toc_section_display": true,
   "toc_window_display": false
  }
 },
 "nbformat": 4,
 "nbformat_minor": 5
}
