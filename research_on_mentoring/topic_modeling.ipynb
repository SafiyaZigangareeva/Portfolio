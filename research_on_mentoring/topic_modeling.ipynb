{
 "cells": [
  {
   "cell_type": "markdown",
   "id": "d7a446e7",
   "metadata": {
    "toc": true
   },
   "source": [
    "<h1>Table of Contents<span class=\"tocSkip\"></span></h1>\n",
    "<div class=\"toc\"><ul class=\"toc-item\"><li><span><a href=\"#Ознакомимся-с-данными\" data-toc-modified-id=\"Ознакомимся-с-данными-1\"><span class=\"toc-item-num\">1&nbsp;&nbsp;</span>Ознакомимся с данными</a></span></li><li><span><a href=\"#Подготовка-текстов\" data-toc-modified-id=\"Подготовка-текстов-2\"><span class=\"toc-item-num\">2&nbsp;&nbsp;</span>Подготовка текстов</a></span></li><li><span><a href=\"#Векторизация-текстов\" data-toc-modified-id=\"Векторизация-текстов-3\"><span class=\"toc-item-num\">3&nbsp;&nbsp;</span>Векторизация текстов</a></span></li><li><span><a href=\"#LDA\" data-toc-modified-id=\"LDA-4\"><span class=\"toc-item-num\">4&nbsp;&nbsp;</span>LDA</a></span><ul class=\"toc-item\"><li><span><a href=\"#Ключевые-слова\" data-toc-modified-id=\"Ключевые-слова-4.1\"><span class=\"toc-item-num\">4.1&nbsp;&nbsp;</span>Ключевые слова</a></span></li><li><span><a href=\"#Типичные-статьи\" data-toc-modified-id=\"Типичные-статьи-4.2\"><span class=\"toc-item-num\">4.2&nbsp;&nbsp;</span>Типичные статьи</a></span></li></ul></li><li><span><a href=\"#Модель-NMF\" data-toc-modified-id=\"Модель-NMF-5\"><span class=\"toc-item-num\">5&nbsp;&nbsp;</span>Модель NMF</a></span><ul class=\"toc-item\"><li><span><a href=\"#Ключевые-слова\" data-toc-modified-id=\"Ключевые-слова-5.1\"><span class=\"toc-item-num\">5.1&nbsp;&nbsp;</span>Ключевые слова</a></span></li><li><span><a href=\"#Типичные-посты\" data-toc-modified-id=\"Типичные-посты-5.2\"><span class=\"toc-item-num\">5.2&nbsp;&nbsp;</span>Типичные посты</a></span></li></ul></li></ul></div>"
   ]
  },
  {
   "cell_type": "markdown",
   "id": "9ffc05be",
   "metadata": {},
   "source": [
    "# Исследование темы наставничества в LinkedIn"
   ]
  },
  {
   "cell_type": "markdown",
   "id": "7e9eeb8b",
   "metadata": {},
   "source": [
    "**Описание проекта  и цель**\n",
    "\n",
    "Требуется провести исследование по теме наставничества и менторства на основании контента социальной сети LinkedIn, размещенного в открытом доступе, созданного целевой аудиторией.\n",
    "\n",
    "Задача исследования: определить топ-10 тем в направлении наставничества.\n",
    "\n",
    "**Описание данных**\n",
    "\n",
    "Сбор данных осуществлялся на сайт социальнй сети LinkedIn. В данных представлены ссылки на профили из ЦА (целевая аудитория), тексты публикаций. Некоторые тексты были написаны на иностранных языках, поэтому они были предварительно переведены на русский.\n",
    "\n",
    " - url_user - ссылка на профиль\n",
    " - text_post  - текст публикации\n",
    " - language  - язык публикации\n",
    " - translated_text - переведенный текст\n",
    " \n",
    " \n",
    " **План работы**\n",
    " \n",
    "1. Предобработка данных\n",
    "    - Ознакомление с данными\n",
    "    - Подготовка текстов\n",
    "    - Векторизация текстов\n",
    "2. Моделирование\n",
    "   - модель LDA\n",
    "   - модель NMF\n",
    "   - Ключевые слова для каждой модели\n",
    "   - Типичные статьи для каждой модели\n",
    "3. Выводы"
   ]
  },
  {
   "cell_type": "markdown",
   "id": "df09096d",
   "metadata": {},
   "source": [
    "# Предобработка данных"
   ]
  },
  {
   "cell_type": "markdown",
   "id": "a3d4a1f5",
   "metadata": {},
   "source": [
    "## Ознакомимся с данными"
   ]
  },
  {
   "cell_type": "code",
   "execution_count": 1,
   "id": "acffa7f0",
   "metadata": {},
   "outputs": [],
   "source": [
    "# Импорт библиотек\n",
    "import re\n",
    "import json\n",
    "import warnings \n",
    "\n",
    "import pandas as pd\n",
    "import numpy as np\n",
    "import spacy\n",
    "from tqdm import tqdm\n",
    "\n",
    "import matplotlib.pyplot as plt\n",
    "import matplotlib.cm as cm\n",
    "\n",
    "from nltk.corpus import stopwords\n",
    "from wordcloud import WordCloud\n",
    "from sklearn.decomposition import LatentDirichletAllocation\n",
    "from sklearn.feature_extraction.text import TfidfVectorizer\n",
    "from sklearn.cluster import KMeans\n",
    "from sklearn.decomposition import NMF\n",
    "from sklearn.manifold import TSNE"
   ]
  },
  {
   "cell_type": "code",
   "execution_count": 2,
   "id": "ff570509",
   "metadata": {},
   "outputs": [],
   "source": [
    "warnings.filterwarnings('ignore')"
   ]
  },
  {
   "cell_type": "code",
   "execution_count": 7,
   "id": "5b843fdb",
   "metadata": {},
   "outputs": [
    {
     "data": {
      "text/html": [
       "<div>\n",
       "<style scoped>\n",
       "    .dataframe tbody tr th:only-of-type {\n",
       "        vertical-align: middle;\n",
       "    }\n",
       "\n",
       "    .dataframe tbody tr th {\n",
       "        vertical-align: top;\n",
       "    }\n",
       "\n",
       "    .dataframe thead th {\n",
       "        text-align: right;\n",
       "    }\n",
       "</style>\n",
       "<table border=\"1\" class=\"dataframe\">\n",
       "  <thead>\n",
       "    <tr style=\"text-align: right;\">\n",
       "      <th></th>\n",
       "      <th>url_user</th>\n",
       "      <th>text_post</th>\n",
       "      <th>language</th>\n",
       "      <th>translated_text</th>\n",
       "    </tr>\n",
       "  </thead>\n",
       "  <tbody>\n",
       "    <tr>\n",
       "      <th>0</th>\n",
       "      <td>https://www.linkedin.com/in/korenevich/</td>\n",
       "      <td>['Приложение которое из голоса раскидывает зад...</td>\n",
       "      <td>ru</td>\n",
       "      <td>['Приложение которое из голоса раскидывает зад...</td>\n",
       "    </tr>\n",
       "    <tr>\n",
       "      <th>1</th>\n",
       "      <td>https://www.linkedin.com/in/korenevich/</td>\n",
       "      <td>'Почему основатель любого бизнеса обязан умет...</td>\n",
       "      <td>ru</td>\n",
       "      <td>'Почему основатель любого бизнеса обязан умет...</td>\n",
       "    </tr>\n",
       "    <tr>\n",
       "      <th>2</th>\n",
       "      <td>https://www.linkedin.com/in/korenevich/</td>\n",
       "      <td>'Казнить нельзя помиловать. Навык #9 – принят...</td>\n",
       "      <td>ru</td>\n",
       "      <td>'Казнить нельзя помиловать. Навык #9 – принят...</td>\n",
       "    </tr>\n",
       "  </tbody>\n",
       "</table>\n",
       "</div>"
      ],
      "text/plain": [
       "                                  url_user  \\\n",
       "0  https://www.linkedin.com/in/korenevich/   \n",
       "1  https://www.linkedin.com/in/korenevich/   \n",
       "2  https://www.linkedin.com/in/korenevich/   \n",
       "\n",
       "                                           text_post language  \\\n",
       "0  ['Приложение которое из голоса раскидывает зад...       ru   \n",
       "1   'Почему основатель любого бизнеса обязан умет...       ru   \n",
       "2   'Казнить нельзя помиловать. Навык #9 – принят...       ru   \n",
       "\n",
       "                                     translated_text  \n",
       "0  ['Приложение которое из голоса раскидывает зад...  \n",
       "1   'Почему основатель любого бизнеса обязан умет...  \n",
       "2   'Казнить нельзя помиловать. Навык #9 – принят...  "
      ]
     },
     "execution_count": 7,
     "metadata": {},
     "output_type": "execute_result"
    }
   ],
   "source": [
    "# Ознакомимся с датасетом \n",
    "#df = pd.read_csv('data/all_data_translated.csv')\n",
    "df = pd.read_csv(r'C:\\Users\\649\\Yandex\\Masterskaya\\LI_Hackaton_4\\LI_Hackaton_4\\data\\all_data_translated.csv')\n",
    "\n",
    "# выведем первые строки\n",
    "df.head(3)"
   ]
  },
  {
   "cell_type": "markdown",
   "id": "cc28c4d6",
   "metadata": {},
   "source": [
    "Изначально данные собраны на разных языках. Дело в том, что рускоязычные спикеры пишут как на русском, там и на английском языках, поскольку социальная сеть предназначена для международной коммуникации в том числе."
   ]
  },
  {
   "cell_type": "code",
   "execution_count": 8,
   "id": "81c9061b",
   "metadata": {},
   "outputs": [
    {
     "data": {
      "text/plain": [
       "(11146, 4)"
      ]
     },
     "execution_count": 8,
     "metadata": {},
     "output_type": "execute_result"
    }
   ],
   "source": [
    "# проверим размерность\n",
    "df.shape"
   ]
  },
  {
   "cell_type": "code",
   "execution_count": 9,
   "id": "2b6ea74a",
   "metadata": {},
   "outputs": [
    {
     "data": {
      "text/plain": [
       "211"
      ]
     },
     "execution_count": 9,
     "metadata": {},
     "output_type": "execute_result"
    }
   ],
   "source": [
    "# Проверка на дубликаты\n",
    "df.duplicated().sum()"
   ]
  },
  {
   "cell_type": "code",
   "execution_count": 10,
   "id": "3dc35557",
   "metadata": {},
   "outputs": [],
   "source": [
    "# Удалим дубликаты \n",
    "df = df.drop_duplicates(keep='last')"
   ]
  },
  {
   "cell_type": "code",
   "execution_count": 11,
   "id": "d1058ce9",
   "metadata": {},
   "outputs": [
    {
     "data": {
      "text/plain": [
       "url_user           0\n",
       "text_post          0\n",
       "language           0\n",
       "translated_text    0\n",
       "dtype: int64"
      ]
     },
     "execution_count": 11,
     "metadata": {},
     "output_type": "execute_result"
    }
   ],
   "source": [
    "# проверим пропуски\n",
    "df.isna().sum()"
   ]
  },
  {
   "cell_type": "code",
   "execution_count": 12,
   "id": "32559b49",
   "metadata": {},
   "outputs": [
    {
     "data": {
      "text/html": [
       "<div>\n",
       "<style scoped>\n",
       "    .dataframe tbody tr th:only-of-type {\n",
       "        vertical-align: middle;\n",
       "    }\n",
       "\n",
       "    .dataframe tbody tr th {\n",
       "        vertical-align: top;\n",
       "    }\n",
       "\n",
       "    .dataframe thead th {\n",
       "        text-align: right;\n",
       "    }\n",
       "</style>\n",
       "<table border=\"1\" class=\"dataframe\">\n",
       "  <thead>\n",
       "    <tr style=\"text-align: right;\">\n",
       "      <th></th>\n",
       "      <th>url_user</th>\n",
       "      <th>text_post</th>\n",
       "      <th>language</th>\n",
       "      <th>translated_text</th>\n",
       "    </tr>\n",
       "  </thead>\n",
       "  <tbody>\n",
       "  </tbody>\n",
       "</table>\n",
       "</div>"
      ],
      "text/plain": [
       "Empty DataFrame\n",
       "Columns: [url_user, text_post, language, translated_text]\n",
       "Index: []"
      ]
     },
     "execution_count": 12,
     "metadata": {},
     "output_type": "execute_result"
    }
   ],
   "source": [
    "# Проверим есть ли строки, в которых нет текста\n",
    "df.loc[df['translated_text'] == '']"
   ]
  },
  {
   "cell_type": "code",
   "execution_count": 13,
   "id": "4647ccc5",
   "metadata": {},
   "outputs": [
    {
     "data": {
      "text/plain": [
       "1012"
      ]
     },
     "execution_count": 13,
     "metadata": {},
     "output_type": "execute_result"
    }
   ],
   "source": [
    "# Количество профилей\n",
    "df.url_user.nunique()"
   ]
  },
  {
   "cell_type": "code",
   "execution_count": 14,
   "id": "ba991397",
   "metadata": {},
   "outputs": [
    {
     "name": "stdout",
     "output_type": "stream",
     "text": [
      "<class 'pandas.core.frame.DataFrame'>\n",
      "Index: 10935 entries, 0 to 11145\n",
      "Data columns (total 4 columns):\n",
      " #   Column           Non-Null Count  Dtype \n",
      "---  ------           --------------  ----- \n",
      " 0   url_user         10935 non-null  object\n",
      " 1   text_post        10935 non-null  object\n",
      " 2   language         10935 non-null  object\n",
      " 3   translated_text  10935 non-null  object\n",
      "dtypes: object(4)\n",
      "memory usage: 427.1+ KB\n"
     ]
    }
   ],
   "source": [
    "#посомотрим на итоговые результаты\n",
    "df.info()"
   ]
  },
  {
   "cell_type": "code",
   "execution_count": 15,
   "id": "ee9c7f74",
   "metadata": {},
   "outputs": [
    {
     "data": {
      "text/plain": [
       "861      'Всем привет! Делюсь радостной новостью: в но...\n",
       "8103    Вы слышали о новой вредоносной программе? Иссл...\n",
       "8099    «Facebook не может быть отключен, не так ли?»,...\n",
       "8327    print('hello world!') В этом месяце Stack Over...\n",
       "5880    Это был невероятный год во всех отношениях 🎄 В...\n",
       "Name: translated_text, dtype: object"
      ]
     },
     "execution_count": 15,
     "metadata": {},
     "output_type": "execute_result"
    }
   ],
   "source": [
    "# Посмотрим на тексты публикаций - случайным образом сэмплируем несколько примеров\n",
    "\n",
    "df['translated_text'].sample(5)"
   ]
  },
  {
   "cell_type": "code",
   "execution_count": 16,
   "id": "949c4a24",
   "metadata": {},
   "outputs": [
    {
     "data": {
      "text/plain": [
       "array(['ru', 'ro', 'en', 'uk', 'hr', 'mk', 'ca', 'et', 'no', 'bg', 'fr',\n",
       "       'sl', 'sq', 'fi', 'id', 'cs', 'it', 'af', 'tl', 'pt', 'sv', 'de',\n",
       "       'es', 'nl', 'cy', 'da', 'sw', 'pl', 'tr', 'so', 'ar', 'lt', 'vi',\n",
       "       'he', 'hu', 'sk'], dtype=object)"
      ]
     },
     "execution_count": 16,
     "metadata": {},
     "output_type": "execute_result"
    }
   ],
   "source": [
    "# Посмотрим какие языки присутсвуют в тексте\n",
    "df['language'].unique()"
   ]
  },
  {
   "cell_type": "code",
   "execution_count": 26,
   "id": "d0b91bf7",
   "metadata": {},
   "outputs": [
    {
     "data": {
      "image/png": "[encoded data removed]",
      "text/plain": [
       "<Figure size 1200x800 with 1 Axes>"
      ]
     },
     "metadata": {},
     "output_type": "display_data"
    }
   ],
   "source": [
    "ax = df['language'].value_counts(normalize=True).plot(kind='bar', figsize=(12, 8), title='Amount Frequency',\n",
    "             xlabel='Amount ($)', ylabel='Frequency', legend=False)\n",
    "\n",
    "# annotate\n",
    "ax.bar_label(ax.containers[0]);\n",
    "\n",
    "# pad the spacing between the number and the edge of the figure\n",
    "#ax.margins(y=0.1)"
   ]
  },
  {
   "cell_type": "code",
   "execution_count": 20,
   "id": "e358bae7",
   "metadata": {},
   "outputs": [
    {
     "ename": "AttributeError",
     "evalue": "'Series' object has no attribute 'patches'",
     "output_type": "error",
     "traceback": [
      "\u001b[1;31m---------------------------------------------------------------------------\u001b[0m",
      "\u001b[1;31mAttributeError\u001b[0m                            Traceback (most recent call last)",
      "Cell \u001b[1;32mIn[20], line 6\u001b[0m\n\u001b[0;32m      2\u001b[0m class_frequency \u001b[38;5;241m=\u001b[39m df[\u001b[38;5;124m'\u001b[39m\u001b[38;5;124mlanguage\u001b[39m\u001b[38;5;124m'\u001b[39m]\u001b[38;5;241m.\u001b[39mvalue_counts(normalize\u001b[38;5;241m=\u001b[39m\u001b[38;5;28;01mTrue\u001b[39;00m)\n\u001b[0;32m      4\u001b[0m plt\u001b[38;5;241m.\u001b[39mfigure(figsize\u001b[38;5;241m=\u001b[39m(\u001b[38;5;241m12\u001b[39m,\u001b[38;5;241m5\u001b[39m))\n\u001b[1;32m----> 6\u001b[0m plt\u001b[38;5;241m.\u001b[39mbar_label(container \u001b[38;5;241m=\u001b[39m class_frequency)\n\u001b[0;32m      7\u001b[0m plt\u001b[38;5;241m.\u001b[39mtitle(\u001b[38;5;124m'\u001b[39m\u001b[38;5;124mЧастота различных языков постов\u001b[39m\u001b[38;5;124m'\u001b[39m)\n\u001b[0;32m      8\u001b[0m plt\u001b[38;5;241m.\u001b[39mxlabel(\u001b[38;5;124m'\u001b[39m\u001b[38;5;124mЯзык\u001b[39m\u001b[38;5;124m'\u001b[39m)\n",
      "File \u001b[1;32m~\\anaconda3\\envs\\LI_Hackaton_4\\Lib\\site-packages\\matplotlib\\pyplot.py:2467\u001b[0m, in \u001b[0;36mbar_label\u001b[1;34m(container, labels, fmt, label_type, padding, **kwargs)\u001b[0m\n\u001b[0;32m   2463\u001b[0m \u001b[38;5;129m@_copy_docstring_and_deprecators\u001b[39m(Axes\u001b[38;5;241m.\u001b[39mbar_label)\n\u001b[0;32m   2464\u001b[0m \u001b[38;5;28;01mdef\u001b[39;00m \u001b[38;5;21mbar_label\u001b[39m(\n\u001b[0;32m   2465\u001b[0m         container, labels\u001b[38;5;241m=\u001b[39m\u001b[38;5;28;01mNone\u001b[39;00m, \u001b[38;5;241m*\u001b[39m, fmt\u001b[38;5;241m=\u001b[39m\u001b[38;5;124m'\u001b[39m\u001b[38;5;132;01m%g\u001b[39;00m\u001b[38;5;124m'\u001b[39m, label_type\u001b[38;5;241m=\u001b[39m\u001b[38;5;124m'\u001b[39m\u001b[38;5;124medge\u001b[39m\u001b[38;5;124m'\u001b[39m,\n\u001b[0;32m   2466\u001b[0m         padding\u001b[38;5;241m=\u001b[39m\u001b[38;5;241m0\u001b[39m, \u001b[38;5;241m*\u001b[39m\u001b[38;5;241m*\u001b[39mkwargs):\n\u001b[1;32m-> 2467\u001b[0m     \u001b[38;5;28;01mreturn\u001b[39;00m gca()\u001b[38;5;241m.\u001b[39mbar_label(\n\u001b[0;32m   2468\u001b[0m         container, labels\u001b[38;5;241m=\u001b[39mlabels, fmt\u001b[38;5;241m=\u001b[39mfmt, label_type\u001b[38;5;241m=\u001b[39mlabel_type,\n\u001b[0;32m   2469\u001b[0m         padding\u001b[38;5;241m=\u001b[39mpadding, \u001b[38;5;241m*\u001b[39m\u001b[38;5;241m*\u001b[39mkwargs)\n",
      "File \u001b[1;32m~\\anaconda3\\envs\\LI_Hackaton_4\\Lib\\site-packages\\matplotlib\\axes\\_axes.py:2722\u001b[0m, in \u001b[0;36mAxes.bar_label\u001b[1;34m(self, container, labels, fmt, label_type, padding, **kwargs)\u001b[0m\n\u001b[0;32m   2718\u001b[0m     \u001b[38;5;28;01mreturn\u001b[39;00m \u001b[38;5;241m1\u001b[39m \u001b[38;5;28;01mif\u001b[39;00m x \u001b[38;5;241m>\u001b[39m\u001b[38;5;241m=\u001b[39m \u001b[38;5;241m0\u001b[39m \u001b[38;5;28;01melse\u001b[39;00m \u001b[38;5;241m-\u001b[39m\u001b[38;5;241m1\u001b[39m\n\u001b[0;32m   2720\u001b[0m _api\u001b[38;5;241m.\u001b[39mcheck_in_list([\u001b[38;5;124m'\u001b[39m\u001b[38;5;124medge\u001b[39m\u001b[38;5;124m'\u001b[39m, \u001b[38;5;124m'\u001b[39m\u001b[38;5;124mcenter\u001b[39m\u001b[38;5;124m'\u001b[39m], label_type\u001b[38;5;241m=\u001b[39mlabel_type)\n\u001b[1;32m-> 2722\u001b[0m bars \u001b[38;5;241m=\u001b[39m container\u001b[38;5;241m.\u001b[39mpatches\n\u001b[0;32m   2723\u001b[0m errorbar \u001b[38;5;241m=\u001b[39m container\u001b[38;5;241m.\u001b[39merrorbar\n\u001b[0;32m   2724\u001b[0m datavalues \u001b[38;5;241m=\u001b[39m container\u001b[38;5;241m.\u001b[39mdatavalues\n",
      "File \u001b[1;32m~\\anaconda3\\envs\\LI_Hackaton_4\\Lib\\site-packages\\pandas\\core\\generic.py:5989\u001b[0m, in \u001b[0;36mNDFrame.__getattr__\u001b[1;34m(self, name)\u001b[0m\n\u001b[0;32m   5982\u001b[0m \u001b[38;5;28;01mif\u001b[39;00m (\n\u001b[0;32m   5983\u001b[0m     name \u001b[38;5;129;01mnot\u001b[39;00m \u001b[38;5;129;01min\u001b[39;00m \u001b[38;5;28mself\u001b[39m\u001b[38;5;241m.\u001b[39m_internal_names_set\n\u001b[0;32m   5984\u001b[0m     \u001b[38;5;129;01mand\u001b[39;00m name \u001b[38;5;129;01mnot\u001b[39;00m \u001b[38;5;129;01min\u001b[39;00m \u001b[38;5;28mself\u001b[39m\u001b[38;5;241m.\u001b[39m_metadata\n\u001b[0;32m   5985\u001b[0m     \u001b[38;5;129;01mand\u001b[39;00m name \u001b[38;5;129;01mnot\u001b[39;00m \u001b[38;5;129;01min\u001b[39;00m \u001b[38;5;28mself\u001b[39m\u001b[38;5;241m.\u001b[39m_accessors\n\u001b[0;32m   5986\u001b[0m     \u001b[38;5;129;01mand\u001b[39;00m \u001b[38;5;28mself\u001b[39m\u001b[38;5;241m.\u001b[39m_info_axis\u001b[38;5;241m.\u001b[39m_can_hold_identifiers_and_holds_name(name)\n\u001b[0;32m   5987\u001b[0m ):\n\u001b[0;32m   5988\u001b[0m     \u001b[38;5;28;01mreturn\u001b[39;00m \u001b[38;5;28mself\u001b[39m[name]\n\u001b[1;32m-> 5989\u001b[0m \u001b[38;5;28;01mreturn\u001b[39;00m \u001b[38;5;28mobject\u001b[39m\u001b[38;5;241m.\u001b[39m\u001b[38;5;21m__getattribute__\u001b[39m(\u001b[38;5;28mself\u001b[39m, name)\n",
      "\u001b[1;31mAttributeError\u001b[0m: 'Series' object has no attribute 'patches'"
     ]
    },
    {
     "data": {
      "image/png": "[encoded data removed]",
      "text/plain": [
       "<Figure size 1200x500 with 1 Axes>"
      ]
     },
     "metadata": {},
     "output_type": "display_data"
    }
   ],
   "source": [
    "# Иследуем на каких языках написаны тексты\n",
    "class_frequency = df['language'].value_counts(normalize=True)\n",
    "\n",
    "plt.figure(figsize=(12,5))\n",
    "\n",
    "plt.bar_label(container = class_frequency)\n",
    "plt.title('Частота различных языков постов')\n",
    "plt.xlabel('Язык')\n",
    "plt.ylabel('Частота')\n",
    "\n",
    "\n",
    "#print(class_frequency)\n",
    "\n",
    "class_frequency.plot(kind='bar', color='lightblue');"
   ]
  },
  {
   "cell_type": "markdown",
   "id": "6e78d6d9",
   "metadata": {},
   "source": [
    "Таким образом, подавляющее число постов написано на английском языке. Но данные были предварительно переведены в отдельном исследовании. Здесь используются уже данные полностью на русском языке. Посмотрим, какие именно тексты определились для других языков."
   ]
  },
  {
   "cell_type": "markdown",
   "id": "48d90ef1-5291-4a46-aa6a-d937d4fa787b",
   "metadata": {},
   "source": [
    "\n",
    "<div class=\"alert alert-success\">\n",
    "<b>Комментарий ревьюера ✔️:</b>\n",
    "\n",
    "В относительно свежих версиях matplotlib есть метод [pyplot.bar_label](https://matplotlib.org/stable/api/_as_gen/matplotlib.pyplot.bar_label.html) – если сделать фигуру немного пошире, то можно добавить значения прямо на график и не выводить отдельную таблицу 👍\n",
    "\n",
    "Или может быть объединить редкие языки в другое? 🤔\n",
    "</div>\n"
   ]
  },
  {
   "cell_type": "code",
   "execution_count": null,
   "id": "5ebafcfc",
   "metadata": {},
   "outputs": [],
   "source": [
    "#отфильтруем тексты\n",
    "diff_lang = df.loc[(df['language']!='ru') & \n",
    "                   (df['language']!='en')]\n",
    "\n",
    "len(diff_lang) "
   ]
  },
  {
   "cell_type": "markdown",
   "id": "5f1d7a19-9a11-4132-8a72-28d93a321d84",
   "metadata": {},
   "source": [
    "\n",
    "<div class=\"alert alert-success\">\n",
    "<b>Комментарий ревьюера ✔️:</b> \n",
    "\n",
    "Еще один шаг в сторону оптимизации – [pandas.Series.isin](https://pandas.pydata.org/docs/reference/api/pandas.Series.isin.html), с ним можно сделать код еще проще\n",
    "\n",
    "</div>\n",
    "\n",
    "<div class=\"alert alert-warning\">\n",
    "<b>Комментарий ревьюера ⚠️:</b> \n",
    "\n",
    "В ячейке с кодом неожиданно фраза про \"Язык отличный от английского и русского...\", надо ее убрать в комментарий или вынести в текстовую ячейку markdown\n",
    "\n",
    "</div>\n",
    "\n",
    "\n"
   ]
  },
  {
   "cell_type": "markdown",
   "id": "fad8b5ea",
   "metadata": {},
   "source": [
    "Язык отличный от английского и русского встречается в достаточно большом количестве текстов. Под другими языками могли определиться тексты, содержащие хэштеги, профессионализмы и жаргон. Поскольку исходные данные были предварительно переведены, удалять языки, отличные от русского нет необходимости."
   ]
  },
  {
   "cell_type": "markdown",
   "id": "abd8c908-faea-4220-93a5-c328f818b870",
   "metadata": {},
   "source": [
    "\n",
    "<div class=\"alert alert-warning\">\n",
    "<b>Комментарий ревьюера ⚠️:</b>\n",
    "\n",
    "Надо перепроверить логику повествования – удаляем языки отличные от русского/английского или нет 🤔\n",
    "\n",
    "Судя по коду – не удаляем. Тогда комментарий в ячейке с кодом лишний.\n",
    "\n",
    "</div>"
   ]
  },
  {
   "cell_type": "markdown",
   "id": "aac7a1e1",
   "metadata": {},
   "source": [
    "Далее проанализируем длинны текстов и, при необходимости, избавимся от коротких."
   ]
  },
  {
   "cell_type": "code",
   "execution_count": null,
   "id": "858ccbda",
   "metadata": {},
   "outputs": [],
   "source": [
    "# Добавим дополнительнй признак - длина текста\n",
    "df['len_text'] = df['text_post'].apply(lambda x:len(x))"
   ]
  },
  {
   "cell_type": "code",
   "execution_count": null,
   "id": "178427cb",
   "metadata": {},
   "outputs": [],
   "source": [
    "# Построим гистограмму распределения длин\n",
    "plt.figure(figsize=(10,6))\n",
    "df['len_text'].plot.hist(bins = 30)\n",
    "\n",
    "plt.title('Гистограмма распределения текстов по количеству символов')\n",
    "plt.xlabel('Количество символов')\n",
    "plt.show()"
   ]
  },
  {
   "cell_type": "markdown",
   "id": "800554a5-ba54-4fa6-abb6-cb8e98c52c32",
   "metadata": {},
   "source": [
    "\n",
    "<div class=\"alert alert-success\">\n",
    "<b>Комментарий ревьюера ✔️:</b>\n",
    "\n",
    "Очень хорошо что подкрепляешь выводы и находки иллюстрациями, графиками с подписанными осями, с заголовками 😉\n",
    "\n",
    "</div>\n"
   ]
  },
  {
   "cell_type": "code",
   "execution_count": null,
   "id": "4feb2de7",
   "metadata": {},
   "outputs": [],
   "source": [
    "# выведем статистику по длиннам текстов\n",
    "df['len_text'].describe()"
   ]
  },
  {
   "cell_type": "markdown",
   "id": "59b7bd8f",
   "metadata": {},
   "source": [
    "Видно, что длина некоторых текстов достигает 6638 знаков, а минамальная длина равна двум знакам. Таким образом, 25% данных короче 110 символов. Посмотрим на примеры текстов и оценим несут ли они в себе полезную информацию."
   ]
  },
  {
   "cell_type": "code",
   "execution_count": null,
   "id": "61071155",
   "metadata": {},
   "outputs": [],
   "source": [
    "# Тексты короче 30 символов\n",
    "df.loc[df['len_text'] < 30, 'translated_text']"
   ]
  },
  {
   "cell_type": "code",
   "execution_count": null,
   "id": "0023e809",
   "metadata": {},
   "outputs": [],
   "source": [
    "# Тексты короче 100 символов\n",
    "df.loc[df['len_text'] < 100, 'translated_text']"
   ]
  },
  {
   "cell_type": "markdown",
   "id": "d8059bd5",
   "metadata": {},
   "source": [
    "Удалим тексты короче 100 символов. Предполагаем, что это как правило текст, который не несет нужной нас информации - это может быть подпись к картинке или видео, набор хэштэгов и пр."
   ]
  },
  {
   "cell_type": "code",
   "execution_count": null,
   "id": "baf9a030",
   "metadata": {},
   "outputs": [],
   "source": [
    "# Удалим наблюдения с текстами менее 100 символов\n",
    "df_len_text_100 = df.loc[df['len_text'] > 100]"
   ]
  },
  {
   "cell_type": "markdown",
   "id": "ce4b5e86-5aa5-4039-97a2-712163d9b03a",
   "metadata": {},
   "source": [
    "\n",
    "<div class=\"alert alert-success\">\n",
    "<b>Комментарий ревьюера ✔️:</b> Обоснованно 👍</div>\n"
   ]
  },
  {
   "cell_type": "code",
   "execution_count": null,
   "id": "e096374a",
   "metadata": {},
   "outputs": [],
   "source": [
    "# Количество наблюдений\n",
    "len(df_len_text_100)"
   ]
  },
  {
   "cell_type": "markdown",
   "id": "b271cb4f",
   "metadata": {},
   "source": [
    "По завершению анализа исходных данных можно заключить:\n",
    "   - размер датасета для анализа составляет **10935** строк на **4** столбцов. Представлены ссылки на профили пользователей, их имена, место работы, тексты публикаций и реакции на публикации;\n",
    "   - пропусков в данных нет, но есть дубликаты;\n",
    "   - текстах видны смайлы, хэштэги, служебные символы, слова и абревиатуры на английском, ссылки; \n",
    "   - тексты написаны на разных языках, количестов постов не на русском и не на английском языках - **850**;\n",
    "   - выявлено, что **2506** текстов из **10935** \"короткие\" - т.е. их длина менее 100 символов. Из них 865 текстов короче 30 символов. Что составляет 23% и 8% от исходных данных.\n",
    "   - максимальныя длина текста - 6638 символов.\n",
    "   \n",
    "   \n",
    "На следующем этапе будут использоваться данные, где размерность текстов в постах составляет более 100 символов. Кроме того, тексты будут очищены от символов, смайлов и стоп-слов. "
   ]
  },
  {
   "cell_type": "markdown",
   "id": "76432f6d-eacd-41df-96bf-59843f2c1b1f",
   "metadata": {},
   "source": [
    "\n",
    "<div class=\"alert alert-warning\">\n",
    "<b>Комментарий ревьюера ⚠️:</b> \n",
    "\n",
    "Здесь немного непонятно откуда про имена, место работы и реакции на публикации. В представленном датасете этого нет. Если есть в исходниках – про это надо написать, где они , как обработаны и как получилось то что есть.\n",
    "\n",
    "Ячейкой выше итоговый размер датасета 8413, а в тексте 10935 и даже выделено жирным шрифтом. Нарушена логическая последовательность – тогда уж удаление надо перенести ниже после этого вывода. Или выводы немного поправить. \n",
    "\n",
    "\n",
    "</div>\n",
    "\n",
    "<div class=\"alert alert-success\">\n",
    "<b>Комментарий ревьюера ✔️:</b> \n",
    "\n",
    "В целом хорошо, представлены разные аспекты данных, прокомментирован ход работы, раздел легко читается и действия понятны.\n",
    "\n",
    "Есть некоторые замечания по описаниям и по коду, но они некритичные и надеюсь помогут улучшить работу 🤗\n",
    "</div>\n"
   ]
  },
  {
   "cell_type": "markdown",
   "id": "0bbea17c",
   "metadata": {},
   "source": [
    "## Подготовка текстов"
   ]
  },
  {
   "cell_type": "markdown",
   "id": "f0b9becc",
   "metadata": {},
   "source": [
    "Далее проведем подготовку текстов: проведем лемматизацию и токенизацию текстов, а также очистим от \"мусорных\" символов."
   ]
  },
  {
   "cell_type": "code",
   "execution_count": null,
   "id": "db3a0ff7",
   "metadata": {},
   "outputs": [],
   "source": [
    "# определим модель spacy\n",
    "model = spacy.load('ru_core_news_sm', disable=['ner', 'parser'])"
   ]
  },
  {
   "cell_type": "code",
   "execution_count": null,
   "id": "5cadb5bf",
   "metadata": {},
   "outputs": [],
   "source": [
    "# Складываем все тексты в один список\n",
    "texts = df_len_text_100[\"translated_text\"].tolist()"
   ]
  },
  {
   "cell_type": "code",
   "execution_count": null,
   "id": "5e43a315",
   "metadata": {},
   "outputs": [],
   "source": [
    "# Лемматизация текста для текстов, длиннее 100 символов\n",
    "res = []\n",
    "for doc in model.pipe(texts, disable=[\"tagger\", \"parser\"]):\n",
    "    try:\n",
    "        res.append([token.lemma_ for token in doc])\n",
    "    except:\n",
    "        print(doc)"
   ]
  },
  {
   "cell_type": "markdown",
   "id": "f52f71fe-3851-4120-a057-a659686ee9c8",
   "metadata": {},
   "source": [
    "\n",
    "<div class=\"alert alert-success\">\n",
    "<b>Комментарий ревьюера ✔️:</b>\n",
    "\n",
    "Отлично – использование встроенного `nlp.pipe` 👍</div>\n"
   ]
  },
  {
   "cell_type": "code",
   "execution_count": null,
   "id": "4f1a6819",
   "metadata": {},
   "outputs": [],
   "source": [
    "# Сохраним результат лемматизации\n",
    "with open(\"lemmas_100.json\", \"w\") as fid:\n",
    "    json.dump({\"lemmas\": res}, fid)"
   ]
  },
  {
   "cell_type": "code",
   "execution_count": null,
   "id": "22513001",
   "metadata": {},
   "outputs": [],
   "source": [
    "# Смотрим на результат - случайным образом сэмплируем несколько примеров\n",
    "for i in range(5):\n",
    "    print(\", \".join(res[np.random.randint(len(res))]))\n",
    "    print()"
   ]
  },
  {
   "cell_type": "markdown",
   "id": "bfb555d0-873a-49f4-ab80-80e3fa630812",
   "metadata": {},
   "source": [
    "<div class=\"alert alert-success\">\n",
    "<b>Комментарий ревьюера ✔️:</b>\n",
    "\n",
    "И опять подсказка, как выбрать случайные образцы 😉\n",
    "\n",
    "Со списками можно использовать [numpy.random.choice](https://numpy.org/doc/stable/reference/random/generated/numpy.random.choice.html) – и одной строчкой кода получить нужное количество примеров.\n",
    "</div>\n"
   ]
  },
  {
   "cell_type": "markdown",
   "id": "ca856112",
   "metadata": {},
   "source": [
    "Удалим знаки препинания, цифры и слова, содержащие цифры. А также иностранные слова, которые не перевелись. Для это соберём регулярное выражение, которое подходит для любого слова, состоящего из букв кирилицы."
   ]
  },
  {
   "cell_type": "code",
   "execution_count": null,
   "id": "0cd293d6-12be-4c2e-96c1-4ba76906934d",
   "metadata": {},
   "outputs": [],
   "source": [
    "# определим регулярное выражение\n",
    "word_pattern = re.compile(\"^[а-я]*$\")"
   ]
  },
  {
   "cell_type": "code",
   "execution_count": null,
   "id": "66e11ab8-6c25-49ad-8509-7aa4257cc7f6",
   "metadata": {},
   "outputs": [],
   "source": [
    "# определим функцию для очистки текста\n",
    "def remove_symbols(doc):\n",
    "    return [token for token in doc if word_pattern.match(token)]"
   ]
  },
  {
   "cell_type": "code",
   "execution_count": null,
   "id": "f3af2747-80f6-45f5-9afe-ab35e40118d4",
   "metadata": {},
   "outputs": [],
   "source": [
    "# очистим текст\n",
    "corpus = list(map(remove_symbols, res))"
   ]
  },
  {
   "cell_type": "markdown",
   "id": "17602835-0254-4f59-b186-b012916f320c",
   "metadata": {},
   "source": [
    "<div class=\"alert alert-success\">\n",
    "<b>Комментарий ревьюера ✔️:</b> \n",
    "\n",
    "Здорово, что умеешь использовать регулярные выражения!\n",
    "\n",
    "Кстати, для фильтрации в spacy можно использовать атрибуты токенов https://spacy.io/api/token#attributes и добавить проверку сразу на этапе лемматизации 🙃\n",
    "</div>\n",
    "\n",
    "<div class=\"alert alert-warning\">\n",
    "<b>Комментарий ревьюера ⚠️:</b> \n",
    "\n",
    "В регулярных выражениях для кириллицы надо «ё» добавлять, этот символ не по порядку расположен в кодировке 🧐\n",
    "\n",
    "</div>\n"
   ]
  },
  {
   "cell_type": "code",
   "execution_count": null,
   "id": "5e269462",
   "metadata": {},
   "outputs": [],
   "source": [
    "# Определим как часто встречаются к корпусе пустые списки (удалены все слова)\n",
    "corpus_empty = [li for li in corpus if len(li) < 1]\n",
    "len(corpus_empty)"
   ]
  },
  {
   "cell_type": "code",
   "execution_count": null,
   "id": "a99c6244-7b6d-4782-a5c0-6615e269a4ff",
   "metadata": {},
   "outputs": [],
   "source": [
    "# Смотрим на результат - случайным образом сэмплируем несколько примеров\n",
    "for i in range(5):\n",
    "    print(\", \".join(corpus[np.random.randint(len(corpus))]))\n",
    "    print()"
   ]
  },
  {
   "cell_type": "markdown",
   "id": "2300998a",
   "metadata": {},
   "source": [
    "Далее выведем облако слов для полученных лемм."
   ]
  },
  {
   "cell_type": "code",
   "execution_count": null,
   "id": "aab8ee73",
   "metadata": {},
   "outputs": [],
   "source": [
    "# Зададим собственный список стоп-слов\n",
    "stop_words_custom = ['это', 'наш', 'ваш', 'весь', 'это', 'наш', 'лс', 'свой', 'весь', 'год', 'якщо', 'дуже', 'ви', \n",
    "                     'але', 'роботи', 'буде', 'це', 'ми', 'як', 'що', 'хто', 'чи', 'цей', 'зараз', 'хто', 'чи', 'цей', 'час',\n",
    "                    'мария', 'эй']"
   ]
  },
  {
   "cell_type": "code",
   "execution_count": null,
   "id": "c64e8a9f",
   "metadata": {},
   "outputs": [],
   "source": [
    "# Дополнительные стоп-слова для руссковго языка\n",
    "stop_words_additional = [\"c\",\"а\",\"алло\",\"без\",\"белый\",\"близко\",\"более\",\"больше\",\"большой\",\"будем\",\"будет\",\"будете\",\"будешь\",\n",
    "                         \"будто\",\"буду\",\"будут\",\"будь\",\"бы\",\"бывает\",\"бывь\",\"был\",\"была\",\"были\",\"было\",\"быть\",\"в\",\"важная\",\n",
    "                         \"важное\",\"важные\",\"важный\",\"вам\",\"вами\",\"вас\",\"ваш\",\"ваша\",\"ваше\",\"ваши\",\"вверх\",\"вдали\",\"вдруг\",\n",
    "                         \"ведь\",\"везде\",\"вернуться\",\"весь\",\"вечер\",\"взгляд\",\"взять\",\"вид\",\"видел\",\"видеть\",\"вместе\",\"вне\",\n",
    "                         \"вниз\",\"внизу\",\"во\",\"вода\",\"война\",\"вокруг\",\"вон\",\"вообще\",\"вопрос\",\"восемнадцатый\",\"восемнадцать\",\n",
    "                         \"восемь\",\"восьмой\",\"вот\",\"впрочем\",\"времени\",\"время\",\"все\",\"все еще\",\"всегда\",\"всего\",\"всем\",\"всеми\",\n",
    "                         \"всему\",\"всех\",\"всею\",\"всю\",\"всюду\",\"вся\",\"всё\",\"второй\",\"вы\",\"выйти\",\"г\",\"где\",\"главный\",\"глаз\",\n",
    "                         \"говорил\",\"говорит\",\"говорить\",\"год\",\"года\",\"году\",\"голова\",\"голос\",\"город\",\"да\",\"давать\",\"давно\",\n",
    "                         \"даже\",\"далекий\",\"далеко\",\"дальше\",\"даром\",\"дать\",\"два\",\"двадцатый\",\"двадцать\",\"две\",\"двенадцатый\",\n",
    "                         \"двенадцать\",\"дверь\",\"двух\",\"девятнадцатый\",\"девятнадцать\",\"девятый\",\"девять\",\"действительно\",\"дел\",\n",
    "                         \"делал\",\"делать\",\"делаю\",\"дело\",\"день\",\"деньги\",\"десятый\",\"десять\",\"для\",\"до\",\"довольно\",\"долго\",\n",
    "                         \"должен\",\"должно\",\"должный\",\"дом\",\"дорога\",\"друг\",\"другая\",\"другие\",\"других\",\"друго\",\"другое\",\n",
    "                         \"другой\",\"думать\",\"душа\",\"е\",\"его\",\"ее\",\"ей\",\"ему\",\"если\",\"есть\",\"еще\",\"ещё\",\"ею\",\"её\",\"ж\",\"ждать\",\n",
    "                         \"же\",\"жена\",\"женщина\",\"жизнь\",\"жить\",\"за\",\"занят\",\"занята\",\"занято\",\"заняты\",\"затем\",\"зато\",\"зачем\",\n",
    "                         \"здесь\",\"земля\",\"знать\",\"значит\",\"значить\",\"и\",\"иди\",\"идти\",\"из\",\"или\",\"им\",\"имеет\",\"имел\",\"именно\",\n",
    "                         \"иметь\",\"ими\",\"имя\",\"иногда\",\"их\",\"к\",\"каждая\",\"каждое\",\"каждые\",\"каждый\",\"кажется\",\"казаться\",\"как\",\n",
    "                         \"какая\",\"какой\",\"кем\",\"книга\",\"когда\",\"кого\",\"ком\",\"комната\",\"кому\",\"конец\",\"конечно\",\"которая\",\n",
    "                         \"которого\",\"которой\",\"которые\",\"который\",\"которых\",\"кроме\",\"кругом\",\"кто\",\"куда\",\"лежать\",\"лет\",\"ли\",\n",
    "                         \"лицо\",\"лишь\",\"лучше\",\"любить\",\"люди\",\"м\",\"маленький\",\"мало\",\"мать\",\"машина\",\"между\",\"меля\",\"менее\",\n",
    "                         \"меньше\",\"меня\",\"место\",\"миллионов\",\"мимо\",\"минута\",\"мир\",\"мира\",\"мне\",\"много\",\"многочисленная\",\n",
    "                         \"многочисленное\",\"многочисленные\",\"многочисленный\",\"мной\",\"мною\",\"мог\",\"могу\",\"могут\",\"мож\",\"может\",\n",
    "                         \"может быть\",\"можно\",\"можхо\",\"мои\",\"мой\",\"мор\",\"москва\",\"мочь\",\"моя\",\"моё\",\"мы\",\"на\",\"наверху\",\"над\",\n",
    "                         \"надо\",\"назад\",\"наиболее\",\"найти\",\"наконец\",\"нам\",\"нами\",\"народ\",\"нас\",\"начала\",\"начать\",\"наш\",\"наша\",\n",
    "                         \"наше\",\"наши\",\"не\",\"него\",\"недавно\",\"недалеко\",\"нее\",\"ней\",\"некоторый\",\"нельзя\",\"нем\",\"немного\",\n",
    "                         \"нему\",\"непрерывно\",\"нередко\",\"несколько\",\"нет\",\"нею\",\"неё\",\"ни\",\"нибудь\",\"ниже\",\"низко\",\"никакой\",\n",
    "                         \"никогда\",\"никто\",\"никуда\",\"ним\",\"ними\",\"них\",\"ничего\",\"ничто\",\"но\",\"новый\",\"нога\",\"ночь\",\"ну\",\n",
    "                         \"нужно\",\"нужный\",\"нх\",\"о\",\"об\",\"оба\",\"обычно\",\"один\",\"одиннадцатый\",\"одиннадцать\",\"однажды\",\n",
    "                         \"однако\",\"одного\",\"одной\",\"оказаться\",\"окно\",\"около\",\"он\",\"она\",\"они\",\"оно\",\"опять\",\"особенно\",\n",
    "                         \"остаться\",\"от\",\"ответить\",\"отец\",\"откуда\",\"отовсюду\",\"отсюда\",\"очень\",\"первый\",\"перед\",\"писать\",\n",
    "                         \"плечо\",\"по\",\"под\",\"подойди\",\"подумать\",\"пожалуйста\",\"позже\",\"пойти\",\"пока\",\"пол\",\"получить\",\n",
    "                         \"помнить\",\"понимать\",\"понять\",\"пор\",\"пора\",\"после\",\"последний\",\"посмотреть\",\"посреди\",\"потом\",\n",
    "                         \"потому\",\"почему\",\"почти\",\"правда\",\"прекрасно\",\"при\",\"про\",\"просто\",\"против\",\"процентов\",\"путь\",\n",
    "                         \"пятнадцатый\",\"пятнадцать\",\"пятый\",\"пять\",\"работа\",\"работать\",\"раз\",\"разве\",\"рано\",\"раньше\",\n",
    "                         \"ребенок\",\"решить\",\"россия\",\"рука\",\"русский\",\"ряд\",\"рядом\",\"с\",\"с кем\",\"сам\",\"сама\",\"сами\",\"самим\",\n",
    "                         \"самими\",\"самих\",\"само\",\"самого\",\"самой\",\"самом\",\"самому\",\"саму\",\"самый\",\"свет\",\"свое\",\"своего\",\n",
    "                         \"своей\",\"свои\",\"своих\",\"свой\",\"свою\",\"сделать\",\"сеаой\",\"себе\",\"себя\",\"сегодня\",\"седьмой\",\"сейчас\",\n",
    "                         \"семнадцатый\",\"семнадцать\",\"семь\",\"сидеть\",\"сила\",\"сих\",\"сказал\",\"сказала\",\"сказать\",\"сколько\",\n",
    "                         \"слишком\",\"слово\",\"случай\",\"смотреть\",\"сначала\",\"снова\",\"со\",\"собой\",\"собою\",\"советский\",\"совсем\",\n",
    "                         \"спасибо\",\"спросить\",\"сразу\",\"стал\",\"старый\",\"стать\",\"стол\",\"сторона\",\"стоять\",\"страна\",\"суть\",\n",
    "                         \"считать\",\"т\",\"та\",\"так\",\"такая\",\"также\",\"таки\",\"такие\",\"такое\",\"такой\",\"там\",\"твои\",\"твой\",\"твоя\",\n",
    "                         \"твоё\",\"те\",\"тебе\",\"тебя\",\"тем\",\"теми\",\"теперь\",\"тех\",\"то\",\"тобой\",\"тобою\",\"товарищ\",\"тогда\",\"того\",\n",
    "                         \"тоже\",\"только\",\"том\",\"тому\",\"тот\",\"тою\",\"третий\",\"три\",\"тринадцатый\",\"тринадцать\",\"ту\",\"туда\",\"тут\",\n",
    "                         \"ты\",\"тысяч\",\"у\",\"увидеть\",\"уж\",\"уже\",\"улица\",\"уметь\",\"утро\",\"хороший\",\"хорошо\",\"хотел бы\",\"хотеть\",\n",
    "                         \"хоть\",\"хотя\",\"хочешь\",\"час\",\"часто\",\"часть\",\"чаще\",\"чего\",\"человек\",\"чем\",\"чему\",\"через\",\"четвертый\",\n",
    "                         \"четыре\",\"четырнадцатый\",\"четырнадцать\",\"что\",\"чтоб\",\"чтобы\",\"чуть\",\"шестнадцатый\",\"шестнадцать\",\n",
    "                         \"шестой\",\"шесть\",\"эта\",\"эти\",\"этим\",\"этими\",\"этих\",\"это\",\"этого\",\"этой\",\"этом\",\"этому\",\"этот\",\"эту\",\n",
    "                         \"я\",\"являюсь\", \"окоманюк\", \"леонардо\", \"силиконовый\", \"силиконовой\", \"чернобыль\", \"университетподать\",\n",
    "                        \"щелчки\", \"постю\", \"ури\", \"мрт\", \"труха\", \"вооружиться\", \"пот\", \"запорожье\", \"айзека\", \"питерский\", \n",
    "                         \"ледовый\", \"подбираю\", \"топор\", \"капать\", \"правильном\", \"фотосессия\"]"
   ]
  },
  {
   "cell_type": "code",
   "execution_count": null,
   "id": "cbd92165",
   "metadata": {},
   "outputs": [],
   "source": [
    "# Объединим стоп-слова\n",
    "stop_words = stopwords.words('russian') + stop_words_custom + stop_words_additional"
   ]
  },
  {
   "cell_type": "markdown",
   "id": "2759fec9-a0c8-47f3-8310-38db042ec188",
   "metadata": {},
   "source": [
    "\n",
    "<div class=\"alert alert-success\">\n",
    "<b>Комментарий ревьюера ✔️:</b>\n",
    "\n",
    "Здорово, что ты умеешь работать с разными nlp модулями – и spacy, и nltk.\n",
    "\n",
    "Но в данном случае, возможно, стоит взять за основу список стоп-стоп spacy? Он изначально включает в пять раз больше слов, чем nltk, его также можно расширить при необходимости. И используя атрибут `token.is_stop` можно фильтрацию сделать на этапе лемматизации 🤔\n",
    "\n",
    "</div>\n"
   ]
  },
  {
   "cell_type": "code",
   "execution_count": null,
   "id": "e9f6cd8b",
   "metadata": {},
   "outputs": [],
   "source": [
    "#преобразуем столбец корпус в строку со всеми словами\n",
    "\n",
    "list_corpus = []\n",
    "for i in corpus:\n",
    "    list_corpus.extend(i)\n",
    "    \n",
    "clean_corpus = list(set(list_corpus) - set(stop_words))\n",
    "\n",
    "text_clean = ' '.join(clean_corpus)\n",
    "\n",
    "#задаем параметры метода облака слов\n",
    "cloud = WordCloud(max_words=50).generate(text_clean)\n",
    "\n",
    "plt.figure(figsize=(10,6))\n",
    "plt.imshow(cloud)\n",
    "plt.axis('off')\n",
    "None"
   ]
  },
  {
   "cell_type": "markdown",
   "id": "9b29d055",
   "metadata": {},
   "source": [
    "Облако слов отобраджает самые популярные слова в представленных текстах. Таким образом, \"менторинг\" входит в топ 50."
   ]
  },
  {
   "cell_type": "markdown",
   "id": "5ac83dc6-16bc-4fc9-a482-bfadd181736e",
   "metadata": {},
   "source": [
    "\n",
    "<div class=\"alert alert-success\">\n",
    "<b>Комментарий ревьюера ✔️:</b> Красота! Особенно психбольница понравилась 😁 но из песни слово не выкинешь, все верно 👍</div>\n"
   ]
  },
  {
   "cell_type": "markdown",
   "id": "13fc9673",
   "metadata": {},
   "source": [
    "## Векторизация текстов"
   ]
  },
  {
   "cell_type": "markdown",
   "id": "6feac71b",
   "metadata": {},
   "source": [
    "Далее векторизируем полученный корпус. "
   ]
  },
  {
   "cell_type": "code",
   "execution_count": null,
   "id": "585ed8d0",
   "metadata": {},
   "outputs": [],
   "source": [
    "# Посчитаем IDF всех наших слов, и отсечем слова с самым большим idf(очень редкие) и с самым маленьким\n",
    "tfidf = TfidfVectorizer(stop_words=stop_words, min_df=10, max_df=0.9)"
   ]
  },
  {
   "cell_type": "code",
   "execution_count": null,
   "id": "b246b341",
   "metadata": {},
   "outputs": [],
   "source": [
    "# Объединим списки слов в предложения\n",
    "docs = [\" \".join(tokens) for tokens in corpus]\n",
    "docs[:3]"
   ]
  },
  {
   "cell_type": "code",
   "execution_count": null,
   "id": "8d9b4ff1",
   "metadata": {},
   "outputs": [],
   "source": [
    "# трансформируем корпус\n",
    "x = tfidf.fit_transform(docs)"
   ]
  },
  {
   "cell_type": "code",
   "execution_count": null,
   "id": "93522e22",
   "metadata": {},
   "outputs": [],
   "source": [
    "# проверим размерность\n",
    "x.shape"
   ]
  },
  {
   "cell_type": "code",
   "execution_count": null,
   "id": "b16ca113",
   "metadata": {},
   "outputs": [],
   "source": [
    "#сохраним id токенов\n",
    "id2word = {i: token for i, token in enumerate(tfidf.get_feature_names_out())}"
   ]
  },
  {
   "cell_type": "markdown",
   "id": "e6528df9-1281-46d6-ad87-14cb17e5e6b6",
   "metadata": {},
   "source": [
    "<div class=\"alert alert-success\">\n",
    "<b>Комментарий ревьюера ✔️:</b> Отлично 👍</div>\n"
   ]
  },
  {
   "cell_type": "markdown",
   "id": "2e18718e",
   "metadata": {},
   "source": [
    "# Моделирование"
   ]
  },
  {
   "cell_type": "markdown",
   "id": "8f3ee403",
   "metadata": {},
   "source": [
    "## LDA"
   ]
  },
  {
   "cell_type": "code",
   "execution_count": null,
   "id": "3d291989",
   "metadata": {},
   "outputs": [],
   "source": [
    "# Зададим количество тем\n",
    "n_topics = 10"
   ]
  },
  {
   "cell_type": "code",
   "execution_count": null,
   "id": "e6f35d03",
   "metadata": {},
   "outputs": [],
   "source": [
    "# определим модель\n",
    "lda = LatentDirichletAllocation(n_components=n_topics,\n",
    "                                max_iter=30,\n",
    "                                random_state=31)"
   ]
  },
  {
   "cell_type": "code",
   "execution_count": null,
   "id": "647f88e7",
   "metadata": {},
   "outputs": [],
   "source": [
    "# транформируем темы\n",
    "topics = lda.fit_transform(x)"
   ]
  },
  {
   "cell_type": "code",
   "execution_count": null,
   "id": "6d4afdd7",
   "metadata": {},
   "outputs": [],
   "source": [
    "# проверим размерность\n",
    "topics.shape"
   ]
  },
  {
   "cell_type": "markdown",
   "id": "4ff71d26",
   "metadata": {},
   "source": [
    "Получили массив размера **8413x10**. Строки здесь - отдельные тексты, а колонки - 10 выделенных тем. В каждой ячейке стоит вероятность того, что данный текст относится к данной теме. "
   ]
  },
  {
   "cell_type": "markdown",
   "id": "395b15bb-6a33-46b4-99db-48fc8123dd71",
   "metadata": {},
   "source": [
    "<div class=\"alert alert-success\">\n",
    "<b>Комментарий ревьюера ✔️:</b> 👍</div>\n"
   ]
  },
  {
   "cell_type": "markdown",
   "id": "f0b334db",
   "metadata": {},
   "source": [
    "### Ключевые слова"
   ]
  },
  {
   "cell_type": "markdown",
   "id": "f84f6246",
   "metadata": {},
   "source": [
    "Далее выделем 10 ключевых слов для каждой темы."
   ]
  },
  {
   "cell_type": "code",
   "execution_count": null,
   "id": "561f9c1c",
   "metadata": {},
   "outputs": [],
   "source": [
    "# выведем название темы и соотвествющие ключевые слова\n",
    "for i in range(n_topics):\n",
    "    c = lda.components_[i, :]\n",
    "    topic_tokens = [id2word.get(token_id) for token_id in np.argsort(c)[-10:]]\n",
    "    print(\"Тема\",i, \":\")\n",
    "    print(\", \".join(topic_tokens))\n",
    "    print(\"\\n \")"
   ]
  },
  {
   "cell_type": "markdown",
   "id": "93fc17ee",
   "metadata": {},
   "source": [
    "По полученным ключевым словам можно составить представление о содержании той или иной темы."
   ]
  },
  {
   "cell_type": "markdown",
   "id": "afe122f5-d612-4436-8d12-ca58f292097d",
   "metadata": {},
   "source": [
    "\n",
    "<div class=\"alert alert-success\">\n",
    "<b>Комментарий ревьюера ✔️:</b>\n",
    "\n",
    "Может, имеет смысл выводить слова топика в прямом порядке, а не в обратном? Чтобы первое слово самое топовое и потом по убыванию 🤔</div>\n"
   ]
  },
  {
   "cell_type": "markdown",
   "id": "6fbe3b34",
   "metadata": {},
   "source": [
    "### Типичные статьи"
   ]
  },
  {
   "cell_type": "markdown",
   "id": "b0e6f717",
   "metadata": {},
   "source": [
    "Далее определим типичные посты для каждой темы."
   ]
  },
  {
   "cell_type": "code",
   "execution_count": null,
   "id": "c261b0a7",
   "metadata": {},
   "outputs": [],
   "source": [
    "# циклом соеберм типычные посты по темам\n",
    "for i in range(n_topics):\n",
    "    doc_id = np.argmax(topics[:, i])\n",
    "    print(\"Тема \", i)\n",
    "    print(df_len_text_100.iloc[doc_id][\"translated_text\"])\n",
    "    print(\"\\n\")"
   ]
  },
  {
   "cell_type": "markdown",
   "id": "17d88efb",
   "metadata": {},
   "source": [
    "На основании полученных результатов можно предположить названия тем:\n",
    "   - Тема 1 - проектное сотрудничество;\n",
    "   - Тема 2 - внешняя политика;\n",
    "   - Тема 3 - коучинг;\n",
    "   - Тема 4 - предложение IT услуг; \n",
    "   - Тема 5 - менторство начинающих специалистов;\n",
    "   - Тема 6 - новости IT рынка;\n",
    "   - Тема 7 - обучение IT профессиям;\n",
    "   - Тема 8 - IT рекрутмент;\n",
    "   - Темы 9 и 10 также посвящены поиску работы."
   ]
  },
  {
   "cell_type": "markdown",
   "id": "dabbafa8-1b08-4304-990e-4dd3ca162fab",
   "metadata": {},
   "source": [
    "<div class=\"alert alert-success\">\n",
    "<b>Комментарий ревьюера ✔️:</b>\n",
    "\n",
    "Отлично, собраны образцы постов и предложены названия тем 👍\n",
    "\n",
    "Будет здорово, если нумерация тем будет совпадать с нумерацией постов 😉</div>\n"
   ]
  },
  {
   "cell_type": "code",
   "execution_count": null,
   "id": "8ab71d9c",
   "metadata": {},
   "outputs": [],
   "source": [
    "# Добавим столбец с номером темы для каждого наблюдения\n",
    "df_len_text_100['topic'] = topics.argmax(axis=1)\n",
    "\n",
    "# посмотрим на результат\n",
    "df_len_text_100.head()"
   ]
  },
  {
   "cell_type": "code",
   "execution_count": null,
   "id": "9440977b",
   "metadata": {},
   "outputs": [],
   "source": [
    "# Определим какие темы представлены чаще всего\n",
    "df_len_text_100['topic'].value_counts()"
   ]
  },
  {
   "cell_type": "markdown",
   "id": "da3ad914-f1c8-4d7c-ba0f-f085adee9cdf",
   "metadata": {},
   "source": [
    "\n",
    "\n",
    "<div class=\"alert alert-success\">\n",
    "<b>Комментарий ревьюера ✔️:</b>\n",
    "\n",
    "Воооот, а чтобы не ломать голову что здесь обозначает 5 – на самом деле тема номер 6 из списка тем 😉 надо либо топики, либо темы перенумеровать.\n",
    "\n",
    "Или можно сразу не номер, а название темы вписать в колонку 🤔\n",
    "</div>\n"
   ]
  },
  {
   "cell_type": "code",
   "execution_count": null,
   "id": "2cd3974a",
   "metadata": {},
   "outputs": [],
   "source": [
    "# Добавим столбец с вероятностью принадлежности выбранной теме для каждого наблюдения\n",
    "df_len_text_100['probability'] = topics.max(axis=1)\n",
    "\n",
    "#посмотрим на результат\n",
    "df_len_text_100.head()"
   ]
  },
  {
   "cell_type": "code",
   "execution_count": null,
   "id": "b41f038a",
   "metadata": {},
   "outputs": [],
   "source": [
    "# Выберем топ-100 текстов с максимальной вероятностью\n",
    "top_100 = (df_len_text_100[['translated_text', 'topic', 'probability']]\n",
    "           .sort_values(by = 'probability', ascending  = False).iloc[:100])\n",
    "\n",
    "#посмотрим на результат\n",
    "top_100"
   ]
  },
  {
   "cell_type": "markdown",
   "id": "af0e05ff",
   "metadata": {},
   "source": [
    "На данном этапе выделили топ-100 постов с большей частотой встречающихся слов. Эти данные в дальнейшем могут использоваться для анализа целевой аудитории."
   ]
  },
  {
   "cell_type": "code",
   "execution_count": null,
   "id": "e0ea9ae4",
   "metadata": {},
   "outputs": [],
   "source": [
    "# проверим, к каким темам относятся топ-100 текстов\n",
    "top_100.topic.value_counts()"
   ]
  },
  {
   "cell_type": "markdown",
   "id": "6d6c3bae",
   "metadata": {},
   "source": [
    "Алгоритм увереннее всего определяет пятую тему, что логично, так как именно эта тема представлена максимально (6440 текстов)."
   ]
  },
  {
   "cell_type": "code",
   "execution_count": null,
   "id": "350885cb",
   "metadata": {},
   "outputs": [],
   "source": [
    "# Попробуем оценить насколько уверен алгоритм в остальных темах\n",
    "df_len_text_100.groupby('topic').agg({'probability' : 'mean', \n",
    "                                      'topic' : 'count'}).sort_values(by = 'probability', ascending = False)"
   ]
  },
  {
   "cell_type": "markdown",
   "id": "936bd19c",
   "metadata": {},
   "source": [
    "Лучшие по средней вероятности темы - 5, 8, 6, не смотря на то, что 6 тема представлена только в 58 текстах. А вот 2, 1 и 0 темы определяются хуже всего. Вероятно, сказывается небольшое количество данных."
   ]
  },
  {
   "cell_type": "markdown",
   "id": "272559fc-e2d2-411c-befc-ff259b114923",
   "metadata": {},
   "source": [
    "\n",
    "<div class=\"alert alert-success\">\n",
    "<b>Комментарий ревьюера ✔️:</b> \n",
    "\n",
    "Поскольку цель проекта все-таки не абстрактное тестирование моделей, уже очень хочется видеть не номера, а человекочитаемые названия тем 😉\n",
    "</div>\n"
   ]
  },
  {
   "cell_type": "markdown",
   "id": "203c6bc7",
   "metadata": {},
   "source": [
    "Попробуем использовать распределения тем в тексте как 'эмбеддинги' текстов, в такой интерпретации можно применять к ним алгоритмы визуализации или кластеризации, и искать уже итоговые 'эффективные ' тематические кластеры таким образом."
   ]
  },
  {
   "cell_type": "code",
   "execution_count": null,
   "id": "6d2e1498",
   "metadata": {},
   "outputs": [],
   "source": [
    "# определим количество кластеров\n",
    "kmeans = KMeans(n_clusters=10)\n",
    "\n",
    "#обучим модель\n",
    "clust_labels = kmeans.fit_predict(topics)\n",
    "clust_centers = kmeans.cluster_centers_\n",
    "\n",
    "#объединим результат\n",
    "embeddings_to_tsne = np.concatenate((topics,clust_centers), axis=0)\n",
    "\n",
    "# TSNE это инструмент для визуализации многомерных данных\n",
    "tSNE =  TSNE(n_components=2, perplexity=15)\n",
    "tsne_embeddings = tSNE.fit_transform(embeddings_to_tsne)\n",
    "tsne_embeddings, centroids_embeddings = np.split(tsne_embeddings, [len(clust_labels)], axis=0)"
   ]
  },
  {
   "cell_type": "code",
   "execution_count": null,
   "id": "85525d7a",
   "metadata": {},
   "outputs": [],
   "source": [
    "#выделим кластеры\n",
    "clust_indices = np.unique(clust_labels)\n",
    "\n",
    "#далее определим параметры визуализации\n",
    "clusters = {clust_ind : [] for clust_ind in clust_indices}\n",
    "for emb, label in zip(tsne_embeddings, clust_labels):\n",
    "    clusters[label].append(emb)\n",
    "\n",
    "for key in clusters.keys():\n",
    "    clusters[key] = np.array(clusters[key])\n",
    "    \n",
    "colors = cm.rainbow(np.linspace(0, 1, len(clust_indices)))"
   ]
  },
  {
   "cell_type": "code",
   "execution_count": null,
   "id": "7cfd855e",
   "metadata": {},
   "outputs": [],
   "source": [
    "#выведем полученный результат\n",
    "plt.figure(figsize=(5,5))\n",
    "for ind, color in zip(clust_indices, colors):\n",
    "    x = clusters[ind][:,0]\n",
    "    y = clusters[ind][:,1]\n",
    "    plt.scatter(x, y, color=color)\n",
    "    \n",
    "    centroid = centroids_embeddings[ind]\n",
    "    plt.scatter(centroid[0],centroid[1], color=color, marker='x', s=100)\n",
    "\n",
    "plt.show()"
   ]
  },
  {
   "cell_type": "markdown",
   "id": "018646cb",
   "metadata": {},
   "source": [
    "Тут хотелось бы написать, что на изображении tSNE ембеддингов, видно, что кластеры выделенные с помощью KMeans, образуют достаточно связные и чаще всего пространственно разделимые между собой множества. Но на самом деле видно, что есть над чем еще поработать."
   ]
  },
  {
   "cell_type": "markdown",
   "id": "aea83c46-9746-42a4-ac99-5fa829d45324",
   "metadata": {},
   "source": [
    "\n",
    "<div class=\"alert alert-success\">\n",
    "<b>Комментарий ревьюера ✔️:</b> 👍</div>\n"
   ]
  },
  {
   "cell_type": "markdown",
   "id": "137ee10a",
   "metadata": {},
   "source": [
    "## Модель NMF"
   ]
  },
  {
   "cell_type": "code",
   "execution_count": null,
   "id": "a3c6a4a9",
   "metadata": {},
   "outputs": [],
   "source": [
    "#определим количество тем\n",
    "n_topics = 10"
   ]
  },
  {
   "cell_type": "code",
   "execution_count": null,
   "id": "fd484eec",
   "metadata": {},
   "outputs": [],
   "source": [
    "#определим модель\n",
    "nmf = NMF(n_components=n_topics,\n",
    "          init = 'random',\n",
    "          solver = 'mu',\n",
    "          beta_loss = 'kullback-leibler',\n",
    "          max_iter = 1000,\n",
    "          shuffle = True,\n",
    "          l1_ratio = 0.02,\n",
    "          random_state=42)"
   ]
  },
  {
   "cell_type": "code",
   "execution_count": null,
   "id": "b8d741e3",
   "metadata": {},
   "outputs": [],
   "source": [
    "#трансформируем темы\n",
    "topics_nmf = nmf.fit_transform(x)"
   ]
  },
  {
   "cell_type": "code",
   "execution_count": null,
   "id": "da3ebcab",
   "metadata": {},
   "outputs": [],
   "source": [
    "#посмотрим на результат\n",
    "topics_nmf.shape"
   ]
  },
  {
   "cell_type": "markdown",
   "id": "5de36ba6",
   "metadata": {},
   "source": [
    "Таким образом, получен датасет, где для каждого текста определена вероятность принадлежности к определнным текстам."
   ]
  },
  {
   "cell_type": "markdown",
   "id": "0debefe4",
   "metadata": {},
   "source": [
    "### Ключевые слова"
   ]
  },
  {
   "cell_type": "markdown",
   "id": "5314ad14",
   "metadata": {},
   "source": [
    "Далее выделем 15 ключевых слов для каждой темы."
   ]
  },
  {
   "cell_type": "code",
   "execution_count": null,
   "id": "e2eb5fc2",
   "metadata": {},
   "outputs": [],
   "source": [
    "for i in range(n_topics):\n",
    "    c = nmf.components_[i, :]\n",
    "    topic_tokens = [id2word.get(token_id) for token_id in np.argsort(c)[-15:]]\n",
    "    print(\"Тема\",i+1, \":\")\n",
    "    print(\", \".join(topic_tokens))\n",
    "    print(\"\\n \")"
   ]
  },
  {
   "cell_type": "markdown",
   "id": "c0639b43",
   "metadata": {},
   "source": [
    "### Типичные посты"
   ]
  },
  {
   "cell_type": "markdown",
   "id": "befe2563",
   "metadata": {},
   "source": [
    "Далее определим типичные посты для каждой темы."
   ]
  },
  {
   "cell_type": "code",
   "execution_count": null,
   "id": "6b213f05",
   "metadata": {},
   "outputs": [],
   "source": [
    "for i in range(n_topics):\n",
    "    doc_id = np.argmax(topics[:, i])\n",
    "    print(\"Тема \", i+1)\n",
    "    print(df_len_text_100.iloc[doc_id][\"translated_text\"])\n",
    "    print(\"\\n\")"
   ]
  },
  {
   "cell_type": "markdown",
   "id": "94535863",
   "metadata": {},
   "source": [
    "На основании полученных результатов можно предположить названия тем:\n",
    "   - Тема 1 - проектное сотрудничество;\n",
    "   - Тема 2 - лайфхаки при поиске работы;\n",
    "   - Тема 3 - образовательные статьи;\n",
    "   - Тема 4 - нетворкинг/поиск сотрудника; \n",
    "   - Тема 5 - внешняя политика;\n",
    "   - Тема 6 - разработка/кодинг;\n",
    "   - Тема 7 - кейсы компаний/дизайн;\n",
    "   - Тема 8 - рекрутмент;\n",
    "   - Тема 9 - релокация;\n",
    "   - Тема 10 - менторство начинающих специалистов."
   ]
  },
  {
   "cell_type": "code",
   "execution_count": null,
   "id": "81336f7e",
   "metadata": {},
   "outputs": [],
   "source": [
    "# Добавим столбец с номером темы для каждого наблюдения\n",
    "df_len_text_100['topic_nmf'] = topics_nmf.argmax(axis=1)"
   ]
  },
  {
   "cell_type": "code",
   "execution_count": null,
   "id": "7f66e461",
   "metadata": {},
   "outputs": [],
   "source": [
    "# Определим какие темы представлены чаще всего\n",
    "df_len_text_100['topic_nmf'].value_counts()"
   ]
  },
  {
   "cell_type": "code",
   "execution_count": null,
   "id": "f5efbacf",
   "metadata": {},
   "outputs": [],
   "source": [
    "# Добавим столбец с вероятностью принадлежности выбранной теме для каждого наблюдения\n",
    "df_len_text_100['probability_nmf'] = topics_nmf.max(axis=1)\n",
    "\n",
    "#посмотрим на результат\n",
    "df_len_text_100.head()"
   ]
  },
  {
   "cell_type": "markdown",
   "id": "d18d0374",
   "metadata": {},
   "source": [
    "Выделим также топ-100 текстов, которые нашла вторая модель."
   ]
  },
  {
   "cell_type": "code",
   "execution_count": null,
   "id": "2613f00b",
   "metadata": {},
   "outputs": [],
   "source": [
    "# Выберем топ-100 текстов с максимальной вероятностью\n",
    "top_100_nmf = (df_len_text_100[['translated_text', 'topic_nmf', 'probability_nmf']]\n",
    "           .sort_values(by = 'probability_nmf', ascending  = False).iloc[:100])\n",
    "\n",
    "#посмотрим на результат\n",
    "top_100_nmf"
   ]
  },
  {
   "cell_type": "code",
   "execution_count": null,
   "id": "8902ee5f",
   "metadata": {},
   "outputs": [],
   "source": [
    "# проверим, к каким темам относятся топ-100 текстов\n",
    "top_100_nmf.topic_nmf.value_counts()"
   ]
  },
  {
   "cell_type": "markdown",
   "id": "80b7ab35",
   "metadata": {},
   "source": [
    "Тексты распределились достаточно рамномерно. Самые частые темы - 2 и 4."
   ]
  },
  {
   "cell_type": "markdown",
   "id": "a3254ba4-ba65-479f-9f27-a4bf91089816",
   "metadata": {},
   "source": [
    "\n",
    "<div class=\"alert alert-success\">\n",
    "<b>Комментарий ревьюера ✔️:</b> Интересно, а что это за темы? 🤔</div>\n"
   ]
  },
  {
   "cell_type": "code",
   "execution_count": null,
   "id": "c0dba5da",
   "metadata": {},
   "outputs": [],
   "source": [
    "# Попробуем оценить насколько уверен алгоритм в остальных темах\n",
    "df_len_text_100.groupby('topic_nmf').agg({'probability_nmf' : 'mean', \n",
    "                                      'topic_nmf' : 'count'}).sort_values(by = 'probability_nmf', ascending = False)"
   ]
  },
  {
   "cell_type": "markdown",
   "id": "38136a03",
   "metadata": {},
   "source": [
    "Вероятности распределились равномерно по всем темам. Можно заметить, что данная модель плохо разделила тексты по темам, вероятность везде достаточно низкая. Можно предположить, что гиперпараметры были настроены не совсем удачно. Кроме того, похоже что имеющиеся данные в целом не кардинально отличаются друг от друга по содержанию."
   ]
  },
  {
   "cell_type": "code",
   "execution_count": null,
   "id": "fe3452de",
   "metadata": {},
   "outputs": [],
   "source": [
    "# определим количество кластеров\n",
    "kmeans2 = KMeans(n_clusters=10)\n",
    "\n",
    "#обучим модель\n",
    "clust_labels2 = kmeans2.fit_predict(topics)\n",
    "clust_centers2 = kmeans2.cluster_centers_\n",
    "\n",
    "#объединим результат\n",
    "embeddings_to_tsne2 = np.concatenate((topics_nmf,clust_centers2), axis=0)\n",
    "\n",
    "# TSNE это инструмент для визуализации многомерных данных\n",
    "tSNE_nmf =  TSNE(n_components=2, perplexity=15)\n",
    "tsne_embeddings2 = tSNE_nmf.fit_transform(embeddings_to_tsne2)\n",
    "tsne_embeddings2, centroids_embeddings2 = np.split(tsne_embeddings2, [len(clust_labels2)], axis=0)"
   ]
  },
  {
   "cell_type": "code",
   "execution_count": null,
   "id": "5b8151f3",
   "metadata": {},
   "outputs": [],
   "source": [
    "#выделим кластеры\n",
    "clust_indices2 = np.unique(clust_labels2)\n",
    "\n",
    "#далее определим параметры визуализации\n",
    "clusters2 = {clust_ind : [] for clust_ind in clust_indices2}\n",
    "for emb, label in zip(tsne_embeddings2, clust_labels2):\n",
    "    clusters2[label].append(emb)\n",
    "\n",
    "for key in clusters2.keys():\n",
    "    clusters2[key] = np.array(clusters2[key])\n",
    "    \n",
    "colors = cm.rainbow(np.linspace(0, 1, len(clust_indices2)))"
   ]
  },
  {
   "cell_type": "code",
   "execution_count": null,
   "id": "f27ff5e4",
   "metadata": {},
   "outputs": [],
   "source": [
    "#выведем полученный результат\n",
    "plt.figure(figsize=(5,5))\n",
    "for ind, color in zip(clust_indices2, colors):\n",
    "    x = clusters2[ind][:,0]\n",
    "    y = clusters2[ind][:,1]\n",
    "    plt.scatter(x, y, color=color)\n",
    "    \n",
    "    centroid2 = centroids_embeddings2[ind]\n",
    "    plt.scatter(centroid2[0],centroid2[1], color=color, marker='x', s=100)\n",
    "\n",
    "plt.show()"
   ]
  },
  {
   "cell_type": "markdown",
   "id": "9ae6ace4",
   "metadata": {},
   "source": [
    "Визуализация явно показывает, что модель NMF с использованными гиперпараметрами не справляется со своей задачей."
   ]
  },
  {
   "cell_type": "markdown",
   "id": "cf2846f3-19ee-4260-9927-6724d3763c97",
   "metadata": {},
   "source": [
    "\n",
    "<div class=\"alert alert-warning\">\n",
    "<b>Комментарий ревьюера ⚠️:</b>\n",
    "\n",
    "Повторяющийся громоздкий код можно упаковать в функцию 😉\n",
    "\n",
    "</div>\n"
   ]
  },
  {
   "cell_type": "markdown",
   "id": "50abfba9",
   "metadata": {},
   "source": [
    "# Выводы"
   ]
  },
  {
   "attachments": {
    "image.png": {
     "image/png": "[encoded data removed]"
    }
   },
   "cell_type": "markdown",
   "id": "3dcf84f2",
   "metadata": {},
   "source": [
    "Для проведения исследования командой написан скрипт (parser) для сбора данных в социальной сети LinkedIN, которые представляют собой ссылки на профили людей, подходящих под ЦА заказчика, тексты их постов и реакции.\n",
    "\n",
    "Получилось собрать информацию о 158 профилях и 1125 текстов. Преобладающее количество текстов на русском языке. Но из-за небольшого их количества выполнить задачу не представлялось возможным. Поэтому, для улучшения качества прогноза модели, было решено обменяться собранными данными с другими командами.\n",
    "\n",
    "**В итоге, для анализе использовались 1012 профилей и 11146 текстов.** Полученные тексты распределились по языкам следующим образом:\n",
    " - en - 60%\n",
    " - ru - 32%\n",
    " - uk - 2%\n",
    " - остальные - 6% (всего определлились 36 языков).\n",
    "\n",
    "Для корректного анализа тексты предварительно переведены на русский язык.\n",
    "\n",
    "При исследовании длин полученных текстов установлено, что максимальная достигает 6638 знаков, а минимальная длина равна двум знакам. Таким образом, 25% собранных данных короче 110 символов. Такие \"короткие\" тексты (предположительно подпись к картинке или видео, набор хэштэгов, смайлов и пр.) не несли в себе полезную информацию, поэтому решено удалить эти наблюдения. В итоге использовались 8413 текстов.\n",
    "\n",
    "На этапе подготовки текстов для модели была проведена лемматизация и токенизация текстов. Также тексты были очищены от \"мусорных\" символов - знаков пунктуации, смайлов, иностранных слов, цифр. Удалены стоп-слова. \n",
    "\n",
    "Векторизация текстов производилась при помощи Tf-iDf.\n",
    "На этапе подбора модели были использованы:\n",
    " - LDA - LatentDirichletAllocation\n",
    " - NMF - Non-Negative Matrix Factorization\n",
    "\n",
    "Эффективность работы модели сложно оценить, так как нет метрик на которые можно опереться. Для выбора модели использовали здравый смысл и алгоритмы визуализации, которые позволили определить насколько хорошо модель разделяет тесты по темам.\n",
    "\n",
    "Корректное распределение вероятности и лучшее разделение тем получено в результате применения модели LDA. Таким образом, рейтинг тем на основании частоты упоминания в порядке убывания:\n",
    "\n",
    " - Тема 6 - новости IT рынка;\n",
    " - Тема 9 - поиск работы;\n",
    " - Тема 7 - обучение IT профессиям;\n",
    " - Тема 4 - предложение IT услуг;\n",
    " - Тема 8 - IT рекрутмент;\n",
    " - Тема 10 - поиск работы;\n",
    " - Тема 5 - менторство начинающих специалистов;\n",
    " - Тема 3 - коучинг;\n",
    " - Тема 2 - внешняя политика;\n",
    " - Тема 1 - проектное сотрудничество;\n",
    " \n",
    "Выделены следующие топ-10 ключевых слов по темам:\n",
    "\n",
    "| Тема | Название темы | Количество тем |Средняя вероятность | Ключевые слова |\n",
    "|----------|----------|----------|----------|----------|\n",
    "| Тема 6    | новости IT рынка   | 6440 | 0.75 | решение, опыт, клиент, приложение, продукт, бизнес, разработка, команда, проект, компания |\n",
    "| Тема 9    | поиск работы   | 206 | 0.71 | кибербезопасность, здравствовать, признателен, иб, поддержка, совет, предложить, возможность, заранее, благодарить |\n",
    "| Тема 7    | обучение IT профессиям   | 58 | 0.66 | асинхронный, машинный, буква, испытание, карусель, видео, генеративный, проверить, курс, закончить |\n",
    "| Тема 4    | предложение IT услуг   | 186 | 0.65 | рад, услуга, разработка, сообщить, сертификат, компания, должность, начинать, удовольствие, сообщать |\n",
    "| Тема 8    | IT рекрутмент   | 128 | 0.63 | делиться, статья, желать, тильда, оценить, комментарий, праздник, ребята, нанимать, лендинг |\n",
    "| Тема 10   | поиск работы    | 180 | 0.63 | встретиться, отличный, нетерпение, невероятный, поделиться, грузия, команда, заявка, рад, саммит |\n",
    "| Тема 5    | менторство начинающих специалистов   | 611 | 0.61 | английский, команда, поиск, проект, привет, опыт, резюме, разработчик, искать, вакансия |\n",
    "| Тема 3    | коучинг   | 151 | 0.60 | желать, счастливый, выходной, справляться, проверка, пройти, тест, следующий, значок, навык |\n",
    "| Тема 2    | внешняя политика   | 262 | 0.57 | военный, европа, доклад, вебинар, ноябрь, март, российский, конференция, украинец, украина |\n",
    "| Тема 1    | проектное сотрудничество   | 191 | 0.56 | создать, фирменный, анимация, пожаловать, сайт, добро, дизайнер, стиль, логотип, дизайн |\n",
    "\n",
    "На основании полученных результатов можно заметить, что все посты написаны примерно про одно и то же, это: поиск работы или работников, впечатление от обучения и несколько тем посвящены коучингу и менторству начинающих специалистов. По теме наставничества целевая группа пишет немного.\n",
    "\n",
    "**Пример визуализации разделения тем на кластеры моделью LDA**\n",
    "![image.png](attachment:image.png)\n",
    "На изображении tSNE ембеддингов, видно, что кластеры выделенные с помощью KMeans, образуют достаточно связные и чаще всего пространственно разделимые между собой множества. Но так же видно, что есть над чем еще поработать.\n",
    "\n",
    "При анализе распределения тем, с большим отрывом лидирует тема 6 (6440 текстов), на втором месте модель поставила тему 5 - 611 текстов, на третьем - 2 тема и 262 текста.\n",
    "\n",
    "При оценке топ-100 постов, для которых модель наиболее уверенно (с большей вероятностью) определила тему выяснилось, что все эти посты отнесены к теме 6. Что логично, так как эти тексты представлены на порядок в большем количестве. Вероятность для топ-100 находится в пределах 0.92 - 0.89.\n",
    "\n",
    "При оценке средней вероятности, с которой алгоритм определял принадлежность к определенной теме выяснилось, что увереннее всего он справляется с темами:\n",
    " - 6 тема - средняя вероятность 0.75 - количество текстов 6440\n",
    " - 9 тема - средняя вероятность 0.71 - количество текстов 206\n",
    " - 7 тема - средняя вероятность 0.66 - количество текстов 58\n",
    "\n",
    "Хуже всего модель справилась с темами 3, 2 и 1 - средние вероятности 0.60 (151 текст), 0.57(262) и 0.56(191). Возможно, это связано с тебольшим количеством текстов для данных тем.\n",
    "\n",
    "Стоит отметить, что данные пришедшие от других команд, содержат значительное количество текстов на политичесие темы, что не относится к теме исследования. В дальнейшем планируется вычислить датасет с нерелевантными данными и исключить его из моделирования.\n",
    "\n",
    "\n",
    "**Что можно сделать лучше:**\n",
    "- Изменить стратегию поиска постов, применить другие ключевые слова для сбора данных целевой аудитории.\n",
    "- Хороший результат был получен при добавлении стоп кастомизированных стоп-слов, расширение этого списка потенциально может улучшить работу модели.\n",
    "- Попробовать использовать предобученные модели BERT как самостоятельный вариант или вместе с LDA.\n",
    "\n",
    "\n",
    "**В ходе работы над проектом команда столкнулась со следующими сложностями:**\n",
    "   - замена ключевого участника на середине хакатона;\n",
    "   - социальная сеть LinkdIn хорошо защищает данные своих пользователей от парсинга. Кроме того, накладывает ограничения на возможность просмотра профилей - пользователи с маленьким количеством контактов не могут просмотривать посты других людей. Проблема была решена путем обмена контактами участников хакатона друг с другом и объединением всех собранных данных команд в один датасет.\n",
    "   - некоторые посты отдельных пользователей защищены от парсинга, в связи с этим, возникла проблема с корректным сбором реакций на посты. Проблема пока остается не решенной, однако это не мешает тематическому моделированию и получению достоверных результатов;\n",
    "   - оказалось, что представители целевой аудитории мало пишут про наставничество и менторство. В связи с этим возникла проблема нехватки данных по теме исследования хакатона. Проблема может быть решена более тщательным подбором ключевых слов для фильтрации пользователей."
   ]
  },
  {
   "cell_type": "markdown",
   "id": "b090ad8a-940c-4c02-9064-c8776964ce4e",
   "metadata": {},
   "source": [
    "<div class=\"alert alert-danger\">\n",
    "<b>Комментарий ревьюера ❌:</b>\n",
    "\n",
    "К сожалению, выполнена только часть работы по сбору топиков и ключевых слов написанных постов.\n",
    "\n",
    "- Не раскрыта тема, а что парсили и по каким критериям?\n",
    "- Нет анализа популярности этих тем по реакциям читателей\n",
    "- Нет анализа аудитории\n",
    "</div>\n",
    "\n",
    "<div class=\"alert alert-warning\">\n",
    "<b>Комментарий ревьюера ⚠️:</b>\n",
    "\n",
    "Судя по тому какая обработка в collect_parsed_data потребовалась для объединения собственных данных парсинга – структура датасета для сохранения была очень неоптимальной. Циклы split, append – вероятно там были списки? Список из типа object можно обратно в список преобразовать через [eval](https://docs.python.org/3/library/functions.html#eval) либо в парсере сразу все структурировать.\n",
    "\n",
    "- В парсере строки 62 и 63 – получается парсинг выполняется дважды, чтобы собрать посты и потом чтоб собрать лайки.\n",
    "- При этом лайки насколько я понимаю не стали разделять по постам, а просто сложили в общий список для каждого юзера?\n",
    "</div>\n",
    "\n",
    "<div class=\"alert alert-success\">\n",
    "<b>Комментарий ревьюера ✔️:</b> В целом проведена большая работа. Код читаемый, аккуратный. К каждому шагу есть пояснения. Видно, что технически ты хорошо владеешь инструментом 👍</div>\n"
   ]
  },
  {
   "cell_type": "code",
   "execution_count": null,
   "id": "b43ee63b-43f0-4141-9593-476bf33d4505",
   "metadata": {},
   "outputs": [],
   "source": []
  }
 ],
 "metadata": {
  "kernelspec": {
   "display_name": "Python 3 (ipykernel)",
   "language": "python",
   "name": "python3"
  },
  "language_info": {
   "codemirror_mode": {
    "name": "ipython",
    "version": 3
   },
   "file_extension": ".py",
   "mimetype": "text/x-python",
   "name": "python",
   "nbconvert_exporter": "python",
   "pygments_lexer": "ipython3",
   "version": "3.11.3"
  },
  "toc": {
   "base_numbering": 1,
   "nav_menu": {},
   "number_sections": true,
   "sideBar": true,
   "skip_h1_title": true,
   "title_cell": "Table of Contents",
   "title_sidebar": "Contents",
   "toc_cell": true,
   "toc_position": {},
   "toc_section_display": true,
   "toc_window_display": false
  }
 },
 "nbformat": 4,
 "nbformat_minor": 5
}
