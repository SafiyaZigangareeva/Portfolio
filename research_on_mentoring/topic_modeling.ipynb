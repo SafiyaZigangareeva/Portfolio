{
 "cells": [
  {
   "cell_type": "markdown",
   "id": "9ffc05be",
   "metadata": {},
   "source": [
    "# Проведение исследования по теме наставничества "
   ]
  },
  {
   "cell_type": "markdown",
   "id": "07ffd1a3",
   "metadata": {},
   "source": [
    "## Описание проекта  и цель"
   ]
  },
  {
   "cell_type": "markdown",
   "id": "4824da5d",
   "metadata": {},
   "source": [
    "Провести исследование по теме наставничества и менторства на основании контента социальной сети LinkedIn, размещенного в открытом доступе, созданного целевой аудиторией.\n",
    "\n",
    "Определить топ-10 тем в направлении наставничества."
   ]
  },
  {
   "cell_type": "markdown",
   "id": "56a5761f",
   "metadata": {},
   "source": [
    "## Описание данных "
   ]
  },
  {
   "cell_type": "markdown",
   "id": "d1d058ce",
   "metadata": {},
   "source": [
    "Сбор данных осуществлялся на сайт социальнй сети LinkedIN, в данных представлены ссылки на профили из ЦА, тексты публикаций.\n",
    "Некоторые тексты были написаны на иностранных языках, поэтому они были предварительно переведены на русский.\n",
    "\n",
    " - url_user - ссылка на профиль\n",
    " - text_post  - текст публикации\n",
    " - language  - язык публикации\n",
    " - translated_text - переведенный текст"
   ]
  },
  {
   "cell_type": "markdown",
   "id": "66e5bf90",
   "metadata": {},
   "source": [
    "## План работы"
   ]
  },
  {
   "cell_type": "markdown",
   "id": "890d8a83",
   "metadata": {},
   "source": [
    "1. Предобработка данных\n",
    " - Ознакомление с данными\n",
    " - Подготовка текстов\n",
    " - Векторизация текстов\n",
    "2. Моделирование\n",
    " - LDA\n",
    " - Ключевые слова\n",
    " - Типичные статьи\n",
    "3. Выводы"
   ]
  },
  {
   "cell_type": "markdown",
   "id": "df09096d",
   "metadata": {},
   "source": [
    "# 1. Предобработка данных"
   ]
  },
  {
   "cell_type": "markdown",
   "id": "a3d4a1f5",
   "metadata": {},
   "source": [
    "## Ознакомимся с данными"
   ]
  },
  {
   "cell_type": "code",
   "execution_count": 1,
   "id": "acffa7f0",
   "metadata": {},
   "outputs": [],
   "source": [
    "# Импорт библиотек\n",
    "import re\n",
    "import json\n",
    "import warnings \n",
    "\n",
    "import pandas as pd\n",
    "import numpy as np\n",
    "import spacy\n",
    "from tqdm import tqdm\n",
    "import matplotlib.pyplot as plt\n",
    "import matplotlib.cm as cm\n",
    "from nltk.corpus import stopwords\n",
    "from sklearn.decomposition import LatentDirichletAllocation\n",
    "from sklearn.feature_extraction.text import TfidfVectorizer\n",
    "from sklearn.cluster import KMeans\n",
    "from sklearn.manifold import TSNE\n",
    "\n",
    "warnings.filterwarnings('ignore')"
   ]
  },
  {
   "cell_type": "code",
   "execution_count": 2,
   "id": "ea6a265e",
   "metadata": {},
   "outputs": [],
   "source": [
    "# Устанавливаем необходимые библиотеки и качаем русскоязычную модель ru_core_news_sm.\n",
    "# ! pip install spacy\n",
    "# ! python -m spacy download ru_core_news_sm\n",
    "# ! pip install matplotlib\n",
    "# ! pip install nltk"
   ]
  },
  {
   "cell_type": "code",
   "execution_count": 6,
   "id": "5b843fdb",
   "metadata": {},
   "outputs": [
    {
     "data": {
      "text/html": [
       "<div>\n",
       "<style scoped>\n",
       "    .dataframe tbody tr th:only-of-type {\n",
       "        vertical-align: middle;\n",
       "    }\n",
       "\n",
       "    .dataframe tbody tr th {\n",
       "        vertical-align: top;\n",
       "    }\n",
       "\n",
       "    .dataframe thead th {\n",
       "        text-align: right;\n",
       "    }\n",
       "</style>\n",
       "<table border=\"1\" class=\"dataframe\">\n",
       "  <thead>\n",
       "    <tr style=\"text-align: right;\">\n",
       "      <th></th>\n",
       "      <th>url_user</th>\n",
       "      <th>text_post</th>\n",
       "      <th>language</th>\n",
       "      <th>translated_text</th>\n",
       "    </tr>\n",
       "  </thead>\n",
       "  <tbody>\n",
       "    <tr>\n",
       "      <th>0</th>\n",
       "      <td>https://www.linkedin.com/in/korenevich/</td>\n",
       "      <td>['Приложение которое из голоса раскидывает зад...</td>\n",
       "      <td>ru</td>\n",
       "      <td>['Приложение которое из голоса раскидывает зад...</td>\n",
       "    </tr>\n",
       "    <tr>\n",
       "      <th>1</th>\n",
       "      <td>https://www.linkedin.com/in/korenevich/</td>\n",
       "      <td>'Почему основатель любого бизнеса обязан умет...</td>\n",
       "      <td>ru</td>\n",
       "      <td>'Почему основатель любого бизнеса обязан умет...</td>\n",
       "    </tr>\n",
       "    <tr>\n",
       "      <th>2</th>\n",
       "      <td>https://www.linkedin.com/in/korenevich/</td>\n",
       "      <td>'Казнить нельзя помиловать. Навык #9 – принят...</td>\n",
       "      <td>ru</td>\n",
       "      <td>'Казнить нельзя помиловать. Навык #9 – принят...</td>\n",
       "    </tr>\n",
       "    <tr>\n",
       "      <th>3</th>\n",
       "      <td>https://www.linkedin.com/in/korenevich/</td>\n",
       "      <td>'Кто хорошо потрудился на этой неделе, тот я....</td>\n",
       "      <td>ru</td>\n",
       "      <td>'Кто хорошо потрудился на этой неделе, тот я....</td>\n",
       "    </tr>\n",
       "    <tr>\n",
       "      <th>4</th>\n",
       "      <td>https://www.linkedin.com/in/korenevich/</td>\n",
       "      <td>'Сегодня была защита дипломных работ на кафед...</td>\n",
       "      <td>ru</td>\n",
       "      <td>'Сегодня была защита дипломных работ на кафед...</td>\n",
       "    </tr>\n",
       "  </tbody>\n",
       "</table>\n",
       "</div>"
      ],
      "text/plain": [
       "                                  url_user  \\\n",
       "0  https://www.linkedin.com/in/korenevich/   \n",
       "1  https://www.linkedin.com/in/korenevich/   \n",
       "2  https://www.linkedin.com/in/korenevich/   \n",
       "3  https://www.linkedin.com/in/korenevich/   \n",
       "4  https://www.linkedin.com/in/korenevich/   \n",
       "\n",
       "                                           text_post language  \\\n",
       "0  ['Приложение которое из голоса раскидывает зад...       ru   \n",
       "1   'Почему основатель любого бизнеса обязан умет...       ru   \n",
       "2   'Казнить нельзя помиловать. Навык #9 – принят...       ru   \n",
       "3   'Кто хорошо потрудился на этой неделе, тот я....       ru   \n",
       "4   'Сегодня была защита дипломных работ на кафед...       ru   \n",
       "\n",
       "                                     translated_text  \n",
       "0  ['Приложение которое из голоса раскидывает зад...  \n",
       "1   'Почему основатель любого бизнеса обязан умет...  \n",
       "2   'Казнить нельзя помиловать. Навык #9 – принят...  \n",
       "3   'Кто хорошо потрудился на этой неделе, тот я....  \n",
       "4   'Сегодня была защита дипломных работ на кафед...  "
      ]
     },
     "execution_count": 6,
     "metadata": {},
     "output_type": "execute_result"
    }
   ],
   "source": [
    "# Ознакомимся с датасетом \n",
    "df = pd.read_csv('data/all_data_translated.csv')\n",
    "df.head()"
   ]
  },
  {
   "cell_type": "code",
   "execution_count": 7,
   "id": "81c9061b",
   "metadata": {},
   "outputs": [
    {
     "data": {
      "text/plain": [
       "(11146, 4)"
      ]
     },
     "execution_count": 7,
     "metadata": {},
     "output_type": "execute_result"
    }
   ],
   "source": [
    "df.shape"
   ]
  },
  {
   "cell_type": "code",
   "execution_count": 8,
   "id": "2b6ea74a",
   "metadata": {},
   "outputs": [
    {
     "data": {
      "text/plain": [
       "211"
      ]
     },
     "execution_count": 8,
     "metadata": {},
     "output_type": "execute_result"
    }
   ],
   "source": [
    "# Проверка на дубликаты\n",
    "df.duplicated().sum()"
   ]
  },
  {
   "cell_type": "code",
   "execution_count": 9,
   "id": "3dc35557",
   "metadata": {},
   "outputs": [],
   "source": [
    "# Удалим дубликаты \n",
    "df = df.drop_duplicates(keep='last')"
   ]
  },
  {
   "cell_type": "code",
   "execution_count": 10,
   "id": "d1058ce9",
   "metadata": {},
   "outputs": [
    {
     "data": {
      "text/plain": [
       "url_user           0\n",
       "text_post          0\n",
       "language           0\n",
       "translated_text    0\n",
       "dtype: int64"
      ]
     },
     "execution_count": 10,
     "metadata": {},
     "output_type": "execute_result"
    }
   ],
   "source": [
    "df.isna().sum()"
   ]
  },
  {
   "cell_type": "code",
   "execution_count": 14,
   "id": "8b8018ec",
   "metadata": {},
   "outputs": [
    {
     "data": {
      "text/html": [
       "<div>\n",
       "<style scoped>\n",
       "    .dataframe tbody tr th:only-of-type {\n",
       "        vertical-align: middle;\n",
       "    }\n",
       "\n",
       "    .dataframe tbody tr th {\n",
       "        vertical-align: top;\n",
       "    }\n",
       "\n",
       "    .dataframe thead th {\n",
       "        text-align: right;\n",
       "    }\n",
       "</style>\n",
       "<table border=\"1\" class=\"dataframe\">\n",
       "  <thead>\n",
       "    <tr style=\"text-align: right;\">\n",
       "      <th></th>\n",
       "      <th>url_user</th>\n",
       "      <th>text_post</th>\n",
       "      <th>language</th>\n",
       "      <th>translated_text</th>\n",
       "    </tr>\n",
       "  </thead>\n",
       "  <tbody>\n",
       "  </tbody>\n",
       "</table>\n",
       "</div>"
      ],
      "text/plain": [
       "Empty DataFrame\n",
       "Columns: [url_user, text_post, language, translated_text]\n",
       "Index: []"
      ]
     },
     "execution_count": 14,
     "metadata": {},
     "output_type": "execute_result"
    }
   ],
   "source": [
    "# Проверим есть ли строки, в которых нет текста\n",
    "df.loc[df['translated_text'] == '']"
   ]
  },
  {
   "cell_type": "code",
   "execution_count": 12,
   "id": "f05c2ba7",
   "metadata": {},
   "outputs": [
    {
     "data": {
      "text/plain": [
       "1012"
      ]
     },
     "execution_count": 12,
     "metadata": {},
     "output_type": "execute_result"
    }
   ],
   "source": [
    "# Количество профилей\n",
    "df.url_user.nunique()"
   ]
  },
  {
   "cell_type": "code",
   "execution_count": 15,
   "id": "ee9c7f74",
   "metadata": {},
   "outputs": [
    {
     "name": "stdout",
     "output_type": "stream",
     "text": [
      "Большие перспективы использования больших данных в образовании: примеры и преимущества. Большие данные имеют много преимуществ для образования, особенно в оптимизации дистанционного обучения. Он помогает учителям, предоставляя современные инструменты обучения, определяя интересный контент и позволяя им адаптировать свои методы обучения. Это также позволяет в режиме реального времени отслеживать успеваемость учащихся и анализировать академические результаты. Ознакомьтесь с полной статьей: https://lnkd.in/eHqMt4sT#education #edtech #schools #bigdata\n",
      "\n",
      " '- А я аналитик или вообще кто? А какой - продуктовый, бизнес, системный? Сколько я стою на рынке?- Я ничего не успеваю 🤯 чем больше делаю адхоков, тем больше беклог- За что хвататься? Чему учиться?!- Я вроде бы умный, а оффер не дают 😰- Заказчики заводят запросы как попало, все сторипойнты уходят на то, чтобы разобраться 😫 - Не знаю что дальше делать со своей карьерой- Мой сотрудник скилловее меня. Меня разоблачат? 😰Знакомо?С такими запросами приходят в менторство к Pavel Bukhtik и ко мне аналитики, тимлиды и новички в IT.\\xa0👀 И завтра, 12го апреля, у вас есть офигенная возможность подсмотреть, что же происходит на таких встречах - а может, разобрать и свой запрос.Мы проведём первую встречу из серии \"Тимлид на час\" для аналитиков, дата саентистов, инженеров и начинающих тимлидов, где разберём конкретные кейсы и дадим ответы на самые острые вопросы по вашей работе.Чтобы поучаствовать, напишите в комментариях:\"участник\" - если хотите, чтобы ваш запрос Паша и Крис разобрали на встрече;\"слушатель\" - если просто хотите послушать, какие рекомендации дадут вашим коллегам.Не забудьте поделиться с коллегами аналитиками :)Приходите, будет жаришка 🔥Что: открытое менторство для аналитиков \"Тимлид на час\"Где: расскажем завтра; оставьте комментарий, чтобы попасть ⬇️Когда: среда, 12 апреля, в 20:00 по Мск#analytics #mentor #карьера #analyst #dataanalyst #аналитик #ментор #career #teamlead\n",
      "\n",
      "Здесь должен быть стандартный текст о том, на какой крутой проект вас нанимают. Но у нас вы сможете выбрать проект самостоятельно, согласно вашим пожеланиям и Индивидуальному плану развития.Итак, если вы хотите иметь большое влияние на свою карьеру, развитие и знание - давайте знакомитьсяWeb Development Agency FreeUA, в связи с расширением, ищет амбициозных и талантливых React разработчиковТребования:- Коммерческий опыт работы от 1.5 года- Опыт работы с ReactJS, Redux/mobx, SCSS, Typescrypt, Next js и GraphQL- Английский достаточный для общения и прохождения технических собеседований и переговоров плюсомМы предлагаем:- Удаленная работа (fulltime)- Современные и отлаженные рабочие процессы- Полная открытость информации в пределах компании и возможность влиять на ее развитие через OKR методологию управления- Возможность обучения, прокачки и сопровождения при желании выйти на собственную фриланс карьеру в течение всего 1го года- График работы Пн-Пт, ваш рабочий день может стартовать с 09:00 до 11:00 и длится 8 часов- ЗП 1500-3000 $- Оплачиваемые больничные- Оплачиваемый отпуск 20 рабочих дней в год- 10 дней оплачиваемых отгулов в год - Лояльный и адекватный менеджмент (по крайней мере мы так считаем:) )- Подбор проектов согласно вашему индивидуальному плану развития (никаких \"иди туда не знаю куда, пиши на том, не знаю на чем\")- Свободное общение внутри компании на русском, украинском, на английском языке. Никаких предрассудков и стереотипов, только здоровые, человечные взаимоотношения Ждем ваших сев)talent.acquisition@freeua.agency #reactjs #webdevelopment #webdevelopment #react #вакансия\n",
      "\n",
      "🏥 Современные медицинские организации собирают большие объемы конфиденциальных данных. Поэтому их эффективность и качество обслуживания зависят от процессов управления данными. Как блокчейн может помочь решить эту проблему? Листайте слайды, чтобы учиться! 👉 🔥 Чтобы узнать больше о примерах использования блокчейна в сфере здравоохранения, читайте нашу новую статью. https://lnkd.in/erx7QZxX\n",
      "\n",
      "Если вы потеряли работу, ваш бизнес больше не работает или у вас просто дела идут не очень хорошо, и мы вместе работали, вместе учились или пересекались на нашем жизненном пути; пожалуйста, свяжитесь со мной и дайте мне знать, как я могу вам помочь.- Могу ли я связать вас с человеком или компанией?- Могу ли я написать вам рекомендацию LinkedIn?- Могу ли я подтвердить некоторые из ваших навыков?- Вам нужен разговор для позитивного настроя? - Вы хотите провести мозговой штурм или иметь вторую пару глаз? Я скопировал этот пост из LinkedIn связи и друга, и я призываю других скопировать его от меня. Мы глобальное сообщество, и мы все можем двигаться вперед поддерживая друг друга в эти трудные времена. #linkedin #помощь\n",
      "\n"
     ]
    }
   ],
   "source": [
    "# Посмотрим на тексты публикаций - случайным образом сэмплируем несколько примеров\n",
    "for i in range(5):\n",
    "    print(df['translated_text'].iloc[np.random.randint(len(df))])\n",
    "    print()"
   ]
  },
  {
   "cell_type": "code",
   "execution_count": 16,
   "id": "858ccbda",
   "metadata": {},
   "outputs": [],
   "source": [
    "# Добавим дополнительнй признак - длина текста\n",
    "df['len_text'] = df['text_post'].apply(lambda x:len(x))"
   ]
  },
  {
   "cell_type": "code",
   "execution_count": 17,
   "id": "178427cb",
   "metadata": {},
   "outputs": [
    {
     "data": {
      "image/png": "[encoded data removed]",
      "text/plain": [
       "<Figure size 600x400 with 1 Axes>"
      ]
     },
     "metadata": {},
     "output_type": "display_data"
    }
   ],
   "source": [
    "# Построим гистограмму распределения длин\n",
    "plt.figure(figsize=(6,4))\n",
    "df['len_text'].plot.hist(bins = 30)\n",
    "\n",
    "plt.title('Гистограмма распределения текстов по количеству символов')\n",
    "plt.xlabel('Количество символов')\n",
    "plt.show()"
   ]
  },
  {
   "cell_type": "code",
   "execution_count": 18,
   "id": "4feb2de7",
   "metadata": {},
   "outputs": [
    {
     "data": {
      "text/plain": [
       "count    10935.000000\n",
       "mean       545.891724\n",
       "std        623.084776\n",
       "min          2.000000\n",
       "25%        110.500000\n",
       "50%        307.000000\n",
       "75%        762.000000\n",
       "max       6638.000000\n",
       "Name: len_text, dtype: float64"
      ]
     },
     "execution_count": 18,
     "metadata": {},
     "output_type": "execute_result"
    }
   ],
   "source": [
    "df['len_text'].describe()"
   ]
  },
  {
   "cell_type": "markdown",
   "id": "59b7bd8f",
   "metadata": {},
   "source": [
    "Видно, что длина некоторых текстов достигает 6638 знаков, а минамальная длина равна двум знакам. 25% данных короче 110 символов. Посмотрим на примеры текстов и оценим несут ли они в себе полезную информацию."
   ]
  },
  {
   "cell_type": "code",
   "execution_count": 103,
   "id": "0e847f34",
   "metadata": {},
   "outputs": [
    {
     "data": {
      "text/plain": [
       "91                    'оп и я тут тоже 😄\n",
       "98           'Очень близок такой подход.\n",
       "187                            'Хорошее)\n",
       "209                      'Лучший способ!\n",
       "210           'Будет что-нибудь сегодня?\n",
       "                      ...               \n",
       "11108    Умное производство — это круто.\n",
       "11109                      Вперед, Илон!\n",
       "11111        Дизайн базы данных DataCamp\n",
       "11140                      Хорошая схема\n",
       "11145                           DataCamp\n",
       "Name: translated_text, Length: 780, dtype: object"
      ]
     },
     "execution_count": 103,
     "metadata": {},
     "output_type": "execute_result"
    }
   ],
   "source": [
    "# Тексты короче 30 символов\n",
    "df.loc[df['len_text'] < 30, 'translated_text']"
   ]
  },
  {
   "cell_type": "code",
   "execution_count": 22,
   "id": "787d2069",
   "metadata": {},
   "outputs": [
    {
     "data": {
      "text/plain": [
       "0        ['Приложение которое из голоса раскидывает зад...\n",
       "3         'Кто хорошо потрудился на этой неделе, тот я....\n",
       "5         '🔥Вот и приложение под iOS🔥 Очень ждал тк в м...\n",
       "19                'Черканула о постановке карьерных целей.\n",
       "29        'Пока мы на каникулах немного развлекательног...\n",
       "                               ...                        \n",
       "11133    Том Торн #нанимает. Знаете кого-нибудь, кому э...\n",
       "11136    Посмотрите мое проверенное достижение от The L...\n",
       "11140                                        Хорошая схема\n",
       "11143         Обобщенные линейные модели DataCamp в Python\n",
       "11145                                             DataCamp\n",
       "Name: translated_text, Length: 2506, dtype: object"
      ]
     },
     "execution_count": 22,
     "metadata": {},
     "output_type": "execute_result"
    }
   ],
   "source": [
    "# Тексты короче 100 символов\n",
    "df.loc[df['len_text'] < 100, 'translated_text']"
   ]
  },
  {
   "cell_type": "markdown",
   "id": "aba76e7c",
   "metadata": {},
   "source": [
    "Удалим тексты короче 100 символов. Предполагаем, что это как правило текст, который не несет нужной нас информации - это может быть подпись к картинке или видео, набор хэштэгов и пр."
   ]
  },
  {
   "cell_type": "code",
   "execution_count": 23,
   "id": "4b3f266b",
   "metadata": {},
   "outputs": [],
   "source": [
    "# Удалим наблюдения с текстами менее 100 символов\n",
    "df_len_text_100 = df.loc[df['len_text'] > 100]"
   ]
  },
  {
   "cell_type": "code",
   "execution_count": 49,
   "id": "40eb5c4b",
   "metadata": {},
   "outputs": [
    {
     "data": {
      "text/plain": [
       "8413"
      ]
     },
     "execution_count": 49,
     "metadata": {},
     "output_type": "execute_result"
    }
   ],
   "source": [
    "# Количество наблюдений\n",
    "len(df_len_text_100)"
   ]
  },
  {
   "cell_type": "markdown",
   "id": "b271cb4f",
   "metadata": {},
   "source": [
    "Размер датасета для анализа составляет **11238** строк на **6** столбцов. Представлены ссылки на профили пользователей, их имена, место работы, тексты публикаций и реакции на публикации.\n",
    "\n",
    "Пропусков в данных нет, но есть дубликаты.\n",
    "В текстах видны смайлы, хэштэги **(выделить в отдельный признак?)**, служебные символы, слова и абревиатуры на английском, ссылки. \n",
    "\n",
    "При анализе длины текстов выявлено, что **2591** текстов из **11238** \"короткие\" - т.е. их длина менее 100 символов.(**Используем их для анализа?**), из них 865 текстов короче 30 символов. Что составляет 23% и 8% от исходных данных. Попробуем удалить эти записи, так как они не несут в себе информации для анализа. Максимальныя длина текста - 6638 символов."
   ]
  },
  {
   "cell_type": "markdown",
   "id": "0bbea17c",
   "metadata": {},
   "source": [
    "## Подготовка текстов"
   ]
  },
  {
   "cell_type": "markdown",
   "id": "f0b9becc",
   "metadata": {},
   "source": [
    "Теперь выполним токенизацию и лемматизацию текстов. Для этого будем использовать библиотеку [Spacy](https://spacy.io).\n",
    " Если выполнять обработку над каждым текстом по-отдельности, то это займёт достаточно много времени. Для ускорения применим \"пакетную обработку\" (batch processing)."
   ]
  },
  {
   "cell_type": "code",
   "execution_count": 24,
   "id": "db3a0ff7",
   "metadata": {},
   "outputs": [],
   "source": [
    "model = spacy.load('ru_core_news_sm', disable=['ner', 'parser'])"
   ]
  },
  {
   "cell_type": "code",
   "execution_count": 25,
   "id": "2c6c21b3",
   "metadata": {},
   "outputs": [],
   "source": [
    "# Складываем все тексты в один список\n",
    "texts = df_len_text_100[\"translated_text\"].tolist()"
   ]
  },
  {
   "cell_type": "code",
   "execution_count": 26,
   "id": "480e1688",
   "metadata": {},
   "outputs": [],
   "source": [
    "# Лемматизация текста для текстов, длиннее 100 символов\n",
    "res = []\n",
    "for doc in model.pipe(texts, disable=[\"tagger\", \"parser\"]):\n",
    "    try:\n",
    "        res.append([token.lemma_ for token in doc])\n",
    "    except:\n",
    "        print(doc)"
   ]
  },
  {
   "cell_type": "code",
   "execution_count": 27,
   "id": "4f1a6819",
   "metadata": {},
   "outputs": [],
   "source": [
    "# Сохраним результат лемматизации\n",
    "with open(\"lemmas_100.json\", \"w\") as fid:\n",
    "    json.dump({\"lemmas\": res}, fid)"
   ]
  },
  {
   "cell_type": "code",
   "execution_count": 35,
   "id": "75f238d6",
   "metadata": {},
   "outputs": [
    {
     "name": "stdout",
     "output_type": "stream",
     "text": [
      "прогрессивный, приложение, :, как, pwa, улучшать, пользовательский, опыт, ., выйти, онлайн, версия, статья, про, pwa.https://lnkd.in/dkggmnvf👉🏼, что, делать, ,, если, пользователь, не, хотеть, загружать, приложения?, 👉, 🏼, какой, компания, нужный, технология, pwa?, 👉, 🏼, как, улучшить, конверсия, с, помощь, прогрессивный, приложений?прогрессивные, веб, -, приложения, (, pwa, ), предлагать, высокопроизводительный, ,, ориентировать, на, мобильный, устройство, опыт, ,, сохранять, привлекательность, и, удобство, нативный, приложение, ., pwa, мочь, быть, загрузить, на, \", домашний, экран, \", клиент, и, магазин, приложение, ,, а, также, использовать, преимущество, нативный, кошелёк, для, упрощение, оплата, ., они, также, предлагать, возможность, отправка, уведомление, ,, что, являться, отличный, инструмент, вовлечение, пользователь, и, увеличение, продажа, ., pwa, быть, будущее, электронный, коммерция, ,, и, компания, ,, использовать, этот, технология, сейчас, ,, быть, выделяться, на, фон, конкурент, ., прогрессивный, веб, -, приложения, (, pwa, ), предлагать, высокопроизводительный, ,, ориентировать, на, мобильный, устройство, опыт, ,, сохранять, привлекательность, и, удобство, нативный, приложение, ., pwa, мочь, быть, загрузить, на, \", домашний, экран, \", клиент, и, магазин, приложение, ,, а, также, использовать, преимущество, нативный, кошелёк, для, упрощение, оплата, ., они, также, предлагать, возможность, отправка, уведомление, ,, что, являться, отличный, инструмент, вовлечение, пользователь, и, увеличение, продажа, ., pwa, быть, будущее, электронный, коммерция, ,, и, компания, ,, использовать, этот, технология, сейчас, ,, быть, выделяться, на, фон, конкурент, ., прогрессивный, приложение, иметь, смысл, ,, когда, у, клиент, быть, постоянный, потребность, в, товар, ,, услуга, ,, взаимодействие, ., Для, сервис, разовый, пользование, pwa, вряд, ли, быть, уместный, ,, но, принести, польза, доставка, еда, ,, салон, красота, ,, клининговой, компания, ,, интернет, -, магазину, и, т.д., ☝, 🏼компании, ,, которые, использовать, этот, технология, сейчас, ,, быть, выделяться, на, фон, конкурент, ., расти, компания, по, весь, мир, ежедневно, внедрять, технология, pwa, :, от, starbucks, и, target, до, spotify, ,, pinterest, и, twitter., ☝, 🏼не, стоить, ждать, будущее, ,, чтобы, использовать, прогрессивный, приложение, ., progressive, web, apps, уже, широко, поддерживаться, на, мобильный, и, настольный, устройство, ,, и, многие, платформа, электронный, коммерция, предлагать, реализация, этот, технология, ., также, ждать, на, свой, тг, -, канал, 😏, t.me/dev_to_executive#business, #, бизнес, #, разработка, #, приложение, #, pwa\n",
      "\n",
      " , ', #, job, #, magnit, #, cvmкоманда, cvm, (, customer, value, management, ,, т.е., команда, программа, лояльность, ), в, поиск, новый, сотрудник, .,  , команда, cvm, –, это, 5, удивительный, направление, по, развитие, клиент, ,, вас, ждать, разработка, модель, и, процесс, для, улучшение, пользовательский, опыт, в, магните:-, разработка, система, рекомендация, (, без, ограничение, по, алгоритм, и, метод, ., главный, ,, чтобы, покупатель, быть, довольный, и, у, него, быть, эффект, \", вау, ,, это, именно, то, ,, что, я, искал!»)-, разработка, система, управление, промо, (, интересный, проект, ,, который, должный, еженедельно, /, ежедневно, обновлять, промо, -, предложение, для, 60, млн, ., участник, программа, лояльности)-, разработка, эконометрический, модель, -, разработка, пайплайнов, для, автоматизация, ml, процессов-, участие, в, разработка, и, адаптация, алгоритм, для, задача, cvmкоманда, работать, в, облаке, yandex, ., работа, с, данными, через, pyspark, и, sql, ,, основной, язык, программирование, –, python, ., команда, в, поиске:-, дата, саентисты, (, от, junior, до, senior)-, дата, инженеры, (, от, junior, до, senior)-, аналитиков, данных, (, от, junior, до, senior)форматы, работа, :, офис, ,, гибридный, (, офис, /, удаленно).пишите, сюда, в, лс, или, в, телеграм:@seleznevartem\n",
      "\n",
      "изучение, освобождать, структура, с, ale, kraków, ., на, этот, раз, мы, сосредоточиться, на, :, ✅, дикий, вопрос, ✅, интегрированное, ~, autonom, ✅, решение, 15, %, спасибо, наталья, свёнтек, -, новак, и, михал, тарновски, за, организация, мероприятие, ., особый, благодарность, компания, ge, healthcare, за, предоставленное, место, .\n",
      "\n",
      "\", нужный, бежать, со, весь, нога, ,, чтобы, только, оставаться, на, место, ,, а, чтобы, куда, -, то, попасть, ,, надо, бежать, по, малый, мера, вдвое, быстрый, !, \", этот, фраза, не, давать, мне, опустить, рука, уже, много, год, ., сейчас, не, время, останавливаться, ., сейчас, пора, бежать, ., и, бежать, быстрый, всех, ,, чтобы, быть, чуть, близкий, к, старт, в, время, следующий, раунд, ., пара, год, назад, я, думать, ,, что, ковод, скоро, закончиться, и, все, быть, как, обычно, ., через, 2, год, я, о, ковиде, забыть, ,, даже, болея, им, ,, потому, что, война, изменить, все, ещё, больше, ., вы, до, сей, пора, думать, ,, что, скоро, все, быть, как, ранний, ?, не, хотеть, вас, разочаровывать, ,, но, я, очень, сомневаться, ., поэтому, ,, выдыхать, ,, пьем, водичка, и, смотреть, ,, куда, и, как, двигаться, далёкий, ., не, забывать, об, объятие, и, улыбка, близким, ., не, забывать, о, гнев, и, нетерпимость, к, враг, ., не, забывать, ,, что, хороший, сайт, делать, dl, agency, ., а, если, вам, хороший, ,, сложный, ,, весёлый, или, грустный, ,, всегда, можно, просто, написать, тому, ,, кто, ждать, ваш, смайлик, ., также, помнить, ,, что, \", глоток, хороший, виски, \", (, подставить, уж, сами, что, угодно, ), иногда, менять, отношение, к, настоящий, и, делать, мир, чуть, хороший, ., ну, и, так, ,, за, дизайн, ,, сайт, ,, за, продвижение, ,, за, сапортом, ,, да, и, просто, за, дружеский, совет, можно, обращаться, к, мне, в, личный\n",
      "\n",
      "..., у, каждый, быть, своё, маленький, хобби, ., год, не, брать, в, рука, стилус, и, наконец, появиться, пара, спокойный, и, свободный, минута, ., (, не, мочь, упустить, такой, возможность).#draw, #, hobby, #, wellmenote\n",
      "\n"
     ]
    }
   ],
   "source": [
    "# Смотрим на результат - случайным образом сэмплируем несколько примеров\n",
    "for i in range(5):\n",
    "    print(\", \".join(res[np.random.randint(len(res))]))\n",
    "    print()"
   ]
  },
  {
   "cell_type": "markdown",
   "id": "8fb67980",
   "metadata": {},
   "source": [
    "Удалим знаки препинания, цифры и слова, содержащие цифры. А также иностранные слова. Для это соберём регулярное выражение, которое подходит для любого слова, состоящего из букв кирилицы."
   ]
  },
  {
   "cell_type": "code",
   "execution_count": 36,
   "id": "0cd293d6-12be-4c2e-96c1-4ba76906934d",
   "metadata": {},
   "outputs": [],
   "source": [
    "word_pattern = re.compile(\"^[а-я]*$\")"
   ]
  },
  {
   "cell_type": "code",
   "execution_count": 37,
   "id": "66e11ab8-6c25-49ad-8509-7aa4257cc7f6",
   "metadata": {},
   "outputs": [],
   "source": [
    "def remove_symbols(doc):\n",
    "    return [token for token in doc if word_pattern.match(token)]"
   ]
  },
  {
   "cell_type": "code",
   "execution_count": 38,
   "id": "f3af2747-80f6-45f5-9afe-ab35e40118d4",
   "metadata": {},
   "outputs": [],
   "source": [
    "corpus = list(map(remove_symbols, res))"
   ]
  },
  {
   "cell_type": "code",
   "execution_count": 39,
   "id": "828fe6f7",
   "metadata": {},
   "outputs": [
    {
     "data": {
      "text/plain": [
       "14"
      ]
     },
     "execution_count": 39,
     "metadata": {},
     "output_type": "execute_result"
    }
   ],
   "source": [
    "# Определим как часто встречаются к корпусе пустые списки (удалены все слова)\n",
    "corpus_empty = [li for li in corpus if len(li) < 1]\n",
    "len(corpus_empty)"
   ]
  },
  {
   "cell_type": "code",
   "execution_count": 40,
   "id": "a99c6244-7b6d-4782-a5c0-6615e269a4ff",
   "metadata": {},
   "outputs": [
    {
     "name": "stdout",
     "output_type": "stream",
     "text": [
      "привет, сеть, если, вы, заинтересованы, в, участие, в, ранний, доступ, к, наш, предстоящий, мобильный, игра, не, стесняться, присоединиться, к, список, ожидание, найти, ссылка, на, форма, в\n",
      "\n",
      "хотеть, избежать, самых, распространенных, ошибка, основатель, стартап, мой, предстоять, статья, предлагать, пошаговый, объяснение, того, что, можно, и, что, нельзя, делать, если, вы, хотеть, создать, успешный, стартап, основать, на, мой, собственный, опыт, и, мнение, других, предприниматель, быть, готовый, через, день, основатель\n",
      "\n",
      "здравствовать, сообщество, я, очень, рад, продемонстрировать, наш, последний, веб, дизайн, для, немецкий, бренд, предлагать, профессиональный, услуга, дрон, совмещать, эстетика, с, функциональность, чтобы, создавать, веб, сайты, которые, выглядеть, потрясающе, визуально, и, обеспечивать, беспрепятственный, пользовательский, интерфейс, продумать, веб, сайт, это, мощный, инструмент, для, компания, позволять, им, заявить, о, себя, в, интернет, и, добиться, значимый, результат, у, нас, быть, широкий, спектр, проект, включая, магазин, электронный, коммерция, привлекательный, целевой, страница, и, адаптивный, дизайн, для, мобильный, устройство, каждый, проект, отражать, наш, внимание, к, детализация, креативность, и, приверженность, удовлетворение, потребность, наш, клиент, если, вы, искать, цифровой, агентство, для, создание, визуально, привлекательный, и, удобный, веб, сайт, для, ваш, бизнес, я, быть, бы, рад, связаться, и, обсудить, как, я, мочь, помочь, давать, сотрудничать, и, воплотить, ваш, видение, в, жизнь\n",
      "\n",
      "хороший, новость, для, участник, скоро, мы, вернуться, к, организация, мероприятие, и, по, этот, причина, я, создать, опрос, чтобы, узнать, о, вас, больше, и, улучшить, ваш, опыт, я, быть, бы, признательный, если, бы, вы, мочь, принять, участие, спасибо\n",
      "\n",
      "весь, скоро, стартовать, для, разработчик, мобильный, приложение, с, радость, ответить, на, весь, ваш, вопрос, здесь, или, в, тг, быть, интересный, регистрируйтесь\n",
      "\n"
     ]
    }
   ],
   "source": [
    "# Смотрим на результат - случайным образом сэмплируем несколько примеров\n",
    "for i in range(5):\n",
    "    print(\", \".join(corpus[np.random.randint(len(corpus))]))\n",
    "    print()"
   ]
  },
  {
   "cell_type": "markdown",
   "id": "13fc9673",
   "metadata": {},
   "source": [
    "## Векторизация текстов"
   ]
  },
  {
   "cell_type": "markdown",
   "id": "6feac71b",
   "metadata": {},
   "source": [
    "Теперь необходимо перевести тексты новостей и слова, из которых они состоят, в числовое представление, т.е. провести векторизацию при помощи Tf-iDf.\n",
    "\n",
    "Чтобы уменьшить размерность получаемой матрицы, добавим исключение стоп-слов."
   ]
  },
  {
   "cell_type": "code",
   "execution_count": 66,
   "id": "72817ac7",
   "metadata": {},
   "outputs": [],
   "source": [
    "# Зададим собственный список стоп-слов\n",
    "stop_words_custom = ['это', 'наш', 'ваш', 'весь', 'это', 'наш', 'лс', 'свой', 'весь', 'год', 'якщо', 'дуже', 'ви', \n",
    "                     'але', 'роботи', 'буде', 'це', 'ми', 'як', 'що', 'хто', 'чи', 'цей', 'зараз', 'хто', 'чи', 'цей', 'час',\n",
    "                    'мария', 'эй']"
   ]
  },
  {
   "cell_type": "code",
   "execution_count": 67,
   "id": "cfe34e17",
   "metadata": {},
   "outputs": [],
   "source": [
    "# Дополнительные стоп-слова для руссковго языка\n",
    "stop_words_additional = [\"c\",\"а\",\"алло\",\"без\",\"белый\",\"близко\",\"более\",\"больше\",\"большой\",\"будем\",\"будет\",\"будете\",\"будешь\",\n",
    "                         \"будто\",\"буду\",\"будут\",\"будь\",\"бы\",\"бывает\",\"бывь\",\"был\",\"была\",\"были\",\"было\",\"быть\",\"в\",\"важная\",\n",
    "                         \"важное\",\"важные\",\"важный\",\"вам\",\"вами\",\"вас\",\"ваш\",\"ваша\",\"ваше\",\"ваши\",\"вверх\",\"вдали\",\"вдруг\",\n",
    "                         \"ведь\",\"везде\",\"вернуться\",\"весь\",\"вечер\",\"взгляд\",\"взять\",\"вид\",\"видел\",\"видеть\",\"вместе\",\"вне\",\n",
    "                         \"вниз\",\"внизу\",\"во\",\"вода\",\"война\",\"вокруг\",\"вон\",\"вообще\",\"вопрос\",\"восемнадцатый\",\"восемнадцать\",\n",
    "                         \"восемь\",\"восьмой\",\"вот\",\"впрочем\",\"времени\",\"время\",\"все\",\"все еще\",\"всегда\",\"всего\",\"всем\",\"всеми\",\n",
    "                         \"всему\",\"всех\",\"всею\",\"всю\",\"всюду\",\"вся\",\"всё\",\"второй\",\"вы\",\"выйти\",\"г\",\"где\",\"главный\",\"глаз\",\n",
    "                         \"говорил\",\"говорит\",\"говорить\",\"год\",\"года\",\"году\",\"голова\",\"голос\",\"город\",\"да\",\"давать\",\"давно\",\n",
    "                         \"даже\",\"далекий\",\"далеко\",\"дальше\",\"даром\",\"дать\",\"два\",\"двадцатый\",\"двадцать\",\"две\",\"двенадцатый\",\n",
    "                         \"двенадцать\",\"дверь\",\"двух\",\"девятнадцатый\",\"девятнадцать\",\"девятый\",\"девять\",\"действительно\",\"дел\",\n",
    "                         \"делал\",\"делать\",\"делаю\",\"дело\",\"день\",\"деньги\",\"десятый\",\"десять\",\"для\",\"до\",\"довольно\",\"долго\",\n",
    "                         \"должен\",\"должно\",\"должный\",\"дом\",\"дорога\",\"друг\",\"другая\",\"другие\",\"других\",\"друго\",\"другое\",\n",
    "                         \"другой\",\"думать\",\"душа\",\"е\",\"его\",\"ее\",\"ей\",\"ему\",\"если\",\"есть\",\"еще\",\"ещё\",\"ею\",\"её\",\"ж\",\"ждать\",\n",
    "                         \"же\",\"жена\",\"женщина\",\"жизнь\",\"жить\",\"за\",\"занят\",\"занята\",\"занято\",\"заняты\",\"затем\",\"зато\",\"зачем\",\n",
    "                         \"здесь\",\"земля\",\"знать\",\"значит\",\"значить\",\"и\",\"иди\",\"идти\",\"из\",\"или\",\"им\",\"имеет\",\"имел\",\"именно\",\n",
    "                         \"иметь\",\"ими\",\"имя\",\"иногда\",\"их\",\"к\",\"каждая\",\"каждое\",\"каждые\",\"каждый\",\"кажется\",\"казаться\",\"как\",\n",
    "                         \"какая\",\"какой\",\"кем\",\"книга\",\"когда\",\"кого\",\"ком\",\"комната\",\"кому\",\"конец\",\"конечно\",\"которая\",\n",
    "                         \"которого\",\"которой\",\"которые\",\"который\",\"которых\",\"кроме\",\"кругом\",\"кто\",\"куда\",\"лежать\",\"лет\",\"ли\",\n",
    "                         \"лицо\",\"лишь\",\"лучше\",\"любить\",\"люди\",\"м\",\"маленький\",\"мало\",\"мать\",\"машина\",\"между\",\"меля\",\"менее\",\n",
    "                         \"меньше\",\"меня\",\"место\",\"миллионов\",\"мимо\",\"минута\",\"мир\",\"мира\",\"мне\",\"много\",\"многочисленная\",\n",
    "                         \"многочисленное\",\"многочисленные\",\"многочисленный\",\"мной\",\"мною\",\"мог\",\"могу\",\"могут\",\"мож\",\"может\",\n",
    "                         \"может быть\",\"можно\",\"можхо\",\"мои\",\"мой\",\"мор\",\"москва\",\"мочь\",\"моя\",\"моё\",\"мы\",\"на\",\"наверху\",\"над\",\n",
    "                         \"надо\",\"назад\",\"наиболее\",\"найти\",\"наконец\",\"нам\",\"нами\",\"народ\",\"нас\",\"начала\",\"начать\",\"наш\",\"наша\",\n",
    "                         \"наше\",\"наши\",\"не\",\"него\",\"недавно\",\"недалеко\",\"нее\",\"ней\",\"некоторый\",\"нельзя\",\"нем\",\"немного\",\n",
    "                         \"нему\",\"непрерывно\",\"нередко\",\"несколько\",\"нет\",\"нею\",\"неё\",\"ни\",\"нибудь\",\"ниже\",\"низко\",\"никакой\",\n",
    "                         \"никогда\",\"никто\",\"никуда\",\"ним\",\"ними\",\"них\",\"ничего\",\"ничто\",\"но\",\"новый\",\"нога\",\"ночь\",\"ну\",\n",
    "                         \"нужно\",\"нужный\",\"нх\",\"о\",\"об\",\"оба\",\"обычно\",\"один\",\"одиннадцатый\",\"одиннадцать\",\"однажды\",\n",
    "                         \"однако\",\"одного\",\"одной\",\"оказаться\",\"окно\",\"около\",\"он\",\"она\",\"они\",\"оно\",\"опять\",\"особенно\",\n",
    "                         \"остаться\",\"от\",\"ответить\",\"отец\",\"откуда\",\"отовсюду\",\"отсюда\",\"очень\",\"первый\",\"перед\",\"писать\",\n",
    "                         \"плечо\",\"по\",\"под\",\"подойди\",\"подумать\",\"пожалуйста\",\"позже\",\"пойти\",\"пока\",\"пол\",\"получить\",\n",
    "                         \"помнить\",\"понимать\",\"понять\",\"пор\",\"пора\",\"после\",\"последний\",\"посмотреть\",\"посреди\",\"потом\",\n",
    "                         \"потому\",\"почему\",\"почти\",\"правда\",\"прекрасно\",\"при\",\"про\",\"просто\",\"против\",\"процентов\",\"путь\",\n",
    "                         \"пятнадцатый\",\"пятнадцать\",\"пятый\",\"пять\",\"работа\",\"работать\",\"раз\",\"разве\",\"рано\",\"раньше\",\n",
    "                         \"ребенок\",\"решить\",\"россия\",\"рука\",\"русский\",\"ряд\",\"рядом\",\"с\",\"с кем\",\"сам\",\"сама\",\"сами\",\"самим\",\n",
    "                         \"самими\",\"самих\",\"само\",\"самого\",\"самой\",\"самом\",\"самому\",\"саму\",\"самый\",\"свет\",\"свое\",\"своего\",\n",
    "                         \"своей\",\"свои\",\"своих\",\"свой\",\"свою\",\"сделать\",\"сеаой\",\"себе\",\"себя\",\"сегодня\",\"седьмой\",\"сейчас\",\n",
    "                         \"семнадцатый\",\"семнадцать\",\"семь\",\"сидеть\",\"сила\",\"сих\",\"сказал\",\"сказала\",\"сказать\",\"сколько\",\n",
    "                         \"слишком\",\"слово\",\"случай\",\"смотреть\",\"сначала\",\"снова\",\"со\",\"собой\",\"собою\",\"советский\",\"совсем\",\n",
    "                         \"спасибо\",\"спросить\",\"сразу\",\"стал\",\"старый\",\"стать\",\"стол\",\"сторона\",\"стоять\",\"страна\",\"суть\",\n",
    "                         \"считать\",\"т\",\"та\",\"так\",\"такая\",\"также\",\"таки\",\"такие\",\"такое\",\"такой\",\"там\",\"твои\",\"твой\",\"твоя\",\n",
    "                         \"твоё\",\"те\",\"тебе\",\"тебя\",\"тем\",\"теми\",\"теперь\",\"тех\",\"то\",\"тобой\",\"тобою\",\"товарищ\",\"тогда\",\"того\",\n",
    "                         \"тоже\",\"только\",\"том\",\"тому\",\"тот\",\"тою\",\"третий\",\"три\",\"тринадцатый\",\"тринадцать\",\"ту\",\"туда\",\"тут\",\n",
    "                         \"ты\",\"тысяч\",\"у\",\"увидеть\",\"уж\",\"уже\",\"улица\",\"уметь\",\"утро\",\"хороший\",\"хорошо\",\"хотел бы\",\"хотеть\",\n",
    "                         \"хоть\",\"хотя\",\"хочешь\",\"час\",\"часто\",\"часть\",\"чаще\",\"чего\",\"человек\",\"чем\",\"чему\",\"через\",\"четвертый\",\n",
    "                         \"четыре\",\"четырнадцатый\",\"четырнадцать\",\"что\",\"чтоб\",\"чтобы\",\"чуть\",\"шестнадцатый\",\"шестнадцать\",\n",
    "                         \"шестой\",\"шесть\",\"эта\",\"эти\",\"этим\",\"этими\",\"этих\",\"это\",\"этого\",\"этой\",\"этом\",\"этому\",\"этот\",\"эту\",\n",
    "                         \"я\",\"являюсь\"]"
   ]
  },
  {
   "cell_type": "code",
   "execution_count": 68,
   "id": "cbd92165",
   "metadata": {},
   "outputs": [
    {
     "name": "stdout",
     "output_type": "stream",
     "text": [
      "['и', 'в', 'во', 'не', 'что', 'он', 'на', 'я', 'с', 'со', 'как', 'а', 'то', 'все', 'она', 'так', 'его', 'но', 'да', 'ты', 'к', 'у', 'же', 'вы', 'за', 'бы', 'по', 'только', 'ее', 'мне', 'было', 'вот', 'от', 'меня', 'еще', 'нет', 'о', 'из', 'ему', 'теперь', 'когда', 'даже', 'ну', 'вдруг', 'ли', 'если', 'уже', 'или', 'ни', 'быть', 'был', 'него', 'до', 'вас', 'нибудь', 'опять', 'уж', 'вам', 'ведь', 'там', 'потом', 'себя', 'ничего', 'ей', 'может', 'они', 'тут', 'где', 'есть', 'надо', 'ней', 'для', 'мы', 'тебя', 'их', 'чем', 'была', 'сам', 'чтоб', 'без', 'будто', 'чего', 'раз', 'тоже', 'себе', 'под', 'будет', 'ж', 'тогда', 'кто', 'этот', 'того', 'потому', 'этого', 'какой', 'совсем', 'ним', 'здесь', 'этом', 'один', 'почти', 'мой', 'тем', 'чтобы', 'нее', 'сейчас', 'были', 'куда', 'зачем', 'всех', 'никогда', 'можно', 'при', 'наконец', 'два', 'об', 'другой', 'хоть', 'после', 'над', 'больше', 'тот', 'через', 'эти', 'нас', 'про', 'всего', 'них', 'какая', 'много', 'разве', 'три', 'эту', 'моя', 'впрочем', 'хорошо', 'свою', 'этой', 'перед', 'иногда', 'лучше', 'чуть', 'том', 'нельзя', 'такой', 'им', 'более', 'всегда', 'конечно', 'всю', 'между']\n"
     ]
    }
   ],
   "source": [
    "# Объединим стоп-слова\n",
    "stop_words = stopwords.words('russian') + stop_words_custom + stop_words_additional\n",
    "print(stopwords.words('russian'))"
   ]
  },
  {
   "cell_type": "code",
   "execution_count": 128,
   "id": "585ed8d0",
   "metadata": {},
   "outputs": [],
   "source": [
    "# Посчитаем IDF всех наших слов, и отсечем слова с самым большим idf(очень редкие) и с самым маленьким\n",
    "tfidf = TfidfVectorizer(stop_words=stop_words, min_df=10, max_df=0.9)"
   ]
  },
  {
   "cell_type": "code",
   "execution_count": 129,
   "id": "b246b341",
   "metadata": {},
   "outputs": [
    {
     "data": {
      "text/plain": [
       "['почему основатель любой бизнес обязанный уметь продавать навык продажа десяток стартап проплывать у меня перед глаз каждый месяц кто то приходить за разовый совет кто то с просьба о долгосрочный сотрудничество каждый новый встреча для меня уникальный и я всегда с свой сторона стараться подготовиться посмотреть проект рынок конкурент каждый встреча ждать с нетерпение ждать потому что увидеть новый проект новый идея новый человек который хотеть изменить этот мир к хороший понимать что это нифига не просто и естественно я рассчитывать что этот человек продать мне свой идея ярко рассказать о свой проект команда о свой победа и конечно же трудность человек который уметь продавать видно с первый минута разговор я хотеть обратить внимание на то что именно продавать а не машинальный впаривать по ранее заготовить скрипт такой фаундеры выделяться среди других они запоминаться и сказать по секрет я наблюдать за многими из них даже если запрос фаундера не совпадать с мой компетенция и мы больше не встречаться наблюдать потому что мне интересный судьба основатель и они проект потому что в мне жить идея создавать инструмент которые помочь фаундерам развиваться быстрый но сейчас не обо мне а о навык фаундера продавать и вы знать я иметь что сказать по этот повод основатель которые хорошо продавать себя идея и продукт иметь больший преимущество перед другими например достаточно легко строить нетворк уметь быстро находить необходимый ресурс контакт инвестиция крутой сотрудник кофаундеров и также они хорошо уметь продать команда стратегия и тем самым мотивировать трудиться над проект эффективно навык продавать повышать шанс проект на выживание и на мой взгляд являться обязательный для любой основатель скажете я нанять сэйлза и он продать за меня а я сказать что так как основатель проект продать не смочь никто на ранний стадия когда нет ни явный портрет клиент ни упаковка нормальный и продукт мягко говорить сыроват да и как вы ему задача поставите если сами не знать как и кто хороший человек который несколько год назад ненавидеть продажа потом их начать изучать и полюбить мочь сказать что это навык и он тренироваться а опыт работа с многими основатель показывать что он тренироваться практически у каждый было бы желание совет как тренировать навык не будет здесь нет общий рецепт и на мой взгляд нужный искать то что подойти именно вам я пройти весь доступный курс на и так я получить базовый знание быть куча более глубокий курс и программа быть много методология главный не просто научиться но и с первый день идти в поле и продавать сначала близкий круг потом боевой клиент единственный совет если вы строить стартап но не уметь продавать займитесь этот навык прямо сейчас он прокачиваться точно вам',\n",
       " 'казнить нельзя помиловать навык принятие решение вы ведь встречать человек который уметь всегда принимать верный решение если да то как вы думать этот человек считать так же все ли человек в он окружение считать так же или быть тот кто этот решение касаться на прямой и мочь иметь негативный для них последствие а что такой вообще верный например вы хотеть нанять профи в маркетинг он супер крутой и понимать как вывести ваш бизнес на новый ступенька но он токсичный терпеть не мочь человек ничье мнение не воспринимать серьезно быть он в теория мочь вообще развалить ваш команда изнутри и перед вами выбор нанять его и тем самым принести смута в команда или не нанимать и несколько месяц искать например клиент проект денежный но очень сложный и рискованный под него нужный нанимать дополнительный человек то быть брать на себя дополнительный риск взять этот клиент или вместо него взять более простой проект сделать крутой кейс с большой компания и перейти на новый уровень или работать по принятие решение это умение выбирать между и белый между зона комфорт и риск между сложный задача и возможность чиллить а верность решение измеряться в он последствие про инструмент для принятие решение писать не быть их много парето матрица эйзенхауэр и и они гуглятся хотеть с другой сторона посветить фонарик вы обратить внимание в первый абзац на то что правильность решение зависеть от того кто это решение оценивать уволенный сотрудник быть видеть решение с одной сторона его непосредственный руководитель с другой а основатель компания с третий но решение само по себя не иметь какой либо окраски его окрашивать человек которые являться участник процесс а у самого решение быть только последствие которые в рамка бизнес являться вполне измеримый и то на что я хотеть обратить внимание это умение принимать решение безэмоционально то быть как бы отстранившись от того что происходить с фокусировка только на цель чтобы этот эмоция понять распознать и вовремя отключить быть эмоциональный интеллект на мой взгляд не менее важный являться умение использовать мнение других человек чтобы составить максимально полный картина изучить ситуация с разный сторона и только потом принимать решение это про мозговой штурмы наличие ментор то быть человек о которых можно постучаться быть один важный фактор на который хотеть обратить внимание это скорость принятие решение с ним тоже нужный работать любой предприниматель так как любой зависнуть решение быть тянуть из вас энергия и чем долгий оно висеть тем больше тянуть если обобщить то я стараться принимать решение быстро и безэмоционально стараться опираться только на бизнес задачи которые решать не всегда конечно получаться так но я стараться а как принимать решение лидерство менеджмент эффективность',\n",
       " 'сегодня быть защита дипломный работа на кафедра технологический предпринимательство мфти мне посчастливиться быть научный руководитель и ментор сразу для два фаундеров почему фаундеров потому что это не только дипломный проект это уже работать хардварный девайс который совсем скоро увидеть свет и высокий оценка диплом тот подтверждение тематика удивительный и меня очень вдохновлять про ольфакторный дизайн что то слышать погуглите обязательно если нет что мочь сказать про свой впечатление от менторства на кафедра очень крутой преподаватель с живой опыт работа в бизнес это огонь простой студент сильный и разносторонний развить проработка проект очень глубокий организационный момент на высота сейчас работать со студент с первый курс и видеть как в процесс они загораться свой же идея и действовать а это тот самый путь к запуск свой проект в общий работать было приятный и ребят искренне поздравлять с новый этап волновался как будто бы сам защищаться мфти техпред']"
      ]
     },
     "execution_count": 129,
     "metadata": {},
     "output_type": "execute_result"
    }
   ],
   "source": [
    "# Объединим списки слов в предложения\n",
    "docs = [\" \".join(tokens) for tokens in corpus]\n",
    "docs[:3]"
   ]
  },
  {
   "cell_type": "code",
   "execution_count": 130,
   "id": "8d9b4ff1",
   "metadata": {},
   "outputs": [],
   "source": [
    "x = tfidf.fit_transform(docs)"
   ]
  },
  {
   "cell_type": "code",
   "execution_count": 131,
   "id": "93522e22",
   "metadata": {},
   "outputs": [
    {
     "data": {
      "text/plain": [
       "(8413, 4011)"
      ]
     },
     "execution_count": 131,
     "metadata": {},
     "output_type": "execute_result"
    }
   ],
   "source": [
    "x.shape"
   ]
  },
  {
   "cell_type": "markdown",
   "id": "2280523f",
   "metadata": {},
   "source": [
    "Теперь составим словарь {id_токена: токен} - он пригодится нам позднее."
   ]
  },
  {
   "cell_type": "code",
   "execution_count": 132,
   "id": "b16ca113",
   "metadata": {},
   "outputs": [],
   "source": [
    "id2word = {i: token for i, token in enumerate(tfidf.get_feature_names_out())}"
   ]
  },
  {
   "cell_type": "markdown",
   "id": "2e18718e",
   "metadata": {},
   "source": [
    "# 2.Моделирование"
   ]
  },
  {
   "cell_type": "markdown",
   "id": "8f3ee403",
   "metadata": {},
   "source": [
    "## LDA"
   ]
  },
  {
   "cell_type": "code",
   "execution_count": 133,
   "id": "3d291989",
   "metadata": {},
   "outputs": [],
   "source": [
    "# Зададим количество тем\n",
    "n_topics = 10"
   ]
  },
  {
   "cell_type": "code",
   "execution_count": 134,
   "id": "e6f35d03",
   "metadata": {},
   "outputs": [],
   "source": [
    "lda = LatentDirichletAllocation(n_components=n_topics,\n",
    "                                max_iter=30,\n",
    "                                random_state=31)"
   ]
  },
  {
   "cell_type": "code",
   "execution_count": 135,
   "id": "647f88e7",
   "metadata": {},
   "outputs": [],
   "source": [
    "topics = lda.fit_transform(x)"
   ]
  },
  {
   "cell_type": "code",
   "execution_count": 136,
   "id": "6d4afdd7",
   "metadata": {},
   "outputs": [
    {
     "data": {
      "text/plain": [
       "(8413, 10)"
      ]
     },
     "execution_count": 136,
     "metadata": {},
     "output_type": "execute_result"
    }
   ],
   "source": [
    "topics.shape"
   ]
  },
  {
   "cell_type": "markdown",
   "id": "4ff71d26",
   "metadata": {},
   "source": [
    "Получили массив размера **8414x10**. Строки здесь - отдельные тексты, а колонки - 10 выделенных тем. В каждой ячейке стоит вероятность того, что данный текст относится к данной теме. "
   ]
  },
  {
   "cell_type": "markdown",
   "id": "f0b334db",
   "metadata": {},
   "source": [
    "## Ключевые слова"
   ]
  },
  {
   "cell_type": "markdown",
   "id": "f84f6246",
   "metadata": {},
   "source": [
    "Теперь извлечём ключевые слова для каждой из 10 тем. В свойсте components _ лежит матрица соответствия слов темам. Пройдёмся по каждой из 20 выделенных тем и для каждой возьмём ТОП-20 слов."
   ]
  },
  {
   "cell_type": "code",
   "execution_count": 137,
   "id": "561f9c1c",
   "metadata": {},
   "outputs": [
    {
     "name": "stdout",
     "output_type": "stream",
     "text": [
      "Тема 0 :\n",
      "создать, фирменный, анимация, пожаловать, сайт, добро, дизайнер, стиль, логотип, дизайн\n",
      "\n",
      " \n",
      "Тема 1 :\n",
      "военный, европа, доклад, вебинар, ноябрь, март, российский, конференция, украинец, украина\n",
      "\n",
      " \n",
      "Тема 2 :\n",
      "желать, счастливый, выходной, справляться, проверка, пройти, тест, следующий, значок, навык\n",
      "\n",
      " \n",
      "Тема 3 :\n",
      "рад, услуга, разработка, сообщить, сертификат, компания, должность, начинать, удовольствие, сообщать\n",
      "\n",
      " \n",
      "Тема 4 :\n",
      "английский, команда, поиск, проект, привет, опыт, резюме, разработчик, искать, вакансия\n",
      "\n",
      " \n",
      "Тема 5 :\n",
      "решение, опыт, клиент, приложение, продукт, бизнес, разработка, команда, проект, компания\n",
      "\n",
      " \n",
      "Тема 6 :\n",
      "асинхронный, машинный, буква, испытание, карусель, видео, генеративный, проверить, курс, закончить\n",
      "\n",
      " \n",
      "Тема 7 :\n",
      "делиться, статья, желать, тильда, оценить, комментарий, праздник, ребята, нанимать, лендинг\n",
      "\n",
      " \n",
      "Тема 8 :\n",
      "кибербезопасность, здравствовать, признателен, иб, поддержка, совет, предложить, возможность, заранее, благодарить\n",
      "\n",
      " \n",
      "Тема 9 :\n",
      "встретиться, отличный, нетерпение, невероятный, поделиться, грузия, команда, заявка, рад, саммит\n",
      "\n",
      " \n"
     ]
    }
   ],
   "source": [
    "for i in range(n_topics):\n",
    "    c = lda.components_[i, :]\n",
    "    topic_tokens = [id2word.get(token_id) for token_id in np.argsort(c)[-10:]]\n",
    "    print(\"Тема\",i, \":\")\n",
    "    print(\", \".join(topic_tokens))\n",
    "    print(\"\\n \")"
   ]
  },
  {
   "cell_type": "markdown",
   "id": "93fc17ee",
   "metadata": {},
   "source": [
    "По полученным ключевым словам можно составить представление о содержании той или иной темы."
   ]
  },
  {
   "cell_type": "markdown",
   "id": "6fbe3b34",
   "metadata": {},
   "source": [
    "## Типичные статьи"
   ]
  },
  {
   "cell_type": "markdown",
   "id": "8281029d",
   "metadata": {},
   "source": [
    "Теперь для каждой темы возьмём по одному документу, который хорошо соответсвует этой теме. Для этого заглянем в массив _topics_."
   ]
  },
  {
   "cell_type": "code",
   "execution_count": 138,
   "id": "c261b0a7",
   "metadata": {
    "scrolled": false
   },
   "outputs": [
    {
     "name": "stdout",
     "output_type": "stream",
     "text": [
      "Тема  0\n",
      "Привет, ребята 👋🏼Хотим поделиться с вами одним из наших проектов -👉 https://lnkd.in/dCdDrEbmЧто вы думаете об этом дизайне? Делитесь своими мыслями в комментариях 💬✉️ Есть идея проекта? Я доступен для новых проектов yehor.haiduk@gmail.com или телеграмм-чат🔥 Отметьте своего друга, которому это нравится 😉👉 Посетите нашу страницу и не забудьте подписаться на другие дизайнерские материалы, подобные этому! Проверьте больше работ здесь https: //lnkd.in/g-2DSu5\n",
      "\n",
      "\n",
      "Тема  1\n",
      "Привет сообщество, Этой весной русские вторглись в мою прекрасную страну. Наш дом. Они украли у многих людей дома или разрушили их. Один из этих домов был домом моей крестной матери. Русские ракеты разрушают крышу и большую часть интерьера. Вот ссылка на пожертвование, организованное ее подругой Ольгой для восстановления дома. https://lnkd.in/dYriH-6KP.s. вчера был мой день рождения и лучший подарок, который вы можете сделать, это поделиться этой ссылкой🙏\n",
      "\n",
      "\n",
      "Тема  2\n",
      "['Провожу сегодня коуч-сессии в Международной академии коучинга в рамках международной недели коучинга. В остальные дни с командой коучей ICF  так же проводим сессии для тех, кто давно хотел и пока не получалось - как раз пришло время!Будем рады поработать над осмыслением и достижением ваших целей.https://lnkd.in/e7j7CDA\n",
      "\n",
      "\n",
      "Тема  3\n",
      "С радостью сообщаю, что я оказываю бизнес-услуги #OpenForBusiness. Просмотрите мою страницу услуг #datascience #machinelearning #bigdata #deeplearning #ai #linkedin #бизнес #data #dataanalytics #analytics #ml #artificialintelligence «Разработка и интеграция Data Science решений» «Разработка пользовательского ПО, Веб-разработка, Разработка приложений, Разработка баз данных, Составление технической документации, Разработка пользовательских интерфейсов, ИТ-консалтинг, Управление проектами» и «Разработка облачных приложений».\n",
      "\n",
      "\n",
      "Тема  4\n",
      " 'Продолжаем апгрейдить нашумевший ⭐️ Гайд для Джунов в IT от Petr Kavliugin ⭐️ Мне дико понравилась инициатива и захотелось дополнить блок по развитию софт-скиллов:·      Soft-skills: https://lnkd.in/ey65TSq6Этот гайд - просто кладезь супер полезной инфы - всё, что нужно знать джуну, который хочет быстро и эффективно прокачаться в IT. Смотрите сами, какие там есть разделы:·      Linkedin. Помощь: https://lnkd.in/eRbnJA5P·      Сайты для поиска работы: https://lnkd.in/ejKArrwk·      ТГ-каналы для поиска вакансий https://lnkd.in/eP7P3iyt·      Подготовка к интервью в иностранную компанию: https://lnkd.in/eFh4kuwr·      Полезные советы Jun-ам: https://lnkd.in/e4jq8VCP·      Резюме и сопроводительное письмо: https://lnkd.in/eMMSCimZ·      Soft-skills: https://lnkd.in/ey65TSq6·      Бесплатные курсы: https://lnkd.in/eRue9U3M·      Консультации и менторство для Junior-ов: https://lnkd.in/eajKsv8m·      Подготовка к TOEFL и IELTS: https://lnkd.in/ecbQcrcV·      Английский язык. Самостоятельное изучение: https://lnkd.in/eXwEBpf4·      Краткое руководство для начинающего PM в IT: https://lnkd.in/esgnsY3kIvan Doronin, Elizar Rezvanov , Ilya Bondar, Anna Sivko, Виктория Игнатенко Denis Ralko, Анастасия Гусева Карьерный консультант, Kseniya Arlovich, Наталья Везломцева Буду благодарна за репост!#linkedin #junior #поискработы #cv #консультации #it #войтивайти #телеграм #вакансии #резюме #pm\n",
      "\n",
      "\n",
      "Тема  5\n",
      "Часть 1. Недавно Airkod выпустила бета-версию нашей клиентской платформы для криптотрейдеров, которая позволяет анализировать графики роста и падения большинства криптовалют в режиме реального времени, а также исторические данные. В настоящее время продукт проходит закрытое тестирование с группа инвесторов. Получаем отзывы о качестве платформы, исправляем возникающие ошибки и готовимся к следующему этапу разработки полноценной версии продукта. В ходе первичных обсуждений с клиентом обсудили перспективы запуска проекта в течение 3-3,5 месяцев, с учетом объема работ, и оценили ее как маловероятную (50% вероятность запуска «работающего» продукта) и высокорисковую (90% вероятность отказа). Если вам интересно, я могу рассказать о методе оценки риска в следующих статьях. Вот почему мы пришли к такому выводу: Отсутствие технической документации: у нас был список задач с краткими описаниями, например, «нажатие кнопки должно запускать консоль и отображать конкретную информацию». Хотя это может быть понятно с точки зрения бизнес-логики, при работе на техническом языке возникают трудности. Откровенно говоря, почти все новые проекты начинаются с таких исходных данных, а у нашей компании Airkod всегда есть (и должен быть) план на случай непредвиденных обстоятельств, который позволяет нам добиться желаемого результата. Отсутствие тестирования кода: Если вы подумали, что клиент был \" новичок\" вы ошибаетесь. Клиент — крупный холдинг с большим инвестиционным опытом и опытом создания новых продуктов более 20 лет. Я не могу назвать точное местоположение, но это очень богатый регион в Восточной Азии. В работе принимала участие команда из двух фронтенд- и двух бэкенд-разработчиков. Было запланировано более 1800 часов работы, с ограниченным бюджетом, покрывающим разработку и управление проектом, но не включая тестирование, на которое должно было быть выделено дополнительно 30-40% времени, в зависимости от конкретного проекта. Чтобы избежать рисков и сохранить нашу репутацию, мы использовали наш стандартный метод работы: разбивая задачи на двухнедельные спринты с ежедневными встречами. В течение часа мы могли просмотреть текущее состояние проекта, убедиться, что оно соответствует требованиям, и внести коррективы в контрольные точки. Используемые инструменты: Trello, диаграммы Ганта, Notion, таблицы Google, встречи. Ежедневные встречи с командой дизайнеров. Здесь важно было найти баланс между впечатляющими дизайнерскими макетами и реалистичностью их реализации. Чем больше анимаций и эффектов, тем больше работы для фронтенд-разработчиков. Используемые инструменты: Figma, Notion, встречи. #язык #интерфейс\n",
      "\n",
      "\n",
      "Тема  6\n",
      "Только что закончил курс Дуга Роуза «Основы искусственного интеллекта: машинное обучение»! Проверьте это: https://lnkd.in/dM2vX9Kv #machinelearning #artificialintelligence.\n",
      "\n",
      "\n",
      "Тема  7\n",
      " 'Mock Interview - интенсивный вид подготовки к отборам в новую компанию, но как оно должно проходить, чтобы получить максимальный результат и во что эта практика может перерасти? Постаралась ответить на эти вопросы в статье (https://lnkd.in/eFJinxKh), опиралась на мой опыт и опыт моих клиентов. На связи\\xa0Лариса Дансарунова\\xa0— БА ментор и карьерный консультант по ИТ специальностям.']\n",
      "\n",
      "\n",
      "Тема  8\n",
      "Всем привет, я, как вы догадались, в поиске новой карьерной возможности и буду признательна за вашу поддержку и помощь в распространении этого поста) Заранее благодарю за все репосты, рекомендации контактов, советы или возможности, которые вы можете предложить. #OpenToWork\n",
      "\n",
      "\n",
      "Тема  9\n",
      " 'Привет, моя внезапно немалая Сеть! 🤗 Спешу поделиться новостью и попросить об одолжении, быть может история \"Я нашел работу, благодаря LinkedIn\" станет и моей. 😉 Недавно я решился на смену места работы и открыт к предложениям. В мои планы по-прежнему входит развитие в области IT-рекрутмента, но с большим упором на взращивание команды и руководство. Почему я принял такое решение?👉 Все хорошее рано или поздно приедается. Просто пришло время двигаться дальше.👉 Мне безумно приятно делиться накопленными знаниями, видеть как люди растут под моим началом и радоваться совместным победам.👉 Как и у всех нас, у меня есть финансовые обязательства, которые требуют стабильности.Я буду благодарен всем, кто поделится этой публикацией или как-то иначе поможет мне найти работу мечты 🙏 Учитывая мой опыт, количество (не самых простых) успешных кейсов и довольных учеников, хочется верить, что я смогу быть полезен вашим компаниям или компаниям ваших друзей.Спасибо и хорошего дня! 🌞 #opentowork\n",
      "\n",
      "\n"
     ]
    }
   ],
   "source": [
    "for i in range(n_topics):\n",
    "    doc_id = np.argmax(topics[:, i])\n",
    "    print(\"Тема \", i)\n",
    "    print(df_len_text_100.iloc[doc_id][\"translated_text\"])\n",
    "    print(\"\\n\")"
   ]
  },
  {
   "cell_type": "code",
   "execution_count": 92,
   "id": "1a5166c5",
   "metadata": {},
   "outputs": [
    {
     "data": {
      "text/html": [
       "<div>\n",
       "<style scoped>\n",
       "    .dataframe tbody tr th:only-of-type {\n",
       "        vertical-align: middle;\n",
       "    }\n",
       "\n",
       "    .dataframe tbody tr th {\n",
       "        vertical-align: top;\n",
       "    }\n",
       "\n",
       "    .dataframe thead th {\n",
       "        text-align: right;\n",
       "    }\n",
       "</style>\n",
       "<table border=\"1\" class=\"dataframe\">\n",
       "  <thead>\n",
       "    <tr style=\"text-align: right;\">\n",
       "      <th></th>\n",
       "      <th>url_user</th>\n",
       "      <th>text_post</th>\n",
       "      <th>language</th>\n",
       "      <th>translated_text</th>\n",
       "      <th>len_text</th>\n",
       "      <th>topic</th>\n",
       "    </tr>\n",
       "  </thead>\n",
       "  <tbody>\n",
       "    <tr>\n",
       "      <th>1</th>\n",
       "      <td>https://www.linkedin.com/in/korenevich/</td>\n",
       "      <td>'Почему основатель любого бизнеса обязан умет...</td>\n",
       "      <td>ru</td>\n",
       "      <td>'Почему основатель любого бизнеса обязан умет...</td>\n",
       "      <td>2973</td>\n",
       "      <td>5</td>\n",
       "    </tr>\n",
       "    <tr>\n",
       "      <th>2</th>\n",
       "      <td>https://www.linkedin.com/in/korenevich/</td>\n",
       "      <td>'Казнить нельзя помиловать. Навык #9 – принят...</td>\n",
       "      <td>ru</td>\n",
       "      <td>'Казнить нельзя помиловать. Навык #9 – принят...</td>\n",
       "      <td>2975</td>\n",
       "      <td>5</td>\n",
       "    </tr>\n",
       "    <tr>\n",
       "      <th>4</th>\n",
       "      <td>https://www.linkedin.com/in/korenevich/</td>\n",
       "      <td>'Сегодня была защита дипломных работ на кафед...</td>\n",
       "      <td>ru</td>\n",
       "      <td>'Сегодня была защита дипломных работ на кафед...</td>\n",
       "      <td>1044</td>\n",
       "      <td>5</td>\n",
       "    </tr>\n",
       "    <tr>\n",
       "      <th>6</th>\n",
       "      <td>https://www.linkedin.com/in/korenevich/</td>\n",
       "      <td>'Кто я? Чем занимаюсь? Чем и кому могу быть п...</td>\n",
       "      <td>ru</td>\n",
       "      <td>'Кто я? Чем занимаюсь? Чем и кому могу быть п...</td>\n",
       "      <td>2576</td>\n",
       "      <td>5</td>\n",
       "    </tr>\n",
       "    <tr>\n",
       "      <th>7</th>\n",
       "      <td>https://www.linkedin.com/in/korenevich/</td>\n",
       "      <td>'Казалось бы, ну какая нам разница, где и как...</td>\n",
       "      <td>ru</td>\n",
       "      <td>'Казалось бы, ну какая нам разница, где и как...</td>\n",
       "      <td>2034</td>\n",
       "      <td>5</td>\n",
       "    </tr>\n",
       "  </tbody>\n",
       "</table>\n",
       "</div>"
      ],
      "text/plain": [
       "                                  url_user  \\\n",
       "1  https://www.linkedin.com/in/korenevich/   \n",
       "2  https://www.linkedin.com/in/korenevich/   \n",
       "4  https://www.linkedin.com/in/korenevich/   \n",
       "6  https://www.linkedin.com/in/korenevich/   \n",
       "7  https://www.linkedin.com/in/korenevich/   \n",
       "\n",
       "                                           text_post language  \\\n",
       "1   'Почему основатель любого бизнеса обязан умет...       ru   \n",
       "2   'Казнить нельзя помиловать. Навык #9 – принят...       ru   \n",
       "4   'Сегодня была защита дипломных работ на кафед...       ru   \n",
       "6   'Кто я? Чем занимаюсь? Чем и кому могу быть п...       ru   \n",
       "7   'Казалось бы, ну какая нам разница, где и как...       ru   \n",
       "\n",
       "                                     translated_text  len_text  topic  \n",
       "1   'Почему основатель любого бизнеса обязан умет...      2973      5  \n",
       "2   'Казнить нельзя помиловать. Навык #9 – принят...      2975      5  \n",
       "4   'Сегодня была защита дипломных работ на кафед...      1044      5  \n",
       "6   'Кто я? Чем занимаюсь? Чем и кому могу быть п...      2576      5  \n",
       "7   'Казалось бы, ну какая нам разница, где и как...      2034      5  "
      ]
     },
     "execution_count": 92,
     "metadata": {},
     "output_type": "execute_result"
    }
   ],
   "source": [
    "# Добавим столбец с номером темы для каждого наблюдения\n",
    "df_len_text_100['topic'] = topics.argmax(axis=1)\n",
    "df_len_text_100.head()"
   ]
  },
  {
   "cell_type": "code",
   "execution_count": 93,
   "id": "a77c82db",
   "metadata": {},
   "outputs": [
    {
     "data": {
      "text/plain": [
       "topic\n",
       "5    6440\n",
       "4     611\n",
       "1     262\n",
       "8     206\n",
       "0     191\n",
       "3     186\n",
       "9     180\n",
       "2     151\n",
       "7     128\n",
       "6      58\n",
       "Name: count, dtype: int64"
      ]
     },
     "execution_count": 93,
     "metadata": {},
     "output_type": "execute_result"
    }
   ],
   "source": [
    "# Определим какие темы представлены чаще всего\n",
    "df_len_text_100['topic'].value_counts()"
   ]
  },
  {
   "cell_type": "code",
   "execution_count": 94,
   "id": "44731d37",
   "metadata": {},
   "outputs": [
    {
     "data": {
      "text/html": [
       "<div>\n",
       "<style scoped>\n",
       "    .dataframe tbody tr th:only-of-type {\n",
       "        vertical-align: middle;\n",
       "    }\n",
       "\n",
       "    .dataframe tbody tr th {\n",
       "        vertical-align: top;\n",
       "    }\n",
       "\n",
       "    .dataframe thead th {\n",
       "        text-align: right;\n",
       "    }\n",
       "</style>\n",
       "<table border=\"1\" class=\"dataframe\">\n",
       "  <thead>\n",
       "    <tr style=\"text-align: right;\">\n",
       "      <th></th>\n",
       "      <th>url_user</th>\n",
       "      <th>text_post</th>\n",
       "      <th>language</th>\n",
       "      <th>translated_text</th>\n",
       "      <th>len_text</th>\n",
       "      <th>topic</th>\n",
       "      <th>probability</th>\n",
       "    </tr>\n",
       "  </thead>\n",
       "  <tbody>\n",
       "    <tr>\n",
       "      <th>1</th>\n",
       "      <td>https://www.linkedin.com/in/korenevich/</td>\n",
       "      <td>'Почему основатель любого бизнеса обязан умет...</td>\n",
       "      <td>ru</td>\n",
       "      <td>'Почему основатель любого бизнеса обязан умет...</td>\n",
       "      <td>2973</td>\n",
       "      <td>5</td>\n",
       "      <td>0.892328</td>\n",
       "    </tr>\n",
       "    <tr>\n",
       "      <th>2</th>\n",
       "      <td>https://www.linkedin.com/in/korenevich/</td>\n",
       "      <td>'Казнить нельзя помиловать. Навык #9 – принят...</td>\n",
       "      <td>ru</td>\n",
       "      <td>'Казнить нельзя помиловать. Навык #9 – принят...</td>\n",
       "      <td>2975</td>\n",
       "      <td>5</td>\n",
       "      <td>0.887968</td>\n",
       "    </tr>\n",
       "    <tr>\n",
       "      <th>4</th>\n",
       "      <td>https://www.linkedin.com/in/korenevich/</td>\n",
       "      <td>'Сегодня была защита дипломных работ на кафед...</td>\n",
       "      <td>ru</td>\n",
       "      <td>'Сегодня была защита дипломных работ на кафед...</td>\n",
       "      <td>1044</td>\n",
       "      <td>5</td>\n",
       "      <td>0.852275</td>\n",
       "    </tr>\n",
       "    <tr>\n",
       "      <th>6</th>\n",
       "      <td>https://www.linkedin.com/in/korenevich/</td>\n",
       "      <td>'Кто я? Чем занимаюсь? Чем и кому могу быть п...</td>\n",
       "      <td>ru</td>\n",
       "      <td>'Кто я? Чем занимаюсь? Чем и кому могу быть п...</td>\n",
       "      <td>2576</td>\n",
       "      <td>5</td>\n",
       "      <td>0.843143</td>\n",
       "    </tr>\n",
       "    <tr>\n",
       "      <th>7</th>\n",
       "      <td>https://www.linkedin.com/in/korenevich/</td>\n",
       "      <td>'Казалось бы, ну какая нам разница, где и как...</td>\n",
       "      <td>ru</td>\n",
       "      <td>'Казалось бы, ну какая нам разница, где и как...</td>\n",
       "      <td>2034</td>\n",
       "      <td>5</td>\n",
       "      <td>0.878255</td>\n",
       "    </tr>\n",
       "  </tbody>\n",
       "</table>\n",
       "</div>"
      ],
      "text/plain": [
       "                                  url_user  \\\n",
       "1  https://www.linkedin.com/in/korenevich/   \n",
       "2  https://www.linkedin.com/in/korenevich/   \n",
       "4  https://www.linkedin.com/in/korenevich/   \n",
       "6  https://www.linkedin.com/in/korenevich/   \n",
       "7  https://www.linkedin.com/in/korenevich/   \n",
       "\n",
       "                                           text_post language  \\\n",
       "1   'Почему основатель любого бизнеса обязан умет...       ru   \n",
       "2   'Казнить нельзя помиловать. Навык #9 – принят...       ru   \n",
       "4   'Сегодня была защита дипломных работ на кафед...       ru   \n",
       "6   'Кто я? Чем занимаюсь? Чем и кому могу быть п...       ru   \n",
       "7   'Казалось бы, ну какая нам разница, где и как...       ru   \n",
       "\n",
       "                                     translated_text  len_text  topic  \\\n",
       "1   'Почему основатель любого бизнеса обязан умет...      2973      5   \n",
       "2   'Казнить нельзя помиловать. Навык #9 – принят...      2975      5   \n",
       "4   'Сегодня была защита дипломных работ на кафед...      1044      5   \n",
       "6   'Кто я? Чем занимаюсь? Чем и кому могу быть п...      2576      5   \n",
       "7   'Казалось бы, ну какая нам разница, где и как...      2034      5   \n",
       "\n",
       "   probability  \n",
       "1     0.892328  \n",
       "2     0.887968  \n",
       "4     0.852275  \n",
       "6     0.843143  \n",
       "7     0.878255  "
      ]
     },
     "execution_count": 94,
     "metadata": {},
     "output_type": "execute_result"
    }
   ],
   "source": [
    "# Добавим столбец с вероятностью принадлежности выбранной теме для каждого наблюдения\n",
    "df_len_text_100['probability'] = topics.max(axis=1)\n",
    "df_len_text_100.head()"
   ]
  },
  {
   "cell_type": "code",
   "execution_count": 101,
   "id": "faff5e57",
   "metadata": {},
   "outputs": [
    {
     "data": {
      "text/html": [
       "<div>\n",
       "<style scoped>\n",
       "    .dataframe tbody tr th:only-of-type {\n",
       "        vertical-align: middle;\n",
       "    }\n",
       "\n",
       "    .dataframe tbody tr th {\n",
       "        vertical-align: top;\n",
       "    }\n",
       "\n",
       "    .dataframe thead th {\n",
       "        text-align: right;\n",
       "    }\n",
       "</style>\n",
       "<table border=\"1\" class=\"dataframe\">\n",
       "  <thead>\n",
       "    <tr style=\"text-align: right;\">\n",
       "      <th></th>\n",
       "      <th>translated_text</th>\n",
       "      <th>topic</th>\n",
       "      <th>probability</th>\n",
       "    </tr>\n",
       "  </thead>\n",
       "  <tbody>\n",
       "    <tr>\n",
       "      <th>7226</th>\n",
       "      <td>Часть 1. Недавно Airkod выпустила бета-версию ...</td>\n",
       "      <td>5</td>\n",
       "      <td>0.926867</td>\n",
       "    </tr>\n",
       "    <tr>\n",
       "      <th>6042</th>\n",
       "      <td>📚 В Национальный день благодарности учителям м...</td>\n",
       "      <td>5</td>\n",
       "      <td>0.920079</td>\n",
       "    </tr>\n",
       "    <tr>\n",
       "      <th>4374</th>\n",
       "      <td>Продукты становятся более медийными и менее те...</td>\n",
       "      <td>5</td>\n",
       "      <td>0.920073</td>\n",
       "    </tr>\n",
       "    <tr>\n",
       "      <th>4552</th>\n",
       "      <td>Топ-7 полезных инструментов для организации ра...</td>\n",
       "      <td>5</td>\n",
       "      <td>0.918085</td>\n",
       "    </tr>\n",
       "    <tr>\n",
       "      <th>8771</th>\n",
       "      <td>Привет народ! Вы задавались вопросом, чего не ...</td>\n",
       "      <td>5</td>\n",
       "      <td>0.917325</td>\n",
       "    </tr>\n",
       "    <tr>\n",
       "      <th>...</th>\n",
       "      <td>...</td>\n",
       "      <td>...</td>\n",
       "      <td>...</td>\n",
       "    </tr>\n",
       "    <tr>\n",
       "      <th>2419</th>\n",
       "      <td>В IT среде часто говорят о недопустимости токс...</td>\n",
       "      <td>5</td>\n",
       "      <td>0.895096</td>\n",
       "    </tr>\n",
       "    <tr>\n",
       "      <th>7285</th>\n",
       "      <td>Пришло время рассмотреть возможности технологи...</td>\n",
       "      <td>5</td>\n",
       "      <td>0.894960</td>\n",
       "    </tr>\n",
       "    <tr>\n",
       "      <th>6512</th>\n",
       "      <td>🧐 Что вы знаете о кибербезопасности? Возможно,...</td>\n",
       "      <td>5</td>\n",
       "      <td>0.894937</td>\n",
       "    </tr>\n",
       "    <tr>\n",
       "      <th>6535</th>\n",
       "      <td>Основные функции CRM для танцевальной школы: C...</td>\n",
       "      <td>5</td>\n",
       "      <td>0.894703</td>\n",
       "    </tr>\n",
       "    <tr>\n",
       "      <th>10301</th>\n",
       "      <td>Передовой опыт управления ИТ-проектами и коман...</td>\n",
       "      <td>5</td>\n",
       "      <td>0.894699</td>\n",
       "    </tr>\n",
       "  </tbody>\n",
       "</table>\n",
       "<p>100 rows × 3 columns</p>\n",
       "</div>"
      ],
      "text/plain": [
       "                                         translated_text  topic  probability\n",
       "7226   Часть 1. Недавно Airkod выпустила бета-версию ...      5     0.926867\n",
       "6042   📚 В Национальный день благодарности учителям м...      5     0.920079\n",
       "4374   Продукты становятся более медийными и менее те...      5     0.920073\n",
       "4552   Топ-7 полезных инструментов для организации ра...      5     0.918085\n",
       "8771   Привет народ! Вы задавались вопросом, чего не ...      5     0.917325\n",
       "...                                                  ...    ...          ...\n",
       "2419   В IT среде часто говорят о недопустимости токс...      5     0.895096\n",
       "7285   Пришло время рассмотреть возможности технологи...      5     0.894960\n",
       "6512   🧐 Что вы знаете о кибербезопасности? Возможно,...      5     0.894937\n",
       "6535   Основные функции CRM для танцевальной школы: C...      5     0.894703\n",
       "10301  Передовой опыт управления ИТ-проектами и коман...      5     0.894699\n",
       "\n",
       "[100 rows x 3 columns]"
      ]
     },
     "execution_count": 101,
     "metadata": {},
     "output_type": "execute_result"
    }
   ],
   "source": [
    "# Выберем топ-100 текстов с максимальной вероятностью\n",
    "top_100 = df_len_text_100[['translated_text', 'topic', 'probability']].sort_values(by = 'probability', \n",
    "                                                                                   ascending  = False).iloc[:100]\n",
    "top_100"
   ]
  },
  {
   "cell_type": "code",
   "execution_count": 102,
   "id": "36470841",
   "metadata": {},
   "outputs": [
    {
     "data": {
      "text/plain": [
       "topic\n",
       "5    100\n",
       "Name: count, dtype: int64"
      ]
     },
     "execution_count": 102,
     "metadata": {},
     "output_type": "execute_result"
    }
   ],
   "source": [
    "top_100.topic.value_counts()"
   ]
  },
  {
   "cell_type": "markdown",
   "id": "7fcedd40",
   "metadata": {},
   "source": [
    "Алгоритм увереннее всего определяет пятую тему, что логично, так как именно эта тема представлена максимально (6440 текстов)"
   ]
  },
  {
   "cell_type": "code",
   "execution_count": 148,
   "id": "5ac24f9b",
   "metadata": {},
   "outputs": [
    {
     "data": {
      "text/html": [
       "<div>\n",
       "<style scoped>\n",
       "    .dataframe tbody tr th:only-of-type {\n",
       "        vertical-align: middle;\n",
       "    }\n",
       "\n",
       "    .dataframe tbody tr th {\n",
       "        vertical-align: top;\n",
       "    }\n",
       "\n",
       "    .dataframe thead th {\n",
       "        text-align: right;\n",
       "    }\n",
       "</style>\n",
       "<table border=\"1\" class=\"dataframe\">\n",
       "  <thead>\n",
       "    <tr style=\"text-align: right;\">\n",
       "      <th></th>\n",
       "      <th>probability</th>\n",
       "      <th>topic</th>\n",
       "    </tr>\n",
       "    <tr>\n",
       "      <th>topic</th>\n",
       "      <th></th>\n",
       "      <th></th>\n",
       "    </tr>\n",
       "  </thead>\n",
       "  <tbody>\n",
       "    <tr>\n",
       "      <th>5</th>\n",
       "      <td>0.748112</td>\n",
       "      <td>6440</td>\n",
       "    </tr>\n",
       "    <tr>\n",
       "      <th>8</th>\n",
       "      <td>0.707846</td>\n",
       "      <td>206</td>\n",
       "    </tr>\n",
       "    <tr>\n",
       "      <th>6</th>\n",
       "      <td>0.656329</td>\n",
       "      <td>58</td>\n",
       "    </tr>\n",
       "    <tr>\n",
       "      <th>3</th>\n",
       "      <td>0.651682</td>\n",
       "      <td>186</td>\n",
       "    </tr>\n",
       "    <tr>\n",
       "      <th>7</th>\n",
       "      <td>0.632954</td>\n",
       "      <td>128</td>\n",
       "    </tr>\n",
       "    <tr>\n",
       "      <th>9</th>\n",
       "      <td>0.627983</td>\n",
       "      <td>180</td>\n",
       "    </tr>\n",
       "    <tr>\n",
       "      <th>4</th>\n",
       "      <td>0.607980</td>\n",
       "      <td>611</td>\n",
       "    </tr>\n",
       "    <tr>\n",
       "      <th>2</th>\n",
       "      <td>0.602933</td>\n",
       "      <td>151</td>\n",
       "    </tr>\n",
       "    <tr>\n",
       "      <th>1</th>\n",
       "      <td>0.571736</td>\n",
       "      <td>262</td>\n",
       "    </tr>\n",
       "    <tr>\n",
       "      <th>0</th>\n",
       "      <td>0.555750</td>\n",
       "      <td>191</td>\n",
       "    </tr>\n",
       "  </tbody>\n",
       "</table>\n",
       "</div>"
      ],
      "text/plain": [
       "       probability  topic\n",
       "topic                    \n",
       "5         0.748112   6440\n",
       "8         0.707846    206\n",
       "6         0.656329     58\n",
       "3         0.651682    186\n",
       "7         0.632954    128\n",
       "9         0.627983    180\n",
       "4         0.607980    611\n",
       "2         0.602933    151\n",
       "1         0.571736    262\n",
       "0         0.555750    191"
      ]
     },
     "execution_count": 148,
     "metadata": {},
     "output_type": "execute_result"
    }
   ],
   "source": [
    "# Попробуем оценить насколько уверен алгоритм в остальных темах\n",
    "df_len_text_100.groupby('topic').agg({'probability' : 'mean', \n",
    "                                      'topic' : 'count'}).sort_values(by = 'probability', ascending = False)"
   ]
  },
  {
   "cell_type": "markdown",
   "id": "1c2e49f1",
   "metadata": {},
   "source": [
    "Лучшие по средней вероятности темы - 5, 8, 6 (**дописать примерные названия тем**), не смотря на то, что 6 тема представлена только в 58 текстах. А вот 2, 1 и 0 темы определяются хуже всего.\n",
    "**дополнить вывод - почему так**"
   ]
  },
  {
   "cell_type": "markdown",
   "id": "42e8b0c0",
   "metadata": {},
   "source": [
    "Попробуем использовать распределения тем в тексте как 'эмбеддинги' текстов, в такой интерпретации можно применять к ним алгоритмы визуализации или кластеризации, и искать уже итоговые 'эффективные ' тематические кластеры таким образом."
   ]
  },
  {
   "cell_type": "code",
   "execution_count": 82,
   "id": "ac8548a9",
   "metadata": {},
   "outputs": [],
   "source": [
    "kmeans = KMeans(n_clusters=10)\n",
    "\n",
    "clust_labels = kmeans.fit_predict(topics)\n",
    "clust_centers = kmeans.cluster_centers_\n",
    "\n",
    "embeddings_to_tsne = np.concatenate((topics,clust_centers), axis=0)\n",
    "\n",
    "# TSNE это инструмент для визуализации многомерных данных\n",
    "tSNE =  TSNE(n_components=2, perplexity=15)\n",
    "tsne_embeddings = tSNE.fit_transform(embeddings_to_tsne)\n",
    "tsne_embeddings, centroids_embeddings = np.split(tsne_embeddings, [len(clust_labels)], axis=0)"
   ]
  },
  {
   "cell_type": "code",
   "execution_count": 83,
   "id": "277448de",
   "metadata": {},
   "outputs": [],
   "source": [
    "clust_indices = np.unique(clust_labels)\n",
    "\n",
    "clusters = {clust_ind : [] for clust_ind in clust_indices}\n",
    "for emb, label in zip(tsne_embeddings, clust_labels):\n",
    "    clusters[label].append(emb)\n",
    "\n",
    "for key in clusters.keys():\n",
    "    clusters[key] = np.array(clusters[key])\n",
    "    \n",
    "colors = cm.rainbow(np.linspace(0, 1, len(clust_indices)))"
   ]
  },
  {
   "cell_type": "code",
   "execution_count": 149,
   "id": "8623a00e",
   "metadata": {},
   "outputs": [
    {
     "data": {
      "image/png": "[encoded data removed]",
      "text/plain": [
       "<Figure size 500x500 with 1 Axes>"
      ]
     },
     "metadata": {},
     "output_type": "display_data"
    }
   ],
   "source": [
    "plt.figure(figsize=(5,5))\n",
    "for ind, color in zip(clust_indices, colors):\n",
    "    x = clusters[ind][:,0]\n",
    "    y = clusters[ind][:,1]\n",
    "    plt.scatter(x, y, color=color)\n",
    "    \n",
    "    centroid = centroids_embeddings[ind]\n",
    "    plt.scatter(centroid[0],centroid[1], color=color, marker='x', s=100)\n",
    "\n",
    "plt.show()"
   ]
  },
  {
   "cell_type": "markdown",
   "id": "c64bd00b",
   "metadata": {},
   "source": [
    "Тут хотелось бы написать, что на изображении TSNE ембеддингов, видно, что кластеры выделенные с помощью KMeans, образуют достаточно связные и чаще всего пространственно разделимые между собой множества. Но на самом деле видно, что есть над чем еще поработать."
   ]
  },
  {
   "cell_type": "markdown",
   "id": "50abfba9",
   "metadata": {},
   "source": [
    "# 3.Выводы"
   ]
  },
  {
   "attachments": {
    "image.png": {
     "image/png": "[encoded data removed]"
    }
   },
   "cell_type": "markdown",
   "id": "915fe3d5",
   "metadata": {},
   "source": [
    "Для проведения исследования командой написан парсер для сбора данных в социальной сети LinkedIN, которые представляют собой ссылки на профили людей, подходящих под ЦА заказчика, тексты их постов и реакции.\n",
    "\n",
    "Получилось собрать информацию о 158 профилях и 1125 текстов. Преобладающее количество текстов на русском языке. Но из-за небольшого их количества выполнить задачу не представлялось возможным. Поэтому, для улучшения качества прогноза модели, было решено обменяться собранными данными с другими командами.\n",
    "\n",
    "**В итоге в анализе использовались 1017 профилей и 11238 текстов.** Полученные тексты распределились по языкам следующим образом:\n",
    " - en - 60%\n",
    " - ru - 32%\n",
    " - uk - 2%\n",
    " - остальные - 6% (всего определлились 36 языков).\n",
    "Для крректного анализа тексты были предварительно переведены на русский язык.\n",
    "\n",
    "При исследовании длинн полученных текстов установлено, что она достигает 6638 знаков, а минамальная длина равна двум знакам. Таким образом, 25% собранных данных короче 110 символов. Такие \"короткие\" тексты (предположительно подпись к картинке или видео, набор хэштэгов, смайлов и пр.) не несли в себе полезную информацию, поэтому решено было удалить эти наблюдения. В итоге использовались 8413 текстов.\n",
    "\n",
    "На этапе подготовки текстов для модели была проведена лемматизация и токенизация текстов. Так же тексты были очищены от \"мусорных\" символов - знаков пунктуации, смайлов, иностранных слов, цифр. Удалены стоп слова. \n",
    "\n",
    "Векторизация текстов производилась при помощи Tf-iDf.\n",
    "На этапе подбора модели были использованы:\n",
    " - LDA - LatentDirichletAllocation\n",
    " - NMF - Non-Negative Matrix Factorization\n",
    "\n",
    "Эффективность работы модели сложно оценить, так как нет метрик на которые можно опереться. Для выбора модели использовали здравый смысл и алгоритмы визуализации, которые позволили определить насколько хорошо модель разделяет тесты по темам.\n",
    "\n",
    "Корректное распределение вероятности и лучшее разделение тем получено в результате применения модели LDA. Таким образом, рейтинг тем на основании частоты упоминания в порядке убивания:\n",
    "\n",
    " - Тема 6 - новости IT рынка;\n",
    " - Тема 9 - поиск работы;\n",
    " - Тема 7 - обучение IT профессиям;\n",
    " - Тема 4 - предложение IT услуг;\n",
    " - Тема 8 - IT рекрутмент;\n",
    " - Тема 10 - поиск работы;\n",
    " - Тема 5 - менторство начинающих специалистов;\n",
    " - Тема 3 - коучинг;\n",
    " - Тема 2 - внешняя политика;\n",
    " - Тема 1 - проектное сотрудничество;\n",
    " \n",
    "На основании полученных результатов можно заметить, что все посты написаны примерно про одно и то же, это: поиск работы или работников, впечатление от обучения и несколько тем посвящены коучингу и менторству начинающих специалистов. По теме наставничества целевая группа пишет немного.\n",
    "\n",
    "**Пример визуализации разделения тем на кластеры моделью LDA**\n",
    "![image.png](attachment:image.png)\n",
    "На изображении tSNE ембеддингов, видно, что кластеры выделенные с помощью KMeans, образуют достаточно связные и чаще всего пространственно разделимые между собой множества. Но так же видно, что есть над чем еще поработать.\n",
    "\n",
    "При анализе распределения тем, с большим отрывом лидирует тема 6 (6440 текстов), на втором месте модель поставила тему 5 - 611 текстов, на третьем - 2 тема и 262 текста.\n",
    "\n",
    "При оценке топ-100 постов, для которых модель наиболее уверенно (с большей вероятностью) определила тему выяснилось, что все эти посты отнесены к теме 6. Что логично, так как эти тексты представлены на порядок в большем количестве. Вероятность для топ-100 находится в пределах 0.92 - 0.89.\n",
    "\n",
    "При оценке средней вероятности, с которой алгоритм определял принадлежность к определенной теме выяснилось, что увереннее всего он справляется с темами:\n",
    " - 6 тема - средняя вероятность 0.75 - количество текстов 6440\n",
    " - 9 тема - средняя вероятность 0.71 - количество текстов 206\n",
    " - 7 тема - средняя вероятность 0.66 - количество текстов 58\n",
    "Хуже всего модель справилась с темами 3, 2 и 1 - средние вероятности 0.60 (151 текст), 0.57(262) и 0.56(191). Возможно, это связано с тебольшим количеством текстов для данных тем.\n",
    "\n",
    "\n",
    "**Что можно сдлеать лучше:**\n",
    "- Изменить стратегию поиска постов - парсить не все данные, а именно ЦА. Так получим посты на нужную тематику, котрые модель лучше сможет разделить на темы.\n",
    "- Хороший результат был получен при добавлении стоп кастомизированных стоп-слов, расширение этого списка потенциально может улучшить работу модели.\n",
    "- Попробовать использовать предобученные модели BERT как самостоятельный вариант или вместе с LDA.\n",
    "\n",
    "**Сложности с которыми столкнулись в процессе парсинга - **"
   ]
  },
  {
   "cell_type": "markdown",
   "id": "941baf50",
   "metadata": {},
   "source": [
    "| Тема | Название темы | Количество тем |Средняя вероятность | Ключевые слова |\n",
    "|----------|----------|----------|----------|----------|\n",
    "| Тема 6    | новости IT рынка   | 6440 | 0.75 | решение, опыт, клиент, приложение, продукт, бизнес, разработка, команда, проект, компания |\n",
    "| Тема 9    | поиск работы   | 206 | 0.71 | кибербезопасность, здравствовать, признателен, иб, поддержка, совет, предложить, возможность, заранее, благодарить |\n",
    "| Тема 7    | обучение IT профессиям   | 58 | 0.66 | асинхронный, машинный, буква, испытание, карусель, видео, генеративный, проверить, курс, закончить |\n",
    "| Тема 4    | предложение IT услуг   | 186 | 0.65 | рад, услуга, разработка, сообщить, сертификат, компания, должность, начинать, удовольствие, сообщать |\n",
    "| Тема 8    | IT рекрутмент   | 128 | 0.63 | делиться, статья, желать, тильда, оценить, комментарий, праздник, ребята, нанимать, лендинг |\n",
    "| Тема 10   | поиск работы    | 180 | 0.63 | встретиться, отличный, нетерпение, невероятный, поделиться, грузия, команда, заявка, рад, саммит |\n",
    "| Тема 5    | менторство начинающих специалистов   | 611 | 0.61 | английский, команда, поиск, проект, привет, опыт, резюме, разработчик, искать, вакансия |\n",
    "| Тема 3    | коучинг   | 151 | 0.60 | желать, счастливый, выходной, справляться, проверка, пройти, тест, следующий, значок, навык |\n",
    "| Тема 2    | внешняя политика   | 262 | 0.57 | военный, европа, доклад, вебинар, ноябрь, март, российский, конференция, украинец, украина |\n",
    "| Тема 1    | проектное сотрудничество   | 191 | 0.56 | создать, фирменный, анимация, пожаловать, сайт, добро, дизайнер, стиль, логотип, дизайн |"
   ]
  },
  {
   "cell_type": "code",
   "execution_count": null,
   "id": "29be7a6f",
   "metadata": {},
   "outputs": [],
   "source": []
  }
 ],
 "metadata": {
  "kernelspec": {
   "display_name": "Python 3 (ipykernel)",
   "language": "python",
   "name": "python3"
  },
  "language_info": {
   "codemirror_mode": {
    "name": "ipython",
    "version": 3
   },
   "file_extension": ".py",
   "mimetype": "text/x-python",
   "name": "python",
   "nbconvert_exporter": "python",
   "pygments_lexer": "ipython3",
   "version": "3.11.3"
  }
 },
 "nbformat": 4,
 "nbformat_minor": 5
}
