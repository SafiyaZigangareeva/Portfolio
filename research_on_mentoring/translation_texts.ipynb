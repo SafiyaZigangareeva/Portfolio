{
 "cells": [
  {
   "cell_type": "code",
   "execution_count": null,
   "metadata": {
    "colab": {
     "base_uri": "https://localhost:8080/"
    },
    "executionInfo": {
     "elapsed": 16614,
     "status": "ok",
     "timestamp": 1686124879137,
     "user": {
      "displayName": "Сафия Зигангареева",
      "userId": "08713788407500959319"
     },
     "user_tz": -180
    },
    "id": "JFC82rYPzjUf",
    "outputId": "17dedaca-4372-4bb7-d538-28b4ef8311c8"
   },
   "outputs": [],
   "source": [
    "! pip install langdetect\n",
    "! pip install -U deep-translator"
   ]
  },
  {
   "cell_type": "code",
   "execution_count": 1,
   "metadata": {
    "executionInfo": {
     "elapsed": 1381,
     "status": "ok",
     "timestamp": 1686124880515,
     "user": {
      "displayName": "Сафия Зигангареева",
      "userId": "08713788407500959319"
     },
     "user_tz": -180
    },
    "id": "F5IGzVh60aWN"
   },
   "outputs": [],
   "source": [
    "# Импорты бибилиотек\n",
    "import warnings\n",
    "\n",
    "import pandas as pd\n",
    "import numpy as np\n",
    "from joblib import dump, load\n",
    "from tqdm import notebook\n",
    "from tqdm.notebook import tqdm\n",
    "from langdetect import detect\n",
    "from deep_translator import GoogleTranslator\n",
    "\n",
    "warnings.filterwarnings('ignore')"
   ]
  },
  {
   "cell_type": "code",
   "execution_count": 2,
   "metadata": {
    "executionInfo": {
     "elapsed": 5,
     "status": "ok",
     "timestamp": 1686124880516,
     "user": {
      "displayName": "Сафия Зигангареева",
      "userId": "08713788407500959319"
     },
     "user_tz": -180
    },
    "id": "yJ3YH-xWECgO"
   },
   "outputs": [],
   "source": [
    "#pd.set_option('display.max_colwidth', 200)"
   ]
  },
  {
   "cell_type": "markdown",
   "metadata": {
    "id": "Tr_Y4P4FgnSt"
   },
   "source": [
    "## Подготовка к переводу"
   ]
  },
  {
   "cell_type": "code",
   "execution_count": 3,
   "metadata": {
    "colab": {
     "base_uri": "https://localhost:8080/",
     "height": 337
    },
    "executionInfo": {
     "elapsed": 2872,
     "status": "ok",
     "timestamp": 1686124887650,
     "user": {
      "displayName": "Сафия Зигангареева",
      "userId": "08713788407500959319"
     },
     "user_tz": -180
    },
    "id": "nBuj20QeoIuC",
    "outputId": "888ac5bf-5616-4669-ab03-6dd24cd44f63"
   },
   "outputs": [
    {
     "data": {
      "text/html": [
       "<div>\n",
       "<style scoped>\n",
       "    .dataframe tbody tr th:only-of-type {\n",
       "        vertical-align: middle;\n",
       "    }\n",
       "\n",
       "    .dataframe tbody tr th {\n",
       "        vertical-align: top;\n",
       "    }\n",
       "\n",
       "    .dataframe thead th {\n",
       "        text-align: right;\n",
       "    }\n",
       "</style>\n",
       "<table border=\"1\" class=\"dataframe\">\n",
       "  <thead>\n",
       "    <tr style=\"text-align: right;\">\n",
       "      <th></th>\n",
       "      <th>url_user</th>\n",
       "      <th>text_post</th>\n",
       "    </tr>\n",
       "  </thead>\n",
       "  <tbody>\n",
       "    <tr>\n",
       "      <th>0</th>\n",
       "      <td>https://www.linkedin.com/in/artem-reshetnikov-...</td>\n",
       "      <td>['I love SQL.']</td>\n",
       "    </tr>\n",
       "    <tr>\n",
       "      <th>1</th>\n",
       "      <td>https://www.linkedin.com/in/korenevich/</td>\n",
       "      <td>['Приложение которое из голоса раскидывает зад...</td>\n",
       "    </tr>\n",
       "    <tr>\n",
       "      <th>2</th>\n",
       "      <td>https://www.linkedin.com/in/korenevich/</td>\n",
       "      <td>'Почему основатель любого бизнеса обязан умет...</td>\n",
       "    </tr>\n",
       "    <tr>\n",
       "      <th>3</th>\n",
       "      <td>https://www.linkedin.com/in/korenevich/</td>\n",
       "      <td>'Казнить нельзя помиловать. Навык #9 – принят...</td>\n",
       "    </tr>\n",
       "    <tr>\n",
       "      <th>4</th>\n",
       "      <td>https://www.linkedin.com/in/korenevich/</td>\n",
       "      <td>'Кто хорошо потрудился на этой неделе, тот я....</td>\n",
       "    </tr>\n",
       "  </tbody>\n",
       "</table>\n",
       "</div>"
      ],
      "text/plain": [
       "                                            url_user  \\\n",
       "0  https://www.linkedin.com/in/artem-reshetnikov-...   \n",
       "1            https://www.linkedin.com/in/korenevich/   \n",
       "2            https://www.linkedin.com/in/korenevich/   \n",
       "3            https://www.linkedin.com/in/korenevich/   \n",
       "4            https://www.linkedin.com/in/korenevich/   \n",
       "\n",
       "                                           text_post  \n",
       "0                                    ['I love SQL.']  \n",
       "1  ['Приложение которое из голоса раскидывает зад...  \n",
       "2   'Почему основатель любого бизнеса обязан умет...  \n",
       "3   'Казнить нельзя помиловать. Навык #9 – принят...  \n",
       "4   'Кто хорошо потрудился на этой неделе, тот я....  "
      ]
     },
     "execution_count": 3,
     "metadata": {},
     "output_type": "execute_result"
    }
   ],
   "source": [
    "df = pd.read_csv('data/data_all_texts.csv', sep = ';')\n",
    "df.head()"
   ]
  },
  {
   "cell_type": "code",
   "execution_count": 4,
   "metadata": {
    "colab": {
     "base_uri": "https://localhost:8080/",
     "height": 36
    },
    "executionInfo": {
     "elapsed": 448,
     "status": "ok",
     "timestamp": 1686124888094,
     "user": {
      "displayName": "Сафия Зигангареева",
      "userId": "08713788407500959319"
     },
     "user_tz": -180
    },
    "id": "_KzkL8DDzu8B",
    "outputId": "2c867c45-5264-47a6-d60c-46adb3ceb095"
   },
   "outputs": [
    {
     "data": {
      "text/plain": [
       "'en'"
      ]
     },
     "execution_count": 4,
     "metadata": {},
     "output_type": "execute_result"
    }
   ],
   "source": [
    "# Опеределим язык комментария\n",
    "detect(\"War doesn't show who's right, just who's left.\")"
   ]
  },
  {
   "cell_type": "code",
   "execution_count": 5,
   "metadata": {
    "colab": {
     "base_uri": "https://localhost:8080/"
    },
    "executionInfo": {
     "elapsed": 428,
     "status": "ok",
     "timestamp": 1686124936195,
     "user": {
      "displayName": "Сафия Зигангареева",
      "userId": "08713788407500959319"
     },
     "user_tz": -180
    },
    "id": "wCW-4peG0k3X",
    "outputId": "7ffefc85-210d-49b0-daa8-e575ae03a21f"
   },
   "outputs": [
    {
     "data": {
      "text/plain": [
       "0"
      ]
     },
     "execution_count": 5,
     "metadata": {},
     "output_type": "execute_result"
    }
   ],
   "source": [
    "df = df.dropna(subset=['text_post'])\n",
    "df['text_post'].isna().sum()"
   ]
  },
  {
   "cell_type": "code",
   "execution_count": 6,
   "metadata": {},
   "outputs": [
    {
     "data": {
      "text/plain": [
       "11238"
      ]
     },
     "execution_count": 6,
     "metadata": {},
     "output_type": "execute_result"
    }
   ],
   "source": [
    "len(df)"
   ]
  },
  {
   "cell_type": "code",
   "execution_count": 7,
   "metadata": {
    "executionInfo": {
     "elapsed": 3,
     "status": "ok",
     "timestamp": 1686124937196,
     "user": {
      "displayName": "Сафия Зигангареева",
      "userId": "08713788407500959319"
     },
     "user_tz": -180
    },
    "id": "eBilHzY71EZA"
   },
   "outputs": [],
   "source": [
    "def lang_detect(text):\n",
    "  try:\n",
    "    lang = detect(text)\n",
    "  except:\n",
    "    lang = 'unknown'\n",
    "    print(text)\n",
    "  return lang"
   ]
  },
  {
   "cell_type": "code",
   "execution_count": 8,
   "metadata": {
    "colab": {
     "base_uri": "https://localhost:8080/",
     "height": 1000,
     "referenced_widgets": [
      "29b8f06845c24a8daa48b57f10a1af69",
      "5961b9c64fac44109e823b0840e2dc7e",
      "8570576111f1411ca84740c36a0e7537",
      "0b10ee953ddb4aac9c90a93ed5183ee4",
      "a4f88e33893845d0ab40c65bda646cb8",
      "d01c8cbc6b1242d79115185706d606dc",
      "0fb18586084e4bc0b547f86a678a6529",
      "4b44e1291a184791b26b8b183991b864",
      "4965a93ba8524adaa4d7f618a684d39f",
      "850d54f3ec2847b4955b1acf32f7460f",
      "299cfa7a06c04638b76b2b2d7aed291a"
     ]
    },
    "executionInfo": {
     "elapsed": 2562463,
     "status": "ok",
     "timestamp": 1686127500604,
     "user": {
      "displayName": "Сафия Зигангареева",
      "userId": "08713788407500959319"
     },
     "user_tz": -180
    },
    "id": "8Kgp6MjVzxZr",
    "outputId": "825c2e9f-a442-43b0-858d-472d01028a7f"
   },
   "outputs": [
    {
     "data": {
      "application/vnd.jupyter.widget-view+json": {
       "model_id": "b169f4c7ce204f3982898b3c221951b2",
       "version_major": 2,
       "version_minor": 0
      },
      "text/plain": [
       "  0%|          | 0/11238 [00:00<?, ?it/s]"
      ]
     },
     "metadata": {},
     "output_type": "display_data"
    },
    {
     "name": "stdout",
     "output_type": "stream",
     "text": [
      " 'https://lnkd.in/e_QXa23v\n",
      "['🤔🤔🤔']\n",
      "['🤣\n",
      "['🤣\n",
      " '👌🏻\n",
      " 'https://pi.itmo.ru/']\n",
      " '🤗\n",
      " '!!!']\n",
      " 'https://lnkd.in/dMunj9p\n",
      " '🤗\n",
      " 'https://lnkd.in/eTw2f8RU\n",
      " '!!!']\n",
      "['😆\n",
      " '😂\n",
      "!!!!!!!!!!!!!!!!!!!!!!!!\n",
      "https://lnkd.in/dh6VNtr\n",
      "https://lnkd.in/d58N6NQ\n",
      "😂😂😂\n",
      "https://lnkd.in/e28kmvqy\n",
      "https://lnkd.in/dTC6GraD\n",
      "https://lnkd.in/dctrB397\n",
      "https://lnkd.in/dGe4skeq\n",
      "https://lnkd.in/dMKeDeUR\n",
      "https://lnkd.in/dacbeGAE\n",
      "https://lnkd.in/d4rRgKbT\n",
      "https://lnkd.in/dvrcfsQq\n",
      "https://lnkd.in/dRgCZB74\n",
      "https://lnkd.in/dF9Nj7At\n",
      "https://lnkd.in/dBUjSuT\n",
      "https://lnkd.in/ea_WpeE\n",
      "https://lnkd.in/ddk_kAB\n",
      "ᴡᴇ ᴄᴏɴᴛɪɴᴜᴇ ᴏᴜʀ ᴛᴏᴘɪᴄ, ᴅʀᴀᴡɪɴɢs ғʀᴏᴍ ɴᴇᴜʀᴀʟ ɴᴇᴛᴡᴏʀᴋs. ᴛʜɪs ᴛɪᴍᴇ, ɪᴛ ᴡᴀs ᴜᴘ ᴛᴏ ᴀʀᴛɪғɪᴄɪᴀʟ ɪɴᴛᴇʟʟɪɢᴇɴᴄᴇ ᴛᴏ ᴄʀᴇᴀᴛᴇ ᴛʜᴇ ғɪɴᴀʟ ᴘɪᴄᴛᴜʀᴇ ғʀᴏᴍ ᴛʜᴇ ᴘʀᴏᴘᴏsᴇᴅ ᴇʟᴇᴍᴇɴᴛs, ᴡᴇ ᴘʀᴏᴘᴏsᴇᴅ ᴀɴ ᴇʟᴇᴄᴛʀɪᴄ ᴄɪʀᴄᴜɪᴛ ᴀs ᴀ ʙᴀsɪs, ᴀs ᴡᴇʟʟ ᴀs ᴛʜᴇ ᴋᴇʏᴡᴏʀᴅs ᴄᴏᴍᴘᴜᴛᴇʀ ᴀɴᴅ sᴄɪᴇɴᴄᴇ ғɪᴄᴛɪᴏɴ. ᴛʜɪs ɪs ᴡʜᴀᴛ ᴛʜᴇ ғɪɴᴀʟ ʀᴇsᴜʟᴛ ʟᴏᴏᴋs ʟɪᴋᴇ, ᴀs ɪғ ʏᴏᴜ ᴄᴀɴ sᴇᴇ sᴍᴀʟʟ ᴄᴏᴍᴘᴜᴛᴇʀs, ғᴏʀᴍᴜʟᴀs, sᴄʀᴇᴇɴs, ᴀɴᴅ ᴛʜᴏsᴇ ʟᴇᴛᴛᴇʀs - ᴀᴘᴘᴇᴀʀᴇᴅ ᴀs ᴀ ʀᴇsᴜʟᴛ ᴏғ ᴛʜᴇ ᴘᴇʀᴄᴇᴘᴛɪᴏɴ ᴏғ ᴇʟᴇᴄᴛʀɪᴄᴀʟ sʏᴍʙᴏʟs ғʀᴏᴍ ᴛʜᴇ ᴄɪʀᴄᴜɪᴛ ᴀs sᴇᴘᴀʀᴀᴛᴇ ʟᴇᴛᴛᴇʀs. #ai, #neuralnetworks, #digitalart, #design\n",
      "😄\n",
      "https://lnkd.in/g3nvhtxd\n",
      "https://lnkd.in/dpvVNgtq\n",
      "https://lnkd.in/eik7rQa\n",
      "🔥\n",
      "🫶\n",
      "🫡\n",
      "🫡\n",
      "🦾⭐👇\n",
      ":)\n",
      "https://lnkd.in/gz3GZeS#sudo\n",
      "🤘\n",
      "🙌\n",
      "🔥\n",
      "💪\n",
      "😆\n",
      "🇺🇦🇺🇦🇺🇦🌎🌎🌎\n",
      "😅\n",
      "❤️\n",
      "🧡 🧡 🧡\n",
      "https://lnkd.in/eXm7KENh\n",
      "https://lnkd.in/dzBrk3dS\n",
      "🔥🔥🔥\n",
      "https://lnkd.in/eCkYsk5X\n",
      "❤️\n",
      "🧡\n",
      "🎉🎉🎉\n",
      "💯\n",
      "🐶\n",
      "🤩🤩🤩\n",
      "👍❤👏🤔\n",
      "👹\n",
      "🔥\n",
      "🔥\n",
      "🤣🤣🤣\n",
      "😂😂😂😂😂\n",
      "https://lnkd.in/d96JjJtX\n",
      "🦄\n",
      "💛💙💪🇺🇦\n",
      "💡💡\n",
      "🤣🤣🤣\n",
      "👀🫠\n",
      "https://t.co/0NXqsMK256\n",
      "🤔 🤔 🤔\n",
      "🤔\n",
      "👏👏👏👏👏\n",
      "https://lnkd.in/dcuNiQmD\n",
      "https://lnkd.in/eAdWtSzc\n",
      "https://lnkd.in/efD2qq7\n",
      "💪\n",
      "🤟\n",
      "💪\n",
      "💪\n",
      ")))\n",
      "😂😂😂👍👍👍\n",
      "https://lnkd.in/eXTwetfA\n",
      ":))\n",
      "👏\n",
      "https://lnkd.in/gz3GZeS\n",
      "😁\n"
     ]
    }
   ],
   "source": [
    "tqdm.pandas()\n",
    "\n",
    "df['language'] = df['text_post'].progress_apply(lang_detect)"
   ]
  },
  {
   "cell_type": "code",
   "execution_count": 9,
   "metadata": {
    "colab": {
     "base_uri": "https://localhost:8080/",
     "height": 337
    },
    "executionInfo": {
     "elapsed": 454,
     "status": "ok",
     "timestamp": 1686130164053,
     "user": {
      "displayName": "Сафия Зигангареева",
      "userId": "08713788407500959319"
     },
     "user_tz": -180
    },
    "id": "xMasfICs91v6",
    "outputId": "46f9131b-8df6-4efd-e521-322fec8f1744"
   },
   "outputs": [
    {
     "data": {
      "text/html": [
       "<div>\n",
       "<style scoped>\n",
       "    .dataframe tbody tr th:only-of-type {\n",
       "        vertical-align: middle;\n",
       "    }\n",
       "\n",
       "    .dataframe tbody tr th {\n",
       "        vertical-align: top;\n",
       "    }\n",
       "\n",
       "    .dataframe thead th {\n",
       "        text-align: right;\n",
       "    }\n",
       "</style>\n",
       "<table border=\"1\" class=\"dataframe\">\n",
       "  <thead>\n",
       "    <tr style=\"text-align: right;\">\n",
       "      <th></th>\n",
       "      <th>url_user</th>\n",
       "      <th>text_post</th>\n",
       "      <th>language</th>\n",
       "    </tr>\n",
       "  </thead>\n",
       "  <tbody>\n",
       "    <tr>\n",
       "      <th>0</th>\n",
       "      <td>https://www.linkedin.com/in/artem-reshetnikov-...</td>\n",
       "      <td>['I love SQL.']</td>\n",
       "      <td>sl</td>\n",
       "    </tr>\n",
       "    <tr>\n",
       "      <th>1</th>\n",
       "      <td>https://www.linkedin.com/in/korenevich/</td>\n",
       "      <td>['Приложение которое из голоса раскидывает зад...</td>\n",
       "      <td>ru</td>\n",
       "    </tr>\n",
       "    <tr>\n",
       "      <th>2</th>\n",
       "      <td>https://www.linkedin.com/in/korenevich/</td>\n",
       "      <td>'Почему основатель любого бизнеса обязан умет...</td>\n",
       "      <td>ru</td>\n",
       "    </tr>\n",
       "    <tr>\n",
       "      <th>3</th>\n",
       "      <td>https://www.linkedin.com/in/korenevich/</td>\n",
       "      <td>'Казнить нельзя помиловать. Навык #9 – принят...</td>\n",
       "      <td>ru</td>\n",
       "    </tr>\n",
       "    <tr>\n",
       "      <th>4</th>\n",
       "      <td>https://www.linkedin.com/in/korenevich/</td>\n",
       "      <td>'Кто хорошо потрудился на этой неделе, тот я....</td>\n",
       "      <td>ru</td>\n",
       "    </tr>\n",
       "  </tbody>\n",
       "</table>\n",
       "</div>"
      ],
      "text/plain": [
       "                                            url_user  \\\n",
       "0  https://www.linkedin.com/in/artem-reshetnikov-...   \n",
       "1            https://www.linkedin.com/in/korenevich/   \n",
       "2            https://www.linkedin.com/in/korenevich/   \n",
       "3            https://www.linkedin.com/in/korenevich/   \n",
       "4            https://www.linkedin.com/in/korenevich/   \n",
       "\n",
       "                                           text_post language  \n",
       "0                                    ['I love SQL.']       sl  \n",
       "1  ['Приложение которое из голоса раскидывает зад...       ru  \n",
       "2   'Почему основатель любого бизнеса обязан умет...       ru  \n",
       "3   'Казнить нельзя помиловать. Навык #9 – принят...       ru  \n",
       "4   'Кто хорошо потрудился на этой неделе, тот я....       ru  "
      ]
     },
     "execution_count": 9,
     "metadata": {},
     "output_type": "execute_result"
    }
   ],
   "source": [
    "df.head()"
   ]
  },
  {
   "cell_type": "code",
   "execution_count": 10,
   "metadata": {
    "colab": {
     "base_uri": "https://localhost:8080/"
    },
    "executionInfo": {
     "elapsed": 332,
     "status": "ok",
     "timestamp": 1686130168550,
     "user": {
      "displayName": "Сафия Зигангареева",
      "userId": "08713788407500959319"
     },
     "user_tz": -180
    },
    "id": "hYtj9H4KRZkO",
    "outputId": "4b90b405-d2a6-46c8-c60d-96757426be0e"
   },
   "outputs": [
    {
     "data": {
      "text/plain": [
       "array(['sl', 'ru', 'ro', 'en', 'uk', 'hr', 'mk', 'ca', 'et', 'no',\n",
       "       'unknown', 'bg', 'fr', 'sq', 'id', 'fi', 'cs', 'it', 'af', 'tl',\n",
       "       'pt', 'sv', 'de', 'es', 'nl', 'cy', 'da', 'sw', 'pl', 'tr', 'so',\n",
       "       'ar', 'lt', 'vi', 'he', 'hu', 'sk'], dtype=object)"
      ]
     },
     "execution_count": 10,
     "metadata": {},
     "output_type": "execute_result"
    }
   ],
   "source": [
    "df.language.unique()"
   ]
  },
  {
   "cell_type": "code",
   "execution_count": 11,
   "metadata": {
    "executionInfo": {
     "elapsed": 345,
     "status": "ok",
     "timestamp": 1686130176068,
     "user": {
      "displayName": "Сафия Зигангареева",
      "userId": "08713788407500959319"
     },
     "user_tz": -180
    },
    "id": "H18WXG8XsfEN"
   },
   "outputs": [],
   "source": [
    "# Уберем записи с языком unknown\n",
    "df = df.loc[df['language'] != 'unknown']"
   ]
  },
  {
   "cell_type": "code",
   "execution_count": 12,
   "metadata": {
    "colab": {
     "base_uri": "https://localhost:8080/"
    },
    "executionInfo": {
     "elapsed": 4,
     "status": "ok",
     "timestamp": 1686130177433,
     "user": {
      "displayName": "Сафия Зигангареева",
      "userId": "08713788407500959319"
     },
     "user_tz": -180
    },
    "id": "kNdO1bzQ3SoS",
    "outputId": "7c6ffaa5-ce0f-41c0-bfc3-d7cc675a32ab"
   },
   "outputs": [
    {
     "data": {
      "text/plain": [
       "(11146, 3)"
      ]
     },
     "execution_count": 12,
     "metadata": {},
     "output_type": "execute_result"
    }
   ],
   "source": [
    "df.shape"
   ]
  },
  {
   "cell_type": "code",
   "execution_count": 13,
   "metadata": {
    "colab": {
     "base_uri": "https://localhost:8080/",
     "height": 337
    },
    "executionInfo": {
     "elapsed": 390,
     "status": "ok",
     "timestamp": 1686130179285,
     "user": {
      "displayName": "Сафия Зигангареева",
      "userId": "08713788407500959319"
     },
     "user_tz": -180
    },
    "id": "fYcok1ZeRp28",
    "outputId": "efbd0611-3f23-4534-ae81-3cf8b682b68f"
   },
   "outputs": [
    {
     "data": {
      "text/html": [
       "<div>\n",
       "<style scoped>\n",
       "    .dataframe tbody tr th:only-of-type {\n",
       "        vertical-align: middle;\n",
       "    }\n",
       "\n",
       "    .dataframe tbody tr th {\n",
       "        vertical-align: top;\n",
       "    }\n",
       "\n",
       "    .dataframe thead th {\n",
       "        text-align: right;\n",
       "    }\n",
       "</style>\n",
       "<table border=\"1\" class=\"dataframe\">\n",
       "  <thead>\n",
       "    <tr style=\"text-align: right;\">\n",
       "      <th></th>\n",
       "      <th>url_user</th>\n",
       "      <th>text_post</th>\n",
       "      <th>language</th>\n",
       "    </tr>\n",
       "  </thead>\n",
       "  <tbody>\n",
       "    <tr>\n",
       "      <th>0</th>\n",
       "      <td>https://www.linkedin.com/in/artem-reshetnikov-...</td>\n",
       "      <td>['I love SQL.']</td>\n",
       "      <td>sl</td>\n",
       "    </tr>\n",
       "    <tr>\n",
       "      <th>10</th>\n",
       "      <td>https://www.linkedin.com/in/korenevich/</td>\n",
       "      <td>'Evaluate</td>\n",
       "      <td>ro</td>\n",
       "    </tr>\n",
       "    <tr>\n",
       "      <th>11</th>\n",
       "      <td>https://www.linkedin.com/in/korenevich/</td>\n",
       "      <td>'Hi everyone - I am looking for a new role an...</td>\n",
       "      <td>en</td>\n",
       "    </tr>\n",
       "    <tr>\n",
       "      <th>12</th>\n",
       "      <td>https://www.linkedin.com/in/korenevich/</td>\n",
       "      <td>'I am reading this article, and I am bursting...</td>\n",
       "      <td>en</td>\n",
       "    </tr>\n",
       "    <tr>\n",
       "      <th>18</th>\n",
       "      <td>https://www.linkedin.com/in/juliyaefimenko/</td>\n",
       "      <td>['3 common tips in sales and recruiting🔔 50 \"t...</td>\n",
       "      <td>en</td>\n",
       "    </tr>\n",
       "  </tbody>\n",
       "</table>\n",
       "</div>"
      ],
      "text/plain": [
       "                                             url_user  \\\n",
       "0   https://www.linkedin.com/in/artem-reshetnikov-...   \n",
       "10            https://www.linkedin.com/in/korenevich/   \n",
       "11            https://www.linkedin.com/in/korenevich/   \n",
       "12            https://www.linkedin.com/in/korenevich/   \n",
       "18        https://www.linkedin.com/in/juliyaefimenko/   \n",
       "\n",
       "                                            text_post language  \n",
       "0                                     ['I love SQL.']       sl  \n",
       "10                                          'Evaluate       ro  \n",
       "11   'Hi everyone - I am looking for a new role an...       en  \n",
       "12   'I am reading this article, and I am bursting...       en  \n",
       "18  ['3 common tips in sales and recruiting🔔 50 \"t...       en  "
      ]
     },
     "execution_count": 13,
     "metadata": {},
     "output_type": "execute_result"
    }
   ],
   "source": [
    "need_to_translate = df.loc[df['language'] != 'ru']\n",
    "need_to_translate.head()"
   ]
  },
  {
   "cell_type": "code",
   "execution_count": 14,
   "metadata": {
    "colab": {
     "base_uri": "https://localhost:8080/",
     "height": 337
    },
    "executionInfo": {
     "elapsed": 564,
     "status": "ok",
     "timestamp": 1686130302590,
     "user": {
      "displayName": "Сафия Зигангареева",
      "userId": "08713788407500959319"
     },
     "user_tz": -180
    },
    "id": "gAS7xa11Mc_d",
    "outputId": "f1c744f4-bede-4a11-9691-a833f19f701d"
   },
   "outputs": [
    {
     "data": {
      "text/html": [
       "<div>\n",
       "<style scoped>\n",
       "    .dataframe tbody tr th:only-of-type {\n",
       "        vertical-align: middle;\n",
       "    }\n",
       "\n",
       "    .dataframe tbody tr th {\n",
       "        vertical-align: top;\n",
       "    }\n",
       "\n",
       "    .dataframe thead th {\n",
       "        text-align: right;\n",
       "    }\n",
       "</style>\n",
       "<table border=\"1\" class=\"dataframe\">\n",
       "  <thead>\n",
       "    <tr style=\"text-align: right;\">\n",
       "      <th></th>\n",
       "      <th>url_user</th>\n",
       "      <th>text_post</th>\n",
       "      <th>language</th>\n",
       "    </tr>\n",
       "  </thead>\n",
       "  <tbody>\n",
       "    <tr>\n",
       "      <th>1</th>\n",
       "      <td>https://www.linkedin.com/in/korenevich/</td>\n",
       "      <td>['Приложение которое из голоса раскидывает зад...</td>\n",
       "      <td>ru</td>\n",
       "    </tr>\n",
       "    <tr>\n",
       "      <th>2</th>\n",
       "      <td>https://www.linkedin.com/in/korenevich/</td>\n",
       "      <td>'Почему основатель любого бизнеса обязан умет...</td>\n",
       "      <td>ru</td>\n",
       "    </tr>\n",
       "    <tr>\n",
       "      <th>3</th>\n",
       "      <td>https://www.linkedin.com/in/korenevich/</td>\n",
       "      <td>'Казнить нельзя помиловать. Навык #9 – принят...</td>\n",
       "      <td>ru</td>\n",
       "    </tr>\n",
       "    <tr>\n",
       "      <th>4</th>\n",
       "      <td>https://www.linkedin.com/in/korenevich/</td>\n",
       "      <td>'Кто хорошо потрудился на этой неделе, тот я....</td>\n",
       "      <td>ru</td>\n",
       "    </tr>\n",
       "    <tr>\n",
       "      <th>5</th>\n",
       "      <td>https://www.linkedin.com/in/korenevich/</td>\n",
       "      <td>'Сегодня была защита дипломных работ на кафед...</td>\n",
       "      <td>ru</td>\n",
       "    </tr>\n",
       "  </tbody>\n",
       "</table>\n",
       "</div>"
      ],
      "text/plain": [
       "                                  url_user  \\\n",
       "1  https://www.linkedin.com/in/korenevich/   \n",
       "2  https://www.linkedin.com/in/korenevich/   \n",
       "3  https://www.linkedin.com/in/korenevich/   \n",
       "4  https://www.linkedin.com/in/korenevich/   \n",
       "5  https://www.linkedin.com/in/korenevich/   \n",
       "\n",
       "                                           text_post language  \n",
       "1  ['Приложение которое из голоса раскидывает зад...       ru  \n",
       "2   'Почему основатель любого бизнеса обязан умет...       ru  \n",
       "3   'Казнить нельзя помиловать. Навык #9 – принят...       ru  \n",
       "4   'Кто хорошо потрудился на этой неделе, тот я....       ru  \n",
       "5   'Сегодня была защита дипломных работ на кафед...       ru  "
      ]
     },
     "execution_count": 14,
     "metadata": {},
     "output_type": "execute_result"
    }
   ],
   "source": [
    "no_need_to_translate = df.loc[df['language'] == 'ru']\n",
    "no_need_to_translate.head()"
   ]
  },
  {
   "cell_type": "code",
   "execution_count": 15,
   "metadata": {
    "colab": {
     "base_uri": "https://localhost:8080/"
    },
    "executionInfo": {
     "elapsed": 6,
     "status": "ok",
     "timestamp": 1686130369061,
     "user": {
      "displayName": "Сафия Зигангареева",
      "userId": "08713788407500959319"
     },
     "user_tz": -180
    },
    "id": "7quNri7DR066",
    "outputId": "f9603aec-b3e4-48ee-aa61-a5899113bc2c"
   },
   "outputs": [
    {
     "data": {
      "text/plain": [
       "((7583, 3), (3563, 3))"
      ]
     },
     "execution_count": 15,
     "metadata": {},
     "output_type": "execute_result"
    }
   ],
   "source": [
    "need_to_translate.shape, no_need_to_translate.shape"
   ]
  },
  {
   "cell_type": "code",
   "execution_count": null,
   "metadata": {
    "executionInfo": {
     "elapsed": 6948,
     "status": "ok",
     "timestamp": 1686130426886,
     "user": {
      "displayName": "Сафия Зигангареева",
      "userId": "08713788407500959319"
     },
     "user_tz": -180
    },
    "id": "f_LIFmzNRmRZ"
   },
   "outputs": [],
   "source": [
    "# need_to_translate.to_csv('/content/drive/MyDrive/Data sciense/Kaggle/School_21_competition/need_to_translate.csv', index = False)\n",
    "# no_need_to_translate.to_csv('/content/drive/MyDrive/Data sciense/Kaggle/School_21_competition/no_need_to_translate.csv', index = False)"
   ]
  },
  {
   "cell_type": "markdown",
   "metadata": {
    "id": "o8nsoxMrqoHu"
   },
   "source": [
    "## Перевод"
   ]
  },
  {
   "cell_type": "code",
   "execution_count": 18,
   "metadata": {
    "id": "TmDkJ2SBywGf"
   },
   "outputs": [
    {
     "data": {
      "text/plain": [
       "'Расположение хорошее, до метро пешком минут 8. Хозяйка очень приятная, но в номере, выходящем на улицу, немного шумно.'"
      ]
     },
     "execution_count": 18,
     "metadata": {},
     "output_type": "execute_result"
    }
   ],
   "source": [
    "a=\"位置不错 离地铁站八分钟左右步行距离 房东人很好 就是房间临街有点吵\"\n",
    "GoogleTranslator(source='auto', target='ru').translate(a)"
   ]
  },
  {
   "cell_type": "code",
   "execution_count": 16,
   "metadata": {
    "colab": {
     "base_uri": "https://localhost:8080/",
     "height": 165
    },
    "executionInfo": {
     "elapsed": 6,
     "status": "error",
     "timestamp": 1686155549216,
     "user": {
      "displayName": "Сафия Зигангареева",
      "userId": "08713788407500959319"
     },
     "user_tz": -180
    },
    "id": "eHSEwLzd9fNl",
    "outputId": "29ceb7bb-ea3a-4811-a49f-99a0dbf4d417"
   },
   "outputs": [
    {
     "data": {
      "text/plain": [
       "7583"
      ]
     },
     "execution_count": 16,
     "metadata": {},
     "output_type": "execute_result"
    }
   ],
   "source": [
    "len(need_to_translate)"
   ]
  },
  {
   "cell_type": "code",
   "execution_count": 21,
   "metadata": {
    "colab": {
     "base_uri": "https://localhost:8080/",
     "height": 49,
     "referenced_widgets": [
      "d78b1e8f4d4f4c3a922744bd075d60d1",
      "be67492722df4324a4a5d7b9c6008738",
      "5c33f7483753484f8493e40816a876ac",
      "fb838a9e8b0d490abde1fae4f276d462",
      "7792109545314d2abc12277213bdf8a3",
      "39038801298f4e0ebd460c7e8e7997d6",
      "b5f743083b154c20b671c076d091c368",
      "6186ba0f391b4972b0e875b0c6df7422",
      "8ab61bd20c09469a9bf8d94681564a30",
      "301b753b74d442a7884afa6e127f1020",
      "2464e8ccc8ed4ac09491be09d3c263a4"
     ]
    },
    "id": "J11TChTF8GEX",
    "outputId": "06c7ab33-7be3-4f21-e382-005aeebff040"
   },
   "outputs": [
    {
     "data": {
      "application/vnd.jupyter.widget-view+json": {
       "model_id": "c18d5efa14f1409ea9dd6869503af2ce",
       "version_major": 2,
       "version_minor": 0
      },
      "text/plain": [
       "  0%|          | 0/152 [00:00<?, ?it/s]"
      ]
     },
     "metadata": {},
     "output_type": "display_data"
    }
   ],
   "source": [
    "batch_size = 50\n",
    "n = len(need_to_translate) // batch_size +1\n",
    "translated = []\n",
    "\n",
    "for i in notebook.tqdm(range(n)):\n",
    "    batch_texts =  need_to_translate['text_post'][batch_size*i:batch_size*(i+1)].to_list()\n",
    "    translated.append(GoogleTranslator('auto', 'ru').translate_batch(batch_texts))\n",
    "    dump(translated, 'translated.joblib')"
   ]
  },
  {
   "cell_type": "code",
   "execution_count": 27,
   "metadata": {},
   "outputs": [],
   "source": [
    "need_to_translate['translated_text'] = ''"
   ]
  },
  {
   "cell_type": "code",
   "execution_count": 29,
   "metadata": {
    "id": "2nYiFIJla0QR"
   },
   "outputs": [],
   "source": [
    "for i in range(len(translated)):\n",
    "    need_to_translate['translated_text'][batch_size*i:batch_size*(i+1)] = translated[i]"
   ]
  },
  {
   "cell_type": "code",
   "execution_count": 30,
   "metadata": {
    "id": "JN-aXOFqblwE"
   },
   "outputs": [
    {
     "data": {
      "text/html": [
       "<div>\n",
       "<style scoped>\n",
       "    .dataframe tbody tr th:only-of-type {\n",
       "        vertical-align: middle;\n",
       "    }\n",
       "\n",
       "    .dataframe tbody tr th {\n",
       "        vertical-align: top;\n",
       "    }\n",
       "\n",
       "    .dataframe thead th {\n",
       "        text-align: right;\n",
       "    }\n",
       "</style>\n",
       "<table border=\"1\" class=\"dataframe\">\n",
       "  <thead>\n",
       "    <tr style=\"text-align: right;\">\n",
       "      <th></th>\n",
       "      <th>url_user</th>\n",
       "      <th>text_post</th>\n",
       "      <th>language</th>\n",
       "      <th>translated_text</th>\n",
       "    </tr>\n",
       "  </thead>\n",
       "  <tbody>\n",
       "    <tr>\n",
       "      <th>11224</th>\n",
       "      <td>https://www.linkedin.com/in/andrei-susoev-535a...</td>\n",
       "      <td>View my verified achievement from The Linux Fo...</td>\n",
       "      <td>en</td>\n",
       "      <td>Посмотрите мое проверенное достижение от The L...</td>\n",
       "    </tr>\n",
       "    <tr>\n",
       "      <th>11225</th>\n",
       "      <td>https://www.linkedin.com/in/aleksey-knyazev-a2...</td>\n",
       "      <td>Hello everyone! I'm looking for a job and I’d ...</td>\n",
       "      <td>es</td>\n",
       "      <td>Всем привет! Я ищу работу, и я был бы признате...</td>\n",
       "    </tr>\n",
       "    <tr>\n",
       "      <th>11226</th>\n",
       "      <td>https://www.linkedin.com/in/ali-ramazanov</td>\n",
       "      <td>Hello everyone! I want to share with you a lin...</td>\n",
       "      <td>en</td>\n",
       "      <td>Всем привет! Хочу поделиться с вами ссылкой с ...</td>\n",
       "    </tr>\n",
       "    <tr>\n",
       "      <th>11227</th>\n",
       "      <td>https://www.linkedin.com/in/dm-bychkov</td>\n",
       "      <td>👉 𝗛𝗧𝗠𝗟 𝗖𝗼𝗺𝗽𝗹𝗲𝘁𝗲 𝗡𝗼𝘁𝗲𝘀 , 𝗘𝗮𝘀𝘆 𝘁𝗼 𝗹𝗲𝗮𝗿𝗻 .👉Follow...</td>\n",
       "      <td>en</td>\n",
       "      <td>👉 𝗛𝗧𝗠𝗟 𝗖𝗼𝗺𝗽𝗹𝗲𝘁𝗲 𝗡𝗼𝘁𝗲𝘀 , 𝗘𝗮𝘀𝘆 𝘁𝗼 𝗹𝗲𝗮𝗿 𝗻 .👉Подпи...</td>\n",
       "    </tr>\n",
       "    <tr>\n",
       "      <th>11228</th>\n",
       "      <td>https://www.linkedin.com/in/ankhanhi</td>\n",
       "      <td>Nice scheme</td>\n",
       "      <td>de</td>\n",
       "      <td>Хорошая схема</td>\n",
       "    </tr>\n",
       "    <tr>\n",
       "      <th>11229</th>\n",
       "      <td>https://www.linkedin.com/in/dm-bychkov</td>\n",
       "      <td>JavaScript Array Methods CheatSheet 📍This will...</td>\n",
       "      <td>en</td>\n",
       "      <td>Шпаргалка по методам массива JavaScript 📍Это п...</td>\n",
       "    </tr>\n",
       "    <tr>\n",
       "      <th>11230</th>\n",
       "      <td>https://www.linkedin.com/in/vladimirskabelkin</td>\n",
       "      <td>Have completed \"Supply Chain Analytics in Pyth...</td>\n",
       "      <td>en</td>\n",
       "      <td>Прошли курс «Аналитика цепочки поставок на Pyt...</td>\n",
       "    </tr>\n",
       "    <tr>\n",
       "      <th>11233</th>\n",
       "      <td>https://www.linkedin.com/in/sshkarin</td>\n",
       "      <td>DataCamp Generalized Linear Models in Python</td>\n",
       "      <td>en</td>\n",
       "      <td>Обобщенные линейные модели DataCamp в Python</td>\n",
       "    </tr>\n",
       "    <tr>\n",
       "      <th>11235</th>\n",
       "      <td>https://www.linkedin.com/in/vladimirskabelkin</td>\n",
       "      <td>We are looking for specialists to work on arti...</td>\n",
       "      <td>en</td>\n",
       "      <td>Мы ищем специалистов для работы над моделями и...</td>\n",
       "    </tr>\n",
       "    <tr>\n",
       "      <th>11236</th>\n",
       "      <td>https://www.linkedin.com/in/sshkarin</td>\n",
       "      <td>DataCamp</td>\n",
       "      <td>id</td>\n",
       "      <td>DataCamp</td>\n",
       "    </tr>\n",
       "  </tbody>\n",
       "</table>\n",
       "</div>"
      ],
      "text/plain": [
       "                                                url_user  \\\n",
       "11224  https://www.linkedin.com/in/andrei-susoev-535a...   \n",
       "11225  https://www.linkedin.com/in/aleksey-knyazev-a2...   \n",
       "11226          https://www.linkedin.com/in/ali-ramazanov   \n",
       "11227             https://www.linkedin.com/in/dm-bychkov   \n",
       "11228               https://www.linkedin.com/in/ankhanhi   \n",
       "11229             https://www.linkedin.com/in/dm-bychkov   \n",
       "11230      https://www.linkedin.com/in/vladimirskabelkin   \n",
       "11233               https://www.linkedin.com/in/sshkarin   \n",
       "11235      https://www.linkedin.com/in/vladimirskabelkin   \n",
       "11236               https://www.linkedin.com/in/sshkarin   \n",
       "\n",
       "                                               text_post language  \\\n",
       "11224  View my verified achievement from The Linux Fo...       en   \n",
       "11225  Hello everyone! I'm looking for a job and I’d ...       es   \n",
       "11226  Hello everyone! I want to share with you a lin...       en   \n",
       "11227  👉 𝗛𝗧𝗠𝗟 𝗖𝗼𝗺𝗽𝗹𝗲𝘁𝗲 𝗡𝗼𝘁𝗲𝘀 , 𝗘𝗮𝘀𝘆 𝘁𝗼 𝗹𝗲𝗮𝗿𝗻 .👉Follow...       en   \n",
       "11228                                        Nice scheme       de   \n",
       "11229  JavaScript Array Methods CheatSheet 📍This will...       en   \n",
       "11230  Have completed \"Supply Chain Analytics in Pyth...       en   \n",
       "11233       DataCamp Generalized Linear Models in Python       en   \n",
       "11235  We are looking for specialists to work on arti...       en   \n",
       "11236                                           DataCamp       id   \n",
       "\n",
       "                                         translated_text  \n",
       "11224  Посмотрите мое проверенное достижение от The L...  \n",
       "11225  Всем привет! Я ищу работу, и я был бы признате...  \n",
       "11226  Всем привет! Хочу поделиться с вами ссылкой с ...  \n",
       "11227  👉 𝗛𝗧𝗠𝗟 𝗖𝗼𝗺𝗽𝗹𝗲𝘁𝗲 𝗡𝗼𝘁𝗲𝘀 , 𝗘𝗮𝘀𝘆 𝘁𝗼 𝗹𝗲𝗮𝗿 𝗻 .👉Подпи...  \n",
       "11228                                      Хорошая схема  \n",
       "11229  Шпаргалка по методам массива JavaScript 📍Это п...  \n",
       "11230  Прошли курс «Аналитика цепочки поставок на Pyt...  \n",
       "11233       Обобщенные линейные модели DataCamp в Python  \n",
       "11235  Мы ищем специалистов для работы над моделями и...  \n",
       "11236                                           DataCamp  "
      ]
     },
     "execution_count": 30,
     "metadata": {},
     "output_type": "execute_result"
    }
   ],
   "source": [
    "need_to_translate.tail(10)"
   ]
  },
  {
   "cell_type": "code",
   "execution_count": 31,
   "metadata": {},
   "outputs": [],
   "source": [
    "no_need_to_translate['translated_text'] = no_need_to_translate['text_post']"
   ]
  },
  {
   "cell_type": "code",
   "execution_count": 34,
   "metadata": {},
   "outputs": [
    {
     "data": {
      "text/html": [
       "<div>\n",
       "<style scoped>\n",
       "    .dataframe tbody tr th:only-of-type {\n",
       "        vertical-align: middle;\n",
       "    }\n",
       "\n",
       "    .dataframe tbody tr th {\n",
       "        vertical-align: top;\n",
       "    }\n",
       "\n",
       "    .dataframe thead th {\n",
       "        text-align: right;\n",
       "    }\n",
       "</style>\n",
       "<table border=\"1\" class=\"dataframe\">\n",
       "  <thead>\n",
       "    <tr style=\"text-align: right;\">\n",
       "      <th></th>\n",
       "      <th>url_user</th>\n",
       "      <th>text_post</th>\n",
       "      <th>language</th>\n",
       "      <th>translated_text</th>\n",
       "    </tr>\n",
       "  </thead>\n",
       "  <tbody>\n",
       "    <tr>\n",
       "      <th>1</th>\n",
       "      <td>https://www.linkedin.com/in/korenevich/</td>\n",
       "      <td>['Приложение которое из голоса раскидывает зад...</td>\n",
       "      <td>ru</td>\n",
       "      <td>['Приложение которое из голоса раскидывает зад...</td>\n",
       "    </tr>\n",
       "    <tr>\n",
       "      <th>2</th>\n",
       "      <td>https://www.linkedin.com/in/korenevich/</td>\n",
       "      <td>'Почему основатель любого бизнеса обязан умет...</td>\n",
       "      <td>ru</td>\n",
       "      <td>'Почему основатель любого бизнеса обязан умет...</td>\n",
       "    </tr>\n",
       "    <tr>\n",
       "      <th>3</th>\n",
       "      <td>https://www.linkedin.com/in/korenevich/</td>\n",
       "      <td>'Казнить нельзя помиловать. Навык #9 – принят...</td>\n",
       "      <td>ru</td>\n",
       "      <td>'Казнить нельзя помиловать. Навык #9 – принят...</td>\n",
       "    </tr>\n",
       "    <tr>\n",
       "      <th>4</th>\n",
       "      <td>https://www.linkedin.com/in/korenevich/</td>\n",
       "      <td>'Кто хорошо потрудился на этой неделе, тот я....</td>\n",
       "      <td>ru</td>\n",
       "      <td>'Кто хорошо потрудился на этой неделе, тот я....</td>\n",
       "    </tr>\n",
       "    <tr>\n",
       "      <th>5</th>\n",
       "      <td>https://www.linkedin.com/in/korenevich/</td>\n",
       "      <td>'Сегодня была защита дипломных работ на кафед...</td>\n",
       "      <td>ru</td>\n",
       "      <td>'Сегодня была защита дипломных работ на кафед...</td>\n",
       "    </tr>\n",
       "  </tbody>\n",
       "</table>\n",
       "</div>"
      ],
      "text/plain": [
       "                                  url_user  \\\n",
       "1  https://www.linkedin.com/in/korenevich/   \n",
       "2  https://www.linkedin.com/in/korenevich/   \n",
       "3  https://www.linkedin.com/in/korenevich/   \n",
       "4  https://www.linkedin.com/in/korenevich/   \n",
       "5  https://www.linkedin.com/in/korenevich/   \n",
       "\n",
       "                                           text_post language  \\\n",
       "1  ['Приложение которое из голоса раскидывает зад...       ru   \n",
       "2   'Почему основатель любого бизнеса обязан умет...       ru   \n",
       "3   'Казнить нельзя помиловать. Навык #9 – принят...       ru   \n",
       "4   'Кто хорошо потрудился на этой неделе, тот я....       ru   \n",
       "5   'Сегодня была защита дипломных работ на кафед...       ru   \n",
       "\n",
       "                                     translated_text  \n",
       "1  ['Приложение которое из голоса раскидывает зад...  \n",
       "2   'Почему основатель любого бизнеса обязан умет...  \n",
       "3   'Казнить нельзя помиловать. Навык #9 – принят...  \n",
       "4   'Кто хорошо потрудился на этой неделе, тот я....  \n",
       "5   'Сегодня была защита дипломных работ на кафед...  "
      ]
     },
     "execution_count": 34,
     "metadata": {},
     "output_type": "execute_result"
    }
   ],
   "source": [
    "result = pd.concat([no_need_to_translate, need_to_translate])\n",
    "result.head()"
   ]
  },
  {
   "cell_type": "code",
   "execution_count": 35,
   "metadata": {},
   "outputs": [
    {
     "data": {
      "text/plain": [
       "(11146, 4)"
      ]
     },
     "execution_count": 35,
     "metadata": {},
     "output_type": "execute_result"
    }
   ],
   "source": [
    "result.shape"
   ]
  },
  {
   "cell_type": "code",
   "execution_count": 36,
   "metadata": {
    "id": "X49k1qOEzBxl"
   },
   "outputs": [],
   "source": [
    "result.to_csv('all_data_translated.csv', index = False)"
   ]
  },
  {
   "cell_type": "code",
   "execution_count": 37,
   "metadata": {
    "colab": {
     "base_uri": "https://localhost:8080/",
     "height": 206
    },
    "executionInfo": {
     "elapsed": 9,
     "status": "ok",
     "timestamp": 1684430574483,
     "user": {
      "displayName": "Сафия Зигангареева",
      "userId": "08713788407500959319"
     },
     "user_tz": -180
    },
    "id": "g2W-gojve0EH",
    "outputId": "f9870c31-2fb5-4926-caef-b1719319e985"
   },
   "outputs": [
    {
     "data": {
      "text/html": [
       "<div>\n",
       "<style scoped>\n",
       "    .dataframe tbody tr th:only-of-type {\n",
       "        vertical-align: middle;\n",
       "    }\n",
       "\n",
       "    .dataframe tbody tr th {\n",
       "        vertical-align: top;\n",
       "    }\n",
       "\n",
       "    .dataframe thead th {\n",
       "        text-align: right;\n",
       "    }\n",
       "</style>\n",
       "<table border=\"1\" class=\"dataframe\">\n",
       "  <thead>\n",
       "    <tr style=\"text-align: right;\">\n",
       "      <th></th>\n",
       "      <th>url_user</th>\n",
       "      <th>text_post</th>\n",
       "      <th>language</th>\n",
       "      <th>translated_text</th>\n",
       "    </tr>\n",
       "  </thead>\n",
       "  <tbody>\n",
       "    <tr>\n",
       "      <th>0</th>\n",
       "      <td>https://www.linkedin.com/in/korenevich/</td>\n",
       "      <td>['Приложение которое из голоса раскидывает зад...</td>\n",
       "      <td>ru</td>\n",
       "      <td>['Приложение которое из голоса раскидывает зад...</td>\n",
       "    </tr>\n",
       "    <tr>\n",
       "      <th>1</th>\n",
       "      <td>https://www.linkedin.com/in/korenevich/</td>\n",
       "      <td>'Почему основатель любого бизнеса обязан умет...</td>\n",
       "      <td>ru</td>\n",
       "      <td>'Почему основатель любого бизнеса обязан умет...</td>\n",
       "    </tr>\n",
       "    <tr>\n",
       "      <th>2</th>\n",
       "      <td>https://www.linkedin.com/in/korenevich/</td>\n",
       "      <td>'Казнить нельзя помиловать. Навык #9 – принят...</td>\n",
       "      <td>ru</td>\n",
       "      <td>'Казнить нельзя помиловать. Навык #9 – принят...</td>\n",
       "    </tr>\n",
       "    <tr>\n",
       "      <th>3</th>\n",
       "      <td>https://www.linkedin.com/in/korenevich/</td>\n",
       "      <td>'Кто хорошо потрудился на этой неделе, тот я....</td>\n",
       "      <td>ru</td>\n",
       "      <td>'Кто хорошо потрудился на этой неделе, тот я....</td>\n",
       "    </tr>\n",
       "    <tr>\n",
       "      <th>4</th>\n",
       "      <td>https://www.linkedin.com/in/korenevich/</td>\n",
       "      <td>'Сегодня была защита дипломных работ на кафед...</td>\n",
       "      <td>ru</td>\n",
       "      <td>'Сегодня была защита дипломных работ на кафед...</td>\n",
       "    </tr>\n",
       "  </tbody>\n",
       "</table>\n",
       "</div>"
      ],
      "text/plain": [
       "                                  url_user  \\\n",
       "0  https://www.linkedin.com/in/korenevich/   \n",
       "1  https://www.linkedin.com/in/korenevich/   \n",
       "2  https://www.linkedin.com/in/korenevich/   \n",
       "3  https://www.linkedin.com/in/korenevich/   \n",
       "4  https://www.linkedin.com/in/korenevich/   \n",
       "\n",
       "                                           text_post language  \\\n",
       "0  ['Приложение которое из голоса раскидывает зад...       ru   \n",
       "1   'Почему основатель любого бизнеса обязан умет...       ru   \n",
       "2   'Казнить нельзя помиловать. Навык #9 – принят...       ru   \n",
       "3   'Кто хорошо потрудился на этой неделе, тот я....       ru   \n",
       "4   'Сегодня была защита дипломных работ на кафед...       ru   \n",
       "\n",
       "                                     translated_text  \n",
       "0  ['Приложение которое из голоса раскидывает зад...  \n",
       "1   'Почему основатель любого бизнеса обязан умет...  \n",
       "2   'Казнить нельзя помиловать. Навык #9 – принят...  \n",
       "3   'Кто хорошо потрудился на этой неделе, тот я....  \n",
       "4   'Сегодня была защита дипломных работ на кафед...  "
      ]
     },
     "execution_count": 37,
     "metadata": {},
     "output_type": "execute_result"
    }
   ],
   "source": [
    "df = pd.read_csv('all_data_translated.csv')\n",
    "df.head()"
   ]
  }
 ],
 "metadata": {
  "colab": {
   "provenance": [
    {
     "file_id": "180J7oocVCZdmZRsPUoGjJBxxkw1Hgq7Z",
     "timestamp": 1684310277183
    },
    {
     "file_id": "1ArON1qPiPQza4dEeW3Vi-uz8aLhXY-Qc",
     "timestamp": 1684151167899
    },
    {
     "file_id": "1u--o-XUKZ-8fiRxv_2nkt31lQthfvrDc",
     "timestamp": 1684067997213
    },
    {
     "file_id": "12bnBdWP_IckOkIRa_P9ukdM_tstNin5i",
     "timestamp": 1683648307340
    }
   ]
  },
  "gpuClass": "standard",
  "kernelspec": {
   "display_name": "Python 3 (ipykernel)",
   "language": "python",
   "name": "python3"
  },
  "language_info": {
   "codemirror_mode": {
    "name": "ipython",
    "version": 3
   },
   "file_extension": ".py",
   "mimetype": "text/x-python",
   "name": "python",
   "nbconvert_exporter": "python",
   "pygments_lexer": "ipython3",
   "version": "3.11.3"
  },
  "widgets": {
   "application/vnd.jupyter.widget-state+json": {
    "0b10ee953ddb4aac9c90a93ed5183ee4": {
     "model_module": "@jupyter-widgets/controls",
     "model_module_version": "1.5.0",
     "model_name": "HTMLModel",
     "state": {
      "_dom_classes": [],
      "_model_module": "@jupyter-widgets/controls",
      "_model_module_version": "1.5.0",
      "_model_name": "HTMLModel",
      "_view_count": null,
      "_view_module": "@jupyter-widgets/controls",
      "_view_module_version": "1.5.0",
      "_view_name": "HTMLView",
      "description": "",
      "description_tooltip": null,
      "layout": "IPY_MODEL_850d54f3ec2847b4955b1acf32f7460f",
      "placeholder": "​",
      "style": "IPY_MODEL_299cfa7a06c04638b76b2b2d7aed291a",
      "value": " 499530/499530 [42:42&lt;00:00, 228.56it/s]"
     }
    },
    "0fb18586084e4bc0b547f86a678a6529": {
     "model_module": "@jupyter-widgets/controls",
     "model_module_version": "1.5.0",
     "model_name": "DescriptionStyleModel",
     "state": {
      "_model_module": "@jupyter-widgets/controls",
      "_model_module_version": "1.5.0",
      "_model_name": "DescriptionStyleModel",
      "_view_count": null,
      "_view_module": "@jupyter-widgets/base",
      "_view_module_version": "1.2.0",
      "_view_name": "StyleView",
      "description_width": ""
     }
    },
    "2464e8ccc8ed4ac09491be09d3c263a4": {
     "model_module": "@jupyter-widgets/controls",
     "model_module_version": "1.5.0",
     "model_name": "DescriptionStyleModel",
     "state": {
      "_model_module": "@jupyter-widgets/controls",
      "_model_module_version": "1.5.0",
      "_model_name": "DescriptionStyleModel",
      "_view_count": null,
      "_view_module": "@jupyter-widgets/base",
      "_view_module_version": "1.2.0",
      "_view_name": "StyleView",
      "description_width": ""
     }
    },
    "299cfa7a06c04638b76b2b2d7aed291a": {
     "model_module": "@jupyter-widgets/controls",
     "model_module_version": "1.5.0",
     "model_name": "DescriptionStyleModel",
     "state": {
      "_model_module": "@jupyter-widgets/controls",
      "_model_module_version": "1.5.0",
      "_model_name": "DescriptionStyleModel",
      "_view_count": null,
      "_view_module": "@jupyter-widgets/base",
      "_view_module_version": "1.2.0",
      "_view_name": "StyleView",
      "description_width": ""
     }
    },
    "29b8f06845c24a8daa48b57f10a1af69": {
     "model_module": "@jupyter-widgets/controls",
     "model_module_version": "1.5.0",
     "model_name": "HBoxModel",
     "state": {
      "_dom_classes": [],
      "_model_module": "@jupyter-widgets/controls",
      "_model_module_version": "1.5.0",
      "_model_name": "HBoxModel",
      "_view_count": null,
      "_view_module": "@jupyter-widgets/controls",
      "_view_module_version": "1.5.0",
      "_view_name": "HBoxView",
      "box_style": "",
      "children": [
       "IPY_MODEL_5961b9c64fac44109e823b0840e2dc7e",
       "IPY_MODEL_8570576111f1411ca84740c36a0e7537",
       "IPY_MODEL_0b10ee953ddb4aac9c90a93ed5183ee4"
      ],
      "layout": "IPY_MODEL_a4f88e33893845d0ab40c65bda646cb8"
     }
    },
    "301b753b74d442a7884afa6e127f1020": {
     "model_module": "@jupyter-widgets/base",
     "model_module_version": "1.2.0",
     "model_name": "LayoutModel",
     "state": {
      "_model_module": "@jupyter-widgets/base",
      "_model_module_version": "1.2.0",
      "_model_name": "LayoutModel",
      "_view_count": null,
      "_view_module": "@jupyter-widgets/base",
      "_view_module_version": "1.2.0",
      "_view_name": "LayoutView",
      "align_content": null,
      "align_items": null,
      "align_self": null,
      "border": null,
      "bottom": null,
      "display": null,
      "flex": null,
      "flex_flow": null,
      "grid_area": null,
      "grid_auto_columns": null,
      "grid_auto_flow": null,
      "grid_auto_rows": null,
      "grid_column": null,
      "grid_gap": null,
      "grid_row": null,
      "grid_template_areas": null,
      "grid_template_columns": null,
      "grid_template_rows": null,
      "height": null,
      "justify_content": null,
      "justify_items": null,
      "left": null,
      "margin": null,
      "max_height": null,
      "max_width": null,
      "min_height": null,
      "min_width": null,
      "object_fit": null,
      "object_position": null,
      "order": null,
      "overflow": null,
      "overflow_x": null,
      "overflow_y": null,
      "padding": null,
      "right": null,
      "top": null,
      "visibility": null,
      "width": null
     }
    },
    "39038801298f4e0ebd460c7e8e7997d6": {
     "model_module": "@jupyter-widgets/base",
     "model_module_version": "1.2.0",
     "model_name": "LayoutModel",
     "state": {
      "_model_module": "@jupyter-widgets/base",
      "_model_module_version": "1.2.0",
      "_model_name": "LayoutModel",
      "_view_count": null,
      "_view_module": "@jupyter-widgets/base",
      "_view_module_version": "1.2.0",
      "_view_name": "LayoutView",
      "align_content": null,
      "align_items": null,
      "align_self": null,
      "border": null,
      "bottom": null,
      "display": null,
      "flex": null,
      "flex_flow": null,
      "grid_area": null,
      "grid_auto_columns": null,
      "grid_auto_flow": null,
      "grid_auto_rows": null,
      "grid_column": null,
      "grid_gap": null,
      "grid_row": null,
      "grid_template_areas": null,
      "grid_template_columns": null,
      "grid_template_rows": null,
      "height": null,
      "justify_content": null,
      "justify_items": null,
      "left": null,
      "margin": null,
      "max_height": null,
      "max_width": null,
      "min_height": null,
      "min_width": null,
      "object_fit": null,
      "object_position": null,
      "order": null,
      "overflow": null,
      "overflow_x": null,
      "overflow_y": null,
      "padding": null,
      "right": null,
      "top": null,
      "visibility": null,
      "width": null
     }
    },
    "4965a93ba8524adaa4d7f618a684d39f": {
     "model_module": "@jupyter-widgets/controls",
     "model_module_version": "1.5.0",
     "model_name": "ProgressStyleModel",
     "state": {
      "_model_module": "@jupyter-widgets/controls",
      "_model_module_version": "1.5.0",
      "_model_name": "ProgressStyleModel",
      "_view_count": null,
      "_view_module": "@jupyter-widgets/base",
      "_view_module_version": "1.2.0",
      "_view_name": "StyleView",
      "bar_color": null,
      "description_width": ""
     }
    },
    "4b44e1291a184791b26b8b183991b864": {
     "model_module": "@jupyter-widgets/base",
     "model_module_version": "1.2.0",
     "model_name": "LayoutModel",
     "state": {
      "_model_module": "@jupyter-widgets/base",
      "_model_module_version": "1.2.0",
      "_model_name": "LayoutModel",
      "_view_count": null,
      "_view_module": "@jupyter-widgets/base",
      "_view_module_version": "1.2.0",
      "_view_name": "LayoutView",
      "align_content": null,
      "align_items": null,
      "align_self": null,
      "border": null,
      "bottom": null,
      "display": null,
      "flex": null,
      "flex_flow": null,
      "grid_area": null,
      "grid_auto_columns": null,
      "grid_auto_flow": null,
      "grid_auto_rows": null,
      "grid_column": null,
      "grid_gap": null,
      "grid_row": null,
      "grid_template_areas": null,
      "grid_template_columns": null,
      "grid_template_rows": null,
      "height": null,
      "justify_content": null,
      "justify_items": null,
      "left": null,
      "margin": null,
      "max_height": null,
      "max_width": null,
      "min_height": null,
      "min_width": null,
      "object_fit": null,
      "object_position": null,
      "order": null,
      "overflow": null,
      "overflow_x": null,
      "overflow_y": null,
      "padding": null,
      "right": null,
      "top": null,
      "visibility": null,
      "width": null
     }
    },
    "5961b9c64fac44109e823b0840e2dc7e": {
     "model_module": "@jupyter-widgets/controls",
     "model_module_version": "1.5.0",
     "model_name": "HTMLModel",
     "state": {
      "_dom_classes": [],
      "_model_module": "@jupyter-widgets/controls",
      "_model_module_version": "1.5.0",
      "_model_name": "HTMLModel",
      "_view_count": null,
      "_view_module": "@jupyter-widgets/controls",
      "_view_module_version": "1.5.0",
      "_view_name": "HTMLView",
      "description": "",
      "description_tooltip": null,
      "layout": "IPY_MODEL_d01c8cbc6b1242d79115185706d606dc",
      "placeholder": "​",
      "style": "IPY_MODEL_0fb18586084e4bc0b547f86a678a6529",
      "value": "100%"
     }
    },
    "5c33f7483753484f8493e40816a876ac": {
     "model_module": "@jupyter-widgets/controls",
     "model_module_version": "1.5.0",
     "model_name": "FloatProgressModel",
     "state": {
      "_dom_classes": [],
      "_model_module": "@jupyter-widgets/controls",
      "_model_module_version": "1.5.0",
      "_model_name": "FloatProgressModel",
      "_view_count": null,
      "_view_module": "@jupyter-widgets/controls",
      "_view_module_version": "1.5.0",
      "_view_name": "ProgressView",
      "bar_style": "",
      "description": "",
      "description_tooltip": null,
      "layout": "IPY_MODEL_6186ba0f391b4972b0e875b0c6df7422",
      "max": 340,
      "min": 0,
      "orientation": "horizontal",
      "style": "IPY_MODEL_8ab61bd20c09469a9bf8d94681564a30",
      "value": 237
     }
    },
    "6186ba0f391b4972b0e875b0c6df7422": {
     "model_module": "@jupyter-widgets/base",
     "model_module_version": "1.2.0",
     "model_name": "LayoutModel",
     "state": {
      "_model_module": "@jupyter-widgets/base",
      "_model_module_version": "1.2.0",
      "_model_name": "LayoutModel",
      "_view_count": null,
      "_view_module": "@jupyter-widgets/base",
      "_view_module_version": "1.2.0",
      "_view_name": "LayoutView",
      "align_content": null,
      "align_items": null,
      "align_self": null,
      "border": null,
      "bottom": null,
      "display": null,
      "flex": null,
      "flex_flow": null,
      "grid_area": null,
      "grid_auto_columns": null,
      "grid_auto_flow": null,
      "grid_auto_rows": null,
      "grid_column": null,
      "grid_gap": null,
      "grid_row": null,
      "grid_template_areas": null,
      "grid_template_columns": null,
      "grid_template_rows": null,
      "height": null,
      "justify_content": null,
      "justify_items": null,
      "left": null,
      "margin": null,
      "max_height": null,
      "max_width": null,
      "min_height": null,
      "min_width": null,
      "object_fit": null,
      "object_position": null,
      "order": null,
      "overflow": null,
      "overflow_x": null,
      "overflow_y": null,
      "padding": null,
      "right": null,
      "top": null,
      "visibility": null,
      "width": null
     }
    },
    "7792109545314d2abc12277213bdf8a3": {
     "model_module": "@jupyter-widgets/base",
     "model_module_version": "1.2.0",
     "model_name": "LayoutModel",
     "state": {
      "_model_module": "@jupyter-widgets/base",
      "_model_module_version": "1.2.0",
      "_model_name": "LayoutModel",
      "_view_count": null,
      "_view_module": "@jupyter-widgets/base",
      "_view_module_version": "1.2.0",
      "_view_name": "LayoutView",
      "align_content": null,
      "align_items": null,
      "align_self": null,
      "border": null,
      "bottom": null,
      "display": null,
      "flex": null,
      "flex_flow": null,
      "grid_area": null,
      "grid_auto_columns": null,
      "grid_auto_flow": null,
      "grid_auto_rows": null,
      "grid_column": null,
      "grid_gap": null,
      "grid_row": null,
      "grid_template_areas": null,
      "grid_template_columns": null,
      "grid_template_rows": null,
      "height": null,
      "justify_content": null,
      "justify_items": null,
      "left": null,
      "margin": null,
      "max_height": null,
      "max_width": null,
      "min_height": null,
      "min_width": null,
      "object_fit": null,
      "object_position": null,
      "order": null,
      "overflow": null,
      "overflow_x": null,
      "overflow_y": null,
      "padding": null,
      "right": null,
      "top": null,
      "visibility": null,
      "width": null
     }
    },
    "850d54f3ec2847b4955b1acf32f7460f": {
     "model_module": "@jupyter-widgets/base",
     "model_module_version": "1.2.0",
     "model_name": "LayoutModel",
     "state": {
      "_model_module": "@jupyter-widgets/base",
      "_model_module_version": "1.2.0",
      "_model_name": "LayoutModel",
      "_view_count": null,
      "_view_module": "@jupyter-widgets/base",
      "_view_module_version": "1.2.0",
      "_view_name": "LayoutView",
      "align_content": null,
      "align_items": null,
      "align_self": null,
      "border": null,
      "bottom": null,
      "display": null,
      "flex": null,
      "flex_flow": null,
      "grid_area": null,
      "grid_auto_columns": null,
      "grid_auto_flow": null,
      "grid_auto_rows": null,
      "grid_column": null,
      "grid_gap": null,
      "grid_row": null,
      "grid_template_areas": null,
      "grid_template_columns": null,
      "grid_template_rows": null,
      "height": null,
      "justify_content": null,
      "justify_items": null,
      "left": null,
      "margin": null,
      "max_height": null,
      "max_width": null,
      "min_height": null,
      "min_width": null,
      "object_fit": null,
      "object_position": null,
      "order": null,
      "overflow": null,
      "overflow_x": null,
      "overflow_y": null,
      "padding": null,
      "right": null,
      "top": null,
      "visibility": null,
      "width": null
     }
    },
    "8570576111f1411ca84740c36a0e7537": {
     "model_module": "@jupyter-widgets/controls",
     "model_module_version": "1.5.0",
     "model_name": "FloatProgressModel",
     "state": {
      "_dom_classes": [],
      "_model_module": "@jupyter-widgets/controls",
      "_model_module_version": "1.5.0",
      "_model_name": "FloatProgressModel",
      "_view_count": null,
      "_view_module": "@jupyter-widgets/controls",
      "_view_module_version": "1.5.0",
      "_view_name": "ProgressView",
      "bar_style": "success",
      "description": "",
      "description_tooltip": null,
      "layout": "IPY_MODEL_4b44e1291a184791b26b8b183991b864",
      "max": 499530,
      "min": 0,
      "orientation": "horizontal",
      "style": "IPY_MODEL_4965a93ba8524adaa4d7f618a684d39f",
      "value": 499530
     }
    },
    "8ab61bd20c09469a9bf8d94681564a30": {
     "model_module": "@jupyter-widgets/controls",
     "model_module_version": "1.5.0",
     "model_name": "ProgressStyleModel",
     "state": {
      "_model_module": "@jupyter-widgets/controls",
      "_model_module_version": "1.5.0",
      "_model_name": "ProgressStyleModel",
      "_view_count": null,
      "_view_module": "@jupyter-widgets/base",
      "_view_module_version": "1.2.0",
      "_view_name": "StyleView",
      "bar_color": null,
      "description_width": ""
     }
    },
    "a4f88e33893845d0ab40c65bda646cb8": {
     "model_module": "@jupyter-widgets/base",
     "model_module_version": "1.2.0",
     "model_name": "LayoutModel",
     "state": {
      "_model_module": "@jupyter-widgets/base",
      "_model_module_version": "1.2.0",
      "_model_name": "LayoutModel",
      "_view_count": null,
      "_view_module": "@jupyter-widgets/base",
      "_view_module_version": "1.2.0",
      "_view_name": "LayoutView",
      "align_content": null,
      "align_items": null,
      "align_self": null,
      "border": null,
      "bottom": null,
      "display": null,
      "flex": null,
      "flex_flow": null,
      "grid_area": null,
      "grid_auto_columns": null,
      "grid_auto_flow": null,
      "grid_auto_rows": null,
      "grid_column": null,
      "grid_gap": null,
      "grid_row": null,
      "grid_template_areas": null,
      "grid_template_columns": null,
      "grid_template_rows": null,
      "height": null,
      "justify_content": null,
      "justify_items": null,
      "left": null,
      "margin": null,
      "max_height": null,
      "max_width": null,
      "min_height": null,
      "min_width": null,
      "object_fit": null,
      "object_position": null,
      "order": null,
      "overflow": null,
      "overflow_x": null,
      "overflow_y": null,
      "padding": null,
      "right": null,
      "top": null,
      "visibility": null,
      "width": null
     }
    },
    "b5f743083b154c20b671c076d091c368": {
     "model_module": "@jupyter-widgets/controls",
     "model_module_version": "1.5.0",
     "model_name": "DescriptionStyleModel",
     "state": {
      "_model_module": "@jupyter-widgets/controls",
      "_model_module_version": "1.5.0",
      "_model_name": "DescriptionStyleModel",
      "_view_count": null,
      "_view_module": "@jupyter-widgets/base",
      "_view_module_version": "1.2.0",
      "_view_name": "StyleView",
      "description_width": ""
     }
    },
    "be67492722df4324a4a5d7b9c6008738": {
     "model_module": "@jupyter-widgets/controls",
     "model_module_version": "1.5.0",
     "model_name": "HTMLModel",
     "state": {
      "_dom_classes": [],
      "_model_module": "@jupyter-widgets/controls",
      "_model_module_version": "1.5.0",
      "_model_name": "HTMLModel",
      "_view_count": null,
      "_view_module": "@jupyter-widgets/controls",
      "_view_module_version": "1.5.0",
      "_view_name": "HTMLView",
      "description": "",
      "description_tooltip": null,
      "layout": "IPY_MODEL_39038801298f4e0ebd460c7e8e7997d6",
      "placeholder": "​",
      "style": "IPY_MODEL_b5f743083b154c20b671c076d091c368",
      "value": " 70%"
     }
    },
    "d01c8cbc6b1242d79115185706d606dc": {
     "model_module": "@jupyter-widgets/base",
     "model_module_version": "1.2.0",
     "model_name": "LayoutModel",
     "state": {
      "_model_module": "@jupyter-widgets/base",
      "_model_module_version": "1.2.0",
      "_model_name": "LayoutModel",
      "_view_count": null,
      "_view_module": "@jupyter-widgets/base",
      "_view_module_version": "1.2.0",
      "_view_name": "LayoutView",
      "align_content": null,
      "align_items": null,
      "align_self": null,
      "border": null,
      "bottom": null,
      "display": null,
      "flex": null,
      "flex_flow": null,
      "grid_area": null,
      "grid_auto_columns": null,
      "grid_auto_flow": null,
      "grid_auto_rows": null,
      "grid_column": null,
      "grid_gap": null,
      "grid_row": null,
      "grid_template_areas": null,
      "grid_template_columns": null,
      "grid_template_rows": null,
      "height": null,
      "justify_content": null,
      "justify_items": null,
      "left": null,
      "margin": null,
      "max_height": null,
      "max_width": null,
      "min_height": null,
      "min_width": null,
      "object_fit": null,
      "object_position": null,
      "order": null,
      "overflow": null,
      "overflow_x": null,
      "overflow_y": null,
      "padding": null,
      "right": null,
      "top": null,
      "visibility": null,
      "width": null
     }
    },
    "d78b1e8f4d4f4c3a922744bd075d60d1": {
     "model_module": "@jupyter-widgets/controls",
     "model_module_version": "1.5.0",
     "model_name": "HBoxModel",
     "state": {
      "_dom_classes": [],
      "_model_module": "@jupyter-widgets/controls",
      "_model_module_version": "1.5.0",
      "_model_name": "HBoxModel",
      "_view_count": null,
      "_view_module": "@jupyter-widgets/controls",
      "_view_module_version": "1.5.0",
      "_view_name": "HBoxView",
      "box_style": "",
      "children": [
       "IPY_MODEL_be67492722df4324a4a5d7b9c6008738",
       "IPY_MODEL_5c33f7483753484f8493e40816a876ac",
       "IPY_MODEL_fb838a9e8b0d490abde1fae4f276d462"
      ],
      "layout": "IPY_MODEL_7792109545314d2abc12277213bdf8a3"
     }
    },
    "fb838a9e8b0d490abde1fae4f276d462": {
     "model_module": "@jupyter-widgets/controls",
     "model_module_version": "1.5.0",
     "model_name": "HTMLModel",
     "state": {
      "_dom_classes": [],
      "_model_module": "@jupyter-widgets/controls",
      "_model_module_version": "1.5.0",
      "_model_name": "HTMLModel",
      "_view_count": null,
      "_view_module": "@jupyter-widgets/controls",
      "_view_module_version": "1.5.0",
      "_view_name": "HTMLView",
      "description": "",
      "description_tooltip": null,
      "layout": "IPY_MODEL_301b753b74d442a7884afa6e127f1020",
      "placeholder": "​",
      "style": "IPY_MODEL_2464e8ccc8ed4ac09491be09d3c263a4",
      "value": " 237/340 [5:20:14&lt;4:11:12, 146.34s/it]"
     }
    }
   }
  }
 },
 "nbformat": 4,
 "nbformat_minor": 1
}
