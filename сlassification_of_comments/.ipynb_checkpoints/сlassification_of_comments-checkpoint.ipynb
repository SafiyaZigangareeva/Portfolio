{
 "cells": [
  {
   "cell_type": "markdown",
   "metadata": {
    "toc": true
   },
   "source": [
    "<h1>Содержание<span class=\"tocSkip\"></span></h1>\n",
    "<div class=\"toc\"><ul class=\"toc-item\"><li><span><a href=\"#Описание-проекта--и-цель\" data-toc-modified-id=\"Описание-проекта--и-цель-1\"><span class=\"toc-item-num\">1&nbsp;&nbsp;</span>Описание проекта  и цель</a></span></li><li><span><a href=\"#Описание-данных\" data-toc-modified-id=\"Описание-данных-2\"><span class=\"toc-item-num\">2&nbsp;&nbsp;</span>Описание данных</a></span></li><li><span><a href=\"#План-работы\" data-toc-modified-id=\"План-работы-3\"><span class=\"toc-item-num\">3&nbsp;&nbsp;</span>План работы</a></span></li><li><span><a href=\"#Подготовка\" data-toc-modified-id=\"Подготовка-4\"><span class=\"toc-item-num\">4&nbsp;&nbsp;</span>Подготовка</a></span><ul class=\"toc-item\"><li><span><a href=\"#Загрузка-данных\" data-toc-modified-id=\"Загрузка-данных-4.1\"><span class=\"toc-item-num\">4.1&nbsp;&nbsp;</span>Загрузка данных</a></span></li><li><span><a href=\"#Подготовим-датасет-для-TF-IDF\" data-toc-modified-id=\"Подготовим-датасет-для-TF-IDF-4.2\"><span class=\"toc-item-num\">4.2&nbsp;&nbsp;</span>Подготовим датасет для TF-IDF</a></span><ul class=\"toc-item\"><li><span><a href=\"#Feature-engenering\" data-toc-modified-id=\"Feature-engenering-4.2.1\"><span class=\"toc-item-num\">4.2.1&nbsp;&nbsp;</span>Feature engenering</a></span></li></ul></li><li><span><a href=\"#Подготовим-датасет-для-BERT\" data-toc-modified-id=\"Подготовим-датасет-для-BERT-4.3\"><span class=\"toc-item-num\">4.3&nbsp;&nbsp;</span>Подготовим датасет для BERT</a></span><ul class=\"toc-item\"><li><span><a href=\"#Пример-кода-на-выборке-для-создания-эмбеддингов\" data-toc-modified-id=\"Пример-кода-на-выборке-для-создания-эмбеддингов-4.3.1\"><span class=\"toc-item-num\">4.3.1&nbsp;&nbsp;</span>Пример кода на выборке для создания эмбеддингов</a></span></li><li><span><a href=\"#Готовый-файл-с-эмбеддингами-из-colab\" data-toc-modified-id=\"Готовый-файл-с-эмбеддингами-из-colab-4.3.2\"><span class=\"toc-item-num\">4.3.2&nbsp;&nbsp;</span>Готовый файл с эмбеддингами из colab</a></span></li></ul></li></ul></li><li><span><a href=\"#Обучение\" data-toc-modified-id=\"Обучение-5\"><span class=\"toc-item-num\">5&nbsp;&nbsp;</span>Обучение</a></span><ul class=\"toc-item\"><li><span><a href=\"#Обучение-TF-IDF\" data-toc-modified-id=\"Обучение-TF-IDF-5.1\"><span class=\"toc-item-num\">5.1&nbsp;&nbsp;</span>Обучение TF-IDF</a></span></li><li><span><a href=\"#Обучение-после-BERT\" data-toc-modified-id=\"Обучение-после-BERT-5.2\"><span class=\"toc-item-num\">5.2&nbsp;&nbsp;</span>Обучение после BERT</a></span><ul class=\"toc-item\"><li><span><a href=\"#Тестирование-модели\" data-toc-modified-id=\"Тестирование-модели-5.2.1\"><span class=\"toc-item-num\">5.2.1&nbsp;&nbsp;</span>Тестирование модели</a></span></li></ul></li></ul></li><li><span><a href=\"#Выводы\" data-toc-modified-id=\"Выводы-6\"><span class=\"toc-item-num\">6&nbsp;&nbsp;</span>Выводы</a></span></li><li><span><a href=\"#Чек-лист-проверки\" data-toc-modified-id=\"Чек-лист-проверки-7\"><span class=\"toc-item-num\">7&nbsp;&nbsp;</span>Чек-лист проверки</a></span></li></ul></div>"
   ]
  },
  {
   "cell_type": "markdown",
   "metadata": {},
   "source": [
    "# Проект для «Викишоп» с BERT"
   ]
  },
  {
   "cell_type": "markdown",
   "metadata": {},
   "source": [
    "## Описание проекта  и цель"
   ]
  },
  {
   "cell_type": "markdown",
   "metadata": {},
   "source": [
    "Интернет-магазин «Викишоп» запускает новый сервис. Теперь пользователи могут редактировать и дополнять описания товаров, как в вики-сообществах. То есть клиенты предлагают свои правки и комментируют изменения других. Магазину нужен инструмент, который будет искать токсичные комментарии и отправлять их на модерацию. \n",
    "\n",
    "Обучите модель классифицировать комментарии на позитивные и негативные. В вашем распоряжении набор данных с разметкой о токсичности правок.\n",
    "\n",
    "Постройте модель со значением метрики качества *F1* не меньше 0.75. "
   ]
  },
  {
   "cell_type": "markdown",
   "metadata": {},
   "source": [
    "## Описание данных "
   ]
  },
  {
   "cell_type": "markdown",
   "metadata": {},
   "source": [
    "Данные находятся в файле `toxic_comments.csv`. Столбец *text* в нём содержит текст комментария, а *toxic* — целевой признак."
   ]
  },
  {
   "cell_type": "markdown",
   "metadata": {},
   "source": [
    "## План работы"
   ]
  },
  {
   "cell_type": "markdown",
   "metadata": {},
   "source": [
    "1. Загрузите и подготовьте данные.\n",
    "2. Обучите разные модели. \n",
    "3. Сделайте выводы."
   ]
  },
  {
   "cell_type": "markdown",
   "metadata": {},
   "source": [
    "## Подготовка"
   ]
  },
  {
   "cell_type": "code",
   "execution_count": 1,
   "metadata": {},
   "outputs": [],
   "source": [
    "#импорты бибилиотек\n",
    "import re \n",
    "import warnings\n",
    "\n",
    "import torch\n",
    "import joblib\n",
    "import nltk\n",
    "import spacy\n",
    "import pandas as pd\n",
    "import numpy as np\n",
    "import lightgbm as lgb\n",
    "import transformers as ppb\n",
    "import matplotlib.pyplot as plt\n",
    "from wordcloud import WordCloud\n",
    "from transformers import AutoModel, AutoTokenizer \n",
    "from tqdm import notebook\n",
    "from tqdm.notebook import tqdm\n",
    "from nltk.corpus import stopwords as nltk_stopwords\n",
    "from nltk.stem.wordnet import WordNetLemmatizer\n",
    "from scipy.stats import uniform as sp_randFloat\n",
    "from scipy.stats import randint as sp_randInt\n",
    "from sklearn.compose import ColumnTransformer\n",
    "from sklearn.preprocessing import StandardScaler\n",
    "from sklearn.pipeline import Pipeline\n",
    "from sklearn.feature_extraction.text import TfidfVectorizer \n",
    "from sklearn.linear_model import LogisticRegression\n",
    "from sklearn.ensemble import RandomForestClassifier\n",
    "from sklearn.svm import SVC\n",
    "from sklearn.model_selection import cross_val_score, train_test_split, RandomizedSearchCV, StratifiedKFold\n",
    "from sklearn.metrics import f1_score, precision_recall_curve \n",
    "\n",
    "warnings.filterwarnings('ignore')"
   ]
  },
  {
   "cell_type": "code",
   "execution_count": 2,
   "metadata": {},
   "outputs": [],
   "source": [
    "#Константы\n",
    "RANDOM_STATE = 12345\n",
    "TEST_SIZE = 0.1\n",
    "MAX_LENGTH=512"
   ]
  },
  {
   "cell_type": "markdown",
   "metadata": {},
   "source": [
    "### Загрузка данных"
   ]
  },
  {
   "cell_type": "code",
   "execution_count": 3,
   "metadata": {},
   "outputs": [
    {
     "data": {
      "text/html": [
       "<div>\n",
       "<style scoped>\n",
       "    .dataframe tbody tr th:only-of-type {\n",
       "        vertical-align: middle;\n",
       "    }\n",
       "\n",
       "    .dataframe tbody tr th {\n",
       "        vertical-align: top;\n",
       "    }\n",
       "\n",
       "    .dataframe thead th {\n",
       "        text-align: right;\n",
       "    }\n",
       "</style>\n",
       "<table border=\"1\" class=\"dataframe\">\n",
       "  <thead>\n",
       "    <tr style=\"text-align: right;\">\n",
       "      <th></th>\n",
       "      <th>text</th>\n",
       "      <th>toxic</th>\n",
       "    </tr>\n",
       "  </thead>\n",
       "  <tbody>\n",
       "    <tr>\n",
       "      <th>0</th>\n",
       "      <td>Explanation\\nWhy the edits made under my usern...</td>\n",
       "      <td>0</td>\n",
       "    </tr>\n",
       "    <tr>\n",
       "      <th>1</th>\n",
       "      <td>D'aww! He matches this background colour I'm s...</td>\n",
       "      <td>0</td>\n",
       "    </tr>\n",
       "    <tr>\n",
       "      <th>2</th>\n",
       "      <td>Hey man, I'm really not trying to edit war. It...</td>\n",
       "      <td>0</td>\n",
       "    </tr>\n",
       "    <tr>\n",
       "      <th>3</th>\n",
       "      <td>\"\\nMore\\nI can't make any real suggestions on ...</td>\n",
       "      <td>0</td>\n",
       "    </tr>\n",
       "    <tr>\n",
       "      <th>4</th>\n",
       "      <td>You, sir, are my hero. Any chance you remember...</td>\n",
       "      <td>0</td>\n",
       "    </tr>\n",
       "  </tbody>\n",
       "</table>\n",
       "</div>"
      ],
      "text/plain": [
       "                                                text  toxic\n",
       "0  Explanation\\nWhy the edits made under my usern...      0\n",
       "1  D'aww! He matches this background colour I'm s...      0\n",
       "2  Hey man, I'm really not trying to edit war. It...      0\n",
       "3  \"\\nMore\\nI can't make any real suggestions on ...      0\n",
       "4  You, sir, are my hero. Any chance you remember...      0"
      ]
     },
     "execution_count": 3,
     "metadata": {},
     "output_type": "execute_result"
    }
   ],
   "source": [
    "#Прочитаем файлы:\n",
    "df = pd.read_csv('https://code.s3.yandex.net/datasets/toxic_comments.csv', index_col = [0])\n",
    "df.head()"
   ]
  },
  {
   "cell_type": "code",
   "execution_count": 4,
   "metadata": {},
   "outputs": [
    {
     "data": {
      "text/plain": [
       "(159292, 2)"
      ]
     },
     "execution_count": 4,
     "metadata": {},
     "output_type": "execute_result"
    }
   ],
   "source": [
    "df.shape"
   ]
  },
  {
   "cell_type": "code",
   "execution_count": 5,
   "metadata": {},
   "outputs": [
    {
     "data": {
      "text/plain": [
       "0    0.898388\n",
       "1    0.101612\n",
       "Name: toxic, dtype: float64"
      ]
     },
     "execution_count": 5,
     "metadata": {},
     "output_type": "execute_result"
    }
   ],
   "source": [
    "df['toxic'].value_counts(normalize=True)"
   ]
  },
  {
   "cell_type": "code",
   "execution_count": 6,
   "metadata": {
    "scrolled": true
   },
   "outputs": [
    {
     "name": "stdout",
     "output_type": "stream",
     "text": [
      "Explanation\n",
      "Why the edits made under my username Hardcore Metallica Fan were reverted? They weren't vandalisms, just closure on some GAs after I voted at New York Dolls FAC. And please don't remove the template from the talk page since I'm retired now.89.205.38.27\n",
      "\n",
      "D'aww! He matches this background colour I'm seemingly stuck with. Thanks.  (talk) 21:51, January 11, 2016 (UTC)\n",
      "\n",
      "Hey man, I'm really not trying to edit war. It's just that this guy is constantly removing relevant information and talking to me through edits instead of my talk page. He seems to care more about the formatting than the actual info.\n",
      "\n",
      "\"\n",
      "More\n",
      "I can't make any real suggestions on improvement - I wondered if the section statistics should be later on, or a subsection of \"\"types of accidents\"\"  -I think the references may need tidying so that they are all in the exact same format ie date format etc. I can do that later on, if no-one else does first - if you have any preferences for formatting style on references or want to do it yourself please let me know.\n",
      "\n",
      "There appears to be a backlog on articles for review so I guess there may be a delay until a reviewer turns up. It's listed in the relevant form eg Wikipedia:Good_article_nominations#Transport  \"\n",
      "\n",
      "You, sir, are my hero. Any chance you remember what page that's on?\n",
      "\n"
     ]
    }
   ],
   "source": [
    "#Посмотрим на комментарии\n",
    "for i in range(5):\n",
    "    print(df['text'][i])\n",
    "    print()"
   ]
  },
  {
   "cell_type": "code",
   "execution_count": 7,
   "metadata": {},
   "outputs": [],
   "source": [
    "#Уберем цифры из текста и лемматизируем его\n",
    "def clear_text(text):\n",
    "    text = re.sub(r'[^a-zA-Z]', ' ', text) \n",
    "    return \" \".join(text.split())\n",
    "\n",
    "df['lemm_text'] = df['text'].apply(lambda x:clear_text(x))"
   ]
  },
  {
   "cell_type": "code",
   "execution_count": 8,
   "metadata": {},
   "outputs": [
    {
     "data": {
      "application/vnd.jupyter.widget-view+json": {
       "model_id": "e4e42eb84fa14b71b83dc3a38476e1aa",
       "version_major": 2,
       "version_minor": 0
      },
      "text/plain": [
       "  0%|          | 0/159292 [00:00<?, ?it/s]"
      ]
     },
     "metadata": {},
     "output_type": "display_data"
    }
   ],
   "source": [
    "tqdm.pandas()\n",
    "\n",
    "nlp = spacy.load(\"en_core_web_sm\")\n",
    "\n",
    "def spacy_lemmatize(text):\n",
    "    doc = nlp(text.lower())\n",
    "    return ' '.join([token.lemma_ for token in doc if not token.is_stop and not token.is_punct])\n",
    "\n",
    "df['lemm_text'] = df['lemm_text'].progress_apply(spacy_lemmatize)"
   ]
  },
  {
   "cell_type": "code",
   "execution_count": 9,
   "metadata": {},
   "outputs": [
    {
     "data": {
      "text/plain": [
       "2298"
      ]
     },
     "execution_count": 9,
     "metadata": {},
     "output_type": "execute_result"
    }
   ],
   "source": [
    "#Проверка на дубликаты\n",
    "df['lemm_text'].duplicated().sum()"
   ]
  },
  {
   "cell_type": "code",
   "execution_count": 10,
   "metadata": {},
   "outputs": [],
   "source": [
    "df = df.drop_duplicates(subset=['lemm_text'], keep='last')"
   ]
  },
  {
   "cell_type": "code",
   "execution_count": 11,
   "metadata": {},
   "outputs": [
    {
     "data": {
      "text/plain": [
       "text         0\n",
       "toxic        0\n",
       "lemm_text    0\n",
       "dtype: int64"
      ]
     },
     "execution_count": 11,
     "metadata": {},
     "output_type": "execute_result"
    }
   ],
   "source": [
    "#Проверка на пропуски\n",
    "df.isna().sum()"
   ]
  },
  {
   "cell_type": "code",
   "execution_count": 12,
   "metadata": {},
   "outputs": [
    {
     "name": "stdout",
     "output_type": "stream",
     "text": [
      "explanation edit username hardcore metallica fan revert weren t vandalism closure gas vote new york dolls fac don t remove template talk page m retire\n",
      "\n",
      "d aww match background colour m seemingly stuck thank talk january utc\n",
      "\n",
      "hey man m try edit war s guy constantly remove relevant information talk edit instead talk page care formatting actual info\n",
      "\n",
      "t real suggestion improvement wonder section statistic later subsection type accident think reference need tidying exact format ie date format etc later preference format style reference want let know appear backlog article review guess delay reviewer turn s list relevant form eg wikipedia good article nomination transport\n",
      "\n",
      "sir hero chance remember page s\n",
      "\n"
     ]
    }
   ],
   "source": [
    "#Посмотрим на результат очистки и лемматизации\n",
    "for i in range(5):\n",
    "    print(df['lemm_text'][i])\n",
    "    print()"
   ]
  },
  {
   "cell_type": "code",
   "execution_count": 13,
   "metadata": {},
   "outputs": [],
   "source": [
    "#Визуализация облака слов\n",
    "text_raw = \" \".join(df['lemm_text'])"
   ]
  },
  {
   "cell_type": "code",
   "execution_count": 14,
   "metadata": {},
   "outputs": [
    {
     "data": {
      "image/png": "[encoded data removed]",
      "text/plain": [
       "<Figure size 640x480 with 1 Axes>"
      ]
     },
     "metadata": {},
     "output_type": "display_data"
    }
   ],
   "source": [
    "%matplotlib inline\n",
    "stopwords = nlp.Defaults.stop_words\n",
    "wordcloud = WordCloud(stopwords=stopwords, background_color=\"white\").generate(text_raw)\n",
    "\n",
    "plt.imshow(wordcloud, interpolation='bilinear')\n",
    "plt.axis(\"off\")\n",
    "plt.show()"
   ]
  },
  {
   "cell_type": "markdown",
   "metadata": {},
   "source": [
    "Комментарии на английском языке, текст очищен от цифр и лемматизирован. Пропусков и дубликатов нет. Виден дисбаланс классов в целевом признаке."
   ]
  },
  {
   "cell_type": "markdown",
   "metadata": {},
   "source": [
    "### Подготовим датасет для TF-IDF"
   ]
  },
  {
   "cell_type": "markdown",
   "metadata": {},
   "source": [
    "#### Feature engenering"
   ]
  },
  {
   "cell_type": "code",
   "execution_count": 15,
   "metadata": {},
   "outputs": [],
   "source": [
    "def make_features(data):\n",
    "    \n",
    "    \"\"\"Принимает на вход датасет и возвращает его с новыми признаками\"\"\"\n",
    "    \n",
    "    data['lengh'] = data['lemm_text'].apply(lambda x: len(x))\n",
    "    data['number'] = data['lemm_text'].apply(lambda x: len(x.split()))\n",
    "    data['punc_number'] = data['text'].apply(lambda x: len([i for i in x if i in '!@#$\\n-.,']))\n",
    "    data['upper_number'] = data['text'].apply(lambda x: len([i for i in x if i.isupper()])) \n",
    "    return data  "
   ]
  },
  {
   "cell_type": "code",
   "execution_count": 16,
   "metadata": {},
   "outputs": [
    {
     "data": {
      "text/html": [
       "<div>\n",
       "<style scoped>\n",
       "    .dataframe tbody tr th:only-of-type {\n",
       "        vertical-align: middle;\n",
       "    }\n",
       "\n",
       "    .dataframe tbody tr th {\n",
       "        vertical-align: top;\n",
       "    }\n",
       "\n",
       "    .dataframe thead th {\n",
       "        text-align: right;\n",
       "    }\n",
       "</style>\n",
       "<table border=\"1\" class=\"dataframe\">\n",
       "  <thead>\n",
       "    <tr style=\"text-align: right;\">\n",
       "      <th></th>\n",
       "      <th>text</th>\n",
       "      <th>toxic</th>\n",
       "      <th>lemm_text</th>\n",
       "      <th>lengh</th>\n",
       "      <th>number</th>\n",
       "      <th>punc_number</th>\n",
       "      <th>upper_number</th>\n",
       "    </tr>\n",
       "  </thead>\n",
       "  <tbody>\n",
       "    <tr>\n",
       "      <th>0</th>\n",
       "      <td>Explanation\\nWhy the edits made under my usern...</td>\n",
       "      <td>0</td>\n",
       "      <td>explanation edit username hardcore metallica f...</td>\n",
       "      <td>150</td>\n",
       "      <td>25</td>\n",
       "      <td>7</td>\n",
       "      <td>17</td>\n",
       "    </tr>\n",
       "    <tr>\n",
       "      <th>1</th>\n",
       "      <td>D'aww! He matches this background colour I'm s...</td>\n",
       "      <td>0</td>\n",
       "      <td>d aww match background colour m seemingly stuc...</td>\n",
       "      <td>70</td>\n",
       "      <td>12</td>\n",
       "      <td>5</td>\n",
       "      <td>8</td>\n",
       "    </tr>\n",
       "    <tr>\n",
       "      <th>2</th>\n",
       "      <td>Hey man, I'm really not trying to edit war. It...</td>\n",
       "      <td>0</td>\n",
       "      <td>hey man m try edit war s guy constantly remove...</td>\n",
       "      <td>123</td>\n",
       "      <td>21</td>\n",
       "      <td>4</td>\n",
       "      <td>4</td>\n",
       "    </tr>\n",
       "    <tr>\n",
       "      <th>3</th>\n",
       "      <td>\"\\nMore\\nI can't make any real suggestions on ...</td>\n",
       "      <td>0</td>\n",
       "      <td>t real suggestion improvement wonder section s...</td>\n",
       "      <td>324</td>\n",
       "      <td>47</td>\n",
       "      <td>14</td>\n",
       "      <td>11</td>\n",
       "    </tr>\n",
       "    <tr>\n",
       "      <th>4</th>\n",
       "      <td>You, sir, are my hero. Any chance you remember...</td>\n",
       "      <td>0</td>\n",
       "      <td>sir hero chance remember page s</td>\n",
       "      <td>31</td>\n",
       "      <td>6</td>\n",
       "      <td>3</td>\n",
       "      <td>2</td>\n",
       "    </tr>\n",
       "  </tbody>\n",
       "</table>\n",
       "</div>"
      ],
      "text/plain": [
       "                                                text  toxic  \\\n",
       "0  Explanation\\nWhy the edits made under my usern...      0   \n",
       "1  D'aww! He matches this background colour I'm s...      0   \n",
       "2  Hey man, I'm really not trying to edit war. It...      0   \n",
       "3  \"\\nMore\\nI can't make any real suggestions on ...      0   \n",
       "4  You, sir, are my hero. Any chance you remember...      0   \n",
       "\n",
       "                                           lemm_text  lengh  number  \\\n",
       "0  explanation edit username hardcore metallica f...    150      25   \n",
       "1  d aww match background colour m seemingly stuc...     70      12   \n",
       "2  hey man m try edit war s guy constantly remove...    123      21   \n",
       "3  t real suggestion improvement wonder section s...    324      47   \n",
       "4                    sir hero chance remember page s     31       6   \n",
       "\n",
       "   punc_number  upper_number  \n",
       "0            7            17  \n",
       "1            5             8  \n",
       "2            4             4  \n",
       "3           14            11  \n",
       "4            3             2  "
      ]
     },
     "execution_count": 16,
     "metadata": {},
     "output_type": "execute_result"
    }
   ],
   "source": [
    "df = make_features(df)\n",
    "df.head()"
   ]
  },
  {
   "cell_type": "code",
   "execution_count": 17,
   "metadata": {},
   "outputs": [
    {
     "name": "stderr",
     "output_type": "stream",
     "text": [
      "[nltk_data] Downloading package stopwords to\n",
      "[nltk_data]     C:\\Users\\649\\AppData\\Roaming\\nltk_data...\n",
      "[nltk_data]   Package stopwords is already up-to-date!\n"
     ]
    }
   ],
   "source": [
    "nltk.download('stopwords')\n",
    "stopwords = set(nltk_stopwords.words('english'))"
   ]
  },
  {
   "cell_type": "code",
   "execution_count": 18,
   "metadata": {},
   "outputs": [],
   "source": [
    "new_features = ['lengh', 'number', 'punc_number', 'upper_number']\n",
    "\n",
    "features = ColumnTransformer(\n",
    "                    [(\"text_preprocess\", TfidfVectorizer(stop_words=stopwords), 'lemm_text'),\n",
    "                     (\"new_features_preprocess\", StandardScaler(), new_features)])"
   ]
  },
  {
   "cell_type": "code",
   "execution_count": 19,
   "metadata": {},
   "outputs": [],
   "source": [
    "pipeline_logreg = Pipeline([('features_all_prepross', features),\n",
    "                 ('clf', LogisticRegression(random_state = RANDOM_STATE))])\n",
    "\n",
    "pipeline_gbr = Pipeline([('features_all_prepross', features),\n",
    "                 ('clf', lgb.LGBMClassifier(random_state = RANDOM_STATE))])"
   ]
  },
  {
   "cell_type": "code",
   "execution_count": 20,
   "metadata": {},
   "outputs": [],
   "source": [
    "#Разделим датасет на выборки\n",
    "train_tf_idf, test_tf_idf = train_test_split(df, test_size = TEST_SIZE, random_state = RANDOM_STATE, \n",
    "                                             stratify = df['toxic']) "
   ]
  },
  {
   "cell_type": "code",
   "execution_count": 21,
   "metadata": {},
   "outputs": [
    {
     "data": {
      "text/plain": [
       "True"
      ]
     },
     "execution_count": 21,
     "metadata": {},
     "output_type": "execute_result"
    }
   ],
   "source": [
    "#Проверка на корректность разбиения выборок\n",
    "train_tf_idf.shape[0] + test_tf_idf.shape[0] == len(df)"
   ]
  },
  {
   "cell_type": "code",
   "execution_count": 22,
   "metadata": {},
   "outputs": [
    {
     "data": {
      "text/plain": [
       "0    0.898408\n",
       "1    0.101592\n",
       "Name: toxic, dtype: float64"
      ]
     },
     "execution_count": 22,
     "metadata": {},
     "output_type": "execute_result"
    }
   ],
   "source": [
    "#Распределение классов\n",
    "test_tf_idf['toxic'].value_counts(normalize=True)"
   ]
  },
  {
   "cell_type": "markdown",
   "metadata": {},
   "source": [
    "### Подготовим датасет для BERT"
   ]
  },
  {
   "cell_type": "markdown",
   "metadata": {},
   "source": [
    "Так как BERT долго обрабатывает эмбеддинги и мой компьютер не вывозит и зависает я создала эмбеддинги в colab, сохранила их в файл и в этой части работы сразу загружаю этот файл. Прилагаю код для получения эмбеддингов ниже (на выборке, чтоб было быстрее)."
   ]
  },
  {
   "cell_type": "markdown",
   "metadata": {},
   "source": [
    "#### Пример кода на выборке для создания эмбеддингов"
   ]
  },
  {
   "cell_type": "code",
   "execution_count": 23,
   "metadata": {},
   "outputs": [
    {
     "data": {
      "text/plain": [
       "0    0.91\n",
       "1    0.09\n",
       "Name: toxic, dtype: float64"
      ]
     },
     "execution_count": 23,
     "metadata": {},
     "output_type": "execute_result"
    }
   ],
   "source": [
    "df_bert = df[['text', 'toxic']].sample(200).reset_index(drop=True)\n",
    "df_bert['toxic'].value_counts(normalize=True)"
   ]
  },
  {
   "cell_type": "code",
   "execution_count": 24,
   "metadata": {},
   "outputs": [
    {
     "name": "stderr",
     "output_type": "stream",
     "text": [
      "Some weights of the model checkpoint at unitary/toxic-bert were not used when initializing BertModel: ['classifier.weight', 'classifier.bias']\n",
      "- This IS expected if you are initializing BertModel from the checkpoint of a model trained on another task or with another architecture (e.g. initializing a BertForSequenceClassification model from a BertForPreTraining model).\n",
      "- This IS NOT expected if you are initializing BertModel from the checkpoint of a model that you expect to be exactly identical (initializing a BertForSequenceClassification model from a BertForSequenceClassification model).\n"
     ]
    }
   ],
   "source": [
    "# Загрузка предобученной модели BERT и токенайзера\n",
    "model_name = \"unitary/toxic-bert\" \n",
    "\n",
    "model = AutoModel.from_pretrained(model_name)\n",
    "tokenizer = AutoTokenizer.from_pretrained(model_name)"
   ]
  },
  {
   "cell_type": "code",
   "execution_count": 25,
   "metadata": {},
   "outputs": [
    {
     "data": {
      "application/vnd.jupyter.widget-view+json": {
       "model_id": "a8a39be27efd4788a0713ba7dab3e16b",
       "version_major": 2,
       "version_minor": 0
      },
      "text/plain": [
       "  0%|          | 0/200 [00:00<?, ?it/s]"
      ]
     },
     "metadata": {},
     "output_type": "display_data"
    }
   ],
   "source": [
    "tqdm.pandas()\n",
    "tokenized = df_bert['text'].progress_apply(\n",
    "    lambda x: tokenizer.encode(x, max_length=MAX_LENGTH, truncation=True, add_special_tokens=True))\n",
    "\n",
    "padded = np.array([i + [0]*(MAX_LENGTH - len(i)) for i in tokenized.values])\n",
    "\n",
    "attention_mask = np.where(padded != 0, 1, 0)"
   ]
  },
  {
   "cell_type": "code",
   "execution_count": 26,
   "metadata": {},
   "outputs": [
    {
     "data": {
      "application/vnd.jupyter.widget-view+json": {
       "model_id": "445b17bc941349289a66609b51ada119",
       "version_major": 2,
       "version_minor": 0
      },
      "text/plain": [
       "  0%|          | 0/4 [00:00<?, ?it/s]"
      ]
     },
     "metadata": {},
     "output_type": "display_data"
    }
   ],
   "source": [
    "batch_size = 50\n",
    "embeddings = []\n",
    "\n",
    "for i in notebook.tqdm(range(padded.shape[0] // batch_size)):\n",
    "        batch = torch.LongTensor(padded[batch_size*i:batch_size*(i+1)]) \n",
    "        attention_mask_batch = torch.LongTensor(attention_mask[batch_size*i:batch_size*(i+1)])\n",
    "        \n",
    "        with torch.no_grad():\n",
    "            batch_embeddings = model(batch, attention_mask=attention_mask_batch)\n",
    "        \n",
    "        embeddings.append(batch_embeddings[0][:,0,:].numpy())"
   ]
  },
  {
   "cell_type": "code",
   "execution_count": 27,
   "metadata": {},
   "outputs": [
    {
     "data": {
      "text/html": [
       "<div>\n",
       "<style scoped>\n",
       "    .dataframe tbody tr th:only-of-type {\n",
       "        vertical-align: middle;\n",
       "    }\n",
       "\n",
       "    .dataframe tbody tr th {\n",
       "        vertical-align: top;\n",
       "    }\n",
       "\n",
       "    .dataframe thead th {\n",
       "        text-align: right;\n",
       "    }\n",
       "</style>\n",
       "<table border=\"1\" class=\"dataframe\">\n",
       "  <thead>\n",
       "    <tr style=\"text-align: right;\">\n",
       "      <th></th>\n",
       "      <th>0</th>\n",
       "      <th>1</th>\n",
       "      <th>2</th>\n",
       "      <th>3</th>\n",
       "      <th>4</th>\n",
       "      <th>5</th>\n",
       "      <th>6</th>\n",
       "      <th>7</th>\n",
       "      <th>8</th>\n",
       "      <th>9</th>\n",
       "      <th>...</th>\n",
       "      <th>759</th>\n",
       "      <th>760</th>\n",
       "      <th>761</th>\n",
       "      <th>762</th>\n",
       "      <th>763</th>\n",
       "      <th>764</th>\n",
       "      <th>765</th>\n",
       "      <th>766</th>\n",
       "      <th>767</th>\n",
       "      <th>toxic</th>\n",
       "    </tr>\n",
       "  </thead>\n",
       "  <tbody>\n",
       "    <tr>\n",
       "      <th>0</th>\n",
       "      <td>-0.625053</td>\n",
       "      <td>-0.960123</td>\n",
       "      <td>0.570177</td>\n",
       "      <td>-0.402951</td>\n",
       "      <td>1.166516</td>\n",
       "      <td>0.296516</td>\n",
       "      <td>-0.109077</td>\n",
       "      <td>-0.150913</td>\n",
       "      <td>-0.455305</td>\n",
       "      <td>-0.738905</td>\n",
       "      <td>...</td>\n",
       "      <td>-1.281053</td>\n",
       "      <td>0.369401</td>\n",
       "      <td>-0.651859</td>\n",
       "      <td>0.192129</td>\n",
       "      <td>0.792814</td>\n",
       "      <td>-0.344645</td>\n",
       "      <td>-0.658774</td>\n",
       "      <td>0.496141</td>\n",
       "      <td>0.031735</td>\n",
       "      <td>0</td>\n",
       "    </tr>\n",
       "    <tr>\n",
       "      <th>1</th>\n",
       "      <td>-0.285529</td>\n",
       "      <td>0.670813</td>\n",
       "      <td>1.140428</td>\n",
       "      <td>0.498519</td>\n",
       "      <td>-0.384031</td>\n",
       "      <td>0.724425</td>\n",
       "      <td>0.391701</td>\n",
       "      <td>-0.026661</td>\n",
       "      <td>-0.161180</td>\n",
       "      <td>0.130758</td>\n",
       "      <td>...</td>\n",
       "      <td>0.172230</td>\n",
       "      <td>-0.769694</td>\n",
       "      <td>0.255282</td>\n",
       "      <td>-1.093025</td>\n",
       "      <td>-1.059564</td>\n",
       "      <td>0.265524</td>\n",
       "      <td>-0.819010</td>\n",
       "      <td>-0.188569</td>\n",
       "      <td>-0.032949</td>\n",
       "      <td>1</td>\n",
       "    </tr>\n",
       "    <tr>\n",
       "      <th>2</th>\n",
       "      <td>-0.716266</td>\n",
       "      <td>-0.914759</td>\n",
       "      <td>0.587127</td>\n",
       "      <td>-0.495930</td>\n",
       "      <td>1.067457</td>\n",
       "      <td>0.322228</td>\n",
       "      <td>-0.057303</td>\n",
       "      <td>-0.015553</td>\n",
       "      <td>-0.362615</td>\n",
       "      <td>-0.448007</td>\n",
       "      <td>...</td>\n",
       "      <td>-1.200395</td>\n",
       "      <td>0.091735</td>\n",
       "      <td>-0.712413</td>\n",
       "      <td>0.146879</td>\n",
       "      <td>0.927424</td>\n",
       "      <td>-0.460066</td>\n",
       "      <td>-0.704022</td>\n",
       "      <td>0.531128</td>\n",
       "      <td>0.150722</td>\n",
       "      <td>0</td>\n",
       "    </tr>\n",
       "    <tr>\n",
       "      <th>3</th>\n",
       "      <td>-0.653666</td>\n",
       "      <td>-0.827810</td>\n",
       "      <td>0.452052</td>\n",
       "      <td>-0.344707</td>\n",
       "      <td>1.047531</td>\n",
       "      <td>0.692659</td>\n",
       "      <td>0.303831</td>\n",
       "      <td>0.375998</td>\n",
       "      <td>-0.540917</td>\n",
       "      <td>-0.106752</td>\n",
       "      <td>...</td>\n",
       "      <td>-0.552660</td>\n",
       "      <td>-0.012801</td>\n",
       "      <td>-0.383069</td>\n",
       "      <td>-0.371735</td>\n",
       "      <td>0.069594</td>\n",
       "      <td>-0.545181</td>\n",
       "      <td>-0.252501</td>\n",
       "      <td>0.932675</td>\n",
       "      <td>0.273749</td>\n",
       "      <td>0</td>\n",
       "    </tr>\n",
       "    <tr>\n",
       "      <th>4</th>\n",
       "      <td>-0.230025</td>\n",
       "      <td>0.311989</td>\n",
       "      <td>0.685176</td>\n",
       "      <td>-0.066347</td>\n",
       "      <td>-0.257801</td>\n",
       "      <td>0.547494</td>\n",
       "      <td>1.265525</td>\n",
       "      <td>0.826269</td>\n",
       "      <td>-0.320583</td>\n",
       "      <td>0.184608</td>\n",
       "      <td>...</td>\n",
       "      <td>0.727019</td>\n",
       "      <td>-0.617782</td>\n",
       "      <td>-0.915360</td>\n",
       "      <td>-0.448423</td>\n",
       "      <td>-0.439910</td>\n",
       "      <td>-0.067522</td>\n",
       "      <td>-0.355557</td>\n",
       "      <td>0.393284</td>\n",
       "      <td>0.403140</td>\n",
       "      <td>1</td>\n",
       "    </tr>\n",
       "  </tbody>\n",
       "</table>\n",
       "<p>5 rows × 769 columns</p>\n",
       "</div>"
      ],
      "text/plain": [
       "          0         1         2         3         4         5         6  \\\n",
       "0 -0.625053 -0.960123  0.570177 -0.402951  1.166516  0.296516 -0.109077   \n",
       "1 -0.285529  0.670813  1.140428  0.498519 -0.384031  0.724425  0.391701   \n",
       "2 -0.716266 -0.914759  0.587127 -0.495930  1.067457  0.322228 -0.057303   \n",
       "3 -0.653666 -0.827810  0.452052 -0.344707  1.047531  0.692659  0.303831   \n",
       "4 -0.230025  0.311989  0.685176 -0.066347 -0.257801  0.547494  1.265525   \n",
       "\n",
       "          7         8         9  ...       759       760       761       762  \\\n",
       "0 -0.150913 -0.455305 -0.738905  ... -1.281053  0.369401 -0.651859  0.192129   \n",
       "1 -0.026661 -0.161180  0.130758  ...  0.172230 -0.769694  0.255282 -1.093025   \n",
       "2 -0.015553 -0.362615 -0.448007  ... -1.200395  0.091735 -0.712413  0.146879   \n",
       "3  0.375998 -0.540917 -0.106752  ... -0.552660 -0.012801 -0.383069 -0.371735   \n",
       "4  0.826269 -0.320583  0.184608  ...  0.727019 -0.617782 -0.915360 -0.448423   \n",
       "\n",
       "        763       764       765       766       767  toxic  \n",
       "0  0.792814 -0.344645 -0.658774  0.496141  0.031735      0  \n",
       "1 -1.059564  0.265524 -0.819010 -0.188569 -0.032949      1  \n",
       "2  0.927424 -0.460066 -0.704022  0.531128  0.150722      0  \n",
       "3  0.069594 -0.545181 -0.252501  0.932675  0.273749      0  \n",
       "4 -0.439910 -0.067522 -0.355557  0.393284  0.403140      1  \n",
       "\n",
       "[5 rows x 769 columns]"
      ]
     },
     "execution_count": 27,
     "metadata": {},
     "output_type": "execute_result"
    }
   ],
   "source": [
    "features = np.concatenate(embeddings)\n",
    "\n",
    "df_bert = pd.concat([pd.DataFrame(features), df_bert['toxic']], axis=1)\n",
    "df_bert.head()"
   ]
  },
  {
   "cell_type": "markdown",
   "metadata": {},
   "source": [
    "#### Готовый файл с эмбеддингами из colab"
   ]
  },
  {
   "cell_type": "markdown",
   "metadata": {},
   "source": [
    "Прочитаем готовый файл с эмбеддингами с гугл-диска:  \n",
    "https://drive.google.com/file/d/1e2AGmpxgvGeroZnLo-wH8NgnTNnU0YtW/view?usp=sharing"
   ]
  },
  {
   "cell_type": "code",
   "execution_count": 28,
   "metadata": {},
   "outputs": [
    {
     "name": "stdout",
     "output_type": "stream",
     "text": [
      "Requirement already satisfied: gdown in c:\\users\\649\\anaconda3\\envs\\ds_practicum_env\\lib\\site-packages (4.6.2)\n",
      "Requirement already satisfied: beautifulsoup4 in c:\\users\\649\\anaconda3\\envs\\ds_practicum_env\\lib\\site-packages (from gdown) (4.11.1)\n",
      "Requirement already satisfied: filelock in c:\\users\\649\\anaconda3\\envs\\ds_practicum_env\\lib\\site-packages (from gdown) (3.8.0)\n",
      "Requirement already satisfied: requests[socks] in c:\\users\\649\\anaconda3\\envs\\ds_practicum_env\\lib\\site-packages (from gdown) (2.28.1)\n",
      "Requirement already satisfied: six in c:\\users\\649\\anaconda3\\envs\\ds_practicum_env\\lib\\site-packages (from gdown) (1.16.0)\n",
      "Requirement already satisfied: tqdm in c:\\users\\649\\anaconda3\\envs\\ds_practicum_env\\lib\\site-packages (from gdown) (4.64.1)\n",
      "Requirement already satisfied: soupsieve>1.2 in c:\\users\\649\\anaconda3\\envs\\ds_practicum_env\\lib\\site-packages (from beautifulsoup4->gdown) (2.3.2.post1)\n",
      "Requirement already satisfied: certifi>=2017.4.17 in c:\\users\\649\\anaconda3\\envs\\ds_practicum_env\\lib\\site-packages (from requests[socks]->gdown) (2022.12.7)\n",
      "Requirement already satisfied: urllib3<1.27,>=1.21.1 in c:\\users\\649\\anaconda3\\envs\\ds_practicum_env\\lib\\site-packages (from requests[socks]->gdown) (1.26.11)\n",
      "Requirement already satisfied: idna<4,>=2.5 in c:\\users\\649\\anaconda3\\envs\\ds_practicum_env\\lib\\site-packages (from requests[socks]->gdown) (3.4)\n",
      "Requirement already satisfied: charset-normalizer<3,>=2 in c:\\users\\649\\anaconda3\\envs\\ds_practicum_env\\lib\\site-packages (from requests[socks]->gdown) (2.1.1)\n",
      "Requirement already satisfied: PySocks!=1.5.7,>=1.5.6 in c:\\users\\649\\anaconda3\\envs\\ds_practicum_env\\lib\\site-packages (from requests[socks]->gdown) (1.7.1)\n",
      "Requirement already satisfied: colorama in c:\\users\\649\\anaconda3\\envs\\ds_practicum_env\\lib\\site-packages (from tqdm->gdown) (0.4.6)\n"
     ]
    }
   ],
   "source": [
    "! pip install gdown"
   ]
  },
  {
   "cell_type": "code",
   "execution_count": 29,
   "metadata": {},
   "outputs": [
    {
     "name": "stderr",
     "output_type": "stream",
     "text": [
      "Downloading...\n",
      "From: https://drive.google.com/uc?id=1e2AGmpxgvGeroZnLo-wH8NgnTNnU0YtW\n",
      "To: C:\\Users\\649\\Yandex\\Projects\\Проект для «Викишоп»\\toxic_bert.csv\n",
      "\n",
      "  0%|          | 0.00/1.35G [00:00<?, ?B/s]\n",
      "  0%|          | 524k/1.35G [00:00<06:45, 3.34MB/s]\n",
      "  0%|          | 1.57M/1.35G [00:00<03:38, 6.20MB/s]\n",
      "  0%|          | 2.62M/1.35G [00:00<03:26, 6.54MB/s]\n",
      "  0%|          | 4.19M/1.35G [00:00<02:40, 8.41MB/s]\n",
      "  0%|          | 5.77M/1.35G [00:00<02:23, 9.41MB/s]\n",
      "  1%|          | 7.34M/1.35G [00:00<02:12, 10.2MB/s]\n",
      "  1%|          | 8.91M/1.35G [00:00<02:05, 10.7MB/s]\n",
      "  1%|          | 10.5M/1.35G [00:01<02:02, 10.9MB/s]\n",
      "  1%|          | 12.1M/1.35G [00:01<01:59, 11.2MB/s]\n",
      "  1%|1         | 13.6M/1.35G [00:01<01:57, 11.4MB/s]\n",
      "  1%|1         | 15.2M/1.35G [00:01<01:56, 11.4MB/s]\n",
      "  1%|1         | 16.8M/1.35G [00:01<01:55, 11.5MB/s]\n",
      "  1%|1         | 18.4M/1.35G [00:01<01:53, 11.8MB/s]\n",
      "  1%|1         | 19.9M/1.35G [00:01<01:55, 11.5MB/s]\n",
      "  2%|1         | 21.5M/1.35G [00:02<02:04, 10.7MB/s]\n",
      "  2%|1         | 23.1M/1.35G [00:02<01:52, 11.8MB/s]\n",
      "  2%|1         | 24.6M/1.35G [00:02<02:01, 10.9MB/s]\n",
      "  2%|1         | 26.7M/1.35G [00:02<01:50, 12.0MB/s]\n",
      "  2%|2         | 28.3M/1.35G [00:02<01:51, 11.9MB/s]\n",
      "  2%|2         | 29.9M/1.35G [00:02<01:52, 11.8MB/s]\n",
      "  2%|2         | 31.5M/1.35G [00:02<01:51, 11.8MB/s]\n",
      "  2%|2         | 33.0M/1.35G [00:03<02:04, 10.6MB/s]\n",
      "  3%|2         | 35.1M/1.35G [00:03<01:50, 12.0MB/s]\n",
      "  3%|2         | 36.7M/1.35G [00:03<01:53, 11.6MB/s]\n",
      "  3%|2         | 38.3M/1.35G [00:03<01:50, 12.0MB/s]\n",
      "  3%|2         | 39.8M/1.35G [00:03<01:50, 11.9MB/s]\n",
      "  3%|3         | 41.4M/1.35G [00:03<01:51, 11.8MB/s]\n",
      "  3%|3         | 43.0M/1.35G [00:03<01:51, 11.8MB/s]\n",
      "  3%|3         | 44.6M/1.35G [00:04<01:59, 11.0MB/s]\n",
      "  3%|3         | 46.1M/1.35G [00:04<01:48, 12.0MB/s]\n",
      "  4%|3         | 47.7M/1.35G [00:04<01:49, 12.0MB/s]\n",
      "  4%|3         | 49.3M/1.35G [00:04<01:49, 11.9MB/s]\n",
      "  4%|3         | 50.9M/1.35G [00:04<01:56, 11.2MB/s]\n",
      "  4%|3         | 52.4M/1.35G [00:04<01:48, 12.0MB/s]\n",
      "  4%|3         | 54.0M/1.35G [00:04<01:52, 11.5MB/s]\n",
      "  4%|4         | 55.6M/1.35G [00:05<01:56, 11.1MB/s]\n",
      "  4%|4         | 57.7M/1.35G [00:05<01:43, 12.5MB/s]\n",
      "  4%|4         | 59.2M/1.35G [00:05<01:53, 11.4MB/s]\n",
      "  5%|4         | 61.3M/1.35G [00:05<01:47, 12.0MB/s]\n",
      "  5%|4         | 62.9M/1.35G [00:05<02:00, 10.7MB/s]\n",
      "  5%|4         | 64.5M/1.35G [00:05<02:14, 9.62MB/s]\n",
      "  5%|4         | 65.5M/1.35G [00:05<02:15, 9.50MB/s]\n",
      "  5%|4         | 67.6M/1.35G [00:06<01:59, 10.8MB/s]\n",
      "  5%|5         | 69.2M/1.35G [00:06<01:56, 11.0MB/s]\n",
      "  5%|5         | 70.8M/1.35G [00:06<01:56, 11.0MB/s]\n",
      "  5%|5         | 72.4M/1.35G [00:06<01:53, 11.3MB/s]\n",
      "  5%|5         | 73.9M/1.35G [00:06<01:52, 11.4MB/s]\n",
      "  6%|5         | 75.5M/1.35G [00:06<01:52, 11.4MB/s]\n",
      "  6%|5         | 77.1M/1.35G [00:06<01:59, 10.7MB/s]\n",
      "  6%|5         | 79.2M/1.35G [00:07<01:46, 12.0MB/s]\n",
      "  6%|5         | 80.7M/1.35G [00:07<01:46, 12.0MB/s]\n",
      "  6%|6         | 82.3M/1.35G [00:07<01:46, 12.0MB/s]\n",
      "  6%|6         | 83.9M/1.35G [00:07<01:46, 11.9MB/s]\n",
      "  6%|6         | 85.5M/1.35G [00:07<01:46, 11.9MB/s]\n",
      "  6%|6         | 87.0M/1.35G [00:07<01:46, 11.9MB/s]\n",
      "  7%|6         | 88.6M/1.35G [00:07<01:54, 11.0MB/s]\n",
      "  7%|6         | 90.2M/1.35G [00:08<01:44, 12.1MB/s]\n",
      "  7%|6         | 91.8M/1.35G [00:08<01:52, 11.2MB/s]\n",
      "  7%|6         | 93.3M/1.35G [00:08<01:43, 12.2MB/s]\n",
      "  7%|7         | 94.9M/1.35G [00:08<01:48, 11.6MB/s]\n",
      "  7%|7         | 96.5M/1.35G [00:08<01:48, 11.6MB/s]\n",
      "  7%|7         | 98.0M/1.35G [00:08<01:47, 11.7MB/s]\n",
      "  7%|7         | 99.6M/1.35G [00:08<01:53, 11.1MB/s]\n",
      "  7%|7         | 101M/1.35G [00:08<01:44, 11.9MB/s] \n",
      "  8%|7         | 103M/1.35G [00:09<01:53, 11.0MB/s]\n",
      "  8%|7         | 105M/1.35G [00:09<01:41, 12.3MB/s]\n",
      "  8%|7         | 106M/1.35G [00:09<01:42, 12.2MB/s]\n",
      "  8%|7         | 108M/1.35G [00:09<01:43, 12.0MB/s]\n",
      "  8%|8         | 110M/1.35G [00:09<01:44, 11.9MB/s]\n",
      "  8%|8         | 111M/1.35G [00:09<01:44, 11.8MB/s]\n",
      "  8%|8         | 113M/1.35G [00:09<01:45, 11.8MB/s]\n",
      "  8%|8         | 114M/1.35G [00:10<01:53, 10.9MB/s]\n",
      "  9%|8         | 116M/1.35G [00:10<01:43, 12.0MB/s]\n",
      "  9%|8         | 117M/1.35G [00:10<01:44, 11.9MB/s]\n",
      "  9%|8         | 119M/1.35G [00:10<01:44, 11.8MB/s]\n",
      "  9%|8         | 121M/1.35G [00:10<01:44, 11.8MB/s]\n",
      "  9%|9         | 122M/1.35G [00:10<01:49, 11.2MB/s]\n",
      "  9%|9         | 124M/1.35G [00:11<02:13, 9.23MB/s]\n",
      "  9%|9         | 125M/1.35G [00:11<02:13, 9.21MB/s]\n",
      "  9%|9         | 127M/1.35G [00:11<01:54, 10.7MB/s]\n",
      " 10%|9         | 129M/1.35G [00:11<01:51, 11.0MB/s]\n",
      " 10%|9         | 131M/1.35G [00:11<01:49, 11.2MB/s]\n",
      " 10%|9         | 132M/1.35G [00:11<01:47, 11.4MB/s]\n",
      " 10%|9         | 134M/1.35G [00:11<01:53, 10.7MB/s]\n",
      " 10%|#         | 136M/1.35G [00:12<01:40, 12.1MB/s]\n",
      " 10%|#         | 137M/1.35G [00:12<01:46, 11.4MB/s]\n",
      " 10%|#         | 139M/1.35G [00:12<01:39, 12.1MB/s]\n",
      " 10%|#         | 141M/1.35G [00:12<01:40, 12.0MB/s]\n",
      " 10%|#         | 142M/1.35G [00:12<01:41, 12.0MB/s]\n",
      " 11%|#         | 144M/1.35G [00:12<01:44, 11.5MB/s]\n",
      " 11%|#         | 145M/1.35G [00:12<01:51, 10.8MB/s]\n",
      " 11%|#         | 147M/1.35G [00:13<01:42, 11.7MB/s]\n",
      " 11%|#         | 148M/1.35G [00:13<01:48, 11.1MB/s]\n",
      " 11%|#1        | 150M/1.35G [00:13<01:41, 11.9MB/s]\n",
      " 11%|#1        | 152M/1.35G [00:13<01:43, 11.6MB/s]\n",
      " 11%|#1        | 153M/1.35G [00:13<01:42, 11.7MB/s]\n",
      " 11%|#1        | 155M/1.35G [00:13<01:41, 11.8MB/s]\n",
      " 12%|#1        | 156M/1.35G [00:13<01:41, 11.8MB/s]\n",
      " 12%|#1        | 158M/1.35G [00:13<01:41, 11.7MB/s]\n",
      " 12%|#1        | 159M/1.35G [00:14<01:42, 11.7MB/s]\n",
      " 12%|#1        | 161M/1.35G [00:14<01:41, 11.7MB/s]\n",
      " 12%|#2        | 163M/1.35G [00:14<01:41, 11.7MB/s]\n",
      " 12%|#2        | 164M/1.35G [00:14<01:41, 11.7MB/s]\n",
      " 12%|#2        | 166M/1.35G [00:14<01:40, 11.8MB/s]\n",
      " 12%|#2        | 167M/1.35G [00:14<01:40, 11.8MB/s]\n",
      " 12%|#2        | 169M/1.35G [00:14<01:48, 10.9MB/s]\n",
      " 13%|#2        | 170M/1.35G [00:15<01:38, 12.0MB/s]\n",
      " 13%|#2        | 172M/1.35G [00:15<01:49, 10.8MB/s]\n",
      " 13%|#2        | 174M/1.35G [00:15<01:39, 11.9MB/s]\n",
      " 13%|#2        | 176M/1.35G [00:15<01:39, 11.8MB/s]\n",
      " 13%|#3        | 177M/1.35G [00:15<01:40, 11.8MB/s]\n",
      " 13%|#3        | 179M/1.35G [00:15<01:40, 11.7MB/s]\n",
      " 13%|#3        | 180M/1.35G [00:15<01:48, 10.8MB/s]\n",
      " 13%|#3        | 182M/1.35G [00:16<01:45, 11.1MB/s]\n",
      " 14%|#3        | 184M/1.35G [00:16<01:59, 9.79MB/s]\n",
      " 14%|#3        | 185M/1.35G [00:16<01:58, 9.89MB/s]\n",
      " 14%|#3        | 186M/1.35G [00:16<01:59, 9.73MB/s]\n",
      " 14%|#3        | 188M/1.35G [00:16<01:45, 11.0MB/s]\n",
      " 14%|#3        | 189M/1.35G [00:16<01:51, 10.5MB/s]\n",
      " 14%|#4        | 191M/1.35G [00:16<01:39, 11.7MB/s]\n",
      " 14%|#4        | 193M/1.35G [00:17<01:44, 11.1MB/s]\n",
      " 14%|#4        | 195M/1.35G [00:17<01:37, 11.9MB/s]\n",
      " 14%|#4        | 196M/1.35G [00:17<01:39, 11.7MB/s]\n",
      " 15%|#4        | 198M/1.35G [00:17<01:36, 11.9MB/s]\n",
      " 15%|#4        | 199M/1.35G [00:17<01:37, 11.8MB/s]\n",
      " 15%|#4        | 201M/1.35G [00:17<01:37, 11.8MB/s]\n",
      " 15%|#4        | 202M/1.35G [00:17<01:37, 11.8MB/s]\n",
      " 15%|#5        | 204M/1.35G [00:18<01:46, 10.8MB/s]\n",
      " 15%|#5        | 206M/1.35G [00:18<01:35, 12.1MB/s]\n",
      " 15%|#5        | 208M/1.35G [00:18<01:36, 11.9MB/s]\n",
      " 15%|#5        | 209M/1.35G [00:18<01:35, 12.0MB/s]\n",
      " 16%|#5        | 211M/1.35G [00:18<01:37, 11.8MB/s]\n",
      " 16%|#5        | 212M/1.35G [00:18<01:44, 10.9MB/s]\n",
      " 16%|#5        | 214M/1.35G [00:18<01:34, 12.0MB/s]\n",
      " 16%|#5        | 216M/1.35G [00:19<01:39, 11.4MB/s]\n",
      " 16%|#6        | 218M/1.35G [00:19<01:31, 12.4MB/s]\n",
      " 16%|#6        | 219M/1.35G [00:19<01:38, 11.5MB/s]\n",
      " 16%|#6        | 221M/1.35G [00:19<01:35, 11.9MB/s]\n",
      " 16%|#6        | 222M/1.35G [00:19<01:35, 11.8MB/s]\n",
      " 17%|#6        | 224M/1.35G [00:19<01:36, 11.7MB/s]\n",
      " 17%|#6        | 225M/1.35G [00:19<01:36, 11.7MB/s]\n",
      " 17%|#6        | 227M/1.35G [00:19<01:36, 11.7MB/s]\n",
      " 17%|#6        | 229M/1.35G [00:20<01:36, 11.6MB/s]\n",
      " 17%|#7        | 230M/1.35G [00:20<01:43, 10.8MB/s]\n",
      " 17%|#7        | 232M/1.35G [00:20<01:34, 11.9MB/s]\n",
      " 17%|#7        | 233M/1.35G [00:20<01:41, 11.0MB/s]\n",
      " 17%|#7        | 235M/1.35G [00:20<01:32, 12.1MB/s]\n",
      " 17%|#7        | 236M/1.35G [00:20<01:37, 11.5MB/s]\n",
      " 18%|#7        | 238M/1.35G [00:20<01:32, 12.1MB/s]\n",
      " 18%|#7        | 240M/1.35G [00:21<01:32, 12.0MB/s]\n",
      " 18%|#7        | 241M/1.35G [00:21<01:33, 11.9MB/s]\n",
      " 18%|#7        | 243M/1.35G [00:21<02:01, 9.18MB/s]\n",
      " 18%|#8        | 244M/1.35G [00:21<01:52, 9.86MB/s]\n",
      " 18%|#8        | 246M/1.35G [00:21<01:47, 10.3MB/s]\n",
      " 18%|#8        | 247M/1.35G [00:21<01:51, 9.90MB/s]\n",
      " 18%|#8        | 250M/1.35G [00:22<01:36, 11.4MB/s]\n",
      " 19%|#8        | 251M/1.35G [00:22<01:35, 11.5MB/s]\n",
      " 19%|#8        | 253M/1.35G [00:22<01:35, 11.6MB/s]\n",
      " 19%|#8        | 254M/1.35G [00:22<01:34, 11.6MB/s]\n",
      " 19%|#8        | 256M/1.35G [00:22<01:34, 11.7MB/s]\n",
      " 19%|#9        | 257M/1.35G [00:22<01:33, 11.7MB/s]\n",
      " 19%|#9        | 259M/1.35G [00:22<01:43, 10.6MB/s]\n",
      " 19%|#9        | 261M/1.35G [00:23<01:39, 10.9MB/s]\n",
      " 19%|#9        | 263M/1.35G [00:23<01:29, 12.2MB/s]\n",
      " 20%|#9        | 265M/1.35G [00:23<01:39, 11.0MB/s]\n",
      " 20%|#9        | 267M/1.35G [00:23<01:30, 12.0MB/s]\n",
      " 20%|#9        | 268M/1.35G [00:23<01:30, 11.9MB/s]\n",
      " 20%|#9        | 270M/1.35G [00:23<01:31, 11.8MB/s]\n",
      " 20%|##        | 272M/1.35G [00:23<01:31, 11.8MB/s]\n",
      " 20%|##        | 273M/1.35G [00:24<01:39, 10.8MB/s]\n",
      " 20%|##        | 275M/1.35G [00:24<01:30, 11.9MB/s]\n",
      " 20%|##        | 276M/1.35G [00:24<01:37, 11.0MB/s]\n",
      " 21%|##        | 278M/1.35G [00:24<01:29, 12.1MB/s]\n",
      " 21%|##        | 279M/1.35G [00:24<01:36, 11.1MB/s]\n",
      " 21%|##        | 281M/1.35G [00:24<01:28, 12.1MB/s]\n",
      " 21%|##        | 283M/1.35G [00:24<01:36, 11.1MB/s]\n",
      " 21%|##        | 284M/1.35G [00:25<01:29, 11.9MB/s]\n",
      " 21%|##1       | 286M/1.35G [00:25<01:29, 11.9MB/s]\n",
      " 21%|##1       | 287M/1.35G [00:25<01:31, 11.7MB/s]\n",
      " 21%|##1       | 289M/1.35G [00:25<01:30, 11.8MB/s]\n",
      " 21%|##1       | 290M/1.35G [00:25<01:30, 11.8MB/s]\n",
      " 22%|##1       | 292M/1.35G [00:25<01:30, 11.7MB/s]\n",
      " 22%|##1       | 294M/1.35G [00:25<01:30, 11.7MB/s]\n",
      " 22%|##1       | 295M/1.35G [00:25<01:30, 11.7MB/s]\n",
      " 22%|##1       | 297M/1.35G [00:26<01:37, 10.8MB/s]\n",
      " 22%|##2       | 298M/1.35G [00:26<01:28, 11.9MB/s]\n",
      " 22%|##2       | 300M/1.35G [00:26<01:35, 11.1MB/s]\n",
      " 22%|##2       | 301M/1.35G [00:26<01:26, 12.1MB/s]\n",
      " 22%|##2       | 303M/1.35G [00:26<01:28, 11.8MB/s]\n",
      " 23%|##2       | 305M/1.35G [00:26<01:45, 9.91MB/s]\n",
      " 23%|##2       | 306M/1.35G [00:27<01:44, 10.0MB/s]\n",
      " 23%|##2       | 308M/1.35G [00:27<01:40, 10.5MB/s]\n",
      " 23%|##2       | 309M/1.35G [00:27<01:40, 10.4MB/s]\n",
      " 23%|##2       | 311M/1.35G [00:27<01:34, 11.1MB/s]\n",
      " 23%|##3       | 312M/1.35G [00:27<01:33, 11.1MB/s]\n",
      " 23%|##3       | 314M/1.35G [00:27<01:37, 10.7MB/s]\n",
      " 23%|##3       | 316M/1.35G [00:27<01:29, 11.6MB/s]\n",
      " 23%|##3       | 317M/1.35G [00:28<01:36, 10.8MB/s]\n",
      " 24%|##3       | 319M/1.35G [00:28<01:27, 11.8MB/s]\n",
      " 24%|##3       | 321M/1.35G [00:28<01:29, 11.6MB/s]\n",
      " 24%|##3       | 322M/1.35G [00:28<01:28, 11.7MB/s]\n",
      " 24%|##3       | 324M/1.35G [00:28<01:27, 11.7MB/s]\n",
      " 24%|##4       | 326M/1.35G [00:28<01:34, 10.9MB/s]\n",
      " 24%|##4       | 327M/1.35G [00:28<01:25, 12.0MB/s]\n",
      " 24%|##4       | 329M/1.35G [00:29<01:32, 11.1MB/s]\n",
      " 24%|##4       | 330M/1.35G [00:29<01:24, 12.1MB/s]\n",
      " 25%|##4       | 332M/1.35G [00:29<01:31, 11.2MB/s]\n",
      " 25%|##4       | 333M/1.35G [00:29<01:26, 11.7MB/s]\n",
      " 25%|##4       | 335M/1.35G [00:29<01:29, 11.4MB/s]\n",
      " 25%|##4       | 337M/1.35G [00:29<01:33, 10.8MB/s]\n",
      " 25%|##5       | 339M/1.35G [00:29<01:24, 12.1MB/s]\n",
      " 25%|##5       | 340M/1.35G [00:30<01:30, 11.2MB/s]\n",
      " 25%|##5       | 342M/1.35G [00:30<01:21, 12.4MB/s]\n",
      " 25%|##5       | 344M/1.35G [00:30<01:28, 11.4MB/s]\n",
      " 26%|##5       | 346M/1.35G [00:30<01:24, 11.9MB/s]\n",
      " 26%|##5       | 347M/1.35G [00:30<01:25, 11.8MB/s]\n",
      " 26%|##5       | 349M/1.35G [00:30<01:32, 10.9MB/s]\n",
      " 26%|##5       | 351M/1.35G [00:30<01:22, 12.1MB/s]\n",
      " 26%|##6       | 352M/1.35G [00:31<01:29, 11.2MB/s]\n",
      " 26%|##6       | 354M/1.35G [00:31<01:20, 12.3MB/s]\n",
      " 26%|##6       | 356M/1.35G [00:31<01:21, 12.2MB/s]\n",
      " 26%|##6       | 358M/1.35G [00:31<01:22, 12.1MB/s]\n",
      " 27%|##6       | 359M/1.35G [00:31<01:23, 12.0MB/s]\n",
      " 27%|##6       | 361M/1.35G [00:31<01:23, 11.9MB/s]\n",
      " 27%|##6       | 362M/1.35G [00:31<01:23, 11.8MB/s]\n",
      " 27%|##6       | 364M/1.35G [00:32<01:39, 9.96MB/s]\n",
      " 27%|##6       | 365M/1.35G [00:32<01:45, 9.35MB/s]\n",
      " 27%|##7       | 366M/1.35G [00:32<01:38, 10.0MB/s]\n",
      " 27%|##7       | 368M/1.35G [00:32<01:34, 10.5MB/s]\n",
      " 27%|##7       | 370M/1.35G [00:32<01:37, 10.1MB/s]\n",
      " 27%|##7       | 371M/1.35G [00:32<01:26, 11.3MB/s]\n",
      " 28%|##7       | 373M/1.35G [00:32<01:31, 10.7MB/s]\n",
      " 28%|##7       | 374M/1.35G [00:33<01:24, 11.5MB/s]\n",
      " 28%|##7       | 376M/1.35G [00:33<01:25, 11.4MB/s]\n",
      " 28%|##7       | 377M/1.35G [00:33<01:23, 11.7MB/s]\n",
      " 28%|##8       | 379M/1.35G [00:33<01:24, 11.6MB/s]\n",
      " 28%|##8       | 381M/1.35G [00:33<01:23, 11.7MB/s]\n",
      " 28%|##8       | 382M/1.35G [00:33<01:23, 11.7MB/s]\n",
      " 28%|##8       | 384M/1.35G [00:33<01:22, 11.7MB/s]\n",
      " 28%|##8       | 385M/1.35G [00:33<01:23, 11.7MB/s]\n",
      " 29%|##8       | 387M/1.35G [00:34<01:31, 10.5MB/s]\n",
      " 29%|##8       | 389M/1.35G [00:34<01:17, 12.4MB/s]\n",
      " 29%|##8       | 391M/1.35G [00:34<01:24, 11.4MB/s]\n",
      " 29%|##8       | 392M/1.35G [00:34<01:21, 11.8MB/s]\n",
      " 29%|##9       | 394M/1.35G [00:34<01:21, 11.8MB/s]\n",
      " 29%|##9       | 395M/1.35G [00:34<01:21, 11.8MB/s]\n",
      " 29%|##9       | 397M/1.35G [00:34<01:22, 11.6MB/s]\n",
      " 29%|##9       | 398M/1.35G [00:35<01:21, 11.7MB/s]\n",
      " 30%|##9       | 400M/1.35G [00:35<01:21, 11.7MB/s]\n",
      " 30%|##9       | 402M/1.35G [00:35<01:21, 11.7MB/s]\n",
      " 30%|##9       | 403M/1.35G [00:35<01:21, 11.6MB/s]\n",
      " 30%|##9       | 405M/1.35G [00:35<01:21, 11.6MB/s]\n",
      " 30%|###       | 406M/1.35G [00:35<01:21, 11.7MB/s]\n",
      " 30%|###       | 408M/1.35G [00:35<01:27, 10.8MB/s]\n",
      " 30%|###       | 409M/1.35G [00:36<01:19, 11.8MB/s]\n",
      " 30%|###       | 411M/1.35G [00:36<01:25, 11.0MB/s]\n",
      " 30%|###       | 413M/1.35G [00:36<01:18, 12.1MB/s]\n",
      " 31%|###       | 414M/1.35G [00:36<01:18, 12.0MB/s]\n",
      " 31%|###       | 416M/1.35G [00:36<01:18, 11.9MB/s]\n",
      " 31%|###       | 417M/1.35G [00:36<01:19, 11.8MB/s]\n",
      " 31%|###       | 419M/1.35G [00:36<01:19, 11.8MB/s]\n",
      " 31%|###1      | 420M/1.35G [00:36<01:19, 11.8MB/s]\n",
      " 31%|###1      | 422M/1.35G [00:37<01:19, 11.7MB/s]\n",
      " 31%|###1      | 424M/1.35G [00:37<01:19, 11.7MB/s]\n",
      " 31%|###1      | 425M/1.35G [00:37<01:19, 11.7MB/s]\n",
      " 32%|###1      | 427M/1.35G [00:37<01:18, 11.7MB/s]\n",
      " 32%|###1      | 428M/1.35G [00:37<01:18, 11.8MB/s]\n",
      " 32%|###1      | 430M/1.35G [00:37<01:18, 11.8MB/s]\n",
      " 32%|###1      | 431M/1.35G [00:37<01:24, 11.0MB/s]\n",
      " 32%|###1      | 433M/1.35G [00:38<01:19, 11.6MB/s]\n",
      " 32%|###2      | 435M/1.35G [00:38<01:25, 10.8MB/s]\n",
      " 32%|###2      | 437M/1.35G [00:38<01:16, 12.0MB/s]\n",
      " 32%|###2      | 438M/1.35G [00:38<01:17, 11.9MB/s]\n",
      " 32%|###2      | 440M/1.35G [00:38<01:17, 11.7MB/s]\n",
      " 33%|###2      | 441M/1.35G [00:38<01:17, 11.8MB/s]\n",
      " 33%|###2      | 443M/1.35G [00:38<01:23, 10.9MB/s]\n",
      " 33%|###2      | 445M/1.35G [00:39<01:14, 12.3MB/s]\n",
      " 33%|###3      | 447M/1.35G [00:39<01:14, 12.2MB/s]\n",
      " 33%|###3      | 448M/1.35G [00:39<01:15, 12.1MB/s]\n",
      " 33%|###3      | 450M/1.35G [00:39<01:15, 12.0MB/s]\n",
      " 33%|###3      | 451M/1.35G [00:39<01:19, 11.4MB/s]\n",
      " 33%|###3      | 453M/1.35G [00:39<01:24, 10.7MB/s]\n",
      " 34%|###3      | 455M/1.35G [00:40<01:35, 9.38MB/s]\n",
      " 34%|###3      | 456M/1.35G [00:40<01:29, 9.98MB/s]\n",
      " 34%|###3      | 458M/1.35G [00:40<01:31, 9.83MB/s]\n",
      " 34%|###3      | 460M/1.35G [00:40<01:21, 11.0MB/s]\n",
      " 34%|###4      | 461M/1.35G [00:40<01:20, 11.1MB/s]\n",
      " 34%|###4      | 463M/1.35G [00:40<01:18, 11.3MB/s]\n",
      " 34%|###4      | 465M/1.35G [00:40<01:18, 11.4MB/s]\n",
      " 34%|###4      | 466M/1.35G [00:41<01:17, 11.5MB/s]\n",
      " 35%|###4      | 468M/1.35G [00:41<01:17, 11.5MB/s]\n",
      " 35%|###4      | 469M/1.35G [00:41<01:16, 11.6MB/s]\n",
      " 35%|###4      | 471M/1.35G [00:41<01:16, 11.6MB/s]\n",
      " 35%|###4      | 472M/1.35G [00:41<01:21, 10.8MB/s]\n",
      " 35%|###5      | 474M/1.35G [00:41<01:14, 11.9MB/s]\n",
      " 35%|###5      | 476M/1.35G [00:41<01:15, 11.6MB/s]\n",
      " 35%|###5      | 477M/1.35G [00:41<01:13, 11.9MB/s]\n",
      " 35%|###5      | 479M/1.35G [00:42<01:13, 11.8MB/s]\n",
      " 35%|###5      | 480M/1.35G [00:42<01:14, 11.6MB/s]\n",
      " 36%|###5      | 482M/1.35G [00:42<01:14, 11.7MB/s]\n",
      " 36%|###5      | 483M/1.35G [00:42<01:14, 11.7MB/s]\n",
      " 36%|###5      | 485M/1.35G [00:42<01:14, 11.7MB/s]\n",
      " 36%|###5      | 487M/1.35G [00:42<01:14, 11.7MB/s]\n",
      " 36%|###6      | 488M/1.35G [00:42<01:14, 11.7MB/s]\n",
      " 36%|###6      | 490M/1.35G [00:43<01:13, 11.7MB/s]\n",
      " 36%|###6      | 491M/1.35G [00:43<01:14, 11.6MB/s]\n",
      " 36%|###6      | 493M/1.35G [00:43<01:19, 10.8MB/s]\n",
      " 37%|###6      | 494M/1.35G [00:43<01:12, 11.9MB/s]\n",
      " 37%|###6      | 496M/1.35G [00:43<01:16, 11.2MB/s]\n",
      " 37%|###6      | 498M/1.35G [00:43<01:11, 11.9MB/s]\n",
      " 37%|###6      | 499M/1.35G [00:43<01:15, 11.3MB/s]\n",
      " 37%|###6      | 501M/1.35G [00:43<01:10, 12.1MB/s]\n",
      " 37%|###7      | 502M/1.35G [00:44<01:12, 11.7MB/s]\n",
      " 37%|###7      | 504M/1.35G [00:44<01:11, 11.9MB/s]\n",
      " 37%|###7      | 505M/1.35G [00:44<01:11, 11.9MB/s]\n",
      " 37%|###7      | 507M/1.35G [00:44<01:17, 10.9MB/s]\n",
      " 38%|###7      | 509M/1.35G [00:44<01:08, 12.3MB/s]\n",
      " 38%|###7      | 511M/1.35G [00:44<01:14, 11.3MB/s]\n",
      " 38%|###7      | 513M/1.35G [00:45<01:16, 11.0MB/s]\n",
      " 38%|###8      | 514M/1.35G [00:45<01:24, 9.89MB/s]\n",
      " 38%|###8      | 515M/1.35G [00:45<01:28, 9.44MB/s]\n",
      " 38%|###8      | 517M/1.35G [00:45<01:18, 10.7MB/s]\n",
      " 38%|###8      | 519M/1.35G [00:45<01:20, 10.4MB/s]\n",
      " 38%|###8      | 520M/1.35G [00:45<01:13, 11.3MB/s]\n",
      " 39%|###8      | 522M/1.35G [00:45<01:12, 11.5MB/s]\n",
      " 39%|###8      | 523M/1.35G [00:46<01:12, 11.5MB/s]\n",
      " 39%|###8      | 525M/1.35G [00:46<01:11, 11.6MB/s]\n",
      " 39%|###8      | 526M/1.35G [00:46<01:11, 11.6MB/s]\n",
      " 39%|###9      | 528M/1.35G [00:46<01:11, 11.6MB/s]\n",
      " 39%|###9      | 530M/1.35G [00:46<01:10, 11.6MB/s]\n",
      " 39%|###9      | 531M/1.35G [00:46<01:10, 11.7MB/s]\n",
      " 39%|###9      | 533M/1.35G [00:46<01:10, 11.7MB/s]\n",
      " 39%|###9      | 534M/1.35G [00:46<01:09, 11.7MB/s]\n",
      " 40%|###9      | 536M/1.35G [00:47<01:14, 11.0MB/s]\n",
      " 40%|###9      | 538M/1.35G [00:47<01:06, 12.3MB/s]\n",
      " 40%|###9      | 539M/1.35G [00:47<01:06, 12.2MB/s]\n",
      " 40%|###9      | 541M/1.35G [00:47<01:07, 12.1MB/s]\n",
      " 40%|####      | 543M/1.35G [00:47<01:07, 11.9MB/s]\n",
      " 40%|####      | 544M/1.35G [00:47<01:07, 11.9MB/s]\n",
      " 40%|####      | 546M/1.35G [00:47<01:10, 11.5MB/s]\n",
      " 40%|####      | 547M/1.35G [00:48<01:09, 11.6MB/s]\n",
      " 41%|####      | 549M/1.35G [00:48<01:09, 11.6MB/s]\n",
      " 41%|####      | 551M/1.35G [00:48<01:08, 11.7MB/s]\n",
      " 41%|####      | 552M/1.35G [00:48<01:08, 11.7MB/s]\n",
      " 41%|####      | 554M/1.35G [00:48<01:13, 10.9MB/s]\n",
      " 41%|####1     | 556M/1.35G [00:48<01:05, 12.2MB/s]\n",
      " 41%|####1     | 557M/1.35G [00:48<01:06, 12.1MB/s]\n",
      " 41%|####1     | 559M/1.35G [00:49<01:06, 11.9MB/s]\n",
      " 41%|####1     | 560M/1.35G [00:49<01:06, 11.9MB/s]\n",
      " 42%|####1     | 562M/1.35G [00:49<01:07, 11.8MB/s]\n",
      " 42%|####1     | 564M/1.35G [00:49<01:07, 11.7MB/s]\n",
      " 42%|####1     | 565M/1.35G [00:49<01:15, 10.5MB/s]\n",
      " 42%|####1     | 567M/1.35G [00:49<01:05, 11.9MB/s]\n",
      " 42%|####2     | 569M/1.35G [00:49<01:10, 11.2MB/s]\n",
      " 42%|####2     | 570M/1.35G [00:50<01:04, 12.1MB/s]\n",
      " 42%|####2     | 572M/1.35G [00:50<01:06, 11.7MB/s]\n",
      " 42%|####2     | 574M/1.35G [00:50<01:21, 9.59MB/s]\n",
      " 42%|####2     | 575M/1.35G [00:50<01:20, 9.71MB/s]\n",
      " 43%|####2     | 577M/1.35G [00:50<01:12, 10.7MB/s]\n",
      " 43%|####2     | 578M/1.35G [00:50<01:10, 11.0MB/s]\n",
      " 43%|####2     | 580M/1.35G [00:50<01:09, 11.2MB/s]\n",
      " 43%|####2     | 581M/1.35G [00:51<01:07, 11.4MB/s]\n",
      " 43%|####3     | 583M/1.35G [00:51<01:06, 11.5MB/s]\n",
      " 43%|####3     | 585M/1.35G [00:51<01:09, 11.1MB/s]\n",
      " 43%|####3     | 586M/1.35G [00:51<01:07, 11.3MB/s]\n",
      " 43%|####3     | 588M/1.35G [00:51<01:06, 11.5MB/s]\n",
      " 44%|####3     | 589M/1.35G [00:51<01:13, 10.5MB/s]\n",
      " 44%|####3     | 591M/1.35G [00:51<01:04, 11.9MB/s]\n",
      " 44%|####3     | 593M/1.35G [00:52<01:06, 11.4MB/s]\n",
      " 44%|####3     | 595M/1.35G [00:52<01:03, 12.0MB/s]\n",
      " 44%|####4     | 596M/1.35G [00:52<01:03, 11.9MB/s]\n",
      " 44%|####4     | 598M/1.35G [00:52<01:03, 11.9MB/s]\n",
      " 44%|####4     | 599M/1.35G [00:52<01:03, 11.9MB/s]\n",
      " 44%|####4     | 601M/1.35G [00:52<01:03, 11.9MB/s]\n",
      " 45%|####4     | 602M/1.35G [00:52<01:03, 11.9MB/s]\n",
      " 45%|####4     | 604M/1.35G [00:53<01:03, 11.8MB/s]\n",
      " 45%|####4     | 606M/1.35G [00:53<01:03, 11.8MB/s]\n",
      " 45%|####4     | 607M/1.35G [00:53<01:03, 11.8MB/s]\n",
      " 45%|####4     | 609M/1.35G [00:53<01:03, 11.8MB/s]\n",
      " 45%|####5     | 610M/1.35G [00:53<01:03, 11.8MB/s]\n",
      " 45%|####5     | 612M/1.35G [00:53<01:02, 11.8MB/s]\n",
      " 45%|####5     | 613M/1.35G [00:53<01:02, 11.8MB/s]\n",
      " 45%|####5     | 615M/1.35G [00:53<01:05, 11.3MB/s]\n",
      " 46%|####5     | 617M/1.35G [00:54<01:09, 10.6MB/s]\n",
      " 46%|####5     | 619M/1.35G [00:54<01:02, 11.8MB/s]\n",
      " 46%|####5     | 620M/1.35G [00:54<01:02, 11.8MB/s]\n",
      " 46%|####5     | 622M/1.35G [00:54<01:01, 11.8MB/s]\n",
      " 46%|####6     | 623M/1.35G [00:54<01:01, 11.8MB/s]\n",
      " 46%|####6     | 625M/1.35G [00:54<01:01, 11.8MB/s]\n",
      " 46%|####6     | 627M/1.35G [00:54<01:01, 11.8MB/s]\n",
      " 46%|####6     | 628M/1.35G [00:55<01:01, 11.8MB/s]\n",
      " 47%|####6     | 630M/1.35G [00:55<01:01, 11.8MB/s]\n",
      " 47%|####6     | 631M/1.35G [00:55<01:01, 11.8MB/s]\n",
      " 47%|####6     | 633M/1.35G [00:55<01:00, 11.8MB/s]\n",
      " 47%|####6     | 634M/1.35G [00:55<01:00, 11.8MB/s]\n",
      " 47%|####6     | 636M/1.35G [00:55<01:02, 11.5MB/s]\n",
      " 47%|####7     | 638M/1.35G [00:55<01:05, 10.9MB/s]\n",
      " 47%|####7     | 639M/1.35G [00:56<01:00, 11.7MB/s]\n",
      " 47%|####7     | 641M/1.35G [00:56<01:04, 11.0MB/s]\n",
      " 47%|####7     | 642M/1.35G [00:56<00:59, 12.0MB/s]\n",
      " 48%|####7     | 644M/1.35G [00:56<01:03, 11.2MB/s]\n",
      " 48%|####7     | 645M/1.35G [00:56<00:59, 11.9MB/s]\n",
      " 48%|####7     | 647M/1.35G [00:56<01:02, 11.3MB/s]\n",
      " 48%|####7     | 649M/1.35G [00:56<00:58, 12.0MB/s]\n",
      " 48%|####8     | 650M/1.35G [00:57<00:59, 11.9MB/s]\n",
      " 48%|####8     | 652M/1.35G [00:57<00:59, 11.8MB/s]\n",
      " 48%|####8     | 653M/1.35G [00:57<00:59, 11.9MB/s]\n",
      " 48%|####8     | 655M/1.35G [00:57<00:59, 11.8MB/s]\n",
      " 48%|####8     | 656M/1.35G [00:57<00:59, 11.8MB/s]\n",
      " 49%|####8     | 658M/1.35G [00:57<00:59, 11.8MB/s]\n",
      " 49%|####8     | 660M/1.35G [00:57<00:59, 11.7MB/s]\n",
      " 49%|####8     | 661M/1.35G [00:57<00:59, 11.7MB/s]\n",
      " 49%|####8     | 663M/1.35G [00:58<00:59, 11.7MB/s]\n",
      " 49%|####9     | 664M/1.35G [00:58<00:58, 11.7MB/s]\n",
      " 49%|####9     | 666M/1.35G [00:58<00:58, 11.7MB/s]\n",
      " 49%|####9     | 667M/1.35G [00:58<00:58, 11.7MB/s]\n",
      " 49%|####9     | 669M/1.35G [00:58<00:58, 11.6MB/s]\n",
      " 50%|####9     | 671M/1.35G [00:58<00:58, 11.7MB/s]\n",
      " 50%|####9     | 672M/1.35G [00:58<00:58, 11.7MB/s]\n",
      " 50%|####9     | 674M/1.35G [00:59<01:01, 11.1MB/s]\n",
      " 50%|####9     | 675M/1.35G [00:59<00:56, 11.9MB/s]\n",
      " 50%|#####     | 677M/1.35G [00:59<00:58, 11.6MB/s]\n",
      " 50%|#####     | 678M/1.35G [00:59<00:56, 11.9MB/s]\n",
      " 50%|#####     | 680M/1.35G [00:59<00:56, 11.8MB/s]\n",
      " 50%|#####     | 682M/1.35G [00:59<00:56, 11.8MB/s]\n",
      " 50%|#####     | 683M/1.35G [00:59<00:56, 11.8MB/s]\n",
      " 51%|#####     | 685M/1.35G [00:59<00:56, 11.8MB/s]\n",
      " 51%|#####     | 686M/1.35G [01:00<00:57, 11.6MB/s]\n",
      " 51%|#####     | 688M/1.35G [01:00<00:56, 11.7MB/s]\n",
      " 51%|#####     | 689M/1.35G [01:00<00:56, 11.7MB/s]\n",
      " 51%|#####1    | 691M/1.35G [01:00<00:56, 11.7MB/s]\n",
      " 51%|#####1    | 693M/1.35G [01:00<01:12, 9.15MB/s]\n",
      " 51%|#####1    | 694M/1.35G [01:00<01:12, 9.13MB/s]\n",
      " 51%|#####1    | 695M/1.35G [01:01<01:08, 9.54MB/s]\n",
      " 51%|#####1    | 697M/1.35G [01:01<01:01, 10.8MB/s]\n",
      " 52%|#####1    | 698M/1.35G [01:01<00:56, 11.6MB/s]\n",
      " 52%|#####1    | 700M/1.35G [01:01<00:56, 11.6MB/s]\n",
      " 52%|#####1    | 701M/1.35G [01:01<00:56, 11.5MB/s]\n",
      " 52%|#####1    | 703M/1.35G [01:01<00:56, 11.5MB/s]\n",
      " 52%|#####2    | 705M/1.35G [01:01<00:56, 11.6MB/s]\n",
      " 52%|#####2    | 706M/1.35G [01:01<00:55, 11.6MB/s]\n",
      " 52%|#####2    | 708M/1.35G [01:02<01:00, 10.8MB/s]\n",
      " 52%|#####2    | 710M/1.35G [01:02<00:52, 12.2MB/s]\n",
      " 53%|#####2    | 711M/1.35G [01:02<00:56, 11.4MB/s]\n",
      " 53%|#####2    | 713M/1.35G [01:02<00:52, 12.2MB/s]\n",
      " 53%|#####2    | 715M/1.35G [01:02<00:54, 11.6MB/s]\n",
      " 53%|#####2    | 716M/1.35G [01:02<00:54, 11.6MB/s]\n",
      " 53%|#####3    | 718M/1.35G [01:02<00:54, 11.7MB/s]\n",
      " 53%|#####3    | 719M/1.35G [01:03<00:54, 11.7MB/s]\n",
      " 53%|#####3    | 721M/1.35G [01:03<00:54, 11.7MB/s]\n",
      " 53%|#####3    | 722M/1.35G [01:03<00:53, 11.7MB/s]\n",
      " 53%|#####3    | 724M/1.35G [01:03<00:53, 11.7MB/s]\n",
      " 54%|#####3    | 726M/1.35G [01:03<00:58, 10.8MB/s]\n",
      " 54%|#####3    | 728M/1.35G [01:03<00:51, 12.1MB/s]\n",
      " 54%|#####3    | 729M/1.35G [01:03<00:54, 11.5MB/s]\n",
      " 54%|#####3    | 731M/1.35G [01:04<00:51, 12.2MB/s]\n",
      " 54%|#####4    | 732M/1.35G [01:04<00:51, 12.1MB/s]\n",
      " 54%|#####4    | 734M/1.35G [01:04<00:51, 12.0MB/s]\n",
      " 54%|#####4    | 736M/1.35G [01:04<00:51, 12.0MB/s]\n",
      " 54%|#####4    | 737M/1.35G [01:04<00:53, 11.5MB/s]\n",
      " 55%|#####4    | 739M/1.35G [01:04<00:53, 11.5MB/s]\n",
      " 55%|#####4    | 740M/1.35G [01:04<00:53, 11.5MB/s]\n",
      " 55%|#####4    | 742M/1.35G [01:04<00:52, 11.5MB/s]\n",
      " 55%|#####4    | 743M/1.35G [01:05<00:56, 10.8MB/s]\n",
      " 55%|#####5    | 745M/1.35G [01:05<00:52, 11.7MB/s]\n",
      " 55%|#####5    | 747M/1.35G [01:05<00:55, 11.0MB/s]\n",
      " 55%|#####5    | 748M/1.35G [01:05<00:50, 11.9MB/s]\n",
      " 55%|#####5    | 750M/1.35G [01:05<00:51, 11.8MB/s]\n",
      " 56%|#####5    | 751M/1.35G [01:05<00:51, 11.8MB/s]\n",
      " 56%|#####5    | 753M/1.35G [01:05<00:51, 11.8MB/s]\n",
      " 56%|#####5    | 754M/1.35G [01:06<00:50, 11.8MB/s]\n",
      " 56%|#####5    | 756M/1.35G [01:06<00:50, 11.7MB/s]\n",
      " 56%|#####5    | 758M/1.35G [01:06<00:50, 11.8MB/s]\n",
      " 56%|#####6    | 759M/1.35G [01:06<00:50, 11.8MB/s]\n",
      " 56%|#####6    | 761M/1.35G [01:06<00:50, 11.7MB/s]\n",
      " 56%|#####6    | 762M/1.35G [01:06<00:50, 11.8MB/s]\n",
      " 56%|#####6    | 764M/1.35G [01:06<00:50, 11.8MB/s]\n",
      " 57%|#####6    | 765M/1.35G [01:06<00:49, 11.8MB/s]\n",
      " 57%|#####6    | 767M/1.35G [01:07<00:53, 11.0MB/s]\n",
      " 57%|#####6    | 769M/1.35G [01:07<00:48, 12.0MB/s]\n",
      " 57%|#####6    | 770M/1.35G [01:07<00:52, 11.2MB/s]\n",
      " 57%|#####7    | 772M/1.35G [01:07<00:53, 10.9MB/s]\n",
      " 57%|#####7    | 774M/1.35G [01:07<00:47, 12.1MB/s]\n",
      " 57%|#####7    | 775M/1.35G [01:07<00:51, 11.1MB/s]\n",
      " 57%|#####7    | 778M/1.35G [01:08<00:46, 12.4MB/s]\n",
      " 58%|#####7    | 779M/1.35G [01:08<00:46, 12.3MB/s]\n",
      " 58%|#####7    | 781M/1.35G [01:08<00:47, 12.1MB/s]\n",
      " 58%|#####7    | 782M/1.35G [01:08<00:47, 12.0MB/s]\n",
      " 58%|#####7    | 784M/1.35G [01:08<00:47, 12.0MB/s]\n",
      " 58%|#####8    | 785M/1.35G [01:08<00:49, 11.6MB/s]\n",
      " 58%|#####8    | 787M/1.35G [01:08<00:48, 11.7MB/s]\n",
      " 58%|#####8    | 789M/1.35G [01:08<00:48, 11.7MB/s]\n",
      " 58%|#####8    | 790M/1.35G [01:09<00:48, 11.7MB/s]\n",
      " 58%|#####8    | 792M/1.35G [01:09<00:55, 10.1MB/s]\n",
      " 59%|#####8    | 793M/1.35G [01:09<00:59, 9.48MB/s]\n",
      " 59%|#####8    | 795M/1.35G [01:09<00:56, 9.80MB/s]\n",
      " 59%|#####8    | 796M/1.35G [01:09<00:50, 11.0MB/s]\n",
      " 59%|#####8    | 798M/1.35G [01:09<00:51, 10.7MB/s]\n",
      " 59%|#####9    | 800M/1.35G [01:10<00:48, 11.5MB/s]\n",
      " 59%|#####9    | 801M/1.35G [01:10<00:47, 11.6MB/s]\n",
      " 59%|#####9    | 803M/1.35G [01:10<00:48, 11.3MB/s]\n",
      " 59%|#####9    | 804M/1.35G [01:10<00:48, 11.4MB/s]\n",
      " 60%|#####9    | 806M/1.35G [01:10<00:47, 11.5MB/s]\n",
      " 60%|#####9    | 807M/1.35G [01:10<00:47, 11.6MB/s]\n",
      " 60%|#####9    | 809M/1.35G [01:10<00:46, 11.6MB/s]\n",
      " 60%|#####9    | 811M/1.35G [01:10<00:46, 11.7MB/s]\n",
      " 60%|######    | 812M/1.35G [01:11<00:46, 11.7MB/s]\n",
      " 60%|######    | 814M/1.35G [01:11<00:46, 11.7MB/s]\n",
      " 60%|######    | 815M/1.35G [01:11<00:49, 10.8MB/s]\n",
      " 60%|######    | 817M/1.35G [01:11<00:48, 11.0MB/s]\n",
      " 60%|######    | 818M/1.35G [01:11<00:46, 11.5MB/s]\n",
      " 61%|######    | 820M/1.35G [01:11<00:47, 11.2MB/s]\n",
      " 61%|######    | 822M/1.35G [01:11<00:44, 12.0MB/s]\n",
      " 61%|######    | 823M/1.35G [01:12<00:45, 11.7MB/s]\n",
      " 61%|######    | 825M/1.35G [01:12<00:41, 12.6MB/s]\n",
      " 61%|######1   | 826M/1.35G [01:12<00:45, 11.5MB/s]\n",
      " 61%|######1   | 828M/1.35G [01:12<00:42, 12.5MB/s]\n",
      " 61%|######1   | 829M/1.35G [01:12<00:42, 12.3MB/s]\n",
      " 61%|######1   | 831M/1.35G [01:12<00:43, 12.1MB/s]\n",
      " 62%|######1   | 833M/1.35G [01:12<00:43, 12.0MB/s]\n",
      " 62%|######1   | 834M/1.35G [01:12<00:43, 11.9MB/s]\n",
      " 62%|######1   | 836M/1.35G [01:13<00:44, 11.7MB/s]\n",
      " 62%|######1   | 837M/1.35G [01:13<00:44, 11.7MB/s]\n",
      " 62%|######1   | 839M/1.35G [01:13<00:44, 11.5MB/s]\n",
      " 62%|######2   | 840M/1.35G [01:13<00:43, 11.8MB/s]\n",
      " 62%|######2   | 842M/1.35G [01:13<00:46, 11.1MB/s]\n",
      " 62%|######2   | 844M/1.35G [01:13<00:46, 11.0MB/s]\n",
      " 62%|######2   | 846M/1.35G [01:13<00:41, 12.3MB/s]\n",
      " 63%|######2   | 847M/1.35G [01:14<00:44, 11.3MB/s]\n",
      " 63%|######2   | 849M/1.35G [01:14<00:41, 12.3MB/s]\n",
      " 63%|######2   | 850M/1.35G [01:14<00:44, 11.3MB/s]\n",
      " 63%|######2   | 852M/1.35G [01:14<00:41, 12.2MB/s]\n",
      " 63%|######3   | 854M/1.35G [01:14<00:44, 11.2MB/s]\n",
      " 63%|######3   | 855M/1.35G [01:14<00:40, 12.2MB/s]\n",
      " 63%|######3   | 857M/1.35G [01:14<00:43, 11.3MB/s]\n",
      " 63%|######3   | 858M/1.35G [01:15<00:40, 12.1MB/s]\n",
      " 64%|######3   | 860M/1.35G [01:15<00:43, 11.3MB/s]\n",
      " 64%|######3   | 861M/1.35G [01:15<00:40, 12.2MB/s]\n",
      " 64%|######3   | 863M/1.35G [01:15<00:40, 12.0MB/s]\n",
      " 64%|######3   | 865M/1.35G [01:15<00:41, 11.9MB/s]\n",
      " 64%|######3   | 866M/1.35G [01:15<00:40, 11.9MB/s]\n",
      " 64%|######4   | 868M/1.35G [01:15<00:40, 12.0MB/s]\n",
      " 64%|######4   | 869M/1.35G [01:15<00:41, 11.6MB/s]\n",
      " 64%|######4   | 871M/1.35G [01:16<00:41, 11.6MB/s]\n",
      " 64%|######4   | 872M/1.35G [01:16<00:41, 11.5MB/s]\n",
      " 65%|######4   | 874M/1.35G [01:16<00:41, 11.6MB/s]\n",
      " 65%|######4   | 876M/1.35G [01:16<00:41, 11.4MB/s]\n",
      " 65%|######4   | 877M/1.35G [01:16<00:44, 10.7MB/s]\n",
      " 65%|######4   | 879M/1.35G [01:16<00:40, 11.8MB/s]\n",
      " 65%|######5   | 880M/1.35G [01:16<00:41, 11.3MB/s]\n",
      " 65%|######5   | 882M/1.35G [01:17<00:39, 11.9MB/s]\n",
      " 65%|######5   | 884M/1.35G [01:17<00:39, 11.9MB/s]\n",
      " 65%|######5   | 886M/1.35G [01:17<00:39, 11.9MB/s]\n",
      " 66%|######5   | 887M/1.35G [01:17<00:40, 11.6MB/s]\n",
      " 66%|######5   | 889M/1.35G [01:17<00:39, 11.7MB/s]\n",
      " 66%|######5   | 890M/1.35G [01:17<00:39, 11.7MB/s]\n",
      " 66%|######5   | 892M/1.35G [01:17<00:42, 10.8MB/s]\n",
      " 66%|######6   | 893M/1.35G [01:18<00:38, 11.9MB/s]\n",
      " 66%|######6   | 895M/1.35G [01:18<00:39, 11.5MB/s]\n",
      " 66%|######6   | 897M/1.35G [01:18<00:38, 11.9MB/s]\n",
      " 66%|######6   | 898M/1.35G [01:18<00:40, 11.2MB/s]\n",
      " 66%|######6   | 900M/1.35G [01:18<00:48, 9.36MB/s]\n",
      " 67%|######6   | 901M/1.35G [01:18<00:45, 9.95MB/s]\n",
      " 67%|######6   | 903M/1.35G [01:18<00:43, 10.3MB/s]\n",
      " 67%|######6   | 904M/1.35G [01:19<00:42, 10.7MB/s]\n",
      " 67%|######6   | 906M/1.35G [01:19<00:40, 11.0MB/s]\n",
      " 67%|######7   | 908M/1.35G [01:19<00:39, 11.2MB/s]\n",
      " 67%|######7   | 909M/1.35G [01:19<00:39, 11.4MB/s]\n",
      " 67%|######7   | 911M/1.35G [01:19<00:42, 10.3MB/s]\n",
      " 67%|######7   | 913M/1.35G [01:19<00:40, 10.8MB/s]\n",
      " 68%|######7   | 914M/1.35G [01:20<00:39, 11.2MB/s]\n",
      " 68%|######7   | 916M/1.35G [01:20<00:36, 12.0MB/s]\n",
      " 68%|######7   | 918M/1.35G [01:20<00:36, 11.9MB/s]\n",
      " 68%|######7   | 919M/1.35G [01:20<00:36, 11.9MB/s]\n",
      " 68%|######8   | 921M/1.35G [01:20<00:36, 11.8MB/s]\n",
      " 68%|######8   | 922M/1.35G [01:20<00:36, 11.8MB/s]\n",
      " 68%|######8   | 924M/1.35G [01:20<00:36, 11.8MB/s]\n",
      " 68%|######8   | 925M/1.35G [01:20<00:40, 10.6MB/s]\n",
      " 69%|######8   | 927M/1.35G [01:21<00:36, 11.8MB/s]\n",
      " 69%|######8   | 929M/1.35G [01:21<00:37, 11.2MB/s]\n",
      " 69%|######8   | 931M/1.35G [01:21<00:35, 11.9MB/s]\n",
      " 69%|######8   | 932M/1.35G [01:21<00:35, 11.8MB/s]\n",
      " 69%|######8   | 934M/1.35G [01:21<00:35, 11.8MB/s]\n",
      " 69%|######9   | 935M/1.35G [01:21<00:35, 11.8MB/s]\n",
      " 69%|######9   | 937M/1.35G [01:21<00:38, 10.9MB/s]\n",
      " 69%|######9   | 939M/1.35G [01:22<00:33, 12.3MB/s]\n",
      " 69%|######9   | 941M/1.35G [01:22<00:36, 11.4MB/s]\n",
      " 70%|######9   | 942M/1.35G [01:22<00:34, 11.9MB/s]\n",
      " 70%|######9   | 944M/1.35G [01:22<00:35, 11.6MB/s]\n",
      " 70%|######9   | 945M/1.35G [01:22<00:34, 11.8MB/s]\n",
      " 70%|######9   | 947M/1.35G [01:22<00:34, 11.8MB/s]\n",
      " 70%|#######   | 948M/1.35G [01:22<00:34, 11.8MB/s]\n",
      " 70%|#######   | 950M/1.35G [01:23<00:34, 11.8MB/s]\n",
      " 70%|#######   | 952M/1.35G [01:23<00:34, 11.6MB/s]\n",
      " 70%|#######   | 953M/1.35G [01:23<00:34, 11.6MB/s]\n",
      " 71%|#######   | 955M/1.35G [01:23<00:35, 11.1MB/s]\n",
      " 71%|#######   | 956M/1.35G [01:23<00:33, 11.9MB/s]\n",
      " 71%|#######   | 958M/1.35G [01:23<00:37, 10.4MB/s]\n",
      " 71%|#######   | 959M/1.35G [01:23<00:39, 9.91MB/s]\n",
      " 71%|#######   | 960M/1.35G [01:24<00:41, 9.40MB/s]\n",
      " 71%|#######1  | 963M/1.35G [01:24<00:35, 11.1MB/s]\n",
      " 71%|#######1  | 964M/1.35G [01:24<00:35, 10.9MB/s]\n",
      " 71%|#######1  | 966M/1.35G [01:24<00:33, 11.6MB/s]\n",
      " 71%|#######1  | 967M/1.35G [01:24<00:34, 11.1MB/s]\n",
      " 72%|#######1  | 969M/1.35G [01:24<00:33, 11.3MB/s]\n",
      " 72%|#######1  | 970M/1.35G [01:24<00:33, 11.5MB/s]\n",
      " 72%|#######1  | 972M/1.35G [01:25<00:33, 11.5MB/s]\n",
      " 72%|#######1  | 974M/1.35G [01:25<00:32, 11.6MB/s]\n",
      " 72%|#######2  | 975M/1.35G [01:25<00:32, 11.7MB/s]\n",
      " 72%|#######2  | 977M/1.35G [01:25<00:32, 11.7MB/s]\n",
      " 72%|#######2  | 978M/1.35G [01:25<00:34, 11.0MB/s]\n",
      " 72%|#######2  | 980M/1.35G [01:25<00:31, 12.0MB/s]\n",
      " 73%|#######2  | 981M/1.35G [01:25<00:33, 11.1MB/s]\n",
      " 73%|#######2  | 983M/1.35G [01:26<00:34, 10.8MB/s]\n",
      " 73%|#######2  | 985M/1.35G [01:26<00:31, 11.6MB/s]\n",
      " 73%|#######2  | 986M/1.35G [01:26<00:30, 12.0MB/s]\n",
      " 73%|#######2  | 988M/1.35G [01:26<00:30, 11.9MB/s]\n",
      " 73%|#######3  | 989M/1.35G [01:26<00:29, 12.4MB/s]\n",
      " 73%|#######3  | 991M/1.35G [01:26<00:31, 11.6MB/s]\n",
      " 73%|#######3  | 992M/1.35G [01:26<00:30, 11.7MB/s]\n",
      " 73%|#######3  | 994M/1.35G [01:26<00:30, 11.7MB/s]\n",
      " 74%|#######3  | 996M/1.35G [01:27<00:30, 11.7MB/s]\n",
      " 74%|#######3  | 997M/1.35G [01:27<00:30, 11.7MB/s]\n",
      " 74%|#######3  | 999M/1.35G [01:27<00:30, 11.7MB/s]\n",
      " 74%|#######3  | 1.00G/1.35G [01:27<00:30, 11.7MB/s]\n",
      " 74%|#######4  | 1.00G/1.35G [01:27<00:29, 11.7MB/s]\n",
      " 74%|#######4  | 1.00G/1.35G [01:27<00:29, 11.7MB/s]\n",
      " 74%|#######4  | 1.01G/1.35G [01:27<00:31, 10.9MB/s]\n",
      " 74%|#######4  | 1.01G/1.35G [01:28<00:28, 12.0MB/s]\n",
      " 74%|#######4  | 1.01G/1.35G [01:28<00:29, 11.7MB/s]\n",
      " 75%|#######4  | 1.01G/1.35G [01:28<00:29, 11.8MB/s]\n",
      " 75%|#######4  | 1.01G/1.35G [01:28<00:30, 11.2MB/s]\n",
      " 75%|#######4  | 1.01G/1.35G [01:28<00:28, 11.8MB/s]\n",
      " 75%|#######4  | 1.01G/1.35G [01:28<00:29, 11.6MB/s]\n",
      " 75%|#######5  | 1.02G/1.35G [01:28<00:29, 11.4MB/s]\n",
      " 75%|#######5  | 1.02G/1.35G [01:29<00:35, 9.40MB/s]\n",
      " 75%|#######5  | 1.02G/1.35G [01:29<00:35, 9.46MB/s]\n",
      " 75%|#######5  | 1.02G/1.35G [01:29<00:35, 9.44MB/s]\n",
      " 75%|#######5  | 1.02G/1.35G [01:29<00:30, 10.8MB/s]\n",
      " 76%|#######5  | 1.02G/1.35G [01:29<00:32, 10.3MB/s]\n",
      " 76%|#######5  | 1.02G/1.35G [01:29<00:28, 11.5MB/s]\n",
      " 76%|#######5  | 1.03G/1.35G [01:29<00:28, 11.5MB/s]\n",
      " 76%|#######5  | 1.03G/1.35G [01:29<00:28, 11.6MB/s]\n",
      " 76%|#######6  | 1.03G/1.35G [01:30<00:27, 11.6MB/s]\n",
      " 76%|#######6  | 1.03G/1.35G [01:30<00:27, 11.6MB/s]\n",
      " 76%|#######6  | 1.03G/1.35G [01:30<00:27, 11.6MB/s]\n",
      " 76%|#######6  | 1.03G/1.35G [01:30<00:29, 10.8MB/s]\n",
      " 77%|#######6  | 1.04G/1.35G [01:30<00:26, 11.9MB/s]\n",
      " 77%|#######6  | 1.04G/1.35G [01:30<00:26, 11.9MB/s]\n",
      " 77%|#######6  | 1.04G/1.35G [01:30<00:26, 11.8MB/s]\n",
      " 77%|#######6  | 1.04G/1.35G [01:31<00:28, 10.9MB/s]\n",
      " 77%|#######7  | 1.04G/1.35G [01:31<00:25, 12.0MB/s]\n",
      " 77%|#######7  | 1.04G/1.35G [01:31<00:27, 11.4MB/s]\n",
      " 77%|#######7  | 1.05G/1.35G [01:31<00:25, 12.1MB/s]\n",
      " 77%|#######7  | 1.05G/1.35G [01:31<00:25, 12.0MB/s]\n",
      " 77%|#######7  | 1.05G/1.35G [01:31<00:27, 11.0MB/s]\n",
      " 78%|#######7  | 1.05G/1.35G [01:31<00:25, 11.8MB/s]\n",
      " 78%|#######7  | 1.05G/1.35G [01:32<00:27, 11.1MB/s]\n",
      " 78%|#######7  | 1.05G/1.35G [01:32<00:24, 12.0MB/s]\n",
      " 78%|#######7  | 1.06G/1.35G [01:32<00:26, 11.3MB/s]\n",
      " 78%|#######8  | 1.06G/1.35G [01:32<00:24, 12.1MB/s]\n",
      " 78%|#######8  | 1.06G/1.35G [01:32<00:25, 11.8MB/s]\n",
      " 78%|#######8  | 1.06G/1.35G [01:32<00:24, 11.9MB/s]\n",
      " 78%|#######8  | 1.06G/1.35G [01:32<00:24, 11.9MB/s]\n",
      " 79%|#######8  | 1.06G/1.35G [01:33<00:24, 11.9MB/s]\n",
      " 79%|#######8  | 1.06G/1.35G [01:33<00:24, 11.9MB/s]\n",
      " 79%|#######8  | 1.07G/1.35G [01:33<00:24, 11.8MB/s]\n",
      " 79%|#######8  | 1.07G/1.35G [01:33<00:24, 11.7MB/s]\n",
      " 79%|#######9  | 1.07G/1.35G [01:33<00:24, 11.7MB/s]\n",
      " 79%|#######9  | 1.07G/1.35G [01:34<01:09, 4.07MB/s]\n",
      " 79%|#######9  | 1.07G/1.35G [01:34<00:55, 5.07MB/s]\n",
      " 79%|#######9  | 1.07G/1.35G [01:34<00:45, 6.12MB/s]\n",
      " 79%|#######9  | 1.08G/1.35G [01:34<00:39, 7.09MB/s]\n",
      " 80%|#######9  | 1.08G/1.35G [01:35<00:36, 7.65MB/s]\n",
      " 80%|#######9  | 1.08G/1.35G [01:35<00:30, 8.97MB/s]\n",
      " 80%|#######9  | 1.08G/1.35G [01:35<00:29, 9.13MB/s]\n",
      " 80%|#######9  | 1.08G/1.35G [01:35<00:28, 9.58MB/s]\n",
      " 80%|########  | 1.08G/1.35G [01:35<00:25, 10.8MB/s]\n",
      " 80%|########  | 1.09G/1.35G [01:35<00:25, 10.4MB/s]\n",
      " 80%|########  | 1.09G/1.35G [01:35<00:23, 11.5MB/s]\n",
      " 80%|########  | 1.09G/1.35G [01:36<00:23, 11.5MB/s]\n",
      " 81%|########  | 1.09G/1.35G [01:36<00:22, 11.6MB/s]\n",
      " 81%|########  | 1.09G/1.35G [01:36<00:22, 11.7MB/s]\n",
      " 81%|########  | 1.09G/1.35G [01:36<00:25, 10.2MB/s]\n",
      " 81%|########  | 1.09G/1.35G [01:36<00:27, 9.33MB/s]\n",
      " 81%|########  | 1.10G/1.35G [01:36<00:27, 9.46MB/s]\n",
      " 81%|########1 | 1.10G/1.35G [01:36<00:24, 10.4MB/s]\n",
      " 81%|########1 | 1.10G/1.35G [01:37<00:22, 11.1MB/s]\n",
      " 81%|########1 | 1.10G/1.35G [01:37<00:22, 11.3MB/s]\n",
      " 81%|########1 | 1.10G/1.35G [01:37<00:21, 11.5MB/s]\n",
      " 82%|########1 | 1.10G/1.35G [01:37<00:22, 11.2MB/s]\n",
      " 82%|########1 | 1.11G/1.35G [01:37<00:21, 11.4MB/s]\n",
      " 82%|########1 | 1.11G/1.35G [01:37<00:23, 10.6MB/s]\n",
      " 82%|########1 | 1.11G/1.35G [01:37<00:22, 11.0MB/s]\n",
      " 82%|########2 | 1.11G/1.35G [01:38<00:19, 12.3MB/s]\n",
      " 82%|########2 | 1.11G/1.35G [01:38<00:19, 12.2MB/s]\n",
      " 82%|########2 | 1.11G/1.35G [01:38<00:19, 12.1MB/s]\n",
      " 82%|########2 | 1.12G/1.35G [01:38<00:19, 12.0MB/s]\n",
      " 83%|########2 | 1.12G/1.35G [01:38<00:19, 11.9MB/s]\n",
      " 83%|########2 | 1.12G/1.35G [01:38<00:21, 11.1MB/s]\n",
      " 83%|########2 | 1.12G/1.35G [01:38<00:19, 12.1MB/s]\n",
      " 83%|########2 | 1.12G/1.35G [01:39<00:20, 11.2MB/s]\n",
      " 83%|########3 | 1.12G/1.35G [01:39<00:18, 12.2MB/s]\n",
      " 83%|########3 | 1.13G/1.35G [01:39<00:19, 11.6MB/s]\n",
      " 83%|########3 | 1.13G/1.35G [01:39<00:18, 12.5MB/s]\n",
      " 83%|########3 | 1.13G/1.35G [01:39<00:18, 12.2MB/s]\n",
      " 83%|########3 | 1.13G/1.35G [01:39<00:18, 12.1MB/s]\n",
      " 84%|########3 | 1.13G/1.35G [01:39<00:18, 12.0MB/s]\n",
      " 84%|########3 | 1.13G/1.35G [01:39<00:18, 11.9MB/s]\n",
      " 84%|########3 | 1.13G/1.35G [01:40<00:18, 11.8MB/s]\n",
      " 84%|########3 | 1.14G/1.35G [01:40<00:18, 11.8MB/s]\n",
      " 84%|########4 | 1.14G/1.35G [01:40<00:18, 11.8MB/s]\n",
      " 84%|########4 | 1.14G/1.35G [01:40<00:18, 11.7MB/s]\n",
      " 84%|########4 | 1.14G/1.35G [01:40<00:18, 11.7MB/s]\n",
      " 84%|########4 | 1.14G/1.35G [01:40<00:17, 11.8MB/s]\n",
      " 85%|########4 | 1.14G/1.35G [01:40<00:17, 11.8MB/s]\n",
      " 85%|########4 | 1.15G/1.35G [01:41<00:18, 11.0MB/s]\n",
      " 85%|########4 | 1.15G/1.35G [01:41<00:17, 11.7MB/s]\n",
      " 85%|########4 | 1.15G/1.35G [01:41<00:17, 11.7MB/s]\n",
      " 85%|########5 | 1.15G/1.35G [01:41<00:17, 11.7MB/s]\n",
      " 85%|########5 | 1.15G/1.35G [01:41<00:17, 11.6MB/s]\n",
      " 85%|########5 | 1.15G/1.35G [01:41<00:22, 9.05MB/s]\n",
      " 85%|########5 | 1.16G/1.35G [01:42<00:20, 9.75MB/s]\n",
      " 85%|########5 | 1.16G/1.35G [01:42<00:19, 10.1MB/s]\n",
      " 86%|########5 | 1.16G/1.35G [01:42<00:18, 10.5MB/s]\n",
      " 86%|########5 | 1.16G/1.35G [01:42<00:17, 11.2MB/s]\n",
      " 86%|########5 | 1.16G/1.35G [01:42<00:16, 11.3MB/s]\n",
      " 86%|########5 | 1.16G/1.35G [01:42<00:16, 11.4MB/s]\n",
      " 86%|########6 | 1.16G/1.35G [01:42<00:16, 11.5MB/s]\n",
      " 86%|########6 | 1.17G/1.35G [01:42<00:16, 11.6MB/s]\n",
      " 86%|########6 | 1.17G/1.35G [01:43<00:16, 11.2MB/s]\n",
      " 86%|########6 | 1.17G/1.35G [01:43<00:16, 11.4MB/s]\n",
      " 87%|########6 | 1.17G/1.35G [01:43<00:16, 11.1MB/s]\n",
      " 87%|########6 | 1.17G/1.35G [01:43<00:15, 11.6MB/s]\n",
      " 87%|########6 | 1.17G/1.35G [01:43<00:15, 11.6MB/s]\n",
      " 87%|########6 | 1.18G/1.35G [01:43<00:15, 11.7MB/s]\n",
      " 87%|########7 | 1.18G/1.35G [01:43<00:14, 11.7MB/s]\n",
      " 87%|########7 | 1.18G/1.35G [01:44<00:14, 11.7MB/s]\n",
      " 87%|########7 | 1.18G/1.35G [01:44<00:14, 11.7MB/s]\n",
      " 87%|########7 | 1.18G/1.35G [01:44<00:14, 11.7MB/s]\n",
      " 87%|########7 | 1.18G/1.35G [01:44<00:14, 11.8MB/s]\n",
      " 88%|########7 | 1.19G/1.35G [01:44<00:14, 11.8MB/s]\n",
      " 88%|########7 | 1.19G/1.35G [01:44<00:14, 11.7MB/s]\n",
      " 88%|########7 | 1.19G/1.35G [01:44<00:13, 12.0MB/s]\n",
      " 88%|########7 | 1.19G/1.35G [01:44<00:13, 11.9MB/s]\n",
      " 88%|########8 | 1.19G/1.35G [01:45<00:14, 11.1MB/s]\n",
      " 88%|########8 | 1.19G/1.35G [01:45<00:13, 11.7MB/s]\n",
      " 88%|########8 | 1.19G/1.35G [01:45<00:14, 11.3MB/s]\n",
      " 88%|########8 | 1.20G/1.35G [01:45<00:12, 12.3MB/s]\n",
      " 89%|########8 | 1.20G/1.35G [01:45<00:13, 11.7MB/s]\n",
      " 89%|########8 | 1.20G/1.35G [01:45<00:13, 11.8MB/s]\n",
      " 89%|########8 | 1.20G/1.35G [01:45<00:12, 12.1MB/s]\n",
      " 89%|########8 | 1.20G/1.35G [01:46<00:12, 12.0MB/s]\n",
      " 89%|########8 | 1.20G/1.35G [01:46<00:12, 11.9MB/s]\n",
      " 89%|########9 | 1.21G/1.35G [01:46<00:12, 11.8MB/s]\n",
      " 89%|########9 | 1.21G/1.35G [01:46<00:12, 11.8MB/s]\n",
      " 89%|########9 | 1.21G/1.35G [01:46<00:12, 11.7MB/s]\n",
      " 89%|########9 | 1.21G/1.35G [01:46<00:12, 11.7MB/s]\n",
      " 90%|########9 | 1.21G/1.35G [01:46<00:13, 10.6MB/s]\n",
      " 90%|########9 | 1.21G/1.35G [01:47<00:11, 11.8MB/s]\n",
      " 90%|########9 | 1.22G/1.35G [01:47<00:11, 11.6MB/s]\n",
      " 90%|########9 | 1.22G/1.35G [01:47<00:11, 11.7MB/s]\n",
      " 90%|######### | 1.22G/1.35G [01:47<00:11, 11.7MB/s]\n",
      " 90%|######### | 1.22G/1.35G [01:47<00:11, 11.7MB/s]\n",
      " 90%|######### | 1.22G/1.35G [01:47<00:11, 11.5MB/s]\n",
      " 90%|######### | 1.22G/1.35G [01:47<00:11, 11.6MB/s]\n",
      " 91%|######### | 1.23G/1.35G [01:47<00:10, 11.7MB/s]\n",
      " 91%|######### | 1.23G/1.35G [01:48<00:11, 10.8MB/s]\n",
      " 91%|######### | 1.23G/1.35G [01:48<00:10, 11.9MB/s]\n",
      " 91%|######### | 1.23G/1.35G [01:48<00:11, 11.1MB/s]\n",
      " 91%|######### | 1.23G/1.35G [01:48<00:10, 12.0MB/s]\n",
      " 91%|#########1| 1.23G/1.35G [01:48<00:10, 11.3MB/s]\n",
      " 91%|#########1| 1.23G/1.35G [01:48<00:09, 12.0MB/s]\n",
      " 91%|#########1| 1.24G/1.35G [01:48<00:09, 11.9MB/s]\n",
      " 91%|#########1| 1.24G/1.35G [01:49<00:09, 11.9MB/s]\n",
      " 92%|#########1| 1.24G/1.35G [01:49<00:09, 11.8MB/s]\n",
      " 92%|#########1| 1.24G/1.35G [01:49<00:09, 11.8MB/s]\n",
      " 92%|#########1| 1.24G/1.35G [01:49<00:09, 11.8MB/s]\n",
      " 92%|#########1| 1.24G/1.35G [01:49<00:10, 10.7MB/s]\n",
      " 92%|#########2| 1.25G/1.35G [01:49<00:09, 11.8MB/s]\n",
      " 92%|#########2| 1.25G/1.35G [01:49<00:08, 11.8MB/s]\n",
      " 92%|#########2| 1.25G/1.35G [01:50<00:08, 11.8MB/s]\n",
      " 92%|#########2| 1.25G/1.35G [01:50<00:09, 11.0MB/s]\n",
      " 93%|#########2| 1.25G/1.35G [01:50<00:08, 11.6MB/s]\n",
      " 93%|#########2| 1.25G/1.35G [01:50<00:09, 10.9MB/s]\n",
      " 93%|#########2| 1.26G/1.35G [01:50<00:08, 11.9MB/s]\n",
      " 93%|#########2| 1.26G/1.35G [01:50<00:08, 11.9MB/s]\n",
      " 93%|#########2| 1.26G/1.35G [01:50<00:08, 11.8MB/s]\n",
      " 93%|#########3| 1.26G/1.35G [01:50<00:07, 11.8MB/s]\n",
      " 93%|#########3| 1.26G/1.35G [01:51<00:07, 11.8MB/s]\n",
      " 93%|#########3| 1.26G/1.35G [01:51<00:07, 11.8MB/s]\n",
      " 93%|#########3| 1.26G/1.35G [01:51<00:07, 11.8MB/s]\n",
      " 94%|#########3| 1.27G/1.35G [01:51<00:07, 11.8MB/s]\n",
      " 94%|#########3| 1.27G/1.35G [01:51<00:07, 10.9MB/s]\n",
      " 94%|#########3| 1.27G/1.35G [01:51<00:06, 12.0MB/s]\n",
      " 94%|#########3| 1.27G/1.35G [01:51<00:07, 11.1MB/s]\n",
      " 94%|#########4| 1.27G/1.35G [01:52<00:06, 12.1MB/s]\n",
      " 94%|#########4| 1.27G/1.35G [01:52<00:07, 11.2MB/s]\n",
      " 94%|#########4| 1.28G/1.35G [01:52<00:06, 11.7MB/s]\n",
      " 94%|#########4| 1.28G/1.35G [01:52<00:06, 11.3MB/s]\n",
      " 94%|#########4| 1.28G/1.35G [01:52<00:06, 11.9MB/s]\n",
      " 95%|#########4| 1.28G/1.35G [01:52<00:06, 11.5MB/s]\n",
      " 95%|#########4| 1.28G/1.35G [01:52<00:06, 11.6MB/s]\n",
      " 95%|#########4| 1.28G/1.35G [01:52<00:06, 11.6MB/s]\n",
      " 95%|#########4| 1.29G/1.35G [01:53<00:05, 11.7MB/s]\n",
      " 95%|#########5| 1.29G/1.35G [01:53<00:05, 11.7MB/s]\n",
      " 95%|#########5| 1.29G/1.35G [01:53<00:05, 11.5MB/s]\n",
      " 95%|#########5| 1.29G/1.35G [01:53<00:05, 11.5MB/s]\n",
      " 95%|#########5| 1.29G/1.35G [01:53<00:05, 11.7MB/s]\n",
      " 96%|#########5| 1.29G/1.35G [01:53<00:05, 11.5MB/s]\n",
      " 96%|#########5| 1.29G/1.35G [01:53<00:05, 11.6MB/s]\n",
      " 96%|#########5| 1.30G/1.35G [01:54<00:04, 11.7MB/s]\n",
      " 96%|#########5| 1.30G/1.35G [01:54<00:04, 11.7MB/s]\n",
      " 96%|#########5| 1.30G/1.35G [01:54<00:04, 11.8MB/s]\n",
      " 96%|#########6| 1.30G/1.35G [01:54<00:04, 11.8MB/s]\n",
      " 96%|#########6| 1.30G/1.35G [01:54<00:04, 11.7MB/s]\n",
      " 96%|#########6| 1.30G/1.35G [01:54<00:04, 10.9MB/s]\n",
      " 96%|#########6| 1.31G/1.35G [01:55<00:05, 9.23MB/s]\n",
      " 97%|#########6| 1.31G/1.35G [01:55<00:04, 9.87MB/s]\n",
      " 97%|#########6| 1.31G/1.35G [01:55<00:04, 10.4MB/s]\n",
      " 97%|#########6| 1.31G/1.35G [01:55<00:04, 10.8MB/s]\n",
      " 97%|#########6| 1.31G/1.35G [01:55<00:04, 10.2MB/s]\n",
      " 97%|#########7| 1.31G/1.35G [01:55<00:03, 11.7MB/s]\n",
      " 97%|#########7| 1.32G/1.35G [01:55<00:03, 11.0MB/s]\n",
      " 97%|#########7| 1.32G/1.35G [01:55<00:03, 12.0MB/s]\n",
      " 97%|#########7| 1.32G/1.35G [01:56<00:03, 11.1MB/s]\n",
      " 98%|#########7| 1.32G/1.35G [01:56<00:02, 12.2MB/s]\n",
      " 98%|#########7| 1.32G/1.35G [01:56<00:02, 11.6MB/s]\n",
      " 98%|#########7| 1.32G/1.35G [01:56<00:02, 11.6MB/s]\n",
      " 98%|#########7| 1.32G/1.35G [01:56<00:02, 11.6MB/s]\n",
      " 98%|#########8| 1.33G/1.35G [01:56<00:02, 10.7MB/s]\n",
      " 98%|#########8| 1.33G/1.35G [01:56<00:02, 12.0MB/s]\n",
      " 98%|#########8| 1.33G/1.35G [01:57<00:02, 11.3MB/s]\n",
      " 98%|#########8| 1.33G/1.35G [01:57<00:01, 12.1MB/s]\n",
      " 99%|#########8| 1.33G/1.35G [01:57<00:01, 11.6MB/s]\n",
      " 99%|#########8| 1.33G/1.35G [01:57<00:01, 12.1MB/s]\n",
      " 99%|#########8| 1.34G/1.35G [01:57<00:01, 12.0MB/s]\n",
      " 99%|#########8| 1.34G/1.35G [01:57<00:01, 11.9MB/s]\n",
      " 99%|#########8| 1.34G/1.35G [01:57<00:01, 11.9MB/s]\n",
      " 99%|#########9| 1.34G/1.35G [01:58<00:01, 11.8MB/s]\n",
      " 99%|#########9| 1.34G/1.35G [01:58<00:00, 11.4MB/s]\n",
      " 99%|#########9| 1.34G/1.35G [01:58<00:00, 11.5MB/s]\n",
      " 99%|#########9| 1.35G/1.35G [01:58<00:00, 11.4MB/s]\n",
      "100%|#########9| 1.35G/1.35G [01:58<00:00, 11.5MB/s]\n",
      "100%|#########9| 1.35G/1.35G [01:58<00:00, 11.6MB/s]\n",
      "100%|#########9| 1.35G/1.35G [01:58<00:00, 10.7MB/s]\n",
      "100%|#########9| 1.35G/1.35G [01:59<00:00, 11.8MB/s]\n",
      "100%|##########| 1.35G/1.35G [01:59<00:00, 10.0MB/s]\n",
      "100%|##########| 1.35G/1.35G [01:59<00:00, 11.4MB/s]\n"
     ]
    }
   ],
   "source": [
    "! gdown 1e2AGmpxgvGeroZnLo-wH8NgnTNnU0YtW --output toxic_bert.csv"
   ]
  },
  {
   "cell_type": "code",
   "execution_count": 30,
   "metadata": {
    "scrolled": true
   },
   "outputs": [
    {
     "data": {
      "text/html": [
       "<div>\n",
       "<style scoped>\n",
       "    .dataframe tbody tr th:only-of-type {\n",
       "        vertical-align: middle;\n",
       "    }\n",
       "\n",
       "    .dataframe tbody tr th {\n",
       "        vertical-align: top;\n",
       "    }\n",
       "\n",
       "    .dataframe thead th {\n",
       "        text-align: right;\n",
       "    }\n",
       "</style>\n",
       "<table border=\"1\" class=\"dataframe\">\n",
       "  <thead>\n",
       "    <tr style=\"text-align: right;\">\n",
       "      <th></th>\n",
       "      <th>0</th>\n",
       "      <th>1</th>\n",
       "      <th>2</th>\n",
       "      <th>3</th>\n",
       "      <th>4</th>\n",
       "      <th>5</th>\n",
       "      <th>6</th>\n",
       "      <th>7</th>\n",
       "      <th>8</th>\n",
       "      <th>9</th>\n",
       "      <th>...</th>\n",
       "      <th>759</th>\n",
       "      <th>760</th>\n",
       "      <th>761</th>\n",
       "      <th>762</th>\n",
       "      <th>763</th>\n",
       "      <th>764</th>\n",
       "      <th>765</th>\n",
       "      <th>766</th>\n",
       "      <th>767</th>\n",
       "      <th>toxic</th>\n",
       "    </tr>\n",
       "  </thead>\n",
       "  <tbody>\n",
       "    <tr>\n",
       "      <th>159287</th>\n",
       "      <td>-0.652741</td>\n",
       "      <td>-0.823988</td>\n",
       "      <td>0.711186</td>\n",
       "      <td>-0.576176</td>\n",
       "      <td>1.075303</td>\n",
       "      <td>0.451535</td>\n",
       "      <td>0.107537</td>\n",
       "      <td>-0.173059</td>\n",
       "      <td>-0.463752</td>\n",
       "      <td>-0.621503</td>\n",
       "      <td>...</td>\n",
       "      <td>-1.265418</td>\n",
       "      <td>0.330924</td>\n",
       "      <td>-0.748394</td>\n",
       "      <td>0.068725</td>\n",
       "      <td>0.653005</td>\n",
       "      <td>-0.505580</td>\n",
       "      <td>-0.558983</td>\n",
       "      <td>0.582910</td>\n",
       "      <td>0.090834</td>\n",
       "      <td>0</td>\n",
       "    </tr>\n",
       "    <tr>\n",
       "      <th>159288</th>\n",
       "      <td>-0.419275</td>\n",
       "      <td>-0.410370</td>\n",
       "      <td>0.182845</td>\n",
       "      <td>-0.518281</td>\n",
       "      <td>0.734251</td>\n",
       "      <td>0.357042</td>\n",
       "      <td>0.837733</td>\n",
       "      <td>0.611174</td>\n",
       "      <td>-0.252815</td>\n",
       "      <td>-0.276888</td>\n",
       "      <td>...</td>\n",
       "      <td>-0.159254</td>\n",
       "      <td>0.267569</td>\n",
       "      <td>-0.698631</td>\n",
       "      <td>-0.151435</td>\n",
       "      <td>0.443611</td>\n",
       "      <td>-0.436761</td>\n",
       "      <td>-0.510881</td>\n",
       "      <td>0.587998</td>\n",
       "      <td>0.569564</td>\n",
       "      <td>0</td>\n",
       "    </tr>\n",
       "    <tr>\n",
       "      <th>159289</th>\n",
       "      <td>-0.662477</td>\n",
       "      <td>-0.769980</td>\n",
       "      <td>0.659574</td>\n",
       "      <td>-0.237460</td>\n",
       "      <td>0.984435</td>\n",
       "      <td>0.659845</td>\n",
       "      <td>0.261784</td>\n",
       "      <td>0.169605</td>\n",
       "      <td>-0.240536</td>\n",
       "      <td>-0.088890</td>\n",
       "      <td>...</td>\n",
       "      <td>-0.746108</td>\n",
       "      <td>0.154554</td>\n",
       "      <td>-0.783863</td>\n",
       "      <td>-0.513483</td>\n",
       "      <td>0.171453</td>\n",
       "      <td>-0.192064</td>\n",
       "      <td>-0.829304</td>\n",
       "      <td>0.601079</td>\n",
       "      <td>0.385463</td>\n",
       "      <td>0</td>\n",
       "    </tr>\n",
       "    <tr>\n",
       "      <th>159290</th>\n",
       "      <td>-0.436348</td>\n",
       "      <td>-0.762226</td>\n",
       "      <td>0.804334</td>\n",
       "      <td>-0.491034</td>\n",
       "      <td>1.024915</td>\n",
       "      <td>0.451657</td>\n",
       "      <td>0.294450</td>\n",
       "      <td>0.100604</td>\n",
       "      <td>-0.503652</td>\n",
       "      <td>-0.705745</td>\n",
       "      <td>...</td>\n",
       "      <td>-1.120216</td>\n",
       "      <td>0.132425</td>\n",
       "      <td>-0.487368</td>\n",
       "      <td>0.139159</td>\n",
       "      <td>0.704780</td>\n",
       "      <td>-0.573861</td>\n",
       "      <td>-0.677695</td>\n",
       "      <td>0.696261</td>\n",
       "      <td>0.262119</td>\n",
       "      <td>0</td>\n",
       "    </tr>\n",
       "    <tr>\n",
       "      <th>159291</th>\n",
       "      <td>-0.472370</td>\n",
       "      <td>-0.795974</td>\n",
       "      <td>0.720383</td>\n",
       "      <td>-0.424006</td>\n",
       "      <td>1.261695</td>\n",
       "      <td>0.353613</td>\n",
       "      <td>0.426531</td>\n",
       "      <td>-0.008906</td>\n",
       "      <td>-0.389145</td>\n",
       "      <td>-0.944077</td>\n",
       "      <td>...</td>\n",
       "      <td>-1.073633</td>\n",
       "      <td>0.351289</td>\n",
       "      <td>-0.598805</td>\n",
       "      <td>0.010931</td>\n",
       "      <td>0.604143</td>\n",
       "      <td>-0.442668</td>\n",
       "      <td>-0.652688</td>\n",
       "      <td>0.615764</td>\n",
       "      <td>0.214165</td>\n",
       "      <td>0</td>\n",
       "    </tr>\n",
       "  </tbody>\n",
       "</table>\n",
       "<p>5 rows × 769 columns</p>\n",
       "</div>"
      ],
      "text/plain": [
       "               0         1         2         3         4         5         6  \\\n",
       "159287 -0.652741 -0.823988  0.711186 -0.576176  1.075303  0.451535  0.107537   \n",
       "159288 -0.419275 -0.410370  0.182845 -0.518281  0.734251  0.357042  0.837733   \n",
       "159289 -0.662477 -0.769980  0.659574 -0.237460  0.984435  0.659845  0.261784   \n",
       "159290 -0.436348 -0.762226  0.804334 -0.491034  1.024915  0.451657  0.294450   \n",
       "159291 -0.472370 -0.795974  0.720383 -0.424006  1.261695  0.353613  0.426531   \n",
       "\n",
       "               7         8         9  ...       759       760       761  \\\n",
       "159287 -0.173059 -0.463752 -0.621503  ... -1.265418  0.330924 -0.748394   \n",
       "159288  0.611174 -0.252815 -0.276888  ... -0.159254  0.267569 -0.698631   \n",
       "159289  0.169605 -0.240536 -0.088890  ... -0.746108  0.154554 -0.783863   \n",
       "159290  0.100604 -0.503652 -0.705745  ... -1.120216  0.132425 -0.487368   \n",
       "159291 -0.008906 -0.389145 -0.944077  ... -1.073633  0.351289 -0.598805   \n",
       "\n",
       "             762       763       764       765       766       767  toxic  \n",
       "159287  0.068725  0.653005 -0.505580 -0.558983  0.582910  0.090834      0  \n",
       "159288 -0.151435  0.443611 -0.436761 -0.510881  0.587998  0.569564      0  \n",
       "159289 -0.513483  0.171453 -0.192064 -0.829304  0.601079  0.385463      0  \n",
       "159290  0.139159  0.704780 -0.573861 -0.677695  0.696261  0.262119      0  \n",
       "159291  0.010931  0.604143 -0.442668 -0.652688  0.615764  0.214165      0  \n",
       "\n",
       "[5 rows x 769 columns]"
      ]
     },
     "execution_count": 30,
     "metadata": {},
     "output_type": "execute_result"
    }
   ],
   "source": [
    "toxic_bert = pd.read_csv('toxic_bert.csv',\n",
    "                         dtype = 'float32')\n",
    "toxic_bert['toxic'] = toxic_bert['toxic'].astype(int)\n",
    "\n",
    "toxic_bert.tail()"
   ]
  },
  {
   "cell_type": "code",
   "execution_count": 31,
   "metadata": {},
   "outputs": [
    {
     "name": "stdout",
     "output_type": "stream",
     "text": [
      "<class 'pandas.core.frame.DataFrame'>\n",
      "RangeIndex: 159292 entries, 0 to 159291\n",
      "Columns: 769 entries, 0 to toxic\n",
      "dtypes: float32(768), int32(1)\n",
      "memory usage: 467.3 MB\n"
     ]
    }
   ],
   "source": [
    "toxic_bert.info()"
   ]
  },
  {
   "cell_type": "code",
   "execution_count": 32,
   "metadata": {},
   "outputs": [
    {
     "data": {
      "text/plain": [
       "0"
      ]
     },
     "execution_count": 32,
     "metadata": {},
     "output_type": "execute_result"
    }
   ],
   "source": [
    "#Проверка корректности загрузки файла\n",
    "sum(toxic_bert.isna().sum())"
   ]
  },
  {
   "cell_type": "markdown",
   "metadata": {},
   "source": [
    "Сделаем выборку в 20 000 так как обучение на всех эмбеддингах очень долгое и прерывается с ошибкой."
   ]
  },
  {
   "cell_type": "code",
   "execution_count": 33,
   "metadata": {},
   "outputs": [
    {
     "data": {
      "text/plain": [
       "0    0.90005\n",
       "1    0.09995\n",
       "Name: toxic, dtype: float64"
      ]
     },
     "execution_count": 33,
     "metadata": {},
     "output_type": "execute_result"
    }
   ],
   "source": [
    "toxic_bert_sam = toxic_bert.sample(20000).reset_index(drop=True)\n",
    "toxic_bert_sam['toxic'].value_counts(normalize=True)"
   ]
  },
  {
   "cell_type": "code",
   "execution_count": 34,
   "metadata": {},
   "outputs": [],
   "source": [
    "#Разделим датасет на выборки\n",
    "train_bert, test_bert = train_test_split(toxic_bert_sam, test_size = TEST_SIZE, random_state = RANDOM_STATE, \n",
    "                                         stratify = toxic_bert_sam['toxic']) "
   ]
  },
  {
   "cell_type": "code",
   "execution_count": 35,
   "metadata": {},
   "outputs": [
    {
     "data": {
      "text/plain": [
       "20000"
      ]
     },
     "execution_count": 35,
     "metadata": {},
     "output_type": "execute_result"
    }
   ],
   "source": [
    "#Проверка на корректность разбиения\n",
    "len(train_bert) + len(test_bert)"
   ]
  },
  {
   "cell_type": "code",
   "execution_count": 36,
   "metadata": {},
   "outputs": [
    {
     "data": {
      "text/plain": [
       "0    0.9\n",
       "1    0.1\n",
       "Name: toxic, dtype: float64"
      ]
     },
     "execution_count": 36,
     "metadata": {},
     "output_type": "execute_result"
    }
   ],
   "source": [
    "#Опять проверяем как распределены классы в целевом признаке\n",
    "test_bert['toxic'].value_counts(normalize=True)"
   ]
  },
  {
   "cell_type": "markdown",
   "metadata": {},
   "source": [
    "## Обучение"
   ]
  },
  {
   "cell_type": "code",
   "execution_count": 37,
   "metadata": {},
   "outputs": [],
   "source": [
    "def model_selection(grid, grid_dict, X_train, y_train):\n",
    "    \n",
    "    \"\"\"Принимает на вход сетку гиперпараметров для каждого класса моделей и соответствующий словарь с названиями моделей. \n",
    "    Возвращает параметры лучшей модели в каждом классе.\"\"\"\n",
    "    \n",
    "    result = []\n",
    "    \n",
    "    for i in range(len(grid_dict)):\n",
    "        grid[i].fit(X_train, y_train)\n",
    "        result.append([grid_dict[i], abs(grid[i].best_score_)])\n",
    "        \n",
    "    return pd.DataFrame(result, columns = ['model', 'f1'])"
   ]
  },
  {
   "cell_type": "code",
   "execution_count": 38,
   "metadata": {},
   "outputs": [
    {
     "data": {
      "text/plain": [
       "0.0"
      ]
     },
     "execution_count": 38,
     "metadata": {},
     "output_type": "execute_result"
    }
   ],
   "source": [
    "#Проверим модель на адекватность константным прогнозом\n",
    "from sklearn.dummy import DummyClassifier\n",
    "\n",
    "dummy_clf = DummyClassifier(strategy=\"most_frequent\")\n",
    "dummy_clf.fit(train_tf_idf, train_tf_idf['toxic'])\n",
    "\n",
    "f1_score(test_tf_idf['toxic'], dummy_clf.predict(test_tf_idf))"
   ]
  },
  {
   "cell_type": "markdown",
   "metadata": {},
   "source": [
    "### Обучение TF-IDF"
   ]
  },
  {
   "cell_type": "code",
   "execution_count": 39,
   "metadata": {},
   "outputs": [],
   "source": [
    "# параметры кросс-валидации (стратифицированная 5-фолдовая с перемешиванием) \n",
    "skf = StratifiedKFold(n_splits=5, shuffle=True, random_state=RANDOM_STATE)"
   ]
  },
  {
   "cell_type": "code",
   "execution_count": 40,
   "metadata": {},
   "outputs": [],
   "source": [
    "#Логистическая регрессия\n",
    "params = {\n",
    "          'clf__C' : sp_randFloat(),\n",
    "          'clf__class_weight':['balanced']\n",
    "          }\n",
    "\n",
    "logreg_tf_idf = RandomizedSearchCV(pipeline_logreg, params,  n_iter=10, scoring='f1', n_jobs=-1, cv = skf, error_score='raise')\n",
    "\n",
    "#Градиентный бустинг\n",
    "params = {\n",
    "          'clf__learning_rate': sp_randFloat(),\n",
    "          'clf__max_depth' : sp_randInt(2, 20),\n",
    "          'clf__class_weight':['balanced'],\n",
    "          'clf__n_jobs': [-1]}\n",
    "\n",
    "gbr_tf_idf = RandomizedSearchCV(pipeline_gbr, params,  n_iter=10, scoring='f1', n_jobs=-1, cv = skf, error_score='raise')\n",
    "\n",
    "grid_tf_idf = [logreg_tf_idf, gbr_tf_idf]\n",
    "grid_dict = {0: 'LogisticRegression', 1:'LGBMClassifier'}"
   ]
  },
  {
   "cell_type": "code",
   "execution_count": 41,
   "metadata": {
    "scrolled": false
   },
   "outputs": [
    {
     "name": "stdout",
     "output_type": "stream",
     "text": [
      "CPU times: total: 4min 35s\n",
      "Wall time: 15min 4s\n"
     ]
    }
   ],
   "source": [
    "%%time\n",
    "result_tf_idf = model_selection(grid_tf_idf, grid_dict, train_tf_idf, train_tf_idf['toxic'])"
   ]
  },
  {
   "cell_type": "code",
   "execution_count": 42,
   "metadata": {},
   "outputs": [
    {
     "data": {
      "text/html": [
       "<div>\n",
       "<style scoped>\n",
       "    .dataframe tbody tr th:only-of-type {\n",
       "        vertical-align: middle;\n",
       "    }\n",
       "\n",
       "    .dataframe tbody tr th {\n",
       "        vertical-align: top;\n",
       "    }\n",
       "\n",
       "    .dataframe thead th {\n",
       "        text-align: right;\n",
       "    }\n",
       "</style>\n",
       "<table border=\"1\" class=\"dataframe\">\n",
       "  <thead>\n",
       "    <tr style=\"text-align: right;\">\n",
       "      <th></th>\n",
       "      <th>model</th>\n",
       "      <th>f1</th>\n",
       "    </tr>\n",
       "  </thead>\n",
       "  <tbody>\n",
       "    <tr>\n",
       "      <th>0</th>\n",
       "      <td>LogisticRegression</td>\n",
       "      <td>0.750338</td>\n",
       "    </tr>\n",
       "    <tr>\n",
       "      <th>1</th>\n",
       "      <td>LGBMClassifier</td>\n",
       "      <td>0.753759</td>\n",
       "    </tr>\n",
       "  </tbody>\n",
       "</table>\n",
       "</div>"
      ],
      "text/plain": [
       "                model        f1\n",
       "0  LogisticRegression  0.750338\n",
       "1      LGBMClassifier  0.753759"
      ]
     },
     "execution_count": 42,
     "metadata": {},
     "output_type": "execute_result"
    }
   ],
   "source": [
    "result_tf_idf"
   ]
  },
  {
   "cell_type": "markdown",
   "metadata": {},
   "source": [
    "### Обучение после BERT"
   ]
  },
  {
   "cell_type": "code",
   "execution_count": 43,
   "metadata": {},
   "outputs": [],
   "source": [
    "#Логистическая регрессия\n",
    "params = {\n",
    "          'solver' : ['saga'],\n",
    "          'penalty' : ['l1', 'l2', 'none'],\n",
    "          'fit_intercept' : [True, False],\n",
    "          'C' : sp_randFloat(),\n",
    "          'class_weight':['balanced', None],\n",
    "          }\n",
    "\n",
    "\n",
    "\n",
    "logreg_b = RandomizedSearchCV(LogisticRegression(random_state=RANDOM_STATE), params,  n_iter=30, scoring='f1', n_jobs=-1, \n",
    "                              cv = skf, error_score='raise')\n",
    "\n",
    "\n",
    "#Градиентный бустинг\n",
    "params = {\n",
    "          'learning_rate': sp_randFloat(),\n",
    "          'max_depth' : sp_randInt(2, 20),\n",
    "          'reg_alpha':sp_randFloat(),\n",
    "          'min_child_samples':sp_randInt(2, 50),\n",
    "          'class_weight':['balanced', None],\n",
    "          'n_jobs': [-1]}\n",
    "\n",
    "gbr_b = RandomizedSearchCV(lgb.LGBMClassifier(random_state=RANDOM_STATE), params,  n_iter=30, scoring='f1', n_jobs=-1, cv = skf, \n",
    "                           error_score='raise')\n",
    "\n",
    "grid_b = [logreg_b, gbr_b]\n",
    "grid_dict = {0: 'LogisticRegression', 1:'LGBMClassifier'}"
   ]
  },
  {
   "cell_type": "code",
   "execution_count": 44,
   "metadata": {},
   "outputs": [
    {
     "name": "stdout",
     "output_type": "stream",
     "text": [
      "CPU times: total: 45 s\n",
      "Wall time: 17min 30s\n"
     ]
    }
   ],
   "source": [
    "%%time\n",
    "result_bert = model_selection(grid_b, grid_dict, train_bert.drop('toxic', axis = 1), train_bert['toxic'])"
   ]
  },
  {
   "cell_type": "code",
   "execution_count": 45,
   "metadata": {},
   "outputs": [
    {
     "data": {
      "text/html": [
       "<div>\n",
       "<style scoped>\n",
       "    .dataframe tbody tr th:only-of-type {\n",
       "        vertical-align: middle;\n",
       "    }\n",
       "\n",
       "    .dataframe tbody tr th {\n",
       "        vertical-align: top;\n",
       "    }\n",
       "\n",
       "    .dataframe thead th {\n",
       "        text-align: right;\n",
       "    }\n",
       "</style>\n",
       "<table border=\"1\" class=\"dataframe\">\n",
       "  <thead>\n",
       "    <tr style=\"text-align: right;\">\n",
       "      <th></th>\n",
       "      <th>model</th>\n",
       "      <th>f1</th>\n",
       "    </tr>\n",
       "  </thead>\n",
       "  <tbody>\n",
       "    <tr>\n",
       "      <th>0</th>\n",
       "      <td>LogisticRegression</td>\n",
       "      <td>0.949129</td>\n",
       "    </tr>\n",
       "    <tr>\n",
       "      <th>1</th>\n",
       "      <td>LGBMClassifier</td>\n",
       "      <td>0.942712</td>\n",
       "    </tr>\n",
       "  </tbody>\n",
       "</table>\n",
       "</div>"
      ],
      "text/plain": [
       "                model        f1\n",
       "0  LogisticRegression  0.949129\n",
       "1      LGBMClassifier  0.942712"
      ]
     },
     "execution_count": 45,
     "metadata": {},
     "output_type": "execute_result"
    }
   ],
   "source": [
    "result_bert"
   ]
  },
  {
   "cell_type": "markdown",
   "metadata": {},
   "source": [
    "Лучшая модель - LogisticRegression, обученная на эмбеддингах, полученные при помощи toxic bert, с результатом f1 = 0.94, оценим ее на тестовой выборке и осуществим подбор порога классификации."
   ]
  },
  {
   "cell_type": "code",
   "execution_count": 46,
   "metadata": {},
   "outputs": [
    {
     "data": {
      "text/plain": [
       "{'C': 0.11428389652978854,\n",
       " 'class_weight': None,\n",
       " 'fit_intercept': True,\n",
       " 'penalty': 'l2',\n",
       " 'solver': 'saga'}"
      ]
     },
     "execution_count": 46,
     "metadata": {},
     "output_type": "execute_result"
    }
   ],
   "source": [
    "logreg_b.best_params_"
   ]
  },
  {
   "cell_type": "code",
   "execution_count": 47,
   "metadata": {},
   "outputs": [],
   "source": [
    "#Для подбора порога выделим валидационную выборку\n",
    "train, valid  = train_test_split(train_bert, test_size = TEST_SIZE, random_state = RANDOM_STATE, stratify = train_bert['toxic'])"
   ]
  },
  {
   "cell_type": "code",
   "execution_count": 48,
   "metadata": {},
   "outputs": [],
   "source": [
    "best_model = LogisticRegression(C = 0.44, class_weight = None, fit_intercept = False, penalty = 'l1', \n",
    "                                solver = 'saga').fit(train.drop('toxic', axis = 1), train['toxic'])"
   ]
  },
  {
   "cell_type": "code",
   "execution_count": 49,
   "metadata": {},
   "outputs": [],
   "source": [
    "def threshold_selection(model, max_threshold):\n",
    "    \n",
    "    \"\"\"Функция для подбора оптимального порога классификации\"\"\"\n",
    "    \n",
    "    thresholds = {}\n",
    "    probabilities_valid = model.predict_proba(valid.drop('toxic', axis = 1))\n",
    "    probabilities_one_valid = probabilities_valid[:, 1]\n",
    "    \n",
    "    for threshold in np.arange(0, 1, 0.01):\n",
    "        predicted_valid = probabilities_one_valid > threshold \n",
    "        f1 = f1_score(valid['toxic'], predicted_valid)\n",
    "        thresholds[f1] = []\n",
    "        thresholds[f1].append(threshold)\n",
    "    \n",
    "    return f\"Лучшие результаты при threshold={thresholds[max(thresholds)][0]} f1={max(thresholds)}\""
   ]
  },
  {
   "cell_type": "code",
   "execution_count": 50,
   "metadata": {},
   "outputs": [
    {
     "data": {
      "text/plain": [
       "'Лучшие результаты при threshold=0.49 f1=0.9516129032258064'"
      ]
     },
     "execution_count": 50,
     "metadata": {},
     "output_type": "execute_result"
    }
   ],
   "source": [
    "threshold_selection(best_model, 1)"
   ]
  },
  {
   "cell_type": "code",
   "execution_count": 51,
   "metadata": {},
   "outputs": [
    {
     "data": {
      "image/png": "[encoded data removed]",
      "text/plain": [
       "<Figure size 640x480 with 1 Axes>"
      ]
     },
     "metadata": {},
     "output_type": "display_data"
    }
   ],
   "source": [
    "#Для лучшей модели построим precision_recall_curve\n",
    "precision, recall, thresholds = precision_recall_curve(valid['toxic'], best_model.predict_proba(valid.drop('toxic', \n",
    "                                                                                                           axis = 1))[:, 1])\n",
    "plt.plot(thresholds, precision[:-1], \"g-\", label=\"Precision\")\n",
    "plt.plot(thresholds, recall[:-1], \"r-\", label=\"Recall\")\n",
    "plt.xlabel(\"Threshold\")\n",
    "plt.legend()\n",
    "plt.show()"
   ]
  },
  {
   "cell_type": "markdown",
   "metadata": {},
   "source": [
    "#### Тестирование модели"
   ]
  },
  {
   "cell_type": "code",
   "execution_count": 53,
   "metadata": {},
   "outputs": [
    {
     "data": {
      "text/plain": [
       "0.9576059850374063"
      ]
     },
     "execution_count": 53,
     "metadata": {},
     "output_type": "execute_result"
    }
   ],
   "source": [
    "f1_score(test_bert['toxic'], best_model.predict(test_bert.drop('toxic', axis = 1)))"
   ]
  },
  {
   "cell_type": "markdown",
   "metadata": {},
   "source": [
    "## Выводы"
   ]
  },
  {
   "cell_type": "markdown",
   "metadata": {},
   "source": [
    "На первоначальном этапе были загружены данные. Датасет с комментариями на английском языке размером 159292 строк. Наблюдается дисбаланс в целевом признаке - токсичных комментариев около 10%.  \n",
    "\n",
    "Для обработки данных использовались два подхода:  \n",
    "1. TF-IDF  \n",
    "Для использования этого подхода комментарии были предобработаны - очищены от цифр, проведена лемматизация. После проверки на дубликаты удалено 1337 строк. \n",
    "2. BERT  \n",
    "На основе исходных данных созданы эмбеддинги при помощи DistilBert, которые далее использовались как признаки для обучения моделей. На этапе подбора моделей использовалась выборка 60 000 строк, так как для использования полных данных требуется более совершенная техника :)\n",
    "\n",
    "Константный прогноз составил f1 = 0.0  \n",
    "\n",
    "В таблице приведены результаты метрики f1 различных моделей, полученные при помощи кросс-валидации:\n",
    "\n",
    "| Модель | tf-idf | BERT(60 000) | \n",
    "| --- | --- | --- |\n",
    "| LogisticRegression | 0.750 | 0.949 | \n",
    "| LGBMClassifier | 0.754 | 0.943 | \n",
    "\n",
    "Лучшая модель - LogisticRegression (обученная на эмбеддингах от toxic bert) с результатом f1 = 0.93 на кросс-валидации была проверена на тестовой выборке. Метрика  на тестовых данных составила f1 = 0.96. "
   ]
  }
 ],
 "metadata": {
  "kernelspec": {
   "display_name": "Python 3 (ipykernel)",
   "language": "python",
   "name": "python3"
  },
  "language_info": {
   "codemirror_mode": {
    "name": "ipython",
    "version": 3
   },
   "file_extension": ".py",
   "mimetype": "text/x-python",
   "name": "python",
   "nbconvert_exporter": "python",
   "pygments_lexer": "ipython3",
   "version": "3.10.9"
  },
  "toc": {
   "base_numbering": 1,
   "nav_menu": {},
   "number_sections": true,
   "sideBar": true,
   "skip_h1_title": true,
   "title_cell": "Содержание",
   "title_sidebar": "Contents",
   "toc_cell": true,
   "toc_position": {
    "height": "calc(100% - 180px)",
    "left": "10px",
    "top": "150px",
    "width": "302.391px"
   },
   "toc_section_display": true,
   "toc_window_display": false
  }
 },
 "nbformat": 4,
 "nbformat_minor": 2
}
